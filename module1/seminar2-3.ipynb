{
 "cells": [
  {
   "cell_type": "markdown",
   "metadata": {},
   "source": [
    "## Класс, объект"
   ]
  },
  {
   "cell_type": "markdown",
   "metadata": {},
   "source": [
    "В питоне все является объектом: число, строка, словарь, массив, экземпляр встроенного класса, экземпляр пользовательского класса, сам класс. Объект - участок в памяти, у которого обязательно присутсвуют два поля: **тип** и **счётчик ссылок**. У каждого объекта есть уникальный идентификатор, который возвращает функция ***id()***. Идентификатор является адресом объекта в памяти."
   ]
  },
  {
   "cell_type": "code",
   "execution_count": 63,
   "metadata": {},
   "outputs": [
    {
     "name": "stdout",
     "output_type": "stream",
     "text": [
      "<class 'int'>\n"
     ]
    }
   ],
   "source": [
    "my_number = 13333333\n",
    "print(type(my_number))"
   ]
  },
  {
   "cell_type": "code",
   "execution_count": 64,
   "metadata": {},
   "outputs": [
    {
     "name": "stdout",
     "output_type": "stream",
     "text": [
      "0x7fbc1049e7d0\n"
     ]
    }
   ],
   "source": [
    "print(hex(id(my_number)))"
   ]
  },
  {
   "cell_type": "code",
   "execution_count": 65,
   "metadata": {},
   "outputs": [
    {
     "name": "stdout",
     "output_type": "stream",
     "text": [
      "<class 'type'>\n"
     ]
    }
   ],
   "source": [
    "print(type(int))"
   ]
  },
  {
   "cell_type": "code",
   "execution_count": 66,
   "metadata": {
    "scrolled": true
   },
   "outputs": [
    {
     "name": "stdout",
     "output_type": "stream",
     "text": [
      "<class 'type'>\n"
     ]
    }
   ],
   "source": [
    "print(type(type))"
   ]
  },
  {
   "cell_type": "markdown",
   "metadata": {},
   "source": [
    "## Пример класса "
   ]
  },
  {
   "cell_type": "code",
   "execution_count": 67,
   "metadata": {},
   "outputs": [],
   "source": [
    "class Animal:\n",
    "    \"\"\"\n",
    "    Docstring\n",
    "    \"\"\"\n",
    " \n",
    "    # конструктор, вызывается при создании объекта \n",
    "    def __init__(self, name, legs, scariness):\n",
    "        \"\"\"\n",
    "        Constructor\n",
    "        \"\"\"\n",
    "        self.name = name # атрибуты (поля) класса\n",
    "        self.legs = legs\n",
    "        self.scariness = scariness\n",
    "        \n",
    "    \n",
    "    # метод класса\n",
    "    def introduce(self): \n",
    "        \"\"\"\n",
    "        Make animal introduce itself!\n",
    "        \"\"\"\n",
    "        print (\"Hello! My name is %s!\" % self.name)\n",
    "    \n",
    "    # метод класса\n",
    "    def sound(self):\n",
    "        \"\"\"\n",
    "        What does the animal say?\n",
    "        \"\"\"\n",
    "        print (\"Sound!\")"
   ]
  },
  {
   "cell_type": "markdown",
   "metadata": {},
   "source": [
    "### Документация"
   ]
  },
  {
   "cell_type": "markdown",
   "metadata": {},
   "source": [
    "Встроенная документация в тройных кавычках. Можно напечатать с помощью функции **help**. "
   ]
  },
  {
   "cell_type": "code",
   "execution_count": 68,
   "metadata": {
    "scrolled": true
   },
   "outputs": [
    {
     "name": "stdout",
     "output_type": "stream",
     "text": [
      "Help on class Animal in module __main__:\n",
      "\n",
      "class Animal(builtins.object)\n",
      " |  Animal(name, legs, scariness)\n",
      " |  \n",
      " |  Docstring\n",
      " |  \n",
      " |  Methods defined here:\n",
      " |  \n",
      " |  __init__(self, name, legs, scariness)\n",
      " |      Constructor\n",
      " |  \n",
      " |  introduce(self)\n",
      " |      Make animal introduce itself!\n",
      " |  \n",
      " |  sound(self)\n",
      " |      What does the animal say?\n",
      " |  \n",
      " |  ----------------------------------------------------------------------\n",
      " |  Data descriptors defined here:\n",
      " |  \n",
      " |  __dict__\n",
      " |      dictionary for instance variables (if defined)\n",
      " |  \n",
      " |  __weakref__\n",
      " |      list of weak references to the object (if defined)\n",
      "\n"
     ]
    }
   ],
   "source": [
    "help(Animal) # от объекта класса"
   ]
  },
  {
   "cell_type": "code",
   "execution_count": 69,
   "metadata": {
    "scrolled": true
   },
   "outputs": [
    {
     "name": "stdout",
     "output_type": "stream",
     "text": [
      "Help on Animal in module __main__ object:\n",
      "\n",
      "class Animal(builtins.object)\n",
      " |  Animal(name, legs, scariness)\n",
      " |  \n",
      " |  Docstring\n",
      " |  \n",
      " |  Methods defined here:\n",
      " |  \n",
      " |  __init__(self, name, legs, scariness)\n",
      " |      Constructor\n",
      " |  \n",
      " |  introduce(self)\n",
      " |      Make animal introduce itself!\n",
      " |  \n",
      " |  sound(self)\n",
      " |      What does the animal say?\n",
      " |  \n",
      " |  ----------------------------------------------------------------------\n",
      " |  Data descriptors defined here:\n",
      " |  \n",
      " |  __dict__\n",
      " |      dictionary for instance variables (if defined)\n",
      " |  \n",
      " |  __weakref__\n",
      " |      list of weak references to the object (if defined)\n",
      "\n"
     ]
    }
   ],
   "source": [
    "animal = Animal('Animal', 4, 1)\n",
    "help(animal) # от объекта экземпляра класса"
   ]
  },
  {
   "cell_type": "markdown",
   "metadata": {},
   "source": [
    "## Атрибуты экземпляра"
   ]
  },
  {
   "cell_type": "markdown",
   "metadata": {},
   "source": [
    "Обязательный первый аргумент у всех методов класса - ***self*** (для того, чтобы объект мог ссылаться сам на себя и получать доступ к своим атрибутам и методам). "
   ]
  },
  {
   "cell_type": "code",
   "execution_count": 70,
   "metadata": {},
   "outputs": [
    {
     "name": "stdout",
     "output_type": "stream",
     "text": [
      "8\n",
      "Sound!\n",
      "Hello! My name is Jake the dog!\n"
     ]
    }
   ],
   "source": [
    "animal = Animal(name='Jake the dog', legs=4, scariness=8) # экземпляр класса\n",
    "print(animal.scariness)\n",
    "animal.sound()\n",
    "animal.introduce()"
   ]
  },
  {
   "cell_type": "markdown",
   "metadata": {},
   "source": [
    "Каждый экземпляр класса имеет свои значения атрибутов. Также их можно менять и после создания объекта."
   ]
  },
  {
   "cell_type": "code",
   "execution_count": 71,
   "metadata": {},
   "outputs": [],
   "source": [
    "animal2 = Animal('Mary the spider', 8, 225)\n",
    "animal3 = Animal('Greg the monster', legs=1.5, scariness=1000)\n",
    "animal3.legs = 2 # меняем значение атрибута legs\n",
    "animal2.name = 'Annie the spider' # меняем значение атрибута name"
   ]
  },
  {
   "cell_type": "code",
   "execution_count": 72,
   "metadata": {
    "scrolled": false
   },
   "outputs": [
    {
     "name": "stdout",
     "output_type": "stream",
     "text": [
      "Jake the dog 4 8\n",
      "Annie the spider 8 225\n",
      "Greg the monster 2 1000\n"
     ]
    }
   ],
   "source": [
    "for animal_ in (animal, animal2, animal3):\n",
    "    print(animal_.name, animal_.legs, animal_.scariness)"
   ]
  },
  {
   "cell_type": "code",
   "execution_count": 73,
   "metadata": {},
   "outputs": [],
   "source": [
    "animal.new_attr = 3"
   ]
  },
  {
   "cell_type": "code",
   "execution_count": 75,
   "metadata": {
    "scrolled": true
   },
   "outputs": [
    {
     "data": {
      "text/plain": [
       "3"
      ]
     },
     "execution_count": 75,
     "metadata": {},
     "output_type": "execute_result"
    }
   ],
   "source": [
    "animal.new_attr"
   ]
  },
  {
   "cell_type": "markdown",
   "metadata": {},
   "source": [
    "## Атрибуты класса"
   ]
  },
  {
   "cell_type": "markdown",
   "metadata": {},
   "source": [
    "У класса также могут быть свои поля, которые принадлежат не объекту экземпляра класса, а объекту класса."
   ]
  },
  {
   "cell_type": "code",
   "execution_count": 76,
   "metadata": {},
   "outputs": [],
   "source": [
    "class Animal:\n",
    "   \n",
    "    fav_food = 'pizza' # атрибут класса \n",
    "    \n",
    "    \n",
    "    def __init__(self, name, legs, scariness):\n",
    "        self.name = name \n",
    "        self.legs = legs\n",
    "        self.scariness = scariness\n",
    "    \n",
    "    def introduce(self): \n",
    "        print (\"Hello! My name is %s!\" % self.name)\n",
    "    \n",
    "    \n",
    "    def sound(self):\n",
    "        print (\"Sound!\")"
   ]
  },
  {
   "cell_type": "code",
   "execution_count": 77,
   "metadata": {},
   "outputs": [],
   "source": [
    "animal = Animal(name='Jake the dog', legs=4, scariness=8)\n",
    "animal2 = Animal('Mary the spider', legs=8, scariness=225)\n",
    "animal3 = Animal('Greg the monster', legs=1.5, scariness=1000)"
   ]
  },
  {
   "cell_type": "code",
   "execution_count": 78,
   "metadata": {},
   "outputs": [
    {
     "data": {
      "text/plain": [
       "'pizza'"
      ]
     },
     "execution_count": 78,
     "metadata": {},
     "output_type": "execute_result"
    }
   ],
   "source": [
    "animal3.fav_food"
   ]
  },
  {
   "cell_type": "markdown",
   "metadata": {},
   "source": [
    "У всех экземпляров класса, атрибут fav_food ссылается на один и тот же объект, т.к. это атрибут класса. "
   ]
  },
  {
   "cell_type": "code",
   "execution_count": 79,
   "metadata": {},
   "outputs": [
    {
     "name": "stdout",
     "output_type": "stream",
     "text": [
      "True\n",
      "True\n"
     ]
    }
   ],
   "source": [
    "print(id(animal.fav_food) ==  id(animal2.fav_food) ==  id(animal3.fav_food))\n",
    "# то же самое с помощью оператора is\n",
    "print(animal.fav_food is animal2.fav_food is animal3.fav_food)"
   ]
  },
  {
   "cell_type": "markdown",
   "metadata": {},
   "source": [
    "Атрибуты экземпляров класса - разные объекты."
   ]
  },
  {
   "cell_type": "code",
   "execution_count": 80,
   "metadata": {},
   "outputs": [
    {
     "data": {
      "text/plain": [
       "False"
      ]
     },
     "execution_count": 80,
     "metadata": {},
     "output_type": "execute_result"
    }
   ],
   "source": [
    "animal.legs is animal2.legs is animal3.legs"
   ]
  },
  {
   "cell_type": "markdown",
   "metadata": {},
   "source": [
    "Значение атрибута класса нельзя изменить через его экземпляр. Если попробовать это сделать так, как в коде ниже, то у экземпляра класса будет создано поле с таким же именем. При этом занчение этого атрибута у объекта класса и всех других его экземпляров не изменится. "
   ]
  },
  {
   "cell_type": "code",
   "execution_count": 81,
   "metadata": {},
   "outputs": [
    {
     "data": {
      "text/plain": [
       "'salad'"
      ]
     },
     "execution_count": 81,
     "metadata": {},
     "output_type": "execute_result"
    }
   ],
   "source": [
    "animal.fav_food = 'salad'\n",
    "animal.fav_food"
   ]
  },
  {
   "cell_type": "code",
   "execution_count": 82,
   "metadata": {},
   "outputs": [
    {
     "data": {
      "text/plain": [
       "'pizza'"
      ]
     },
     "execution_count": 82,
     "metadata": {},
     "output_type": "execute_result"
    }
   ],
   "source": [
    "Animal.fav_food # значение атрибута у объекта класса"
   ]
  },
  {
   "cell_type": "code",
   "execution_count": 83,
   "metadata": {},
   "outputs": [
    {
     "data": {
      "text/plain": [
       "'pizza'"
      ]
     },
     "execution_count": 83,
     "metadata": {},
     "output_type": "execute_result"
    }
   ],
   "source": [
    "animal2.fav_food # значение атрибута у объекта экземпляра класса"
   ]
  },
  {
   "cell_type": "code",
   "execution_count": 84,
   "metadata": {},
   "outputs": [
    {
     "data": {
      "text/plain": [
       "False"
      ]
     },
     "execution_count": 84,
     "metadata": {},
     "output_type": "execute_result"
    }
   ],
   "source": [
    "animal.fav_food is Animal.fav_food # атрибут экземпляра animal ссылается на другой объект"
   ]
  },
  {
   "cell_type": "markdown",
   "metadata": {},
   "source": [
    "### \\_\\_dict\\_\\_ "
   ]
  },
  {
   "cell_type": "markdown",
   "metadata": {},
   "source": [
    "В упрощенном виде можно считать, что все объекты в питоне реализуются в виде словаря. Служебное поле ***\\_\\_dict\\_\\_*** позволяет работать с объектом как со словарем."
   ]
  },
  {
   "cell_type": "code",
   "execution_count": 85,
   "metadata": {},
   "outputs": [
    {
     "data": {
      "text/plain": [
       "{'name': 'Mary the spider', 'legs': 8, 'scariness': 225}"
      ]
     },
     "execution_count": 85,
     "metadata": {},
     "output_type": "execute_result"
    }
   ],
   "source": [
    "animal2.__dict__"
   ]
  },
  {
   "cell_type": "code",
   "execution_count": 86,
   "metadata": {},
   "outputs": [
    {
     "name": "stdout",
     "output_type": "stream",
     "text": [
      "Jake the dog\n",
      "Finn the human\n"
     ]
    }
   ],
   "source": [
    "print(animal.__dict__['name']) # атрибут экземпляра\n",
    "animal.__dict__['name'] = 'Finn the human' # можно перезаписать\n",
    "print(animal.__dict__['name'])"
   ]
  },
  {
   "cell_type": "code",
   "execution_count": 87,
   "metadata": {
    "scrolled": true
   },
   "outputs": [
    {
     "ename": "KeyError",
     "evalue": "'fav_food'",
     "output_type": "error",
     "traceback": [
      "\u001b[0;31m---------------------------------------------------------------------------\u001b[0m",
      "\u001b[0;31mKeyError\u001b[0m                                  Traceback (most recent call last)",
      "\u001b[0;32m<ipython-input-87-48f148470edd>\u001b[0m in \u001b[0;36m<module>\u001b[0;34m()\u001b[0m\n\u001b[0;32m----> 1\u001b[0;31m \u001b[0manimal2\u001b[0m\u001b[0;34m.\u001b[0m\u001b[0m__dict__\u001b[0m\u001b[0;34m[\u001b[0m\u001b[0;34m'fav_food'\u001b[0m\u001b[0;34m]\u001b[0m \u001b[0;31m# атрибут класса\u001b[0m\u001b[0;34m\u001b[0m\u001b[0;34m\u001b[0m\u001b[0m\n\u001b[0m",
      "\u001b[0;31mKeyError\u001b[0m: 'fav_food'"
     ]
    }
   ],
   "source": [
    "animal2.__dict__['fav_food'] # атрибут класса"
   ]
  },
  {
   "cell_type": "code",
   "execution_count": 88,
   "metadata": {},
   "outputs": [
    {
     "data": {
      "text/plain": [
       "'pizza'"
      ]
     },
     "execution_count": 88,
     "metadata": {},
     "output_type": "execute_result"
    }
   ],
   "source": [
    "animal3.__class__.__dict__['fav_food'] # доступ к атрибуту класса через экземпляр"
   ]
  },
  {
   "cell_type": "markdown",
   "metadata": {},
   "source": [
    "### dir()"
   ]
  },
  {
   "cell_type": "markdown",
   "metadata": {},
   "source": [
    "Возвращает имена переменных, доступные в локальной области, либо атрибуты указанного объекта в алфавитном порядке.\n",
    "Можно быстро посмотреть названия атрибутов и методов у объекта (и у экземпляра, и у класса). "
   ]
  },
  {
   "cell_type": "code",
   "execution_count": 89,
   "metadata": {
    "scrolled": true
   },
   "outputs": [
    {
     "data": {
      "text/plain": [
       "['__class__',\n",
       " '__delattr__',\n",
       " '__dict__',\n",
       " '__dir__',\n",
       " '__doc__',\n",
       " '__eq__',\n",
       " '__format__',\n",
       " '__ge__',\n",
       " '__getattribute__',\n",
       " '__gt__',\n",
       " '__hash__',\n",
       " '__init__',\n",
       " '__init_subclass__',\n",
       " '__le__',\n",
       " '__lt__',\n",
       " '__module__',\n",
       " '__ne__',\n",
       " '__new__',\n",
       " '__reduce__',\n",
       " '__reduce_ex__',\n",
       " '__repr__',\n",
       " '__setattr__',\n",
       " '__sizeof__',\n",
       " '__str__',\n",
       " '__subclasshook__',\n",
       " '__weakref__',\n",
       " 'fav_food',\n",
       " 'introduce',\n",
       " 'legs',\n",
       " 'name',\n",
       " 'scariness',\n",
       " 'sound']"
      ]
     },
     "execution_count": 89,
     "metadata": {},
     "output_type": "execute_result"
    }
   ],
   "source": [
    "dir(animal)"
   ]
  },
  {
   "cell_type": "markdown",
   "metadata": {},
   "source": [
    "##  Конструктор и деструктор"
   ]
  },
  {
   "cell_type": "markdown",
   "metadata": {},
   "source": [
    "Встроенная функция ***del()*** удаляет переменную (и соответственно ссылку между переменной и объектом), потом, если счетчик ссылок на объект равен нулю, за объектом приходит сборщик мусора и очищает занятую им память. "
   ]
  },
  {
   "cell_type": "markdown",
   "metadata": {},
   "source": [
    "Деструктор объекта - метод ***\\_\\_del\\_\\_***, вызывается, когда все ссылки на объект удалены. То есть в момент, когда объект подметает сборщик мусора. "
   ]
  },
  {
   "cell_type": "code",
   "execution_count": 90,
   "metadata": {},
   "outputs": [],
   "source": [
    "class SomeClass:\n",
    "    \n",
    "    #конструктор, можно писать аргументы со значением по умолчанию\n",
    "    def __init__(self, name='some object'):\n",
    "        self.name = name\n",
    "        print('Constructor called, %s created!' % self.name) \n",
    "    \n",
    "    # деструктор\n",
    "    def __del__(self): \n",
    "        print('Destructor called, %s deleted!' % self.name) "
   ]
  },
  {
   "cell_type": "code",
   "execution_count": 91,
   "metadata": {},
   "outputs": [
    {
     "name": "stdout",
     "output_type": "stream",
     "text": [
      "Constructor called, some object created!\n"
     ]
    }
   ],
   "source": [
    "obj = SomeClass()"
   ]
  },
  {
   "cell_type": "code",
   "execution_count": 92,
   "metadata": {},
   "outputs": [
    {
     "name": "stdout",
     "output_type": "stream",
     "text": [
      "Destructor called, some object deleted!\n"
     ]
    }
   ],
   "source": [
    "del obj"
   ]
  },
  {
   "cell_type": "markdown",
   "metadata": {},
   "source": [
    "## Инкапсуляция"
   ]
  },
  {
   "cell_type": "markdown",
   "metadata": {},
   "source": [
    "**Инкапсуляция** - управление доступом к данным объекта.     \n",
    "+ Все объекты в Python инкапсулируют внутри себя данные и методы работы с ними, предоставляя публичные интерфейсы \n",
    "для взаимодействия.     \n",
    "+ В Python атрибуты и методы класса могут быть **внешними** (public), **защищеными** (protected) или **внутренними** (private). "
   ]
  },
  {
   "cell_type": "markdown",
   "metadata": {},
   "source": [
    "Атрибут/метод может быть объявлен **защищенным** с помощью нижнего подчеркивания перед именем.\n",
    "+ Но настоящего скрытия на самом деле не происходит – все на уровне соглашений. \n",
    "+ К нему все еще можно обратиться и изменить.    \n",
    "+ В общем, одно нижнее подчеркивание значит, что можно, но не нужно. "
   ]
  },
  {
   "cell_type": "code",
   "execution_count": 94,
   "metadata": {},
   "outputs": [
    {
     "name": "stdout",
     "output_type": "stream",
     "text": [
      "Это внутренний метод объекта\n",
      "1\n"
     ]
    }
   ],
   "source": [
    "class SomeClass2:\n",
    "    \n",
    "    def __init__(self, n):\n",
    "        self._private_n = n\n",
    "        \n",
    "    def _private(self):\n",
    "        print(\"Это внутренний метод объекта\")\n",
    "\n",
    "obj = SomeClass2(2)\n",
    "obj._private() # вызываем защищенный метод объекта \n",
    "obj._private_n = 1 # изменяем защищенный атрибут объекта \n",
    "print(obj._private_n)"
   ]
  },
  {
   "cell_type": "markdown",
   "metadata": {},
   "source": [
    "Два нижних подчеркивания - **приватный** атрибут, к нему нельзя обратиться напрямую."
   ]
  },
  {
   "cell_type": "code",
   "execution_count": 95,
   "metadata": {
    "scrolled": false
   },
   "outputs": [
    {
     "ename": "AttributeError",
     "evalue": "'SomeClass' object has no attribute '__private'",
     "output_type": "error",
     "traceback": [
      "\u001b[0;31m---------------------------------------------------------------------------\u001b[0m",
      "\u001b[0;31mAttributeError\u001b[0m                            Traceback (most recent call last)",
      "\u001b[0;32m<ipython-input-95-c56d5ce4fec8>\u001b[0m in \u001b[0;36m<module>\u001b[0;34m()\u001b[0m\n\u001b[1;32m      8\u001b[0m \u001b[0;34m\u001b[0m\u001b[0m\n\u001b[1;32m      9\u001b[0m \u001b[0mobj\u001b[0m \u001b[0;34m=\u001b[0m \u001b[0mSomeClass\u001b[0m\u001b[0;34m(\u001b[0m\u001b[0;36m2\u001b[0m\u001b[0;34m)\u001b[0m\u001b[0;34m\u001b[0m\u001b[0;34m\u001b[0m\u001b[0m\n\u001b[0;32m---> 10\u001b[0;31m \u001b[0mobj\u001b[0m\u001b[0;34m.\u001b[0m\u001b[0m__private\u001b[0m\u001b[0;34m(\u001b[0m\u001b[0;34m)\u001b[0m \u001b[0;31m# вызываем внутренний метод объекта\u001b[0m\u001b[0;34m\u001b[0m\u001b[0;34m\u001b[0m\u001b[0m\n\u001b[0m\u001b[1;32m     11\u001b[0m \u001b[0mprint\u001b[0m\u001b[0;34m(\u001b[0m\u001b[0mobj\u001b[0m\u001b[0;34m.\u001b[0m\u001b[0m__private_n\u001b[0m\u001b[0;34m)\u001b[0m\u001b[0;34m\u001b[0m\u001b[0;34m\u001b[0m\u001b[0m\n",
      "\u001b[0;31mAttributeError\u001b[0m: 'SomeClass' object has no attribute '__private'"
     ]
    }
   ],
   "source": [
    "class SomeClass:\n",
    "    \n",
    "    def __init__(self, n):\n",
    "        self.__private_n = n\n",
    "        \n",
    "    def __private(self):\n",
    "        print(\"Это внутренний метод объекта\")\n",
    "\n",
    "obj = SomeClass(2)\n",
    "obj.__private() # вызываем внутренний метод объекта \n",
    "print(obj.__private_n)"
   ]
  },
  {
   "cell_type": "markdown",
   "metadata": {},
   "source": [
    "Но добраться до него на самом деле все еще можно:"
   ]
  },
  {
   "cell_type": "code",
   "execution_count": 96,
   "metadata": {
    "scrolled": true
   },
   "outputs": [
    {
     "name": "stdout",
     "output_type": "stream",
     "text": [
      "Это внутренний метод объекта\n",
      "1\n"
     ]
    }
   ],
   "source": [
    "obj._SomeClass__private() # вызываем внутренний метод объекта \n",
    "obj._SomeClass__private_n = 1 # изменяем внуренний атрибут объекта \n",
    "print(obj._SomeClass__private_n)"
   ]
  },
  {
   "cell_type": "markdown",
   "metadata": {},
   "source": [
    "Получается, что инкапсуляции в чистом смысле слова в питоне нет. Данные, которые должны быть скрыты, на самом деле могут быть прочитаны и изменены."
   ]
  },
  {
   "cell_type": "markdown",
   "metadata": {},
   "source": [
    "## Наследование"
   ]
  },
  {
   "cell_type": "markdown",
   "metadata": {},
   "source": [
    "Одиночное наследование:"
   ]
  },
  {
   "cell_type": "code",
   "execution_count": 97,
   "metadata": {},
   "outputs": [],
   "source": [
    "class Animal:\n",
    "   \n",
    "    fav_food = 'pizza' # атрибут класса \n",
    "    \n",
    "    def __init__(self, name, legs, scariness):\n",
    "        self.name = name \n",
    "        self.legs = legs\n",
    "        self.scariness = scariness\n",
    "    \n",
    "    def introduce(self): \n",
    "        print(\"Hello! My name is %s!\" % self.name)\n",
    "    \n",
    "    \n",
    "    def sound(self):\n",
    "        print(\"Sound!\")\n",
    "\n",
    "class Mammal(Animal): # имя родительского класса пишется в скобках \n",
    "    \n",
    "    def __init__(self, name, scariness): \n",
    "        # обращаемся к классу-родителю с помощью super() и вызываем его метод __init__\n",
    "        super().__init__(name=name, legs=4, scariness=scariness) # пусть у всех млекопитающих должно быть 4 ноги"
   ]
  },
  {
   "cell_type": "code",
   "execution_count": 98,
   "metadata": {},
   "outputs": [],
   "source": [
    "mammal = Mammal(name='Jake the dog', scariness=1) # больше не надо указывать количество ног, их всегда 4"
   ]
  },
  {
   "cell_type": "markdown",
   "metadata": {},
   "source": [
    "Класс потомок наследует все методы и атрибуты родительского класса, (поля класса в том числе):"
   ]
  },
  {
   "cell_type": "code",
   "execution_count": 99,
   "metadata": {},
   "outputs": [
    {
     "data": {
      "text/plain": [
       "'pizza'"
      ]
     },
     "execution_count": 99,
     "metadata": {},
     "output_type": "execute_result"
    }
   ],
   "source": [
    "mammal.fav_food"
   ]
  },
  {
   "cell_type": "code",
   "execution_count": 100,
   "metadata": {},
   "outputs": [
    {
     "data": {
      "text/plain": [
       "4"
      ]
     },
     "execution_count": 100,
     "metadata": {},
     "output_type": "execute_result"
    }
   ],
   "source": [
    "mammal.legs"
   ]
  },
  {
   "cell_type": "code",
   "execution_count": 101,
   "metadata": {
    "scrolled": false
   },
   "outputs": [
    {
     "name": "stdout",
     "output_type": "stream",
     "text": [
      "Sound!\n"
     ]
    }
   ],
   "source": [
    "mammal.sound()"
   ]
  },
  {
   "cell_type": "markdown",
   "metadata": {},
   "source": [
    "Список родительских классов содержится в атрибуте ***\\_\\_bases\\_\\_*** объекта класса-потомка"
   ]
  },
  {
   "cell_type": "code",
   "execution_count": null,
   "metadata": {
    "scrolled": false
   },
   "outputs": [],
   "source": [
    "Mammal.__bases__ # (класса, а не экземпляра!)"
   ]
  },
  {
   "cell_type": "code",
   "execution_count": null,
   "metadata": {},
   "outputs": [],
   "source": [
    "Animal.__bases__ # все классы без указания родителя по умолчанию являются наследниками object"
   ]
  },
  {
   "cell_type": "markdown",
   "metadata": {},
   "source": [
    "**Вопрос**: что будет, если создать потомка вот так, без ***\\_\\_init\\_\\_***? Попробуйте посоздавать экземпляры, посмотрите, как оно работает, подумайте почему"
   ]
  },
  {
   "cell_type": "code",
   "execution_count": null,
   "metadata": {},
   "outputs": [],
   "source": [
    "# class Mammal(Animal): \n",
    "#     pass"
   ]
  },
  {
   "cell_type": "markdown",
   "metadata": {},
   "source": [
    "### Множественное наследование"
   ]
  },
  {
   "cell_type": "markdown",
   "metadata": {},
   "source": [
    "Наследование также может быть множественным, тогда в скобках указывается несколько родительских классов."
   ]
  },
  {
   "cell_type": "code",
   "execution_count": null,
   "metadata": {},
   "outputs": [],
   "source": [
    "class Donkey():\n",
    "    is_donkey = True\n",
    "    \n",
    "class Horse():\n",
    "    is_horse = True\n",
    "    \n",
    "class Mule(Donkey, Horse):\n",
    "    pass"
   ]
  },
  {
   "cell_type": "code",
   "execution_count": null,
   "metadata": {},
   "outputs": [],
   "source": [
    "mule = Mule()\n",
    "mule.is_donkey"
   ]
  },
  {
   "cell_type": "code",
   "execution_count": null,
   "metadata": {},
   "outputs": [],
   "source": [
    "mule.is_horse"
   ]
  },
  {
   "cell_type": "markdown",
   "metadata": {},
   "source": [
    "Используя множественное наследования можно создавать [**классы-миксины**](https://stackoverflow.com/questions/533631/what-is-a-mixin-and-why-are-they-useful) , представляющие собой определенную особенность поведения. Такой миксин можно \"примешать\" к любому классу, дописав в его родители. Более подробно про миксины в статьях в дополнительных материалах. "
   ]
  },
  {
   "cell_type": "markdown",
   "metadata": {},
   "source": [
    "## Полиморфизм"
   ]
  },
  {
   "cell_type": "markdown",
   "metadata": {},
   "source": [
    "Полиморфизм утверждает, что базовый класс определяет интерфейс работы (набор методов) с категорией объектов (который этот базовый класс представляет), вся специфика работы с конкретными видами должна быть реализована в классах потомках через этот интерфейс (путем переопределения методов в классах-потомках)."
   ]
  },
  {
   "cell_type": "code",
   "execution_count": null,
   "metadata": {},
   "outputs": [],
   "source": [
    "class Cat(Mammal):\n",
    "    \n",
    "    # переопределяем метод sound, чтобы кошка мяукала\n",
    "    def sound(self): \n",
    "        print(\"Meow!\")\n",
    "    \n",
    "class Dog(Mammal):\n",
    "    \n",
    "    # переопределяем метод sound, чтобы собака гавкала\n",
    "    def sound(self): \n",
    "        print(\"Woof!\")\n",
    "\n",
    "class Cow(Mammal):\n",
    "    \n",
    "    # переопределяем метод sound, чтобы корова мычала\n",
    "    def sound(self):\n",
    "        print(\"Mooo!\")"
   ]
  },
  {
   "cell_type": "code",
   "execution_count": null,
   "metadata": {},
   "outputs": [],
   "source": [
    "cat = Cat(name='Cat', scariness=2)\n",
    "dog = Dog(name='Dog', scariness=3)\n",
    "cow = Cow(name='Cow', scariness=1)"
   ]
  },
  {
   "cell_type": "markdown",
   "metadata": {},
   "source": [
    "Одинаковый интерфейс (название функциии и аргументы), разные действия в зависимости от конкретного класса-потомка:"
   ]
  },
  {
   "cell_type": "code",
   "execution_count": null,
   "metadata": {
    "scrolled": true
   },
   "outputs": [],
   "source": [
    "for animal in [cat, dog, cow]:\n",
    "    print(\"%s wants to say something...\" % animal.name)\n",
    "    animal.sound()"
   ]
  },
  {
   "cell_type": "markdown",
   "metadata": {},
   "source": [
    "**Вопрос**: почему котопес мяукает? Как заставить котопса гавкать? "
   ]
  },
  {
   "cell_type": "code",
   "execution_count": null,
   "metadata": {},
   "outputs": [],
   "source": [
    "class CatDog(Cat, Dog):\n",
    "    \n",
    "    def sound(self):\n",
    "        super().sound() # super может использоваться не только в __init__"
   ]
  },
  {
   "cell_type": "code",
   "execution_count": null,
   "metadata": {},
   "outputs": [],
   "source": [
    "catdog = CatDog('CatDog', scariness=3)"
   ]
  },
  {
   "cell_type": "code",
   "execution_count": null,
   "metadata": {},
   "outputs": [],
   "source": [
    "catdog.sound()"
   ]
  },
  {
   "cell_type": "markdown",
   "metadata": {},
   "source": [
    "## Композиция и агрегация"
   ]
  },
  {
   "cell_type": "markdown",
   "metadata": {},
   "source": [
    "Кроме наследования, существует и другой способ организации межклассового взаимодействия – ассоциация (агрегация или композиция), при которой один класс является полем другого."
   ]
  },
  {
   "cell_type": "markdown",
   "metadata": {},
   "source": [
    "### Пример композиции:"
   ]
  },
  {
   "cell_type": "markdown",
   "metadata": {},
   "source": [
    "Один объект создает другой объект и время жизни \"части\" зависит от времени жизни целого:"
   ]
  },
  {
   "cell_type": "code",
   "execution_count": null,
   "metadata": {},
   "outputs": [],
   "source": [
    "class Salary:\n",
    "    def __init__(self,pay):\n",
    "        self.pay = pay\n",
    "\n",
    "    def getTotal(self):\n",
    "        return (self.pay*12)\n",
    "    \n",
    "    def __del__(self):\n",
    "        print('Instance of class Salary deleted.')\n",
    "\n",
    "class Employee:\n",
    "    def __init__(self,pay,bonus):\n",
    "        self.pay = pay\n",
    "        self.bonus = bonus\n",
    "        self.salary = Salary(self.pay) # экземпляр класса Salary создается внутри конструктора класса Employee\n",
    "\n",
    "    def annualSalary(self):\n",
    "        return \"Total: \" + str(self.salary.getTotal() + self.bonus)\n",
    "    \n",
    "    def __del__(self):\n",
    "        print('Instance of class Employee deleted.')"
   ]
  },
  {
   "cell_type": "code",
   "execution_count": null,
   "metadata": {},
   "outputs": [],
   "source": [
    "employee = Employee(pay=100, bonus=10)\n",
    "print(employee.annualSalary())"
   ]
  },
  {
   "cell_type": "markdown",
   "metadata": {},
   "source": [
    "**Вопрос**: Что напечатается?"
   ]
  },
  {
   "cell_type": "code",
   "execution_count": null,
   "metadata": {},
   "outputs": [],
   "source": [
    "# del employee "
   ]
  },
  {
   "cell_type": "markdown",
   "metadata": {},
   "source": [
    "### Пример агрегации:"
   ]
  },
  {
   "cell_type": "markdown",
   "metadata": {},
   "source": [
    "Один объект получает ссылку (указатель) на другой объект в процессе конструирования:"
   ]
  },
  {
   "cell_type": "code",
   "execution_count": null,
   "metadata": {},
   "outputs": [],
   "source": [
    "class Salary:\n",
    "    def __init__(self, pay):\n",
    "        self.pay = pay\n",
    "\n",
    "    def getTotal(self):\n",
    "        return (self.pay * 12)\n",
    "    \n",
    "    def __del__(self):\n",
    "        print('Instance of class Salary deleted.')\n",
    "\n",
    "\n",
    "class Employee:\n",
    "    def __init__(self, pay, bonus):\n",
    "        self.pay = pay\n",
    "        self.bonus = bonus\n",
    "\n",
    "    def annualSalary(self):\n",
    "        return \"Total: \" + str(self.pay.getTotal() + self.bonus)\n",
    "     \n",
    "    def __del__(self):\n",
    "        print('Instance of class Employee deleted.')"
   ]
  },
  {
   "cell_type": "code",
   "execution_count": null,
   "metadata": {},
   "outputs": [],
   "source": [
    "salary = Salary(pay=100) # экземпляр класса Salary создается отдельно\n",
    "employee = Employee(pay=salary, bonus=10) # экземпляр класса Employee получает ссылку на объект класса Salary\n",
    "print(employee.annualSalary())"
   ]
  },
  {
   "cell_type": "code",
   "execution_count": null,
   "metadata": {},
   "outputs": [],
   "source": [
    "# del employee"
   ]
  },
  {
   "cell_type": "markdown",
   "metadata": {},
   "source": [
    "**Задание**:    \n",
    "+ Нужно написать класс ***Sentence***, конструктор котрого получает на вход предложение. \n",
    "+ Атрибуты могут быть любые, подумайте, как вам удобно будет хранить данные о предложении. \n",
    "+ У этого класса должен быть метод ***replace_nouns***, который получает в качестве аргумента существительное, заменяет все встречающиеся в предложении существительные на это сущесвтительное в нужной форме (чтобы получилось грамматичное предложение), согласует роду глаголы и прилагательные, если нужно, и печатает получившееся предложение (знаки перпинания можно игнорировать).\n",
    "+ Скорее всего будет удобно также написать класс ***Word*** и хранить информацию о слове в его атрибутах, а объекты класса ***Word** создавать и хранить внутри объекта класса ***Sentence***. \n",
    "+ [Руководство пользователя pymorphy2](https://pymorphy2.readthedocs.io/en/latest/user/guide.html)"
   ]
  },
  {
   "cell_type": "code",
   "execution_count": 58,
   "metadata": {},
   "outputs": [],
   "source": [
    "# поставить слово в нужную форму с помощью pymorphy\n",
    "import pymorphy2\n",
    "morph = pymorphy2.MorphAnalyzer()\n",
    "cats_parsed = morph.parse('котиков')[0]"
   ]
  },
  {
   "cell_type": "code",
   "execution_count": 59,
   "metadata": {},
   "outputs": [],
   "source": [
    "pear_parsed = morph.parse('яблоко')[0]"
   ]
  },
  {
   "cell_type": "code",
   "execution_count": 62,
   "metadata": {},
   "outputs": [
    {
     "data": {
      "text/plain": [
       "'яблок'"
      ]
     },
     "execution_count": 62,
     "metadata": {},
     "output_type": "execute_result"
    }
   ],
   "source": [
    "pear_parsed.inflect({cats_parsed.tag.case, cats_parsed.tag.number}).word # нам нужны число и падеж"
   ]
  },
  {
   "cell_type": "code",
   "execution_count": null,
   "metadata": {},
   "outputs": [],
   "source": [
    "# пример работы\n",
    "s = Sentence('Мама мыла раму.')\n",
    "s.replace_nouns('котик')\n",
    "# 'Котик мыл котика'"
   ]
  },
  {
   "cell_type": "markdown",
   "metadata": {},
   "source": [
    "## Дополнительные материалы"
   ]
  },
  {
   "cell_type": "markdown",
   "metadata": {},
   "source": [
    "+ [Подробная статья про то, как устроены объекты в Python](https://habr.com/ru/company/buruki/blog/189986/)\n",
    "+ [Статья про сборщик мусора](https://habr.com/ru/post/417215/)\n",
    "+ [Понятная статья про ООП в Python](https://proglib.io/p/python-oop/)\n",
    "+ [What does super do in Python?](https://stackoverflow.com/questions/222877/what-does-super-do-in-python)\n",
    "+ [Статья про super()](https://rhettinger.wordpress.com/2011/05/26/super-considered-super/)\n",
    "+ [What is a mixin and why are they useful?](https://stackoverflow.com/questions/533631/what-is-a-mixin-and-why-are-they-useful)\n",
    "+ [Mixins for fun and profit](https://easyaspython.com/mixins-for-fun-and-profit-cb9962760556)\n",
    "+ [Methods resolution order](http://python-history.blogspot.com/2010/06/method-resolution-order.html)\n",
    "+ [Чем композиция отличается от агрегации](https://ru.stackoverflow.com/questions/596697/%D0%90%D0%B3%D1%80%D0%B5%D0%B3%D0%B0%D1%86%D0%B8%D1%8F-%D0%B8-%D0%BA%D0%BE%D0%BC%D0%BF%D0%BE%D0%B7%D0%B8%D1%86%D0%B8%D1%8F)"
   ]
  },
  {
   "cell_type": "code",
   "execution_count": null,
   "metadata": {},
   "outputs": [],
   "source": []
  }
 ],
 "metadata": {
  "kernelspec": {
   "display_name": "Python 3",
   "language": "python",
   "name": "python3"
  },
  "language_info": {
   "codemirror_mode": {
    "name": "ipython",
    "version": 3
   },
   "file_extension": ".py",
   "mimetype": "text/x-python",
   "name": "python",
   "nbconvert_exporter": "python",
   "pygments_lexer": "ipython3",
   "version": "3.7.2"
  }
 },
 "nbformat": 4,
 "nbformat_minor": 2
}
