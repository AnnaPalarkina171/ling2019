{
 "cells": [
  {
   "cell_type": "markdown",
   "metadata": {},
   "source": [
    "## Декораторы"
   ]
  },
  {
   "cell_type": "markdown",
   "metadata": {},
   "source": [
    "**Декоратор** - функция-обертка для другой функции, позволяющая изменить ее поведение, не меняя кода. "
   ]
  },
  {
   "cell_type": "code",
   "execution_count": 4,
   "metadata": {},
   "outputs": [],
   "source": [
    "def my_func(num):\n",
    "    for i in range(num):\n",
    "        print('Я просто функция...')"
   ]
  },
  {
   "cell_type": "code",
   "execution_count": 5,
   "metadata": {},
   "outputs": [
    {
     "name": "stdout",
     "output_type": "stream",
     "text": [
      "Я просто функция...\n",
      "Я просто функция...\n",
      "Я просто функция...\n"
     ]
    }
   ],
   "source": [
    "my_func(3)"
   ]
  },
  {
   "cell_type": "code",
   "execution_count": 6,
   "metadata": {},
   "outputs": [],
   "source": [
    "def my_decorator(func):\n",
    "    def wrapper(*args, **kwargs): \n",
    "        print('Я декоратор! Начинаю работу!')\n",
    "        func(*args, **kwargs)\n",
    "        print('Я декоратор! Заканчиваю работу!')\n",
    "    return wrapper"
   ]
  },
  {
   "cell_type": "code",
   "execution_count": 9,
   "metadata": {
    "scrolled": true
   },
   "outputs": [
    {
     "name": "stdout",
     "output_type": "stream",
     "text": [
      "Я декоратор! Начинаю работу!\n",
      "Я просто функция...\n",
      "Я просто функция...\n",
      "Я просто функция...\n",
      "Я декоратор! Заканчиваю работу!\n"
     ]
    }
   ],
   "source": [
    "# можно вызвать просто как функцию от функции\n",
    "my_decorator(my_func)(3)"
   ]
  },
  {
   "cell_type": "code",
   "execution_count": 10,
   "metadata": {},
   "outputs": [],
   "source": [
    "# но обычно делают так \n",
    "@my_decorator\n",
    "def my_func(num):\n",
    "    for i in range(num):\n",
    "        print('Я просто функция...')"
   ]
  },
  {
   "cell_type": "code",
   "execution_count": 12,
   "metadata": {
    "scrolled": true
   },
   "outputs": [
    {
     "name": "stdout",
     "output_type": "stream",
     "text": [
      "Я декоратор! Начинаю работу!\n",
      "Я просто функция...\n",
      "Я декоратор! Заканчиваю работу!\n"
     ]
    }
   ],
   "source": [
    "my_func(1)"
   ]
  },
  {
   "cell_type": "code",
   "execution_count": 13,
   "metadata": {},
   "outputs": [],
   "source": [
    "def double(func):\n",
    "    def wrapper(*args, **kwargs): \n",
    "        result = func(*args, **kwargs) * 2\n",
    "        return result # декоратор также может возвращать какой-то результат\n",
    "    return wrapper"
   ]
  },
  {
   "cell_type": "code",
   "execution_count": 15,
   "metadata": {},
   "outputs": [],
   "source": [
    "@double\n",
    "def add_10(num):\n",
    "    return num+10"
   ]
  },
  {
   "cell_type": "code",
   "execution_count": 24,
   "metadata": {},
   "outputs": [],
   "source": [
    "@double\n",
    "def add_1(num):\n",
    "    return num+1"
   ]
  },
  {
   "cell_type": "code",
   "execution_count": 25,
   "metadata": {},
   "outputs": [
    {
     "data": {
      "text/plain": [
       "22"
      ]
     },
     "execution_count": 25,
     "metadata": {},
     "output_type": "execute_result"
    }
   ],
   "source": [
    "add_10(1)"
   ]
  },
  {
   "cell_type": "code",
   "execution_count": 27,
   "metadata": {},
   "outputs": [
    {
     "data": {
      "text/plain": [
       "4"
      ]
     },
     "execution_count": 27,
     "metadata": {},
     "output_type": "execute_result"
    }
   ],
   "source": [
    "add_1(1)"
   ]
  },
  {
   "cell_type": "markdown",
   "metadata": {},
   "source": [
    "**Задание**: написать декоратор, который напечатает время работы функции и вернет ее результат"
   ]
  },
  {
   "cell_type": "code",
   "execution_count": 18,
   "metadata": {},
   "outputs": [],
   "source": [
    "import time "
   ]
  },
  {
   "cell_type": "code",
   "execution_count": 69,
   "metadata": {},
   "outputs": [
    {
     "name": "stdout",
     "output_type": "stream",
     "text": [
      "1574965004.98985 seconds\n",
      "1574965015.00109 seconds\n"
     ]
    }
   ],
   "source": [
    "start = time.time() # текущее время в секундах с начала эпохи (1 Января, 1970, 00:00:00 UTC)\n",
    "time.sleep(1) # подождать 1 секунду\n",
    "end = time.time() # текущее время в секундах \n",
    "delta = end - start \n",
    "print('%.5f seconds' % delta) # напечатать с округлением до 5 цифр после запятой"
   ]
  },
  {
   "cell_type": "markdown",
   "metadata": {},
   "source": [
    "**Задание**: написать декоратор, который делает так, что задекорированная функция принимает все свои неименованные аргументы в порядке, обратном тому, в котором их передали."
   ]
  },
  {
   "cell_type": "markdown",
   "metadata": {},
   "source": [
    "Пример работы:"
   ]
  },
  {
   "cell_type": "code",
   "execution_count": 81,
   "metadata": {},
   "outputs": [],
   "source": [
    "@revert_args \n",
    "def divide(num1, num2):\n",
    "    return num1/num2"
   ]
  },
  {
   "cell_type": "code",
   "execution_count": 78,
   "metadata": {},
   "outputs": [],
   "source": [
    "divide(2, 10)\n",
    "# 5.0 "
   ]
  },
  {
   "cell_type": "markdown",
   "metadata": {},
   "source": [
    "**Задание**: написать декоратор optional_introduce, который делает так, что у задекорированной функции появляется дополнительный параметр introduce со значением False по умолчанию, если функция вызвана с introduce=True, то она перед возвращением результата напечатает своё имя, а если с introduce=False или без явного указания introduce вовсе, то она просто вернёт результат.\n",
    "\n",
    "Советы:\n",
    "+ Погуглите, как из объекта функции, получить ее имя в виде строки.\n",
    "+ Именованные аргументы со значением по умолчанию идут после \\*args, но перед \\*\\*kwargs."
   ]
  },
  {
   "cell_type": "markdown",
   "metadata": {},
   "source": [
    "Пример работы:"
   ]
  },
  {
   "cell_type": "code",
   "execution_count": 98,
   "metadata": {},
   "outputs": [],
   "source": [
    "@optional_introduce\n",
    "def divide(num1, num2):\n",
    "    return num1/num2"
   ]
  },
  {
   "cell_type": "code",
   "execution_count": 99,
   "metadata": {},
   "outputs": [
    {
     "name": "stdout",
     "output_type": "stream",
     "text": [
      "divide\n"
     ]
    },
    {
     "data": {
      "text/plain": [
       "5.0"
      ]
     },
     "execution_count": 99,
     "metadata": {},
     "output_type": "execute_result"
    }
   ],
   "source": [
    "divide(10, 2)\n",
    "# divide\n",
    "# 5.0"
   ]
  },
  {
   "cell_type": "markdown",
   "metadata": {},
   "source": [
    "## Методы класса"
   ]
  },
  {
   "cell_type": "markdown",
   "metadata": {},
   "source": [
    "Кроме полей класса, объект класса также может иметь методы класса, в которых вместо ссылки на объект экзепляра (self), передается ссылка на объект класса (cls).     \n",
    "\n",
    "+ имеют доступ только к полям класса (но не к полям экземпляра)\n",
    "+ не требуют создания экземпляра \n",
    "+ не зависят от состояния объекта"
   ]
  },
  {
   "cell_type": "code",
   "execution_count": null,
   "metadata": {},
   "outputs": [],
   "source": [
    "class Animal:\n",
    "   \n",
    "    fav_food = 'pizza' # атрибут класса \n",
    "    \n",
    "    \n",
    "    def __init__(self, name, legs, scariness):\n",
    "        self.name = name \n",
    "        self.legs = legs\n",
    "        self.scariness = scariness\n",
    "    \n",
    "    def introduce(self): \n",
    "        return \"Hello! My name is %s!\" % self.name\n",
    "    \n",
    "    \n",
    "    def sound(self):\n",
    "        return \"Sound!\"\n",
    "    \n",
    "    # нужно использовать декоратор classmethod\n",
    "    @classmethod\n",
    "    def favorite_food(cls): # cls вместо self\n",
    "        return \"My favorite food is %s!\" % cls.fav_food"
   ]
  },
  {
   "cell_type": "code",
   "execution_count": null,
   "metadata": {},
   "outputs": [],
   "source": [
    "animal = Animal('Jake the dog', 4, 1)"
   ]
  },
  {
   "cell_type": "code",
   "execution_count": null,
   "metadata": {},
   "outputs": [],
   "source": [
    "animal.favorite_food() # из объекта экземпяра класса"
   ]
  },
  {
   "cell_type": "code",
   "execution_count": null,
   "metadata": {},
   "outputs": [],
   "source": [
    "Animal.favorite_food() # из объекта класса"
   ]
  },
  {
   "cell_type": "markdown",
   "metadata": {},
   "source": [
    "Технически экземпляры класса получают доступ к методам класса через атрибут ***\\_\\_class\\_\\_***"
   ]
  },
  {
   "cell_type": "code",
   "execution_count": null,
   "metadata": {},
   "outputs": [],
   "source": [
    "animal.__class__.__dict__['favorite_food']"
   ]
  },
  {
   "cell_type": "markdown",
   "metadata": {},
   "source": [
    "## Статические методы "
   ]
  },
  {
   "cell_type": "markdown",
   "metadata": {},
   "source": [
    "+ не требуют создания экземпляра \n",
    "+ не зависят от состояния объекта\n",
    "+ нет доступа даже к полям класаа\n",
    "+ ничего не нужно знать про класс, пользуются только переданными аргументами\n",
    "+ не нужно передавать ссылку ни на объект экземпляра, ни на объект класса"
   ]
  },
  {
   "cell_type": "code",
   "execution_count": 33,
   "metadata": {},
   "outputs": [],
   "source": [
    "class Animal:\n",
    "   \n",
    "    fav_food = 'pizza' # атрибут класса \n",
    "    \n",
    "    \n",
    "    def __init__(self, name, legs, scariness):\n",
    "        self.name = self.capitalize(name) \n",
    "        self.legs = legs\n",
    "        self.scariness = scariness\n",
    "    \n",
    "    def introduce(self): \n",
    "        return \"Hello! My name is %s!\" % self.name\n",
    "    \n",
    "    \n",
    "    def sound(self):\n",
    "        return \"Sound!\"\n",
    "    \n",
    "    # нужно использовать декоратор staticmethod\n",
    "    @staticmethod\n",
    "    def capitalize(name): # аргумент self/cls не нужен, т.к. мы не обращаемся ни к полям экземпляра, ни к полям класса\n",
    "        chars = list(name)\n",
    "        chars[0] = chars[0].upper()\n",
    "        return ''.join(chars)\n",
    "    "
   ]
  },
  {
   "cell_type": "code",
   "execution_count": 38,
   "metadata": {},
   "outputs": [],
   "source": [
    "animal = Animal('lowercase name', 4, 1)"
   ]
  },
  {
   "cell_type": "code",
   "execution_count": 39,
   "metadata": {},
   "outputs": [
    {
     "data": {
      "text/plain": [
       "'Lowercase name'"
      ]
     },
     "execution_count": 39,
     "metadata": {},
     "output_type": "execute_result"
    }
   ],
   "source": [
    "animal.name"
   ]
  },
  {
   "cell_type": "markdown",
   "metadata": {},
   "source": [
    "### @property"
   ]
  },
  {
   "cell_type": "code",
   "execution_count": 54,
   "metadata": {},
   "outputs": [],
   "source": [
    "class Animal:  \n",
    "    def __init__(self, name, legs, scariness):\n",
    "        self.name = name\n",
    "        self.legs = legs\n",
    "        self.scariness = scariness\n",
    "        self.long_name = '%s-legged %s' % (str(self.legs), self.name)"
   ]
  },
  {
   "cell_type": "code",
   "execution_count": 55,
   "metadata": {},
   "outputs": [],
   "source": [
    "animal = Animal('Jake the Dog', 4, 2)"
   ]
  },
  {
   "cell_type": "code",
   "execution_count": 56,
   "metadata": {},
   "outputs": [
    {
     "data": {
      "text/plain": [
       "'4-legged Jake the Dog'"
      ]
     },
     "execution_count": 56,
     "metadata": {},
     "output_type": "execute_result"
    }
   ],
   "source": [
    "animal.long_name"
   ]
  },
  {
   "cell_type": "code",
   "execution_count": 57,
   "metadata": {},
   "outputs": [],
   "source": [
    "animal.name = 'Finn the Human'\n",
    "animal.legs = 2"
   ]
  },
  {
   "cell_type": "code",
   "execution_count": 58,
   "metadata": {
    "scrolled": true
   },
   "outputs": [
    {
     "data": {
      "text/plain": [
       "'4-legged Jake the Dog'"
      ]
     },
     "execution_count": 58,
     "metadata": {},
     "output_type": "execute_result"
    }
   ],
   "source": [
    "animal.long_name # имя и количество ног в атрибуте long_name не изменились!"
   ]
  },
  {
   "cell_type": "code",
   "execution_count": 59,
   "metadata": {},
   "outputs": [],
   "source": [
    "class Animal:  \n",
    "    def __init__(self, name, legs, scariness):\n",
    "        self.name = name\n",
    "        self.legs = legs\n",
    "        self.scariness = scariness\n",
    "        \n",
    "    @property # пишем функцию с декоратором property, которая вернет нужное нам значение атрибута\n",
    "    def long_name(self):\n",
    "        return '%s-legged %s' % (str(self.legs), self.name)"
   ]
  },
  {
   "cell_type": "code",
   "execution_count": 60,
   "metadata": {},
   "outputs": [
    {
     "data": {
      "text/plain": [
       "'4-legged Jake the Dog'"
      ]
     },
     "execution_count": 60,
     "metadata": {},
     "output_type": "execute_result"
    }
   ],
   "source": [
    "animal = Animal(name='Jake the Dog', legs=4, scariness=11)\n",
    "animal.long_name"
   ]
  },
  {
   "cell_type": "code",
   "execution_count": 61,
   "metadata": {},
   "outputs": [],
   "source": [
    "animal.name = 'Finn the Human'\n",
    "animal.legs = 2"
   ]
  },
  {
   "cell_type": "code",
   "execution_count": 62,
   "metadata": {
    "scrolled": true
   },
   "outputs": [
    {
     "data": {
      "text/plain": [
       "'2-legged Finn the Human'"
      ]
     },
     "execution_count": 62,
     "metadata": {},
     "output_type": "execute_result"
    }
   ],
   "source": [
    "animal.long_name # имя и количество ног изменились!"
   ]
  },
  {
   "cell_type": "markdown",
   "metadata": {},
   "source": [
    "А как менять атрибут long_name?"
   ]
  },
  {
   "cell_type": "code",
   "execution_count": 63,
   "metadata": {},
   "outputs": [],
   "source": [
    "class Animal:  \n",
    "    def __init__(self, name, legs, scariness):\n",
    "        self.name = name\n",
    "        self.legs = legs\n",
    "        self.scariness = scariness\n",
    "        \n",
    "    @property \n",
    "    def long_name(self):\n",
    "        return '%s-legged %s' % (str(self.legs), self.name)\n",
    "    \n",
    "    @long_name.setter\n",
    "    def long_name(self, text):\n",
    "        words = text.split()\n",
    "        self.legs = int(words[0].replace('-legged', ''))\n",
    "        self.name = ' '.join(words[1:])"
   ]
  },
  {
   "cell_type": "code",
   "execution_count": 64,
   "metadata": {},
   "outputs": [
    {
     "data": {
      "text/plain": [
       "'4-legged Jake the Dog'"
      ]
     },
     "execution_count": 64,
     "metadata": {},
     "output_type": "execute_result"
    }
   ],
   "source": [
    "animal = Animal(name='Jake the Dog', legs=4, scariness=11)\n",
    "animal.long_name"
   ]
  },
  {
   "cell_type": "code",
   "execution_count": 65,
   "metadata": {},
   "outputs": [],
   "source": [
    "animal.long_name = '2-legged Finn the Human'"
   ]
  },
  {
   "cell_type": "code",
   "execution_count": 66,
   "metadata": {
    "scrolled": true
   },
   "outputs": [
    {
     "data": {
      "text/plain": [
       "'Finn the Human'"
      ]
     },
     "execution_count": 66,
     "metadata": {},
     "output_type": "execute_result"
    }
   ],
   "source": [
    "animal.name"
   ]
  },
  {
   "cell_type": "code",
   "execution_count": 67,
   "metadata": {},
   "outputs": [
    {
     "data": {
      "text/plain": [
       "2"
      ]
     },
     "execution_count": 67,
     "metadata": {},
     "output_type": "execute_result"
    }
   ],
   "source": [
    "animal.legs"
   ]
  },
  {
   "cell_type": "markdown",
   "metadata": {},
   "source": [
    "**Задание**\n",
    "+ Написать класс Sentence, конструктор получает на вход предложение \n",
    "+ У класса должен быть атрибуты \n",
    "     * text - текст предложения\n",
    "     * words - список слов   \n",
    "При изменении одного из них, другой должен изменяться соответственно.     "
   ]
  },
  {
   "cell_type": "markdown",
   "metadata": {},
   "source": [
    "## Дополнительные материалы"
   ]
  },
  {
   "cell_type": "markdown",
   "metadata": {},
   "source": [
    "+ [Подробнее про @classmethod](https://www.programiz.com/python-programming/methods/built-in/classmethod)\n",
    "+ [Подробнее про @staticmethod](https://www.programiz.com/python-programming/methods/built-in/staticmethod)\n",
    "+ [Урок на степике, из котрого были честно позаимствованы два последних задания про декораторы](https://stepik.org/lesson/63305/step/6)"
   ]
  }
 ],
 "metadata": {
  "kernelspec": {
   "display_name": "Python 3",
   "language": "python",
   "name": "python3"
  },
  "language_info": {
   "codemirror_mode": {
    "name": "ipython",
    "version": 3
   },
   "file_extension": ".py",
   "mimetype": "text/x-python",
   "name": "python",
   "nbconvert_exporter": "python",
   "pygments_lexer": "ipython3",
   "version": "3.7.2"
  }
 },
 "nbformat": 4,
 "nbformat_minor": 2
}
