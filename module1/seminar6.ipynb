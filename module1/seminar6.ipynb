{
 "cells": [
  {
   "cell_type": "markdown",
   "metadata": {},
   "source": [
    "## Абстрактные классы"
   ]
  },
  {
   "cell_type": "markdown",
   "metadata": {},
   "source": [
    "**Абстрактный класс** - класс в котором есть хотя бы один абстрактный метод.   \n",
    "**Абстрактный метод** - объявленный, но не реализованный метод. \n",
    "\n",
    "Абстрактный класс описывает интерфейс взаимодействия с дочерними классами. "
   ]
  },
  {
   "cell_type": "code",
   "execution_count": null,
   "metadata": {},
   "outputs": [],
   "source": [
    "from abc import ABC, abstractmethod"
   ]
  },
  {
   "cell_type": "code",
   "execution_count": null,
   "metadata": {},
   "outputs": [],
   "source": [
    "class Animal(ABC): # наследование от ABC из модуля ABC\n",
    "   \n",
    "    def __init__(self, name, legs, scariness):\n",
    "        self.name = name \n",
    "        self.legs = legs\n",
    "        self.scariness = scariness\n",
    "        \n",
    "    # общий метод, который будут использовать все наследники этого класса\n",
    "    def introduce(self): \n",
    "        print(\"Hello! My name is %s!\" % self.name)\n",
    "    \n",
    "    # абстрактный метод, который будет необходимо переопределять для каждого подкласса\n",
    "    @abstractmethod # чтобы объявить метод абстрактным используется декоратор @abstactmethod\n",
    "    def sound(self):\n",
    "        pass"
   ]
  },
  {
   "cell_type": "markdown",
   "metadata": {},
   "source": [
    "Абстрактный класс нельзя инстанциировать, обязательно нужно унаследовать и переопределить **все** абстрактные методы в дочернем классе. "
   ]
  },
  {
   "cell_type": "code",
   "execution_count": null,
   "metadata": {
    "scrolled": true
   },
   "outputs": [],
   "source": [
    "animal = Animal('Animal', 4, 10)"
   ]
  },
  {
   "cell_type": "code",
   "execution_count": null,
   "metadata": {},
   "outputs": [],
   "source": [
    "class Cat(Animal):\n",
    "    pass"
   ]
  },
  {
   "cell_type": "code",
   "execution_count": null,
   "metadata": {
    "scrolled": true
   },
   "outputs": [],
   "source": [
    "cat = Cat('Cat', 4, 2) # унаследовали, но не переопределили абстрактный метод"
   ]
  },
  {
   "cell_type": "code",
   "execution_count": null,
   "metadata": {},
   "outputs": [],
   "source": [
    "class Cat(Animal):\n",
    "    def sound(self): # переопределяем абстрактный метод\n",
    "        print('Meow!')"
   ]
  },
  {
   "cell_type": "code",
   "execution_count": null,
   "metadata": {},
   "outputs": [],
   "source": [
    "class Dog(Animal):\n",
    "    def sound(self): # переопределяем абстрактный метод\n",
    "        print('Woof!')"
   ]
  },
  {
   "cell_type": "code",
   "execution_count": null,
   "metadata": {},
   "outputs": [],
   "source": [
    "cat = Cat('Cat', 4, 2)\n",
    "dog = Dog('Dog', 4, 6)"
   ]
  },
  {
   "cell_type": "code",
   "execution_count": null,
   "metadata": {},
   "outputs": [],
   "source": [
    "cat.sound()\n",
    "dog.sound()"
   ]
  },
  {
   "cell_type": "code",
   "execution_count": null,
   "metadata": {},
   "outputs": [],
   "source": [
    "cat.introduce()\n",
    "dog.introduce()"
   ]
  },
  {
   "cell_type": "markdown",
   "metadata": {},
   "source": [
    "## Метаклассы"
   ]
  },
  {
   "cell_type": "markdown",
   "metadata": {},
   "source": [
    "Вспоминаем, что в питоне все является объектом. В том числе классы. "
   ]
  },
  {
   "cell_type": "code",
   "execution_count": null,
   "metadata": {},
   "outputs": [],
   "source": [
    "class MyClass: # этот код создает в памяти объект на который ссылается переменная MyClass\n",
    "    def __init__(self, a):\n",
    "        print('Created instance of MyClass!')\n",
    "        self.a = a"
   ]
  },
  {
   "cell_type": "markdown",
   "metadata": {},
   "source": [
    "Объект `MyClass` может сам порождать объекты --> является классом."
   ]
  },
  {
   "cell_type": "code",
   "execution_count": null,
   "metadata": {},
   "outputs": [],
   "source": [
    "my_obj = MyClass(1)"
   ]
  },
  {
   "cell_type": "markdown",
   "metadata": {},
   "source": [
    "При этом с ним можно делать все то же самое, что и с любым объектом:"
   ]
  },
  {
   "cell_type": "code",
   "execution_count": null,
   "metadata": {},
   "outputs": [],
   "source": [
    "# присвоить переменной\n",
    "class_to_make = MyClass\n",
    "my_obj = class_to_make(1)"
   ]
  },
  {
   "cell_type": "code",
   "execution_count": null,
   "metadata": {},
   "outputs": [],
   "source": [
    "my_obj.a"
   ]
  },
  {
   "cell_type": "code",
   "execution_count": null,
   "metadata": {},
   "outputs": [],
   "source": [
    "# передать в функцию \n",
    "def create_instance(class_object, a=1):\n",
    "    print(a)\n",
    "    return class_object(a)"
   ]
  },
  {
   "cell_type": "code",
   "execution_count": null,
   "metadata": {},
   "outputs": [],
   "source": [
    "my_obj = create_instance(MyClass, 1)"
   ]
  },
  {
   "cell_type": "code",
   "execution_count": null,
   "metadata": {},
   "outputs": [],
   "source": [
    "my_obj.a"
   ]
  },
  {
   "cell_type": "code",
   "execution_count": null,
   "metadata": {},
   "outputs": [],
   "source": [
    "# добавить или изменить атрибут (это будет атрибут класса)\n",
    "MyClass.new_class_attr = 10\n",
    "my_obj1 = MyClass(1)"
   ]
  },
  {
   "cell_type": "code",
   "execution_count": null,
   "metadata": {
    "scrolled": true
   },
   "outputs": [],
   "source": [
    "my_obj1.new_class_attr"
   ]
  },
  {
   "cell_type": "code",
   "execution_count": null,
   "metadata": {},
   "outputs": [],
   "source": [
    "MyClass.new_class_attr = 20\n",
    "my_obj1 = MyClass(2)"
   ]
  },
  {
   "cell_type": "code",
   "execution_count": null,
   "metadata": {
    "scrolled": true
   },
   "outputs": [],
   "source": [
    "my_obj2.new_class_attr"
   ]
  },
  {
   "cell_type": "markdown",
   "metadata": {},
   "source": [
    "Классы можно создавать динамически с помощью `type`, передав следующие аргументы: имя нового класса, кортеж с объектами родительских классов, словарь с названиями и значениями атрибутов классов.  "
   ]
  },
  {
   "cell_type": "code",
   "execution_count": null,
   "metadata": {},
   "outputs": [],
   "source": [
    "new_cat_class = type('Kitten', (Cat, ), {'is_smol':True})"
   ]
  },
  {
   "cell_type": "code",
   "execution_count": null,
   "metadata": {},
   "outputs": [],
   "source": [
    "kitten = new_cat_class(name='Kitten', legs=4, scariness=-10)"
   ]
  },
  {
   "cell_type": "code",
   "execution_count": null,
   "metadata": {},
   "outputs": [],
   "source": [
    "kitten.name"
   ]
  },
  {
   "cell_type": "code",
   "execution_count": null,
   "metadata": {},
   "outputs": [],
   "source": [
    "kitten.sound()"
   ]
  },
  {
   "cell_type": "code",
   "execution_count": null,
   "metadata": {
    "scrolled": true
   },
   "outputs": [],
   "source": [
    "kitten.is_smol"
   ]
  },
  {
   "cell_type": "markdown",
   "metadata": {},
   "source": [
    "Добавление методов в класс:"
   ]
  },
  {
   "cell_type": "code",
   "execution_count": null,
   "metadata": {},
   "outputs": [],
   "source": [
    "# создаем функцию с нужныи именем и аргументами\n",
    "def introduce(self):\n",
    "    return \"Hello I am %s, %s year student!\" % (self.name, str(self.year))"
   ]
  },
  {
   "cell_type": "code",
   "execution_count": null,
   "metadata": {},
   "outputs": [],
   "source": [
    "# можно создавать классы в цикле\n",
    "new_classes = []\n",
    "for i in range(1,5):\n",
    "    # передаем функцию в словаре атрибутов\n",
    "    new_classes.append(type('Student_%s_year'%str(i), (object, ), {'year': i, 'introduce': introduce})) "
   ]
  },
  {
   "cell_type": "code",
   "execution_count": null,
   "metadata": {},
   "outputs": [],
   "source": [
    "names = ['Vasya', 'Masha', 'Petya', 'Dasha']\n",
    "for i, class_ in enumerate(new_classes):\n",
    "    obj = class_()\n",
    "    obj.name = names[i] # атрибуты экземпляра задаются отдельно\n",
    "    print(obj)\n",
    "    print(obj.year)\n",
    "    print(obj.introduce()+'\\n')"
   ]
  },
  {
   "cell_type": "markdown",
   "metadata": {},
   "source": [
    "То же самое можно сделать с помощью метакласса.    \n",
    "**Метакласс** - класс, экземпляры которого сами являются классами (могут порождать свои экземпляры).  "
   ]
  },
  {
   "cell_type": "markdown",
   "metadata": {},
   "source": [
    "Попробуем создать классы студентов Х-го курса (такие же как выше), теперь с помощью метакласса. "
   ]
  },
  {
   "cell_type": "code",
   "execution_count": null,
   "metadata": {},
   "outputs": [],
   "source": [
    "# переопределим конструктор, чтобы атрибут name появлялся сразу после создания объекта\n",
    "def __init__(self, name):\n",
    "    self.name = name"
   ]
  },
  {
   "cell_type": "code",
   "execution_count": null,
   "metadata": {},
   "outputs": [],
   "source": [
    "# допустим мы хотим отдельно передавать методы в виде списка\n",
    "# и так, чтобы они автоматически добавлялись с нужным именем\n",
    "student_methods = [introduce, __init__]"
   ]
  },
  {
   "cell_type": "markdown",
   "metadata": {},
   "source": [
    "+ `__new__()` - отвечает за создание нового объекта класса, возвращает новый объект\n",
    "+ `__init__()` - отвечает за инициализацию нового объекта класса (объявить какие у него могут быть атрибуты)"
   ]
  },
  {
   "cell_type": "code",
   "execution_count": null,
   "metadata": {},
   "outputs": [],
   "source": [
    "class StudentMetaClass(type):\n",
    "    def __new__(cls, name, bases, attrs):\n",
    "        for method in attrs['methods']:\n",
    "            attrs[method.__name__] = method # добавляем пары ключ - название метода, значение -  метод\n",
    "        attrs.pop('methods') # удаляем methods из словаря атрибутов \n",
    "        return super().__new__(cls, name, bases, attrs)"
   ]
  },
  {
   "cell_type": "markdown",
   "metadata": {},
   "source": [
    "`type` на самом деле тоже является метаклассом, который Python внутренне использует для создания всех классов"
   ]
  },
  {
   "cell_type": "code",
   "execution_count": null,
   "metadata": {},
   "outputs": [],
   "source": [
    "new_classes = []\n",
    "for i in range(1,5):\n",
    "    new_classes.append(StudentMetaClass('Student%sYear'%str(i), (object, ), {'year': i, 'methods': student_methods})) "
   ]
  },
  {
   "cell_type": "code",
   "execution_count": null,
   "metadata": {
    "scrolled": false
   },
   "outputs": [],
   "source": [
    "names = ['Vasya', 'Masha', 'Petya', 'Dasha']\n",
    "for i, class_ in enumerate(new_classes):\n",
    "    obj = class_(name=names[i])\n",
    "    print(obj)\n",
    "    print(obj.year)\n",
    "    print(obj.introduce()+'\\n')"
   ]
  },
  {
   "cell_type": "markdown",
   "metadata": {},
   "source": [
    "### Аргумент metaclass"
   ]
  },
  {
   "cell_type": "markdown",
   "metadata": {},
   "source": [
    "При написании класса можно добавить аргумент  metaclass, тогда питон при создании класса будет использовать указанный метакласс.   \n",
    "При указании metaclass питон \n",
    "+ перехватывает создание класса\n",
    "+ изменяет класс\n",
    "+ возвращает модифицированный объект класса"
   ]
  },
  {
   "cell_type": "code",
   "execution_count": null,
   "metadata": {},
   "outputs": [],
   "source": [
    "class Student1Year(metaclass=StudentMetaClass):\n",
    "    # задаем атрибуты, такие же как в словаре переданном StudentMetaClass последним аргументом\n",
    "    year = 1 \n",
    "    methods = student_methods"
   ]
  },
  {
   "cell_type": "code",
   "execution_count": null,
   "metadata": {},
   "outputs": [],
   "source": [
    "student = Student1Year('Boris')"
   ]
  },
  {
   "cell_type": "code",
   "execution_count": null,
   "metadata": {},
   "outputs": [],
   "source": [
    "student.introduce()"
   ]
  },
  {
   "cell_type": "code",
   "execution_count": null,
   "metadata": {},
   "outputs": [],
   "source": [
    "student.yearclass StudentMetaClass(type):\n",
    "    def __new__(cls, name, bases, attrs):\n",
    "        for method in attrs['methods']:\n",
    "            attrs[method.__name__] = method # добавляем пары ключ - название метода, значение -  метод\n",
    "        attrs.pop('methods') # удаляем methods из словаря атрибутов \n",
    "        return super().__new__(cls, name, bases, attrs)"
   ]
  },
  {
   "cell_type": "markdown",
   "metadata": {},
   "source": [
    "**Задание**: \n",
    "   + написать метакласс, который переводит названия всех атрибутов и методов (кроме служебных) в верхний регистр\n",
    "   + служебный = начинается и заканчивается на два нижих подчеркивания"
   ]
  },
  {
   "cell_type": "code",
   "execution_count": null,
   "metadata": {},
   "outputs": [],
   "source": [
    "# пример работы\n",
    "class MyClass(metaclass=UpperCaseMetaclass):\n",
    "    attr1 = 1"
   ]
  },
  {
   "cell_type": "code",
   "execution_count": null,
   "metadata": {},
   "outputs": [],
   "source": [
    "my_object = MyClass()\n",
    "my_object.ATTR1\n",
    "# 1"
   ]
  },
  {
   "cell_type": "markdown",
   "metadata": {},
   "source": [
    "## Дополнительные материалы"
   ]
  },
  {
   "cell_type": "markdown",
   "metadata": {},
   "source": [
    "+ [Подробная статья про метаклассы в питоне](https://habr.com/ru/post/145835/)\n",
    "+ [Метаклассы в продакшене](https://habr.com/ru/company/binarydistrict/blog/422409/)\n",
    "+ [\\_\\_init\\_\\_  vs \\_\\_new\\_\\_](https://stackoverflow.com/questions/674304/why-is-init-always-called-after-new)"
   ]
  }
 ],
 "metadata": {
  "kernelspec": {
   "display_name": "Python 3",
   "language": "python",
   "name": "python3"
  },
  "language_info": {
   "codemirror_mode": {
    "name": "ipython",
    "version": 3
   },
   "file_extension": ".py",
   "mimetype": "text/x-python",
   "name": "python",
   "nbconvert_exporter": "python",
   "pygments_lexer": "ipython3",
   "version": "3.7.2"
  }
 },
 "nbformat": 4,
 "nbformat_minor": 2
}
