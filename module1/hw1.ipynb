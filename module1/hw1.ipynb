{
 "cells": [
  {
   "cell_type": "markdown",
   "metadata": {},
   "source": [
    "# Домашнее задание 1. Всего понемножку\n",
    "\n",
    "Дедлайн: 15 декабря 2019 23:59:59\n",
    "\n",
    "1) Пожалуйста, создайте репозиторий на github.com и сделайте его приватным (https://clck.ru/KMNwC, https://clck.ru/KMNmL) - так вашу работу сможете видеть только вы. \n",
    "\n",
    "2) Чтобы преподаватели и ассистенты могли просматривать ваш приватный репозиторий, добавьте в collaborators вашего репозитория (https://clck.ru/KMP9Z) четырёх человек: esolovev, eszakharova, akseryanin, ldsad7.\n",
    "\n",
    "3) Можно сдать как один или несколько .py-файлов, так и .ipynb-тетрадку. Несоблюдение PEP8 пока что не карается.\n",
    "\n",
    "4) **При написании функций/классов используйте type annotations** (подписывайте типы параметров и выходных значений, каждую используемую переменную подписывать не нужно). Сжато о type annotations рассказал [здесь](https://github.com/esolovev/ling2019/blob/master/module1/some-python-features.ipynb), подробнее читайте в [документации](https://docs.python.org/3/library/typing.html).\n",
    "\n",
    "5) Нельзя использовать pandas и numpy, а также другие сторонние библиотеки для работы с данными."
   ]
  },
  {
   "cell_type": "markdown",
   "metadata": {},
   "source": [
    "## Часть 1. Скачиваем Топ-500 КиноПоиска."
   ]
  },
  {
   "cell_type": "markdown",
   "metadata": {},
   "source": [
    "1) (3 балла) Напишите функцию без параметров, возвращающую iterable-объект, который последовательно возвращает информацию о фильмах из [Топ-500 КиноПоиска](https://www.kinopoisk.ru/top/lists/1/) в виде словаря. Например, первый возвращаемый объект будет выглядеть так (достаточно вытащить только перечисленные пять полей): \n",
    "\n",
    "`{\n",
    "    'name': 'Побег из Шоушенка', \n",
    "    'kp_rating': 9.112, \n",
    "    'imdb_rating': 9.3, \n",
    "    'year': 1994, \n",
    "    'url': 'https://www.kinopoisk.ru/film/326/',\n",
    "    '_utc_timestamp': '2019-11-26 09:53:51' # время в UTC (https://en.wikipedia.org/wiki/Coordinated_Universal_Time) на момент загрузки страницы c точностью до секунд\n",
    "}`\n",
    "\n",
    "Используйте любые библиотеки для хождения в интернет (я рекомендую [requests](https://2.python-requests.org/en/master/)) и парсинга HTML (например, [BeautifulSoup](https://www.crummy.com/software/BeautifulSoup/bs4/doc/)).\n",
    "\n",
    "Делайте перерывы в 0.5 секунд между запросами. Это можно сделать с помощью одной из функций в модуле [time](https://docs.python.org/3/library/time.html). Изучите документацию и примените нужную функцию.\n",
    "\n",
    "Поле `_utc_timestamp` можно сформировать следующим образом: сначала получаем объект с текущей датой и временем, а затем форматируем его как строку. Вам поможет модуль [datetime](https://docs.python.org/3/library/datetime.html). Обратите внимание, что ведущие нули (в моем примере это нуль перед часом - 09) нужно оставлять в строке, то есть строка со временем должна иметь фиксированную длину 19."
   ]
  },
  {
   "cell_type": "markdown",
   "metadata": {},
   "source": [
    "2) (1 балл) Добавьте в функцию параметры, ограничивающие количество фильмов (чтобы вместо всего Топа-500 можно было скачать, например, 17 первых фильмов) и изменяющие время перерыва между запросами (чтобы вместо 0.5 с можно было задавать произвольное время в секундах). Добавьте проверку на корректность переданных параметров функции - если передано некорректное значение аргумента, нужно выбрасывать подходящее исключение."
   ]
  },
  {
   "cell_type": "markdown",
   "metadata": {},
   "source": [
    "3) (0.5 балла) Выгрузите весь Топ-500 и превратите его в список словарей. Отсортируйте этот список по убыванию рейтинга IMDb (https://wiki.python.org/moin/HowTo/Sorting)"
   ]
  },
  {
   "cell_type": "markdown",
   "metadata": {},
   "source": [
    "4) (0.5 балла) Используйте один из контейнеров из модуля [collections](https://docs.python.org/3/library/collections.html), чтобы собрать словарь вида \"год выхода фильма -> количество фильмов из топ-500, вышедших в этот год\". Выведите самый популярный год, а также минимальный и максимальный."
   ]
  },
  {
   "cell_type": "markdown",
   "metadata": {},
   "source": [
    "5) (1.5 балла) Напишите функцию, которая записывает ваш список словарей в файл в нужном формате, сортируя его по выбранному полю по возрастанию или убыванию. \n",
    "\n",
    "Проверяйте аргументы на корректность. Там, где возможно, используйте встроенные функции Python, вручную писать конвертацию в JSON не нужно. Не забывайте закрывать файл после окончания записи (https://stackoverflow.com/questions/25070854/why-should-i-close-files-in-python)\n",
    "\n",
    "\n",
    "Возможные аргументы для `filetype`:\n",
    "* `json` - https://docs.python.org/3.8/library/json.html\n",
    "* `csv` - https://docs.python.org/3.8/library/csv.html\n",
    "* `tsv` - то же, что CSV, но вместо запятых используются символы табуляции '\\t')\n",
    "* `jsonl` - каждая строка файла соответствует JSON-представлению какого-то из элементов массива. (http://jsonlines.org/examples/)\n",
    "\n",
    "Обратите внимание, что вне зависимости от значений параметров `order_by` и `ascending`, исходный объект меняться **не должен**."
   ]
  },
  {
   "cell_type": "code",
   "execution_count": 42,
   "metadata": {},
   "outputs": [],
   "source": [
    "from typing import List, Dict, Union, Any\n",
    "\n",
    "# Функция должна иметь следующую сигнатуру (набор и тип аргументов)\n",
    "def dump(film_list: List[Dict[str, Any]], \n",
    "         path: str, \n",
    "         filetype: str = 'csv', \n",
    "         order_by: Union[None, str] = None, # поле словарей, по которому будем сортировать\n",
    "         ascending: bool = True) -> None:\n",
    "    pass\n",
    "\n",
    "\n",
    "# Пример вызова:\n",
    "my_list = []\n",
    "\n",
    "# Записываем tab-separated файл, отсортированный по убыванию времени выгрузки.\n",
    "dump(my_list, 'C:\\myfile.tsv', filetype='tsv', order_by='_utc_timestamp', ascending=False)"
   ]
  },
  {
   "cell_type": "markdown",
   "metadata": {},
   "source": [
    "## Часть 2. Вычисляем по IP"
   ]
  },
  {
   "cell_type": "markdown",
   "metadata": {},
   "source": [
    "0. Почитайте, как устроены IPv4-адреса (https://en.wikipedia.org/wiki/IPv4). \n",
    "1. (0.5 балла) Напишите функцию, возвращающую строку, представлящую случайный IPv4-адрес (вам поможет модуль [random](https://docs.python.org/3.8/library/random.html)).\n",
    "2. (0.5 балла) Сгенерируйте список из 100 **разных** IPv4-адресов.\n",
    "3. (1 балл) С помощью https://freegeoip.app/ выгрузите для каждого из этих адресов информацию в формате JSON. Делайте случайные перерывы от 0.5 до 1 секунды между запросами (снова поможет модуль `random`).\n",
    "4. (1.5 балла) В ответе этого API есть поле `time_zone`. Это часовой пояс местоположения, где теоретически находится сервер с таким IP.\n",
    "\n",
    "\n",
    "* Сгенерируйте случайный момент времени в 2019 году (по UTC времени). \n",
    "* Выведите его в виде [unix timestamp](https://timestamp.online/)\n",
    "* Приведите его ко всем встретившимся часовым поясам (см. [тут](https://docs.python.org/3/library/datetime.html?highlight=tzinfo#datetime.tzinfo)). Выведите результат."
   ]
  },
  {
   "cell_type": "code",
   "execution_count": null,
   "metadata": {},
   "outputs": [],
   "source": []
  }
 ],
 "metadata": {
  "kernelspec": {
   "display_name": "Python 3",
   "language": "python",
   "name": "python3"
  },
  "language_info": {
   "codemirror_mode": {
    "name": "ipython",
    "version": 3
   },
   "file_extension": ".py",
   "mimetype": "text/x-python",
   "name": "python",
   "nbconvert_exporter": "python",
   "pygments_lexer": "ipython3",
   "version": "3.7.4"
  }
 },
 "nbformat": 4,
 "nbformat_minor": 2
}
