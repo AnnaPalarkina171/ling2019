{
  "nbformat": 4,
  "nbformat_minor": 0,
  "metadata": {
    "colab": {
      "name": "linear_regression_practice.ipynb",
      "provenance": []
    },
    "kernelspec": {
      "name": "python3",
      "display_name": "Python 3"
    }
  },
  "cells": [
    {
      "cell_type": "markdown",
      "metadata": {
        "id": "5rS4oK568usY",
        "colab_type": "text"
      },
      "source": [
        "# Обучаем линейную регрессию"
      ]
    },
    {
      "cell_type": "markdown",
      "metadata": {
        "id": "YjnxLYXOcoB2",
        "colab_type": "text"
      },
      "source": [
        "Помимо pandas нам сегодня понадобится библиотека [scikit-learn](https://scikit-learn.org/stable/index.html):\n",
        "+ реализации большинства алгоритмов машинного обучения\n",
        "+ модули для предобработки данных, оценки качетва модели и много чего другого\n",
        "+ очень хорошая документация \n"
      ]
    },
    {
      "cell_type": "markdown",
      "metadata": {
        "id": "nhJJt56IMaXv",
        "colab_type": "text"
      },
      "source": [
        "## Загружаем датасет"
      ]
    },
    {
      "cell_type": "code",
      "metadata": {
        "id": "t4NvxeEh9Rv1",
        "colab_type": "code",
        "colab": {}
      },
      "source": [
        "import pandas as pd"
      ],
      "execution_count": 0,
      "outputs": []
    },
    {
      "cell_type": "code",
      "metadata": {
        "id": "q9hVuaGiMg4Y",
        "colab_type": "code",
        "colab": {}
      },
      "source": [
        "data = pd.read_csv('https://raw.githubusercontent.com/arunk13/MSDA-Assignments/master/IS607Fall2015/Assignment3/student-mat.csv', delimiter=';')"
      ],
      "execution_count": 0,
      "outputs": []
    },
    {
      "cell_type": "code",
      "metadata": {
        "id": "y4ThCrjsM3xx",
        "colab_type": "code",
        "outputId": "d3f1b980-d3e5-404a-eccd-c72aebc28435",
        "colab": {
          "base_uri": "https://localhost:8080/",
          "height": 224
        }
      },
      "source": [
        "data.head()"
      ],
      "execution_count": 27,
      "outputs": [
        {
          "output_type": "execute_result",
          "data": {
            "text/html": [
              "<div>\n",
              "<style scoped>\n",
              "    .dataframe tbody tr th:only-of-type {\n",
              "        vertical-align: middle;\n",
              "    }\n",
              "\n",
              "    .dataframe tbody tr th {\n",
              "        vertical-align: top;\n",
              "    }\n",
              "\n",
              "    .dataframe thead th {\n",
              "        text-align: right;\n",
              "    }\n",
              "</style>\n",
              "<table border=\"1\" class=\"dataframe\">\n",
              "  <thead>\n",
              "    <tr style=\"text-align: right;\">\n",
              "      <th></th>\n",
              "      <th>school</th>\n",
              "      <th>sex</th>\n",
              "      <th>age</th>\n",
              "      <th>address</th>\n",
              "      <th>famsize</th>\n",
              "      <th>Pstatus</th>\n",
              "      <th>Medu</th>\n",
              "      <th>Fedu</th>\n",
              "      <th>Mjob</th>\n",
              "      <th>Fjob</th>\n",
              "      <th>reason</th>\n",
              "      <th>guardian</th>\n",
              "      <th>traveltime</th>\n",
              "      <th>studytime</th>\n",
              "      <th>failures</th>\n",
              "      <th>schoolsup</th>\n",
              "      <th>famsup</th>\n",
              "      <th>paid</th>\n",
              "      <th>activities</th>\n",
              "      <th>nursery</th>\n",
              "      <th>higher</th>\n",
              "      <th>internet</th>\n",
              "      <th>romantic</th>\n",
              "      <th>famrel</th>\n",
              "      <th>freetime</th>\n",
              "      <th>goout</th>\n",
              "      <th>Dalc</th>\n",
              "      <th>Walc</th>\n",
              "      <th>health</th>\n",
              "      <th>absences</th>\n",
              "      <th>G1</th>\n",
              "      <th>G2</th>\n",
              "      <th>G3</th>\n",
              "    </tr>\n",
              "  </thead>\n",
              "  <tbody>\n",
              "    <tr>\n",
              "      <th>0</th>\n",
              "      <td>GP</td>\n",
              "      <td>F</td>\n",
              "      <td>18</td>\n",
              "      <td>U</td>\n",
              "      <td>GT3</td>\n",
              "      <td>A</td>\n",
              "      <td>4</td>\n",
              "      <td>4</td>\n",
              "      <td>at_home</td>\n",
              "      <td>teacher</td>\n",
              "      <td>course</td>\n",
              "      <td>mother</td>\n",
              "      <td>2</td>\n",
              "      <td>2</td>\n",
              "      <td>0</td>\n",
              "      <td>yes</td>\n",
              "      <td>no</td>\n",
              "      <td>no</td>\n",
              "      <td>no</td>\n",
              "      <td>yes</td>\n",
              "      <td>yes</td>\n",
              "      <td>no</td>\n",
              "      <td>no</td>\n",
              "      <td>4</td>\n",
              "      <td>3</td>\n",
              "      <td>4</td>\n",
              "      <td>1</td>\n",
              "      <td>1</td>\n",
              "      <td>3</td>\n",
              "      <td>6</td>\n",
              "      <td>5</td>\n",
              "      <td>6</td>\n",
              "      <td>6</td>\n",
              "    </tr>\n",
              "    <tr>\n",
              "      <th>1</th>\n",
              "      <td>GP</td>\n",
              "      <td>F</td>\n",
              "      <td>17</td>\n",
              "      <td>U</td>\n",
              "      <td>GT3</td>\n",
              "      <td>T</td>\n",
              "      <td>1</td>\n",
              "      <td>1</td>\n",
              "      <td>at_home</td>\n",
              "      <td>other</td>\n",
              "      <td>course</td>\n",
              "      <td>father</td>\n",
              "      <td>1</td>\n",
              "      <td>2</td>\n",
              "      <td>0</td>\n",
              "      <td>no</td>\n",
              "      <td>yes</td>\n",
              "      <td>no</td>\n",
              "      <td>no</td>\n",
              "      <td>no</td>\n",
              "      <td>yes</td>\n",
              "      <td>yes</td>\n",
              "      <td>no</td>\n",
              "      <td>5</td>\n",
              "      <td>3</td>\n",
              "      <td>3</td>\n",
              "      <td>1</td>\n",
              "      <td>1</td>\n",
              "      <td>3</td>\n",
              "      <td>4</td>\n",
              "      <td>5</td>\n",
              "      <td>5</td>\n",
              "      <td>6</td>\n",
              "    </tr>\n",
              "    <tr>\n",
              "      <th>2</th>\n",
              "      <td>GP</td>\n",
              "      <td>F</td>\n",
              "      <td>15</td>\n",
              "      <td>U</td>\n",
              "      <td>LE3</td>\n",
              "      <td>T</td>\n",
              "      <td>1</td>\n",
              "      <td>1</td>\n",
              "      <td>at_home</td>\n",
              "      <td>other</td>\n",
              "      <td>other</td>\n",
              "      <td>mother</td>\n",
              "      <td>1</td>\n",
              "      <td>2</td>\n",
              "      <td>3</td>\n",
              "      <td>yes</td>\n",
              "      <td>no</td>\n",
              "      <td>yes</td>\n",
              "      <td>no</td>\n",
              "      <td>yes</td>\n",
              "      <td>yes</td>\n",
              "      <td>yes</td>\n",
              "      <td>no</td>\n",
              "      <td>4</td>\n",
              "      <td>3</td>\n",
              "      <td>2</td>\n",
              "      <td>2</td>\n",
              "      <td>3</td>\n",
              "      <td>3</td>\n",
              "      <td>10</td>\n",
              "      <td>7</td>\n",
              "      <td>8</td>\n",
              "      <td>10</td>\n",
              "    </tr>\n",
              "    <tr>\n",
              "      <th>3</th>\n",
              "      <td>GP</td>\n",
              "      <td>F</td>\n",
              "      <td>15</td>\n",
              "      <td>U</td>\n",
              "      <td>GT3</td>\n",
              "      <td>T</td>\n",
              "      <td>4</td>\n",
              "      <td>2</td>\n",
              "      <td>health</td>\n",
              "      <td>services</td>\n",
              "      <td>home</td>\n",
              "      <td>mother</td>\n",
              "      <td>1</td>\n",
              "      <td>3</td>\n",
              "      <td>0</td>\n",
              "      <td>no</td>\n",
              "      <td>yes</td>\n",
              "      <td>yes</td>\n",
              "      <td>yes</td>\n",
              "      <td>yes</td>\n",
              "      <td>yes</td>\n",
              "      <td>yes</td>\n",
              "      <td>yes</td>\n",
              "      <td>3</td>\n",
              "      <td>2</td>\n",
              "      <td>2</td>\n",
              "      <td>1</td>\n",
              "      <td>1</td>\n",
              "      <td>5</td>\n",
              "      <td>2</td>\n",
              "      <td>15</td>\n",
              "      <td>14</td>\n",
              "      <td>15</td>\n",
              "    </tr>\n",
              "    <tr>\n",
              "      <th>4</th>\n",
              "      <td>GP</td>\n",
              "      <td>F</td>\n",
              "      <td>16</td>\n",
              "      <td>U</td>\n",
              "      <td>GT3</td>\n",
              "      <td>T</td>\n",
              "      <td>3</td>\n",
              "      <td>3</td>\n",
              "      <td>other</td>\n",
              "      <td>other</td>\n",
              "      <td>home</td>\n",
              "      <td>father</td>\n",
              "      <td>1</td>\n",
              "      <td>2</td>\n",
              "      <td>0</td>\n",
              "      <td>no</td>\n",
              "      <td>yes</td>\n",
              "      <td>yes</td>\n",
              "      <td>no</td>\n",
              "      <td>yes</td>\n",
              "      <td>yes</td>\n",
              "      <td>no</td>\n",
              "      <td>no</td>\n",
              "      <td>4</td>\n",
              "      <td>3</td>\n",
              "      <td>2</td>\n",
              "      <td>1</td>\n",
              "      <td>2</td>\n",
              "      <td>5</td>\n",
              "      <td>4</td>\n",
              "      <td>6</td>\n",
              "      <td>10</td>\n",
              "      <td>10</td>\n",
              "    </tr>\n",
              "  </tbody>\n",
              "</table>\n",
              "</div>"
            ],
            "text/plain": [
              "  school sex  age address famsize Pstatus  ...  Walc  health absences  G1  G2  G3\n",
              "0     GP   F   18       U     GT3       A  ...     1       3        6   5   6   6\n",
              "1     GP   F   17       U     GT3       T  ...     1       3        4   5   5   6\n",
              "2     GP   F   15       U     LE3       T  ...     3       3       10   7   8  10\n",
              "3     GP   F   15       U     GT3       T  ...     1       5        2  15  14  15\n",
              "4     GP   F   16       U     GT3       T  ...     2       5        4   6  10  10\n",
              "\n",
              "[5 rows x 33 columns]"
            ]
          },
          "metadata": {
            "tags": []
          },
          "execution_count": 27
        }
      ]
    },
    {
      "cell_type": "markdown",
      "metadata": {
        "id": "cZHlSFLCMmrC",
        "colab_type": "text"
      },
      "source": [
        "Отделяем целевую переменную, удаляем ненужные столбцы (G1 и G2). "
      ]
    },
    {
      "cell_type": "code",
      "metadata": {
        "id": "YzhJFF3hNinJ",
        "colab_type": "code",
        "colab": {}
      },
      "source": [
        "target = data['G3']"
      ],
      "execution_count": 0,
      "outputs": []
    },
    {
      "cell_type": "code",
      "metadata": {
        "id": "lv4mxNBuNm1I",
        "colab_type": "code",
        "colab": {}
      },
      "source": [
        "data = data.drop(columns=['G1', 'G2', 'G3'])"
      ],
      "execution_count": 0,
      "outputs": []
    },
    {
      "cell_type": "code",
      "metadata": {
        "id": "qBviEGwYN0m5",
        "colab_type": "code",
        "outputId": "788124d9-ff3c-42fe-b8fd-13c238841a27",
        "colab": {
          "base_uri": "https://localhost:8080/",
          "height": 119
        }
      },
      "source": [
        "data.columns"
      ],
      "execution_count": 30,
      "outputs": [
        {
          "output_type": "execute_result",
          "data": {
            "text/plain": [
              "Index(['school', 'sex', 'age', 'address', 'famsize', 'Pstatus', 'Medu', 'Fedu',\n",
              "       'Mjob', 'Fjob', 'reason', 'guardian', 'traveltime', 'studytime',\n",
              "       'failures', 'schoolsup', 'famsup', 'paid', 'activities', 'nursery',\n",
              "       'higher', 'internet', 'romantic', 'famrel', 'freetime', 'goout', 'Dalc',\n",
              "       'Walc', 'health', 'absences'],\n",
              "      dtype='object')"
            ]
          },
          "metadata": {
            "tags": []
          },
          "execution_count": 30
        }
      ]
    },
    {
      "cell_type": "markdown",
      "metadata": {
        "id": "fSbYa9ITQSCp",
        "colab_type": "text"
      },
      "source": [
        "## Предобработка данных"
      ]
    },
    {
      "cell_type": "markdown",
      "metadata": {
        "id": "5tVIUsOscgR_",
        "colab_type": "text"
      },
      "source": [
        "Комепьютер  понимает только чиселки, поэтому все признаки со строковыми значениями нужно превратить в чиселки."
      ]
    },
    {
      "cell_type": "markdown",
      "metadata": {
        "id": "fRlDnez8QWjH",
        "colab_type": "text"
      },
      "source": [
        "### Бинарные признаки "
      ]
    },
    {
      "cell_type": "markdown",
      "metadata": {
        "id": "2MF0pyVFdflt",
        "colab_type": "text"
      },
      "source": [
        "Достаточно просто заменить одно из возможных значений на 1, а другое на 0. "
      ]
    },
    {
      "cell_type": "markdown",
      "metadata": {
        "id": "UXxmVgHihVV6",
        "colab_type": "text"
      },
      "source": [
        "Можно написать руками, а можно воспользоваться классом [Label encoder](https://scikit-learn.org/stable/modules/generated/sklearn.preprocessing.LabelEncoder.html): \n",
        "+ метод ***fit*** создает массив уникальных значений\n",
        "+  метод ***transform*** заменяет значения на число - порядковый номер в массиве\n",
        "+ ***fit_transform*** вызывает эти два метода по очереди (надо же)"
      ]
    },
    {
      "cell_type": "code",
      "metadata": {
        "id": "FZRYqpT9ghOT",
        "colab_type": "code",
        "colab": {}
      },
      "source": [
        "from sklearn.preprocessing import LabelEncoder"
      ],
      "execution_count": 0,
      "outputs": []
    },
    {
      "cell_type": "code",
      "metadata": {
        "id": "1z5JQGkSgiMX",
        "colab_type": "code",
        "colab": {}
      },
      "source": [
        "le = LabelEncoder()"
      ],
      "execution_count": 0,
      "outputs": []
    },
    {
      "cell_type": "code",
      "metadata": {
        "id": "iD1iHHibce2G",
        "colab_type": "code",
        "outputId": "cb1af1ca-fc41-4c58-8ff1-575142d5b98f",
        "colab": {
          "base_uri": "https://localhost:8080/",
          "height": 238
        }
      },
      "source": [
        "for column in data.columns:\n",
        "    if data[column].dtype == 'object' and len(data[column].unique()) == 2:\n",
        "        print(column)\n",
        "        data[column] = le.fit_transform(data[column])\n",
        "        # # эквивалентно\n",
        "        # le.fit(data[column])\n",
        "        # data[column] = le.transform(data[column])\n",
        "        \n"
      ],
      "execution_count": 33,
      "outputs": [
        {
          "output_type": "stream",
          "text": [
            "school\n",
            "sex\n",
            "address\n",
            "famsize\n",
            "Pstatus\n",
            "schoolsup\n",
            "famsup\n",
            "paid\n",
            "activities\n",
            "nursery\n",
            "higher\n",
            "internet\n",
            "romantic\n"
          ],
          "name": "stdout"
        }
      ]
    },
    {
      "cell_type": "code",
      "metadata": {
        "id": "HTMuc9plefe1",
        "colab_type": "code",
        "outputId": "e4e79946-4e8f-42a2-ab79-adb1f0ddfe03",
        "colab": {
          "base_uri": "https://localhost:8080/",
          "height": 612
        }
      },
      "source": [
        "# видим, что бинарные признаки (school, sex, address etc) превратились в чиловые (тип int64)\n",
        "data.info()"
      ],
      "execution_count": 34,
      "outputs": [
        {
          "output_type": "stream",
          "text": [
            "<class 'pandas.core.frame.DataFrame'>\n",
            "RangeIndex: 395 entries, 0 to 394\n",
            "Data columns (total 30 columns):\n",
            "school        395 non-null int64\n",
            "sex           395 non-null int64\n",
            "age           395 non-null int64\n",
            "address       395 non-null int64\n",
            "famsize       395 non-null int64\n",
            "Pstatus       395 non-null int64\n",
            "Medu          395 non-null int64\n",
            "Fedu          395 non-null int64\n",
            "Mjob          395 non-null object\n",
            "Fjob          395 non-null object\n",
            "reason        395 non-null object\n",
            "guardian      395 non-null object\n",
            "traveltime    395 non-null int64\n",
            "studytime     395 non-null int64\n",
            "failures      395 non-null int64\n",
            "schoolsup     395 non-null int64\n",
            "famsup        395 non-null int64\n",
            "paid          395 non-null int64\n",
            "activities    395 non-null int64\n",
            "nursery       395 non-null int64\n",
            "higher        395 non-null int64\n",
            "internet      395 non-null int64\n",
            "romantic      395 non-null int64\n",
            "famrel        395 non-null int64\n",
            "freetime      395 non-null int64\n",
            "goout         395 non-null int64\n",
            "Dalc          395 non-null int64\n",
            "Walc          395 non-null int64\n",
            "health        395 non-null int64\n",
            "absences      395 non-null int64\n",
            "dtypes: int64(26), object(4)\n",
            "memory usage: 92.7+ KB\n"
          ],
          "name": "stdout"
        }
      ]
    },
    {
      "cell_type": "markdown",
      "metadata": {
        "id": "5IG69DTWQWqV",
        "colab_type": "text"
      },
      "source": [
        "### Категориальные признаки "
      ]
    },
    {
      "cell_type": "markdown",
      "metadata": {
        "id": "1ZqiFVywQgRx",
        "colab_type": "text"
      },
      "source": [
        "Почему просто не заменить на числа с помощью Label Encoder?\n",
        "+ В принципе так можно делать.\n",
        "+ Но это не очень правильно, т.к. весь смысл категориальности теряется и появляются ложные интерпретации.\n",
        "+ Ведь значения категориальных признаков нельзя сравнить между собой или расположить по порядку,в отличие от чисел.  "
      ]
    },
    {
      "cell_type": "markdown",
      "metadata": {
        "id": "hUimtjwJr-Ew",
        "colab_type": "text"
      },
      "source": [
        "На примере признака Mjob, если заменить на значения числа (health -> 0, teacher -> 1, at_home -> 2, services -> 3, other -> 4), то получается что \n",
        "+ health < teacher < at_home < services < other \n",
        "+ teacher + at_home = services \n",
        "+ и т.д.\n",
        "+ и все это не свойство данных, а свойство выбранной нами кодировки!"
      ]
    },
    {
      "cell_type": "markdown",
      "metadata": {
        "id": "vladefNVz-w6",
        "colab_type": "text"
      },
      "source": [
        "С категориальными признаками правильнее использовать One-hot encoding - создать N новых бинарных признаков (N - количество уникальных значений), 1 - в том столбце, где значение признака равно названию столбца, в остальных - 0. \n",
        "![](https://i.imgur.com/mtimFxh.png)\n"
      ]
    },
    {
      "cell_type": "code",
      "metadata": {
        "colab_type": "code",
        "id": "NTx4JBiy5GyP",
        "colab": {}
      },
      "source": [
        "# drop_first - удаляем одну из колонок, тк она восстанавливается по значениям других (то, что не Red и не Yellow - точно Green)\n",
        "data = pd.get_dummies(data, drop_first=True)"
      ],
      "execution_count": 0,
      "outputs": []
    },
    {
      "cell_type": "code",
      "metadata": {
        "id": "Nk2gCAYV3jm1",
        "colab_type": "code",
        "outputId": "9ef3fc31-53f8-4f5d-e4a3-f14b30363042",
        "colab": {
          "base_uri": "https://localhost:8080/",
          "height": 224
        }
      },
      "source": [
        "data.head()"
      ],
      "execution_count": 36,
      "outputs": [
        {
          "output_type": "execute_result",
          "data": {
            "text/html": [
              "<div>\n",
              "<style scoped>\n",
              "    .dataframe tbody tr th:only-of-type {\n",
              "        vertical-align: middle;\n",
              "    }\n",
              "\n",
              "    .dataframe tbody tr th {\n",
              "        vertical-align: top;\n",
              "    }\n",
              "\n",
              "    .dataframe thead th {\n",
              "        text-align: right;\n",
              "    }\n",
              "</style>\n",
              "<table border=\"1\" class=\"dataframe\">\n",
              "  <thead>\n",
              "    <tr style=\"text-align: right;\">\n",
              "      <th></th>\n",
              "      <th>school</th>\n",
              "      <th>sex</th>\n",
              "      <th>age</th>\n",
              "      <th>address</th>\n",
              "      <th>famsize</th>\n",
              "      <th>Pstatus</th>\n",
              "      <th>Medu</th>\n",
              "      <th>Fedu</th>\n",
              "      <th>traveltime</th>\n",
              "      <th>studytime</th>\n",
              "      <th>failures</th>\n",
              "      <th>schoolsup</th>\n",
              "      <th>famsup</th>\n",
              "      <th>paid</th>\n",
              "      <th>activities</th>\n",
              "      <th>nursery</th>\n",
              "      <th>higher</th>\n",
              "      <th>internet</th>\n",
              "      <th>romantic</th>\n",
              "      <th>famrel</th>\n",
              "      <th>freetime</th>\n",
              "      <th>goout</th>\n",
              "      <th>Dalc</th>\n",
              "      <th>Walc</th>\n",
              "      <th>health</th>\n",
              "      <th>absences</th>\n",
              "      <th>Mjob_health</th>\n",
              "      <th>Mjob_other</th>\n",
              "      <th>Mjob_services</th>\n",
              "      <th>Mjob_teacher</th>\n",
              "      <th>Fjob_health</th>\n",
              "      <th>Fjob_other</th>\n",
              "      <th>Fjob_services</th>\n",
              "      <th>Fjob_teacher</th>\n",
              "      <th>reason_home</th>\n",
              "      <th>reason_other</th>\n",
              "      <th>reason_reputation</th>\n",
              "      <th>guardian_mother</th>\n",
              "      <th>guardian_other</th>\n",
              "    </tr>\n",
              "  </thead>\n",
              "  <tbody>\n",
              "    <tr>\n",
              "      <th>0</th>\n",
              "      <td>0</td>\n",
              "      <td>0</td>\n",
              "      <td>18</td>\n",
              "      <td>1</td>\n",
              "      <td>0</td>\n",
              "      <td>0</td>\n",
              "      <td>4</td>\n",
              "      <td>4</td>\n",
              "      <td>2</td>\n",
              "      <td>2</td>\n",
              "      <td>0</td>\n",
              "      <td>1</td>\n",
              "      <td>0</td>\n",
              "      <td>0</td>\n",
              "      <td>0</td>\n",
              "      <td>1</td>\n",
              "      <td>1</td>\n",
              "      <td>0</td>\n",
              "      <td>0</td>\n",
              "      <td>4</td>\n",
              "      <td>3</td>\n",
              "      <td>4</td>\n",
              "      <td>1</td>\n",
              "      <td>1</td>\n",
              "      <td>3</td>\n",
              "      <td>6</td>\n",
              "      <td>0</td>\n",
              "      <td>0</td>\n",
              "      <td>0</td>\n",
              "      <td>0</td>\n",
              "      <td>0</td>\n",
              "      <td>0</td>\n",
              "      <td>0</td>\n",
              "      <td>1</td>\n",
              "      <td>0</td>\n",
              "      <td>0</td>\n",
              "      <td>0</td>\n",
              "      <td>1</td>\n",
              "      <td>0</td>\n",
              "    </tr>\n",
              "    <tr>\n",
              "      <th>1</th>\n",
              "      <td>0</td>\n",
              "      <td>0</td>\n",
              "      <td>17</td>\n",
              "      <td>1</td>\n",
              "      <td>0</td>\n",
              "      <td>1</td>\n",
              "      <td>1</td>\n",
              "      <td>1</td>\n",
              "      <td>1</td>\n",
              "      <td>2</td>\n",
              "      <td>0</td>\n",
              "      <td>0</td>\n",
              "      <td>1</td>\n",
              "      <td>0</td>\n",
              "      <td>0</td>\n",
              "      <td>0</td>\n",
              "      <td>1</td>\n",
              "      <td>1</td>\n",
              "      <td>0</td>\n",
              "      <td>5</td>\n",
              "      <td>3</td>\n",
              "      <td>3</td>\n",
              "      <td>1</td>\n",
              "      <td>1</td>\n",
              "      <td>3</td>\n",
              "      <td>4</td>\n",
              "      <td>0</td>\n",
              "      <td>0</td>\n",
              "      <td>0</td>\n",
              "      <td>0</td>\n",
              "      <td>0</td>\n",
              "      <td>1</td>\n",
              "      <td>0</td>\n",
              "      <td>0</td>\n",
              "      <td>0</td>\n",
              "      <td>0</td>\n",
              "      <td>0</td>\n",
              "      <td>0</td>\n",
              "      <td>0</td>\n",
              "    </tr>\n",
              "    <tr>\n",
              "      <th>2</th>\n",
              "      <td>0</td>\n",
              "      <td>0</td>\n",
              "      <td>15</td>\n",
              "      <td>1</td>\n",
              "      <td>1</td>\n",
              "      <td>1</td>\n",
              "      <td>1</td>\n",
              "      <td>1</td>\n",
              "      <td>1</td>\n",
              "      <td>2</td>\n",
              "      <td>3</td>\n",
              "      <td>1</td>\n",
              "      <td>0</td>\n",
              "      <td>1</td>\n",
              "      <td>0</td>\n",
              "      <td>1</td>\n",
              "      <td>1</td>\n",
              "      <td>1</td>\n",
              "      <td>0</td>\n",
              "      <td>4</td>\n",
              "      <td>3</td>\n",
              "      <td>2</td>\n",
              "      <td>2</td>\n",
              "      <td>3</td>\n",
              "      <td>3</td>\n",
              "      <td>10</td>\n",
              "      <td>0</td>\n",
              "      <td>0</td>\n",
              "      <td>0</td>\n",
              "      <td>0</td>\n",
              "      <td>0</td>\n",
              "      <td>1</td>\n",
              "      <td>0</td>\n",
              "      <td>0</td>\n",
              "      <td>0</td>\n",
              "      <td>1</td>\n",
              "      <td>0</td>\n",
              "      <td>1</td>\n",
              "      <td>0</td>\n",
              "    </tr>\n",
              "    <tr>\n",
              "      <th>3</th>\n",
              "      <td>0</td>\n",
              "      <td>0</td>\n",
              "      <td>15</td>\n",
              "      <td>1</td>\n",
              "      <td>0</td>\n",
              "      <td>1</td>\n",
              "      <td>4</td>\n",
              "      <td>2</td>\n",
              "      <td>1</td>\n",
              "      <td>3</td>\n",
              "      <td>0</td>\n",
              "      <td>0</td>\n",
              "      <td>1</td>\n",
              "      <td>1</td>\n",
              "      <td>1</td>\n",
              "      <td>1</td>\n",
              "      <td>1</td>\n",
              "      <td>1</td>\n",
              "      <td>1</td>\n",
              "      <td>3</td>\n",
              "      <td>2</td>\n",
              "      <td>2</td>\n",
              "      <td>1</td>\n",
              "      <td>1</td>\n",
              "      <td>5</td>\n",
              "      <td>2</td>\n",
              "      <td>1</td>\n",
              "      <td>0</td>\n",
              "      <td>0</td>\n",
              "      <td>0</td>\n",
              "      <td>0</td>\n",
              "      <td>0</td>\n",
              "      <td>1</td>\n",
              "      <td>0</td>\n",
              "      <td>1</td>\n",
              "      <td>0</td>\n",
              "      <td>0</td>\n",
              "      <td>1</td>\n",
              "      <td>0</td>\n",
              "    </tr>\n",
              "    <tr>\n",
              "      <th>4</th>\n",
              "      <td>0</td>\n",
              "      <td>0</td>\n",
              "      <td>16</td>\n",
              "      <td>1</td>\n",
              "      <td>0</td>\n",
              "      <td>1</td>\n",
              "      <td>3</td>\n",
              "      <td>3</td>\n",
              "      <td>1</td>\n",
              "      <td>2</td>\n",
              "      <td>0</td>\n",
              "      <td>0</td>\n",
              "      <td>1</td>\n",
              "      <td>1</td>\n",
              "      <td>0</td>\n",
              "      <td>1</td>\n",
              "      <td>1</td>\n",
              "      <td>0</td>\n",
              "      <td>0</td>\n",
              "      <td>4</td>\n",
              "      <td>3</td>\n",
              "      <td>2</td>\n",
              "      <td>1</td>\n",
              "      <td>2</td>\n",
              "      <td>5</td>\n",
              "      <td>4</td>\n",
              "      <td>0</td>\n",
              "      <td>1</td>\n",
              "      <td>0</td>\n",
              "      <td>0</td>\n",
              "      <td>0</td>\n",
              "      <td>1</td>\n",
              "      <td>0</td>\n",
              "      <td>0</td>\n",
              "      <td>1</td>\n",
              "      <td>0</td>\n",
              "      <td>0</td>\n",
              "      <td>0</td>\n",
              "      <td>0</td>\n",
              "    </tr>\n",
              "  </tbody>\n",
              "</table>\n",
              "</div>"
            ],
            "text/plain": [
              "   school  sex  age  ...  reason_reputation  guardian_mother  guardian_other\n",
              "0       0    0   18  ...                  0                1               0\n",
              "1       0    0   17  ...                  0                0               0\n",
              "2       0    0   15  ...                  0                1               0\n",
              "3       0    0   15  ...                  0                1               0\n",
              "4       0    0   16  ...                  0                0               0\n",
              "\n",
              "[5 rows x 39 columns]"
            ]
          },
          "metadata": {
            "tags": []
          },
          "execution_count": 36
        }
      ]
    },
    {
      "cell_type": "markdown",
      "metadata": {
        "id": "E0NU-xqbQm39",
        "colab_type": "text"
      },
      "source": [
        "## Обучающая и тестовая выборка "
      ]
    },
    {
      "cell_type": "markdown",
      "metadata": {
        "id": "WQUlBYpGcK3I",
        "colab_type": "text"
      },
      "source": [
        "+ Как проверить качество модели - сделать предсказания для объектов с известными ответами, сравнить предсказанные ответы с реальными. \n",
        "+ Если использовать для оценки качества ту же выборку, что и для обучения, скорее всего оценка выйдет оптимистически смещенной. \n",
        "+ Поэтому нужно отделить часть выборки, которая не будет использоваться при обучении, для того, чтобы потом на ней проверить качество. \n",
        "+ Размер тестовой выборки обычно -  20-30% от всех данных. "
      ]
    },
    {
      "cell_type": "code",
      "metadata": {
        "id": "BLFy8HvzLWg4",
        "colab_type": "code",
        "colab": {}
      },
      "source": [
        "from sklearn.model_selection import train_test_split"
      ],
      "execution_count": 0,
      "outputs": []
    },
    {
      "cell_type": "code",
      "metadata": {
        "id": "Eck-zkYq70bh",
        "colab_type": "code",
        "colab": {}
      },
      "source": [
        "# фиксируем RANDOM_STATE для воспороизводимости результатов (при каждм перезапуске ячейки в тестовую выборку попадают одни и те же объекты,\n",
        "# соотв-но значение метрики качества для одной и той же модели не будет меняться каждый раз)\n",
        "RANDOM_STATE = 666\n",
        "# train_test_split рандомно выбирает 25% объектов и соответсвующих им ответов\n",
        "X_train, X_test, y_train, y_test = train_test_split(data, target, test_size=0.25, random_state=RANDOM_STATE)"
      ],
      "execution_count": 0,
      "outputs": []
    },
    {
      "cell_type": "code",
      "metadata": {
        "id": "4kdMPdfA8S33",
        "colab_type": "code",
        "outputId": "fdb6ff7d-6854-4081-d2fc-7cebe9f8efe6",
        "colab": {
          "base_uri": "https://localhost:8080/",
          "height": 34
        }
      },
      "source": [
        "# 39 признаков, 296 объектов в обучающй выборке\n",
        "X_train.shape, y_train.shape"
      ],
      "execution_count": 39,
      "outputs": [
        {
          "output_type": "execute_result",
          "data": {
            "text/plain": [
              "((296, 39), (296,))"
            ]
          },
          "metadata": {
            "tags": []
          },
          "execution_count": 39
        }
      ]
    },
    {
      "cell_type": "code",
      "metadata": {
        "id": "RSrH015k8ZQG",
        "colab_type": "code",
        "outputId": "f8a48f13-e0fd-4fb8-e144-ba54d4ffea99",
        "colab": {
          "base_uri": "https://localhost:8080/",
          "height": 34
        }
      },
      "source": [
        "# 39 признаков, 99 объектов в тестовой выборке\n",
        "X_test.shape, y_test.shape"
      ],
      "execution_count": 40,
      "outputs": [
        {
          "output_type": "execute_result",
          "data": {
            "text/plain": [
              "((99, 39), (99,))"
            ]
          },
          "metadata": {
            "tags": []
          },
          "execution_count": 40
        }
      ]
    },
    {
      "cell_type": "markdown",
      "metadata": {
        "id": "QHwFajO8cMIz",
        "colab_type": "text"
      },
      "source": [
        "## Создание и обучение модели "
      ]
    },
    {
      "cell_type": "code",
      "metadata": {
        "id": "qarh6fhNOGWs",
        "colab_type": "code",
        "colab": {}
      },
      "source": [
        "from sklearn.linear_model import LinearRegression"
      ],
      "execution_count": 0,
      "outputs": []
    },
    {
      "cell_type": "code",
      "metadata": {
        "id": "_oinlOX2OGuA",
        "colab_type": "code",
        "colab": {}
      },
      "source": [
        " # создаем модель\n",
        "lr = LinearRegression()"
      ],
      "execution_count": 0,
      "outputs": []
    },
    {
      "cell_type": "code",
      "metadata": {
        "id": "hgouY9QBOPkE",
        "colab_type": "code",
        "outputId": "f91985e7-5a0a-4f41-8055-a2eb25158ec6",
        "colab": {
          "base_uri": "https://localhost:8080/",
          "height": 34
        }
      },
      "source": [
        "# обучаем модель\n",
        "lr.fit(X_train, y_train)"
      ],
      "execution_count": 43,
      "outputs": [
        {
          "output_type": "execute_result",
          "data": {
            "text/plain": [
              "LinearRegression(copy_X=True, fit_intercept=True, n_jobs=None, normalize=False)"
            ]
          },
          "metadata": {
            "tags": []
          },
          "execution_count": 43
        }
      ]
    },
    {
      "cell_type": "markdown",
      "metadata": {
        "id": "dvcP7dZbcUKL",
        "colab_type": "text"
      },
      "source": [
        "## Измерение качества"
      ]
    },
    {
      "cell_type": "markdown",
      "metadata": {
        "id": "2mZ0AWXQHbFL",
        "colab_type": "text"
      },
      "source": [
        "Посмотрим на среднюю абсолютную ошибку:   \n",
        "\\begin{equation*}\n",
        "\\text{MAE}(y, \\hat{y}) = \\frac{1}{n_{\\text{samples}}} \\sum_{i=0}^{n_{\\text{samples}}-1} \\left| y_i - \\hat{y}_i \\right|.\n",
        "\\end{equation*}    \n",
        "\n",
        "Для каждого объекта посчитали модуль разницы  между предсказанным ответом и реальным и взяли среднее арифметическое:\n",
        "MAE = sum(abs(y_true - y_pred))/len(y_true)\n"
      ]
    },
    {
      "cell_type": "code",
      "metadata": {
        "id": "96M7JbY-caap",
        "colab_type": "code",
        "colab": {}
      },
      "source": [
        "# предсказывем ответы для объектов тестовой выборки\n",
        "y_pred = lr.predict(X_test)"
      ],
      "execution_count": 0,
      "outputs": []
    },
    {
      "cell_type": "code",
      "metadata": {
        "id": "8szE_K5w9kLg",
        "colab_type": "code",
        "colab": {}
      },
      "source": [
        "from sklearn.metrics import mean_absolute_error"
      ],
      "execution_count": 0,
      "outputs": []
    },
    {
      "cell_type": "code",
      "metadata": {
        "id": "YQUteR-pHBkc",
        "colab_type": "code",
        "outputId": "ef4c8aa7-6587-461f-8e6a-973511a53482",
        "colab": {
          "base_uri": "https://localhost:8080/",
          "height": 34
        }
      },
      "source": [
        "mean_absolute_error(y_test, y_pred)\n",
        "# в среднем ошибается на 3 балла из 20 (помниим, что система 20-балльная)"
      ],
      "execution_count": 46,
      "outputs": [
        {
          "output_type": "execute_result",
          "data": {
            "text/plain": [
              "3.024433147612863"
            ]
          },
          "metadata": {
            "tags": []
          },
          "execution_count": 46
        }
      ]
    },
    {
      "cell_type": "code",
      "metadata": {
        "id": "DakyUQZ-Q_aG",
        "colab_type": "code",
        "outputId": "a8870fa9-f138-4638-a14c-edbb82c76e96",
        "colab": {
          "base_uri": "https://localhost:8080/",
          "height": 824
        }
      },
      "source": [
        "df = pd.DataFrame({'Actual': y_test, 'Predicted': y_pred})\n",
        "df.head(25)"
      ],
      "execution_count": 47,
      "outputs": [
        {
          "output_type": "execute_result",
          "data": {
            "text/html": [
              "<div>\n",
              "<style scoped>\n",
              "    .dataframe tbody tr th:only-of-type {\n",
              "        vertical-align: middle;\n",
              "    }\n",
              "\n",
              "    .dataframe tbody tr th {\n",
              "        vertical-align: top;\n",
              "    }\n",
              "\n",
              "    .dataframe thead th {\n",
              "        text-align: right;\n",
              "    }\n",
              "</style>\n",
              "<table border=\"1\" class=\"dataframe\">\n",
              "  <thead>\n",
              "    <tr style=\"text-align: right;\">\n",
              "      <th></th>\n",
              "      <th>Actual</th>\n",
              "      <th>Predicted</th>\n",
              "    </tr>\n",
              "  </thead>\n",
              "  <tbody>\n",
              "    <tr>\n",
              "      <th>54</th>\n",
              "      <td>13</td>\n",
              "      <td>13.236107</td>\n",
              "    </tr>\n",
              "    <tr>\n",
              "      <th>299</th>\n",
              "      <td>16</td>\n",
              "      <td>10.908260</td>\n",
              "    </tr>\n",
              "    <tr>\n",
              "      <th>246</th>\n",
              "      <td>13</td>\n",
              "      <td>10.535321</td>\n",
              "    </tr>\n",
              "    <tr>\n",
              "      <th>17</th>\n",
              "      <td>10</td>\n",
              "      <td>8.664914</td>\n",
              "    </tr>\n",
              "    <tr>\n",
              "      <th>321</th>\n",
              "      <td>9</td>\n",
              "      <td>8.158382</td>\n",
              "    </tr>\n",
              "    <tr>\n",
              "      <th>165</th>\n",
              "      <td>12</td>\n",
              "      <td>10.425675</td>\n",
              "    </tr>\n",
              "    <tr>\n",
              "      <th>18</th>\n",
              "      <td>5</td>\n",
              "      <td>7.611132</td>\n",
              "    </tr>\n",
              "    <tr>\n",
              "      <th>56</th>\n",
              "      <td>15</td>\n",
              "      <td>13.737505</td>\n",
              "    </tr>\n",
              "    <tr>\n",
              "      <th>383</th>\n",
              "      <td>0</td>\n",
              "      <td>10.421948</td>\n",
              "    </tr>\n",
              "    <tr>\n",
              "      <th>48</th>\n",
              "      <td>14</td>\n",
              "      <td>10.038922</td>\n",
              "    </tr>\n",
              "    <tr>\n",
              "      <th>240</th>\n",
              "      <td>12</td>\n",
              "      <td>12.272759</td>\n",
              "    </tr>\n",
              "    <tr>\n",
              "      <th>284</th>\n",
              "      <td>11</td>\n",
              "      <td>8.521746</td>\n",
              "    </tr>\n",
              "    <tr>\n",
              "      <th>64</th>\n",
              "      <td>10</td>\n",
              "      <td>11.011771</td>\n",
              "    </tr>\n",
              "    <tr>\n",
              "      <th>0</th>\n",
              "      <td>6</td>\n",
              "      <td>10.283575</td>\n",
              "    </tr>\n",
              "    <tr>\n",
              "      <th>268</th>\n",
              "      <td>10</td>\n",
              "      <td>10.593778</td>\n",
              "    </tr>\n",
              "    <tr>\n",
              "      <th>162</th>\n",
              "      <td>0</td>\n",
              "      <td>9.531468</td>\n",
              "    </tr>\n",
              "    <tr>\n",
              "      <th>33</th>\n",
              "      <td>12</td>\n",
              "      <td>14.891952</td>\n",
              "    </tr>\n",
              "    <tr>\n",
              "      <th>258</th>\n",
              "      <td>14</td>\n",
              "      <td>10.349926</td>\n",
              "    </tr>\n",
              "    <tr>\n",
              "      <th>94</th>\n",
              "      <td>14</td>\n",
              "      <td>15.581681</td>\n",
              "    </tr>\n",
              "    <tr>\n",
              "      <th>348</th>\n",
              "      <td>15</td>\n",
              "      <td>10.921482</td>\n",
              "    </tr>\n",
              "    <tr>\n",
              "      <th>55</th>\n",
              "      <td>10</td>\n",
              "      <td>11.254601</td>\n",
              "    </tr>\n",
              "    <tr>\n",
              "      <th>361</th>\n",
              "      <td>12</td>\n",
              "      <td>9.800456</td>\n",
              "    </tr>\n",
              "    <tr>\n",
              "      <th>267</th>\n",
              "      <td>11</td>\n",
              "      <td>7.057494</td>\n",
              "    </tr>\n",
              "    <tr>\n",
              "      <th>176</th>\n",
              "      <td>11</td>\n",
              "      <td>12.118320</td>\n",
              "    </tr>\n",
              "    <tr>\n",
              "      <th>23</th>\n",
              "      <td>12</td>\n",
              "      <td>12.309957</td>\n",
              "    </tr>\n",
              "  </tbody>\n",
              "</table>\n",
              "</div>"
            ],
            "text/plain": [
              "     Actual  Predicted\n",
              "54       13  13.236107\n",
              "299      16  10.908260\n",
              "246      13  10.535321\n",
              "17       10   8.664914\n",
              "321       9   8.158382\n",
              "165      12  10.425675\n",
              "18        5   7.611132\n",
              "56       15  13.737505\n",
              "383       0  10.421948\n",
              "48       14  10.038922\n",
              "240      12  12.272759\n",
              "284      11   8.521746\n",
              "64       10  11.011771\n",
              "0         6  10.283575\n",
              "268      10  10.593778\n",
              "162       0   9.531468\n",
              "33       12  14.891952\n",
              "258      14  10.349926\n",
              "94       14  15.581681\n",
              "348      15  10.921482\n",
              "55       10  11.254601\n",
              "361      12   9.800456\n",
              "267      11   7.057494\n",
              "176      11  12.118320\n",
              "23       12  12.309957"
            ]
          },
          "metadata": {
            "tags": []
          },
          "execution_count": 47
        }
      ]
    },
    {
      "cell_type": "markdown",
      "metadata": {
        "id": "gB4tMV-7R5wL",
        "colab_type": "text"
      },
      "source": [
        "## Prediction error plot"
      ]
    },
    {
      "cell_type": "markdown",
      "metadata": {
        "id": "9TsyBVJIThmw",
        "colab_type": "text"
      },
      "source": [
        "+ На вертикальной оси - предсказанные значения, на горизонтальной - реальные. \n",
        "+ Чем ближе точки к диагонали, тем более точным является предсказание модели. \n",
        "+ Позволяет оценить на сколько и в какую сторону ошибается модель. \n",
        "+ В частности здесь мы видим, что она чаще занижает результаты (больше точек расположено ниже диагонали) и при этом совсем не может предсказывать 0 (и вообще не выдает оценку меньше, чем 2.5). "
      ]
    },
    {
      "cell_type": "code",
      "metadata": {
        "id": "RQe86n_vRGXN",
        "colab_type": "code",
        "colab": {}
      },
      "source": [
        "import matplotlib.pyplot as plt\n",
        "# нужно для того, чтобы графики отображались в аутпуте ячейки, а не в отдельном окне\n",
        "%matplotlib inline "
      ],
      "execution_count": 0,
      "outputs": []
    },
    {
      "cell_type": "code",
      "metadata": {
        "id": "NERwCzbEROjp",
        "colab_type": "code",
        "outputId": "0e91dc71-5115-4415-c02a-d47eeb7af4be",
        "colab": {
          "base_uri": "https://localhost:8080/",
          "height": 279
        }
      },
      "source": [
        "fig, ax = plt.subplots()\n",
        "# рисуем синие точки, каждая точка - отдельный объект из тестовой выборки\n",
        "ax.scatter(x=y_test, y=y_pred)\n",
        "# рисуем диагональ \n",
        "ax.plot([y_test.min(), y_test.max()], [y_test.min(), y_test.max()], 'k--', lw=4)\n",
        "# подписываем оси\n",
        "ax.set_xlabel('Real')\n",
        "ax.set_ylabel('Predicted')\n",
        "plt.show()"
      ],
      "execution_count": 49,
      "outputs": [
        {
          "output_type": "display_data",
          "data": {
            "image/png": "[encoded data removed]",
            "text/plain": [
              "<Figure size 432x288 with 1 Axes>"
            ]
          },
          "metadata": {
            "tags": []
          }
        }
      ]
    },
    {
      "cell_type": "markdown",
      "metadata": {
        "id": "18t2MA9bSN9i",
        "colab_type": "text"
      },
      "source": [
        "## Веса признаков "
      ]
    },
    {
      "cell_type": "markdown",
      "metadata": {
        "id": "pn_4G1iBh9PF",
        "colab_type": "text"
      },
      "source": [
        "+ в атрибует модели ***coef_*** лежат веса признаков в модели (*w*)\n",
        "+ чем больше абсолютное значение веса, тем важнее признак, тем больший вклад он вносит в итоговый ответ"
      ]
    },
    {
      "cell_type": "code",
      "metadata": {
        "id": "a-iX3rRYQz9D",
        "colab_type": "code",
        "outputId": "25701f53-31e8-49fe-9051-a1ec30b8f2d5",
        "colab": {
          "base_uri": "https://localhost:8080/",
          "height": 1000
        }
      },
      "source": [
        "pd.options.display.float_format = '{:.5f}'.format # включить десятичное представление чисел с 5 цифрами после запятой (вместо принятого по умолчанию экспоненциального)\n",
        "coeff_df = pd.DataFrame(lr.coef_, data.columns, columns=['Coefficient'])  \n",
        "coeff_df"
      ],
      "execution_count": 50,
      "outputs": [
        {
          "output_type": "execute_result",
          "data": {
            "text/html": [
              "<div>\n",
              "<style scoped>\n",
              "    .dataframe tbody tr th:only-of-type {\n",
              "        vertical-align: middle;\n",
              "    }\n",
              "\n",
              "    .dataframe tbody tr th {\n",
              "        vertical-align: top;\n",
              "    }\n",
              "\n",
              "    .dataframe thead th {\n",
              "        text-align: right;\n",
              "    }\n",
              "</style>\n",
              "<table border=\"1\" class=\"dataframe\">\n",
              "  <thead>\n",
              "    <tr style=\"text-align: right;\">\n",
              "      <th></th>\n",
              "      <th>Coefficient</th>\n",
              "    </tr>\n",
              "  </thead>\n",
              "  <tbody>\n",
              "    <tr>\n",
              "      <th>school</th>\n",
              "      <td>1.43866</td>\n",
              "    </tr>\n",
              "    <tr>\n",
              "      <th>sex</th>\n",
              "      <td>1.83969</td>\n",
              "    </tr>\n",
              "    <tr>\n",
              "      <th>age</th>\n",
              "      <td>-0.55858</td>\n",
              "    </tr>\n",
              "    <tr>\n",
              "      <th>address</th>\n",
              "      <td>0.61595</td>\n",
              "    </tr>\n",
              "    <tr>\n",
              "      <th>famsize</th>\n",
              "      <td>0.82985</td>\n",
              "    </tr>\n",
              "    <tr>\n",
              "      <th>Pstatus</th>\n",
              "      <td>-0.78350</td>\n",
              "    </tr>\n",
              "    <tr>\n",
              "      <th>Medu</th>\n",
              "      <td>0.58314</td>\n",
              "    </tr>\n",
              "    <tr>\n",
              "      <th>Fedu</th>\n",
              "      <td>-0.15913</td>\n",
              "    </tr>\n",
              "    <tr>\n",
              "      <th>traveltime</th>\n",
              "      <td>-0.34036</td>\n",
              "    </tr>\n",
              "    <tr>\n",
              "      <th>studytime</th>\n",
              "      <td>0.53429</td>\n",
              "    </tr>\n",
              "    <tr>\n",
              "      <th>failures</th>\n",
              "      <td>-1.42161</td>\n",
              "    </tr>\n",
              "    <tr>\n",
              "      <th>schoolsup</th>\n",
              "      <td>-1.31405</td>\n",
              "    </tr>\n",
              "    <tr>\n",
              "      <th>famsup</th>\n",
              "      <td>-0.79186</td>\n",
              "    </tr>\n",
              "    <tr>\n",
              "      <th>paid</th>\n",
              "      <td>0.26394</td>\n",
              "    </tr>\n",
              "    <tr>\n",
              "      <th>activities</th>\n",
              "      <td>-0.05553</td>\n",
              "    </tr>\n",
              "    <tr>\n",
              "      <th>nursery</th>\n",
              "      <td>-0.42320</td>\n",
              "    </tr>\n",
              "    <tr>\n",
              "      <th>higher</th>\n",
              "      <td>1.64275</td>\n",
              "    </tr>\n",
              "    <tr>\n",
              "      <th>internet</th>\n",
              "      <td>0.24764</td>\n",
              "    </tr>\n",
              "    <tr>\n",
              "      <th>romantic</th>\n",
              "      <td>-1.13274</td>\n",
              "    </tr>\n",
              "    <tr>\n",
              "      <th>famrel</th>\n",
              "      <td>0.24673</td>\n",
              "    </tr>\n",
              "    <tr>\n",
              "      <th>freetime</th>\n",
              "      <td>0.23351</td>\n",
              "    </tr>\n",
              "    <tr>\n",
              "      <th>goout</th>\n",
              "      <td>-0.65256</td>\n",
              "    </tr>\n",
              "    <tr>\n",
              "      <th>Dalc</th>\n",
              "      <td>-0.64756</td>\n",
              "    </tr>\n",
              "    <tr>\n",
              "      <th>Walc</th>\n",
              "      <td>0.52590</td>\n",
              "    </tr>\n",
              "    <tr>\n",
              "      <th>health</th>\n",
              "      <td>-0.14650</td>\n",
              "    </tr>\n",
              "    <tr>\n",
              "      <th>absences</th>\n",
              "      <td>0.05365</td>\n",
              "    </tr>\n",
              "    <tr>\n",
              "      <th>Mjob_health</th>\n",
              "      <td>0.53714</td>\n",
              "    </tr>\n",
              "    <tr>\n",
              "      <th>Mjob_other</th>\n",
              "      <td>0.38447</td>\n",
              "    </tr>\n",
              "    <tr>\n",
              "      <th>Mjob_services</th>\n",
              "      <td>1.12198</td>\n",
              "    </tr>\n",
              "    <tr>\n",
              "      <th>Mjob_teacher</th>\n",
              "      <td>-1.41278</td>\n",
              "    </tr>\n",
              "    <tr>\n",
              "      <th>Fjob_health</th>\n",
              "      <td>-0.06146</td>\n",
              "    </tr>\n",
              "    <tr>\n",
              "      <th>Fjob_other</th>\n",
              "      <td>-1.57017</td>\n",
              "    </tr>\n",
              "    <tr>\n",
              "      <th>Fjob_services</th>\n",
              "      <td>-1.64482</td>\n",
              "    </tr>\n",
              "    <tr>\n",
              "      <th>Fjob_teacher</th>\n",
              "      <td>0.98988</td>\n",
              "    </tr>\n",
              "    <tr>\n",
              "      <th>reason_home</th>\n",
              "      <td>-0.47183</td>\n",
              "    </tr>\n",
              "    <tr>\n",
              "      <th>reason_other</th>\n",
              "      <td>1.24008</td>\n",
              "    </tr>\n",
              "    <tr>\n",
              "      <th>reason_reputation</th>\n",
              "      <td>0.53695</td>\n",
              "    </tr>\n",
              "    <tr>\n",
              "      <th>guardian_mother</th>\n",
              "      <td>0.56525</td>\n",
              "    </tr>\n",
              "    <tr>\n",
              "      <th>guardian_other</th>\n",
              "      <td>1.73543</td>\n",
              "    </tr>\n",
              "  </tbody>\n",
              "</table>\n",
              "</div>"
            ],
            "text/plain": [
              "                   Coefficient\n",
              "school                 1.43866\n",
              "sex                    1.83969\n",
              "age                   -0.55858\n",
              "address                0.61595\n",
              "famsize                0.82985\n",
              "Pstatus               -0.78350\n",
              "Medu                   0.58314\n",
              "Fedu                  -0.15913\n",
              "traveltime            -0.34036\n",
              "studytime              0.53429\n",
              "failures              -1.42161\n",
              "schoolsup             -1.31405\n",
              "famsup                -0.79186\n",
              "paid                   0.26394\n",
              "activities            -0.05553\n",
              "nursery               -0.42320\n",
              "higher                 1.64275\n",
              "internet               0.24764\n",
              "romantic              -1.13274\n",
              "famrel                 0.24673\n",
              "freetime               0.23351\n",
              "goout                 -0.65256\n",
              "Dalc                  -0.64756\n",
              "Walc                   0.52590\n",
              "health                -0.14650\n",
              "absences               0.05365\n",
              "Mjob_health            0.53714\n",
              "Mjob_other             0.38447\n",
              "Mjob_services          1.12198\n",
              "Mjob_teacher          -1.41278\n",
              "Fjob_health           -0.06146\n",
              "Fjob_other            -1.57017\n",
              "Fjob_services         -1.64482\n",
              "Fjob_teacher           0.98988\n",
              "reason_home           -0.47183\n",
              "reason_other           1.24008\n",
              "reason_reputation      0.53695\n",
              "guardian_mother        0.56525\n",
              "guardian_other         1.73543"
            ]
          },
          "metadata": {
            "tags": []
          },
          "execution_count": 50
        }
      ]
    },
    {
      "cell_type": "markdown",
      "metadata": {
        "id": "h54iMAZnStYe",
        "colab_type": "text"
      },
      "source": [
        "**Задание:**\n",
        "+ найти 15 признаков с самым большим абсолютным коэффициентом\n",
        "+ какие это признаки?\n",
        "+ убрать из выборки все признаки кроме этих 15\n",
        "+ обучить модель и посмотреть на качество\n",
        "+ качество улучшилось или ухудшилось? как вы думаете, почему?"
      ]
    },
    {
      "cell_type": "markdown",
      "metadata": {
        "id": "c6t3zD39VmJ9",
        "colab_type": "text"
      },
      "source": [
        "###Решение"
      ]
    },
    {
      "cell_type": "code",
      "metadata": {
        "id": "APFSXorLUcEg",
        "colab_type": "code",
        "outputId": "7984b486-95ae-44a4-f7e0-cc233f3b0ea1",
        "colab": {
          "base_uri": "https://localhost:8080/",
          "height": 1000
        }
      },
      "source": [
        "# берем абсолютные значения коэффициентов и сортируем их в порядке убывания\n",
        "coeff_df.abs().sort_values(by='Coefficient', ascending=False)"
      ],
      "execution_count": 51,
      "outputs": [
        {
          "output_type": "execute_result",
          "data": {
            "text/html": [
              "<div>\n",
              "<style scoped>\n",
              "    .dataframe tbody tr th:only-of-type {\n",
              "        vertical-align: middle;\n",
              "    }\n",
              "\n",
              "    .dataframe tbody tr th {\n",
              "        vertical-align: top;\n",
              "    }\n",
              "\n",
              "    .dataframe thead th {\n",
              "        text-align: right;\n",
              "    }\n",
              "</style>\n",
              "<table border=\"1\" class=\"dataframe\">\n",
              "  <thead>\n",
              "    <tr style=\"text-align: right;\">\n",
              "      <th></th>\n",
              "      <th>Coefficient</th>\n",
              "    </tr>\n",
              "  </thead>\n",
              "  <tbody>\n",
              "    <tr>\n",
              "      <th>sex</th>\n",
              "      <td>1.83969</td>\n",
              "    </tr>\n",
              "    <tr>\n",
              "      <th>guardian_other</th>\n",
              "      <td>1.73543</td>\n",
              "    </tr>\n",
              "    <tr>\n",
              "      <th>Fjob_services</th>\n",
              "      <td>1.64482</td>\n",
              "    </tr>\n",
              "    <tr>\n",
              "      <th>higher</th>\n",
              "      <td>1.64275</td>\n",
              "    </tr>\n",
              "    <tr>\n",
              "      <th>Fjob_other</th>\n",
              "      <td>1.57017</td>\n",
              "    </tr>\n",
              "    <tr>\n",
              "      <th>school</th>\n",
              "      <td>1.43866</td>\n",
              "    </tr>\n",
              "    <tr>\n",
              "      <th>failures</th>\n",
              "      <td>1.42161</td>\n",
              "    </tr>\n",
              "    <tr>\n",
              "      <th>Mjob_teacher</th>\n",
              "      <td>1.41278</td>\n",
              "    </tr>\n",
              "    <tr>\n",
              "      <th>schoolsup</th>\n",
              "      <td>1.31405</td>\n",
              "    </tr>\n",
              "    <tr>\n",
              "      <th>reason_other</th>\n",
              "      <td>1.24008</td>\n",
              "    </tr>\n",
              "    <tr>\n",
              "      <th>romantic</th>\n",
              "      <td>1.13274</td>\n",
              "    </tr>\n",
              "    <tr>\n",
              "      <th>Mjob_services</th>\n",
              "      <td>1.12198</td>\n",
              "    </tr>\n",
              "    <tr>\n",
              "      <th>Fjob_teacher</th>\n",
              "      <td>0.98988</td>\n",
              "    </tr>\n",
              "    <tr>\n",
              "      <th>famsize</th>\n",
              "      <td>0.82985</td>\n",
              "    </tr>\n",
              "    <tr>\n",
              "      <th>famsup</th>\n",
              "      <td>0.79186</td>\n",
              "    </tr>\n",
              "    <tr>\n",
              "      <th>Pstatus</th>\n",
              "      <td>0.78350</td>\n",
              "    </tr>\n",
              "    <tr>\n",
              "      <th>goout</th>\n",
              "      <td>0.65256</td>\n",
              "    </tr>\n",
              "    <tr>\n",
              "      <th>Dalc</th>\n",
              "      <td>0.64756</td>\n",
              "    </tr>\n",
              "    <tr>\n",
              "      <th>address</th>\n",
              "      <td>0.61595</td>\n",
              "    </tr>\n",
              "    <tr>\n",
              "      <th>Medu</th>\n",
              "      <td>0.58314</td>\n",
              "    </tr>\n",
              "    <tr>\n",
              "      <th>guardian_mother</th>\n",
              "      <td>0.56525</td>\n",
              "    </tr>\n",
              "    <tr>\n",
              "      <th>age</th>\n",
              "      <td>0.55858</td>\n",
              "    </tr>\n",
              "    <tr>\n",
              "      <th>Mjob_health</th>\n",
              "      <td>0.53714</td>\n",
              "    </tr>\n",
              "    <tr>\n",
              "      <th>reason_reputation</th>\n",
              "      <td>0.53695</td>\n",
              "    </tr>\n",
              "    <tr>\n",
              "      <th>studytime</th>\n",
              "      <td>0.53429</td>\n",
              "    </tr>\n",
              "    <tr>\n",
              "      <th>Walc</th>\n",
              "      <td>0.52590</td>\n",
              "    </tr>\n",
              "    <tr>\n",
              "      <th>reason_home</th>\n",
              "      <td>0.47183</td>\n",
              "    </tr>\n",
              "    <tr>\n",
              "      <th>nursery</th>\n",
              "      <td>0.42320</td>\n",
              "    </tr>\n",
              "    <tr>\n",
              "      <th>Mjob_other</th>\n",
              "      <td>0.38447</td>\n",
              "    </tr>\n",
              "    <tr>\n",
              "      <th>traveltime</th>\n",
              "      <td>0.34036</td>\n",
              "    </tr>\n",
              "    <tr>\n",
              "      <th>paid</th>\n",
              "      <td>0.26394</td>\n",
              "    </tr>\n",
              "    <tr>\n",
              "      <th>internet</th>\n",
              "      <td>0.24764</td>\n",
              "    </tr>\n",
              "    <tr>\n",
              "      <th>famrel</th>\n",
              "      <td>0.24673</td>\n",
              "    </tr>\n",
              "    <tr>\n",
              "      <th>freetime</th>\n",
              "      <td>0.23351</td>\n",
              "    </tr>\n",
              "    <tr>\n",
              "      <th>Fedu</th>\n",
              "      <td>0.15913</td>\n",
              "    </tr>\n",
              "    <tr>\n",
              "      <th>health</th>\n",
              "      <td>0.14650</td>\n",
              "    </tr>\n",
              "    <tr>\n",
              "      <th>Fjob_health</th>\n",
              "      <td>0.06146</td>\n",
              "    </tr>\n",
              "    <tr>\n",
              "      <th>activities</th>\n",
              "      <td>0.05553</td>\n",
              "    </tr>\n",
              "    <tr>\n",
              "      <th>absences</th>\n",
              "      <td>0.05365</td>\n",
              "    </tr>\n",
              "  </tbody>\n",
              "</table>\n",
              "</div>"
            ],
            "text/plain": [
              "                   Coefficient\n",
              "sex                    1.83969\n",
              "guardian_other         1.73543\n",
              "Fjob_services          1.64482\n",
              "higher                 1.64275\n",
              "Fjob_other             1.57017\n",
              "school                 1.43866\n",
              "failures               1.42161\n",
              "Mjob_teacher           1.41278\n",
              "schoolsup              1.31405\n",
              "reason_other           1.24008\n",
              "romantic               1.13274\n",
              "Mjob_services          1.12198\n",
              "Fjob_teacher           0.98988\n",
              "famsize                0.82985\n",
              "famsup                 0.79186\n",
              "Pstatus                0.78350\n",
              "goout                  0.65256\n",
              "Dalc                   0.64756\n",
              "address                0.61595\n",
              "Medu                   0.58314\n",
              "guardian_mother        0.56525\n",
              "age                    0.55858\n",
              "Mjob_health            0.53714\n",
              "reason_reputation      0.53695\n",
              "studytime              0.53429\n",
              "Walc                   0.52590\n",
              "reason_home            0.47183\n",
              "nursery                0.42320\n",
              "Mjob_other             0.38447\n",
              "traveltime             0.34036\n",
              "paid                   0.26394\n",
              "internet               0.24764\n",
              "famrel                 0.24673\n",
              "freetime               0.23351\n",
              "Fedu                   0.15913\n",
              "health                 0.14650\n",
              "Fjob_health            0.06146\n",
              "activities             0.05553\n",
              "absences               0.05365"
            ]
          },
          "metadata": {
            "tags": []
          },
          "execution_count": 51
        }
      ]
    },
    {
      "cell_type": "code",
      "metadata": {
        "id": "pD7wIAMNXXwM",
        "colab_type": "code",
        "colab": {}
      },
      "source": [
        "# достаем отсортированные по важности названия признаков \n",
        "cols = coeff_df.abs().sort_values(by='Coefficient', ascending=False).index"
      ],
      "execution_count": 0,
      "outputs": []
    },
    {
      "cell_type": "code",
      "metadata": {
        "id": "iU0-rhxZXtuo",
        "colab_type": "code",
        "outputId": "01d748d3-4c6f-4368-9184-f72429ffe696",
        "colab": {
          "base_uri": "https://localhost:8080/",
          "height": 85
        }
      },
      "source": [
        "# смотрим на первые 15\n",
        "cols[:15]"
      ],
      "execution_count": 53,
      "outputs": [
        {
          "output_type": "execute_result",
          "data": {
            "text/plain": [
              "Index(['sex', 'guardian_other', 'Fjob_services', 'higher', 'Fjob_other',\n",
              "       'school', 'failures', 'Mjob_teacher', 'schoolsup', 'reason_other',\n",
              "       'romantic', 'Mjob_services', 'Fjob_teacher', 'famsize', 'famsup'],\n",
              "      dtype='object')"
            ]
          },
          "metadata": {
            "tags": []
          },
          "execution_count": 53
        }
      ]
    },
    {
      "cell_type": "code",
      "metadata": {
        "id": "7Vy9Xl8dVk92",
        "colab_type": "code",
        "colab": {}
      },
      "source": [
        "# оставляем в обучающей и тестовой выборке только эти признаки \n",
        "X_test_trunc = X_test[cols[:15]]\n",
        "X_train_trunc = X_train[cols[:15]]"
      ],
      "execution_count": 0,
      "outputs": []
    },
    {
      "cell_type": "code",
      "metadata": {
        "id": "gctrYyk2V_it",
        "colab_type": "code",
        "outputId": "fa18fd4e-c99e-432a-8b76-c9af72b879a9",
        "colab": {
          "base_uri": "https://localhost:8080/",
          "height": 34
        }
      },
      "source": [
        "# проверяем, что все правильно (количество строк(объектов) в выборках не изменилось, столбцов (признаков) теперь 15)\n",
        "print(X_test_trunc.shape, X_train_trunc.shape)"
      ],
      "execution_count": 55,
      "outputs": [
        {
          "output_type": "stream",
          "text": [
            "(99, 15) (296, 15)\n"
          ],
          "name": "stdout"
        }
      ]
    },
    {
      "cell_type": "code",
      "metadata": {
        "id": "jJ8QLQ9IWHI_",
        "colab_type": "code",
        "outputId": "6af88fdb-c5ae-4c35-bc5e-26cfa4539dc8",
        "colab": {
          "base_uri": "https://localhost:8080/",
          "height": 34
        }
      },
      "source": [
        "# обучаем модель\n",
        "lr.fit(X_train_trunc, y_train)"
      ],
      "execution_count": 56,
      "outputs": [
        {
          "output_type": "execute_result",
          "data": {
            "text/plain": [
              "LinearRegression(copy_X=True, fit_intercept=True, n_jobs=None, normalize=False)"
            ]
          },
          "metadata": {
            "tags": []
          },
          "execution_count": 56
        }
      ]
    },
    {
      "cell_type": "code",
      "metadata": {
        "id": "WouIp5i1WNK1",
        "colab_type": "code",
        "colab": {}
      },
      "source": [
        "# делаем предсказание на тестовой выборке\n",
        "y_pred_trunc = lr.predict(X_test_trunc)"
      ],
      "execution_count": 0,
      "outputs": []
    },
    {
      "cell_type": "code",
      "metadata": {
        "id": "wa8TQ33hWVpx",
        "colab_type": "code",
        "outputId": "82272408-73c4-4ec6-e971-14d81e9c0c14",
        "colab": {
          "base_uri": "https://localhost:8080/",
          "height": 34
        }
      },
      "source": [
        "# видим, что качество улучшилось\n",
        "mean_absolute_error(y_test, y_pred_trunc)"
      ],
      "execution_count": 58,
      "outputs": [
        {
          "output_type": "execute_result",
          "data": {
            "text/plain": [
              "2.7858544710189728"
            ]
          },
          "metadata": {
            "tags": []
          },
          "execution_count": 58
        }
      ]
    },
    {
      "cell_type": "markdown",
      "metadata": {
        "id": "257N_8q1YkHO",
        "colab_type": "text"
      },
      "source": [
        "Делаем вывод о том, что\n",
        "+ больше признаков, не значит лучше качество (часто бывает наоборот)\n",
        "+ нужно, чтобы признаки были релевантными целевой переменной\n",
        "+ нерелевантные признаки получают маленький вес и только ухудшают качество предсказания"
      ]
    }
  ]
}