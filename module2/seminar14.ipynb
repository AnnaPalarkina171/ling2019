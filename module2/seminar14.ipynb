{
  "nbformat": 4,
  "nbformat_minor": 0,
  "metadata": {
    "colab": {
      "name": "seminar14.ipynb",
      "provenance": []
    },
    "kernelspec": {
      "name": "python3",
      "display_name": "Python 3"
    }
  },
  "cells": [
    {
      "cell_type": "markdown",
      "metadata": {
        "id": "N8mdkEGN5K2z",
        "colab_type": "text"
      },
      "source": [
        "# Тестирование"
      ]
    },
    {
      "cell_type": "markdown",
      "metadata": {
        "id": "CVlWpQNm5P46",
        "colab_type": "text"
      },
      "source": [
        "## Зачем писать тесты"
      ]
    },
    {
      "cell_type": "markdown",
      "metadata": {
        "id": "ip5uWte_5_pv",
        "colab_type": "text"
      },
      "source": [
        "\n",
        "\n",
        "* Проверить что код ведет себя как надо во всех случаях (даже в крайних).\n",
        "* Проверить что ничего не сломалось после изменения кода/добавления новой функциональности.\n",
        "* Понять что именно сломалось (в этом помогают юнит-тесты).\n",
        "* **TDD (Test Driven Development)** - один из подходов к разработке: сначала пишутся тесты, потом функционал, который их проходит.\n",
        "\n"
      ]
    },
    {
      "cell_type": "markdown",
      "metadata": {
        "id": "wsCtUTd-52mR",
        "colab_type": "text"
      },
      "source": [
        "## Doctest"
      ]
    },
    {
      "cell_type": "markdown",
      "metadata": {
        "id": "P4f_z1ra0gqK",
        "colab_type": "text"
      },
      "source": [
        "Модуль doctest \n",
        "* находит части докстрингов, которые выглядят как интерактивные сессии питона \n",
        "* выполняет эти сессии\n",
        "* проверяет, что результат выполнения кода соответствует написанному в документации"
      ]
    },
    {
      "cell_type": "code",
      "metadata": {
        "id": "6_LK6iPG4vaz",
        "colab_type": "code",
        "colab": {}
      },
      "source": [
        "import datetime\n",
        "import re\n",
        "from typing import Optional"
      ],
      "execution_count": 0,
      "outputs": []
    },
    {
      "cell_type": "code",
      "metadata": {
        "id": "aBS-NzPftqhl",
        "colab_type": "code",
        "colab": {}
      },
      "source": [
        "class RuDateParser:\n",
        "\n",
        "    # Optional значит, что возвращаеся либо объект указанного типа, либо None\n",
        "    def parse_numeric(self, date: str) -> Optional[datetime.datetime]: \n",
        "        \"\"\" \n",
        "        Парсит даты в формате dd-mm-yyyy\n",
        "\n",
        "        >>> RuDateParser().parse_numeric('01-12-2010')\n",
        "        datetime.datetime(2010, 12, 1, 0, 0)\n",
        "\n",
        "        >>> RuDateParser().parse_numeric('01/12/2010')\n",
        "\n",
        "        >>> RuDateParser().parse_numeric('не дата')\n",
        "        \"\"\"\n",
        "        if not isinstance(date, str):\n",
        "            raise TypeError\n",
        "        # \\d - digit, то же самое, что [0-9]\n",
        "        elif not re.match('\\d{2}-\\d{2}-\\d{4}', date): \n",
        "            return None\n",
        "        date_splitted = date.split('-')\n",
        "        day = int(date_splitted[0])\n",
        "        month = int(date_splitted[1])\n",
        "        year = int(date_splitted[2]) \n",
        "        return datetime.datetime(day=day, month=month, year=year)\n"
      ],
      "execution_count": 0,
      "outputs": []
    },
    {
      "cell_type": "code",
      "metadata": {
        "id": "-FWvEVGO4eIa",
        "colab_type": "code",
        "outputId": "ab5df5bc-1fce-45b2-d263-e377196e9059",
        "colab": {
          "base_uri": "https://localhost:8080/",
          "height": 35
        }
      },
      "source": [
        "parser = RuDateParser()\n",
        "parser.parse_numeric('01-12-2010')"
      ],
      "execution_count": 0,
      "outputs": [
        {
          "output_type": "execute_result",
          "data": {
            "text/plain": [
              "datetime.datetime(2010, 12, 1, 0, 0)"
            ]
          },
          "metadata": {
            "tags": []
          },
          "execution_count": 3
        }
      ]
    },
    {
      "cell_type": "code",
      "metadata": {
        "id": "t-HrROfF04uB",
        "colab_type": "code",
        "colab": {}
      },
      "source": [
        "import doctest"
      ],
      "execution_count": 0,
      "outputs": []
    },
    {
      "cell_type": "code",
      "metadata": {
        "id": "nQvV8Qgo3EIf",
        "colab_type": "code",
        "colab": {}
      },
      "source": [
        "if __name__ == '__main__':\n",
        "    doctest.testmod()"
      ],
      "execution_count": 0,
      "outputs": []
    },
    {
      "cell_type": "markdown",
      "metadata": {
        "id": "2Ah4myV65kNj",
        "colab_type": "text"
      },
      "source": [
        "## Юнит тесты"
      ]
    },
    {
      "cell_type": "markdown",
      "metadata": {
        "id": "I8XHJVjY5-IX",
        "colab_type": "text"
      },
      "source": [
        "* каждый самосоятельный блок кода (класс, метод, функция) тестируется отдельно и изолированно"
      ]
    },
    {
      "cell_type": "markdown",
      "metadata": {
        "id": "Ayvuy1vY6qsa",
        "colab_type": "text"
      },
      "source": [
        "Давайте напишем юнит-тесты для метода parse_numeric с использованием всторенной библиотеки unittest:\n",
        "* тесты в unittest организуются в группы внутри класса TestCase\n",
        "* обычно - один Test Case для каждого класса/функции (но не всегда)\n",
        "* иногда имеет смысл делать общий TestCase для всего модуля\n",
        "* отдельный тест на каждый вариант развития событий \n",
        "* тесты оформляются в виде методов класса, названия методов начинаются со слова test\n",
        "* можно писать свои вспомогательные методы (которые не являются тестами), главное, чтобы их называния не начинались с test"
      ]
    },
    {
      "cell_type": "code",
      "metadata": {
        "id": "yLdCxtzX81_9",
        "colab_type": "code",
        "outputId": "4cc325a1-c80c-419a-fc83-d0cf38506d5a",
        "colab": {
          "base_uri": "https://localhost:8080/",
          "height": 102
        }
      },
      "source": [
        "import unittest\n",
        "class RuDateParserTestCase(unittest.TestCase):\n",
        "    def setUp(self):\n",
        "        self.parser = RuDateParser()\n",
        "\n",
        "    # тестируем поведение при правильных входных данных\n",
        "    def test_parse_numeric_matching_string(self):\n",
        "        self.assertEqual(datetime.datetime(day=12, month=1, year=2020), \n",
        "                         self.parser.parse_numeric('12-01-2020'))\n",
        "        \n",
        "    # тестируем поведение при вводе строки, не содержащей дату в нужном формате\n",
        "    def test_parse_numeric_unmatching_string(self):\n",
        "        self.assertEqual(None, self.parser.parse_numeric('12/01/2020'))\n",
        "        \n",
        "    # тестируем поведение при неправильном типе входных данных\n",
        "     def test_parse_numeric_incorrect_input_type(self):\n",
        "        self.assertRaises(TypeError, self.parser.parse_numeric, 123)\n",
        "\n",
        "# запустить все тесты\n",
        "if __name__ == '__main__':\n",
        "    # unittest.main()  # jupyter\n",
        "    unittest.main(argv=['first-arg-is-ignored'], exit=False) # colab"
      ],
      "execution_count": 0,
      "outputs": [
        {
          "output_type": "stream",
          "text": [
            "...\n",
            "----------------------------------------------------------------------\n",
            "Ran 3 tests in 0.004s\n",
            "\n",
            "OK\n"
          ],
          "name": "stderr"
        }
      ]
    },
    {
      "cell_type": "markdown",
      "metadata": {
        "id": "hgk2HBxB9hIm",
        "colab_type": "text"
      },
      "source": [
        "### Assert"
      ]
    },
    {
      "cell_type": "markdown",
      "metadata": {
        "id": "r7UyH3hZaxGa",
        "colab_type": "text"
      },
      "source": [
        "* Стандартная инструкция assert - проверить, истинно ли какое-то выражение в питоне. \n",
        "* Если нет, то поднимается AssertionError. "
      ]
    },
    {
      "cell_type": "code",
      "metadata": {
        "id": "g4g4CQruawWZ",
        "colab_type": "code",
        "outputId": "3031384a-0e12-4555-d1f4-ab4b5f8129ce",
        "colab": {
          "base_uri": "https://localhost:8080/",
          "height": 189
        }
      },
      "source": [
        "a = 2\n",
        "assert a == 1, 'сообщение которое выведется вместе с AssertionError'"
      ],
      "execution_count": 0,
      "outputs": [
        {
          "output_type": "error",
          "ename": "AssertionError",
          "evalue": "ignored",
          "traceback": [
            "\u001b[0;31m---------------------------------------------------------------------------\u001b[0m",
            "\u001b[0;31mAssertionError\u001b[0m                            Traceback (most recent call last)",
            "\u001b[0;32m<ipython-input-2-691291a82689>\u001b[0m in \u001b[0;36m<module>\u001b[0;34m()\u001b[0m\n\u001b[1;32m      1\u001b[0m \u001b[0ma\u001b[0m \u001b[0;34m=\u001b[0m \u001b[0;36m2\u001b[0m\u001b[0;34m\u001b[0m\u001b[0;34m\u001b[0m\u001b[0m\n\u001b[0;32m----> 2\u001b[0;31m \u001b[0;32massert\u001b[0m \u001b[0ma\u001b[0m \u001b[0;34m==\u001b[0m \u001b[0;36m1\u001b[0m\u001b[0;34m,\u001b[0m \u001b[0;34m'сообщение которое выведется в случае если выражени не истинно'\u001b[0m\u001b[0;34m\u001b[0m\u001b[0;34m\u001b[0m\u001b[0m\n\u001b[0m",
            "\u001b[0;31mAssertionError\u001b[0m: сообщение которое выведется в случае если выражени не истинно"
          ]
        }
      ]
    },
    {
      "cell_type": "markdown",
      "metadata": {
        "colab_type": "text",
        "id": "UfhgnvjgnVsA"
      },
      "source": [
        "В тестах можно использовать встроенный assert или методы класса unittest.TestCase. Если условие под assert не выполняется, то тест помечается непройденным. Полный список в [документации](https://docs.python.org/3/library/unittest.html#unittest.TestCase). \n",
        "* ***assertEqual***_(first, second, msg=None)_  \n",
        "    Test that first and second are equal. If the values do not compare equal, the test will fail.\n",
        "\n",
        "* ***assertNotEqual***_(first, second, msg=None)_  \n",
        "    Test that first and second are not equal. If the values do compare equal, the test will fail.\n",
        "\n",
        "* ***assertTrue***_(expr, msg=None)_      \n",
        "  ***assertFalse***_(expr, msg=None)_      \n",
        "    Test that expr is true (or false).\n",
        "\n",
        "* ***assertIs***_(first, second, msg=None)_   \n",
        "  ***assertIsNot***_(first, second, msg=None)_    \n",
        "    Test that first and second evaluate (or don’t evaluate) to the same object.\n",
        "\n",
        "* ***assertIn***_(first, second, msg=None)_    \n",
        "  ***assertNotIn***_(first, second, msg=None)_     \n",
        "    Test that first is (or is not) in second.\n",
        "\n",
        "* ***assertRaises***_(exception, callable, *args, **kwds)_   \n",
        "    Test that an exception is raised when callable is called with any positional or keyword arguments that are also passed to assertRaises(). The test passes if exception is raised, is an error if another exception is raised, or fails if no exception is raised. To catch any of a group of exceptions, a tuple containing the exception classes may be passed as exception."
      ]
    },
    {
      "cell_type": "markdown",
      "metadata": {
        "id": "1sZiIXxAaSTt",
        "colab_type": "text"
      },
      "source": [
        "### setUp и tearDown"
      ]
    },
    {
      "cell_type": "markdown",
      "metadata": {
        "id": "-1ojDTM7kRP_",
        "colab_type": "text"
      },
      "source": [
        " Вспомогательные методы, которые используются, чтобы настроить среду тестирования. Нужны для того, чтобы убедиться, что каждый тест работает изолированно и на него не влияет, например, результат работы прошлого теста\n",
        " * ***setUp()*** - вызывается перед запуском каждого теста.\n",
        " * ***tearDown()*** - вызывается после запуска каждого теста. "
      ]
    },
    {
      "cell_type": "code",
      "metadata": {
        "id": "174bxAEKuhaO",
        "colab_type": "code",
        "colab": {}
      },
      "source": [
        "class MyTest(TestCase):\n",
        "\n",
        "    # создать временную папку перед запуском теста\n",
        "    def setUp(self):\n",
        "    self.test_dir = TemporaryDirectory()\n",
        "\n",
        "    # удалить папку после выполнения теста\n",
        "    def tearDown(self):\n",
        "    self.test_dir.cleanup()\n",
        "\n",
        "    # дальше идут сами тесты, в которых что-то делается с этой папкой "
      ],
      "execution_count": 0,
      "outputs": []
    },
    {
      "cell_type": "markdown",
      "metadata": {
        "id": "_z4Nf9ES6BS0",
        "colab_type": "text"
      },
      "source": [
        "**Задание:** \n",
        "1. parse_numeric\n",
        "    1. Подумать, какой ввод сломает метод parse_numeric (он выдаст ошибку, но не поднятую нами TypeError), что мы не учли при написании метода\n",
        "    2. Исправить метод  \n",
        "    3. Дописать соответсвующие тесты\n",
        "2. parse_natural\n",
        "    1. Реализовать метод parse_natural (по аналогии с parse_numeric), сделать так, чтобы он не ломался при любом вводе. \n",
        "    2. Запустить doctest и проверить, что все хорошо. \n",
        "    2. Написать к нему тесты используя unittest. "
      ]
    },
    {
      "cell_type": "code",
      "metadata": {
        "id": "32T5DxEG4tuZ",
        "colab_type": "code",
        "colab": {}
      },
      "source": [
        "class RuDateParser:\n",
        "\n",
        "    def parse_numeric(self, date: str) -> Optional[datetime.datetime]: \n",
        "        \"\"\" \n",
        "        Парсит даты в формате dd-mm-yyyy\n",
        "\n",
        "        >>> RuDateParser().parse_numeric('01-12-2010')\n",
        "        datetime.datetime(2010, 12, 1, 0, 0)\n",
        "\n",
        "        >>> RuDateParser().parse_numeric('01/12/2010')\n",
        "\n",
        "        >>> RuDateParser().parse_numeric('не дата')\n",
        "        \"\"\"\n",
        "        if not isinstance(date, str):\n",
        "            raise TypeError\n",
        "        # \\d - digit, то же самое, что [0-9]\n",
        "        elif not re.match('\\d{2}-\\d{2}-\\d{4}', date): \n",
        "            return None\n",
        "        date_splitted = date.split('-')\n",
        "        day = int(date_splitted[0])\n",
        "        month = int(date_splitted[1])\n",
        "        year = int(date_splitted[2]) \n",
        "        return datetime.datetime(day=day, month=month, year=year)\n",
        "\n",
        "    def parse_natural(self, date: str) -> Optional[datetime.datetime]: \n",
        "        \"\"\" \n",
        "        Парсит даты в формате dd MMMM yyyy на русском языке\n",
        "\n",
        "        >>> RuDateParser().parse_natural('1 января 2010')\n",
        "        datetime.datetime(2010, 12, 1, 0, 0)\n",
        "\n",
        "        >>> RuDateParser().parse_natural('1 Января 2010')\n",
        "        datetime.datetime(2010, 12, 1, 0, 0)\n",
        "\n",
        "        >>> RuDateParser().parse_natural('01 января 2010')\n",
        "        datetime.datetime(2010, 12, 1, 0, 0)\n",
        "        \n",
        "        >>> RuDateParser().parse_natural('не дата')\n",
        "        \"\"\"\n",
        "        pass"
      ],
      "execution_count": 0,
      "outputs": []
    },
    {
      "cell_type": "markdown",
      "metadata": {
        "id": "9G1KYvY92ixQ",
        "colab_type": "text"
      },
      "source": [
        "\n",
        "    "
      ]
    }
  ]
}