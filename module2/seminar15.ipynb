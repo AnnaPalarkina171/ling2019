{
 "cells": [
  {
   "cell_type": "markdown",
   "metadata": {},
   "source": [
    "## Динамическая генерация тестов"
   ]
  },
  {
   "cell_type": "markdown",
   "metadata": {},
   "source": [
    "+ Нужно сделать много однотипных тестов (одна и та же функция/метод и т.д.)\n",
    "+ Отличаются только входное значение и ожидаемый результат\n",
    "+ Лучше не писать кучу почти одинакового кода, а генерировать тесты динамически. "
   ]
  },
  {
   "cell_type": "code",
   "execution_count": 1,
   "metadata": {},
   "outputs": [],
   "source": [
    "def parse_name(name):\n",
    "    parts = name.strip().split()\n",
    "    surname, name, patr = '', '', ''\n",
    "    if len(parts) == 1:\n",
    "        name = parts[0]\n",
    "    elif len(parts) == 2:\n",
    "        surname, name = parts[0], parts[1]\n",
    "    elif len(parts) == 3:\n",
    "        surname, name, patr = parts\n",
    "    elif len(parts) > 3:\n",
    "        surname, name, patr = parts[0], ' '.join(parts[1:-1]), parts[-1]\n",
    "    return surname, name, patr"
   ]
  },
  {
   "cell_type": "code",
   "execution_count": 2,
   "metadata": {},
   "outputs": [
    {
     "name": "stderr",
     "output_type": "stream",
     "text": [
      ".....\n",
      "----------------------------------------------------------------------\n",
      "Ran 5 tests in 0.002s\n",
      "\n",
      "OK\n"
     ]
    }
   ],
   "source": [
    "import unittest\n",
    "class ParseNameTestCase(unittest.TestCase):\n",
    "    def test_one_word(self):\n",
    "        self.assertEqual(('', 'Петр', ''), parse_name('Петр'))\n",
    "    def test_two_words(self):\n",
    "        self.assertEqual(('Петров', 'Петр', ''), parse_name('Петров Петр'))\n",
    "    def test_three_words(self):\n",
    "        self.assertEqual(('Петров', 'Петр', 'Петрович'), \n",
    "                         parse_name('Петров Петр Петрович'))\n",
    "    def test_more_words(self):\n",
    "        self.assertEqual(('Петрова', 'Анна Мария', 'Васильевна'), \n",
    "                         parse_name('Петрова Анна Мария Васильевна'))\n",
    "    def test_no_words(self):\n",
    "        self.assertEqual(('', '', ''), parse_name(''))\n",
    "        \n",
    "if __name__ == \"__main__\":\n",
    "    unittest.main(argv=['first-arg-is-ignored'], exit=False)"
   ]
  },
  {
   "cell_type": "markdown",
   "metadata": {},
   "source": [
    "Cпособ 1 - просто в цикле:\n",
    "+ все данные проверяются в одном тесте\n",
    "+ метод прекращает работу после первой AssertionError\n",
    "+ все что дальше не проверяется "
   ]
  },
  {
   "cell_type": "code",
   "execution_count": 3,
   "metadata": {},
   "outputs": [
    {
     "name": "stderr",
     "output_type": "stream",
     "text": [
      ".\n",
      "----------------------------------------------------------------------\n",
      "Ran 1 test in 0.001s\n",
      "\n",
      "OK\n"
     ]
    }
   ],
   "source": [
    "import unittest\n",
    "class ParseNameTestCase(unittest.TestCase):\n",
    "    def test_valid_name_parsing(self):\n",
    "        for parsed_name, name in [\n",
    "            (('', 'Петр', ''), ('Петр')),\n",
    "            (('Петров', 'Петр', ''), ('Петров Петр')),\n",
    "            (('Петров', 'Петр', 'Петрович'), ('Петров Петр Петрович')),\n",
    "            (('Петрова', 'Анна Мария', 'Васильевна'), ('Петрова Анна Мария Васильевна')),\n",
    "            (('', '', ''), (''))]:\n",
    "            self.assertEqual(parsed_name, parse_name(name))\n",
    "        \n",
    "if __name__ == \"__main__\":\n",
    "    unittest.main(argv=['first-arg-is-ignored'], exit=False)"
   ]
  },
  {
   "cell_type": "markdown",
   "metadata": {},
   "source": [
    "Cпособ 2 (он лучше) - c помощью пакета ***parametErized*** (не путать с parameTRized без e):\n",
    "+ на каждую пару генерируется отдельный независимый тест\n",
    "+ точно понятно, что именно пошло не так\n",
    "+ один упавший тест не влияет на все остальные"
   ]
  },
  {
   "cell_type": "code",
   "execution_count": 4,
   "metadata": {},
   "outputs": [
    {
     "name": "stdout",
     "output_type": "stream",
     "text": [
      "Requirement already satisfied: parameterized in /home/lena/anaconda3/lib/python3.8/site-packages (0.7.1)\r\n"
     ]
    }
   ],
   "source": [
    "!pip install parameterized\n",
    "from parameterized import parameterized "
   ]
  },
  {
   "cell_type": "code",
   "execution_count": 5,
   "metadata": {
    "scrolled": true
   },
   "outputs": [
    {
     "name": "stderr",
     "output_type": "stream",
     "text": [
      ".....\n",
      "----------------------------------------------------------------------\n",
      "Ran 5 tests in 0.002s\n",
      "\n",
      "OK\n"
     ]
    }
   ],
   "source": [
    "import unittest\n",
    "class ParseNameTestCase(unittest.TestCase):\n",
    "    @parameterized.expand(\n",
    "        [(('', 'Петр', ''), ('Петр')),\n",
    "         (('Петров', 'Петр', ''), ('Петров Петр')),\n",
    "         (('Петров', 'Петр', 'Петрович'), ('Петров Петр Петрович')),\n",
    "         (('Петрова', 'Анна Мария', 'Васильевна'), ('Петрова Анна Мария Васильевна')),\n",
    "         (('', '', ''), (''))])\n",
    "    def test_valid_name_parsing(self, parsed_name, name):\n",
    "        self.assertEqual(parsed_name, parse_name(name))\n",
    "        \n",
    "if __name__ == \"__main__\":\n",
    "    unittest.main(argv=['first-arg-is-ignored'], exit=False)"
   ]
  },
  {
   "cell_type": "markdown",
   "metadata": {},
   "source": [
    "**Задание**:\n",
    "   + переписать тесты для parse_numeric с использованием parameterized"
   ]
  },
  {
   "cell_type": "code",
   "execution_count": 19,
   "metadata": {},
   "outputs": [],
   "source": [
    "import re\n",
    "import datetime\n",
    "class RuDateParser:\n",
    "\n",
    "    def parse_numeric(self, date): \n",
    "        \"\"\" \n",
    "        Парсит даты в формате dd-mm-yyyy\n",
    "\n",
    "        >>> RuDateParser().parse_numeric('01-12-2010')\n",
    "        datetime.datetime(2010, 12, 1, 0, 0)\n",
    "\n",
    "        >>> RuDateParser().parse_numeric('01/12/2010')\n",
    "\n",
    "        >>> RuDateParser().parse_numeric('не дата')\n",
    "        \"\"\"\n",
    "        if not isinstance(date, str):\n",
    "            raise TypeError\n",
    "        # \\d - digit, то же самое, что [0-9]\n",
    "        elif not re.match('\\d{2}-\\d{2}-\\d{4}', date): \n",
    "            return None\n",
    "        date_splitted = date.split('-')\n",
    "        day = int(date_splitted[0])\n",
    "        month = int(date_splitted[1])\n",
    "        year = int(date_splitted[2]) \n",
    "        try:\n",
    "            return datetime.datetime(day=day, month=month, year=year)\n",
    "        except ValueError:\n",
    "            return None"
   ]
  },
  {
   "cell_type": "code",
   "execution_count": 22,
   "metadata": {},
   "outputs": [
    {
     "name": "stderr",
     "output_type": "stream",
     "text": [
      ".....s.......\n",
      "----------------------------------------------------------------------\n",
      "Ran 13 tests in 0.009s\n",
      "\n",
      "OK (skipped=1)\n"
     ]
    }
   ],
   "source": [
    "import unittest\n",
    "\n",
    "class RuDateParserTestCase(unittest.TestCase):\n",
    "    \n",
    "    def setUp(self):\n",
    "        self.parser = RuDateParser()\n",
    "        \n",
    "    def tearDown(self):\n",
    "        pass\n",
    "\n",
    "    # тестируем поведение при правильных входных данных\n",
    "    def test_parse_numeric_matching_string(self):\n",
    "        self.assertEqual(datetime.datetime(day=12, month=1, year=2020), \n",
    "                         self.parser.parse_numeric('12-01-2020'))\n",
    "        \n",
    "    # тестируем поведение при вводе строки, не содержащей дату в нужном формате\n",
    "    def test_parse_numeric_unmatching_string(self):\n",
    "        self.assertEqual(None, self.parser.parse_numeric('12/01/2020'))\n",
    "        \n",
    "    def test_parse_numeric_day_too_large(self):\n",
    "        self.assertEqual(None, self.parser.parse_numeric('52-01-2020'))\n",
    "        \n",
    "    def test_parse_numeric_month_too_large(self):\n",
    "        self.assertEqual(None, self.parser.parse_numeric('21-21-2020'))\n",
    "        \n",
    "    def test_parse_numeric_day_zero(self):\n",
    "        self.assertEqual(None, self.parser.parse_numeric('0-01-2020'))\n",
    "        \n",
    "    def test_parse_numeric_month_zero(self):\n",
    "        self.assertEqual(None, self.parser.parse_numeric('01-00-2020'))\n",
    "        \n",
    "    # тестируем поведение при неправильном типе входных данных\n",
    "    def test_parse_numeric_incorrect_input_type(self):\n",
    "        self.assertRaises(TypeError, self.parser.parse_numeric, 123)\n",
    "\n",
    "# запустить все тесты\n",
    "if __name__ == '__main__':\n",
    "    unittest.main(argv=['first-arg-is-ignored'], exit=False) # colab"
   ]
  },
  {
   "cell_type": "markdown",
   "metadata": {},
   "source": [
    "## Что еще полезного есть в unittest"
   ]
  },
  {
   "cell_type": "markdown",
   "metadata": {},
   "source": [
    "### Пропуск тестов\n",
    "+ если какие-то тесты нужны/должны работать только при определенных условиях"
   ]
  },
  {
   "cell_type": "code",
   "execution_count": 21,
   "metadata": {},
   "outputs": [],
   "source": [
    "# # это не рабочий код, он для примера и пояснения\n",
    "class MyTestCase(unittest.TestCase):\n",
    "    @unittest.skip(\"demonstrating skipping\")\n",
    "    def test_nothing(self):\n",
    "        self.fail(\"shouldn't happen\")\n",
    "\n",
    "    @unittest.skipIf(mylib.__version__ < (1, 3),\n",
    "                     \"not supported in this library version\")\n",
    "    def test_format(self):\n",
    "        # Tests that work for only a certain version of the library.\n",
    "        pass\n",
    "\n",
    "    @unittest.skipUnless(sys.platform.startswith(\"win\"), \"requires Windows\")\n",
    "    def test_windows_support(self):\n",
    "        # windows specific testing code\n",
    "        pass\n",
    "\n",
    "    def test_maybe_skipped(self):\n",
    "        if not external_resource_available():\n",
    "            self.skipTest(\"external resource not available\")\n",
    "        # test code that depends on the external resource\n",
    "        pass"
   ]
  },
  {
   "cell_type": "code",
   "execution_count": 23,
   "metadata": {},
   "outputs": [
    {
     "name": "stderr",
     "output_type": "stream",
     "text": [
      ".....s.......\n",
      "----------------------------------------------------------------------\n",
      "Ran 13 tests in 0.013s\n",
      "\n",
      "OK (skipped=1)\n"
     ]
    }
   ],
   "source": [
    "import unittest\n",
    "class ParseNameTestCase(unittest.TestCase):\n",
    "    def test_one_word(self):\n",
    "        self.assertEqual(('', 'Петр', ''), parse_name('Петр'))\n",
    "    def test_two_words(self):\n",
    "        self.assertEqual(('Петров', 'Петр', ''), parse_name('Петров Петр'))\n",
    "    def test_three_words(self):\n",
    "        self.assertEqual(('Петров', 'Петр', 'Петрович'), \n",
    "                         parse_name('Петров Петр Петрович'))\n",
    "    def test_more_words(self):\n",
    "        self.assertEqual(('Петрова', 'Анна Мария', 'Васильевна'), \n",
    "                         parse_name('Петрова Анна Мария Васильевна'))\n",
    "    def test_no_words(self):\n",
    "        self.assertEqual(('', '', ''), parse_name(''))\n",
    "        \n",
    "    @unittest.skip(\"this feature is not implemented yet\")    \n",
    "    def test_wrong_type(self):\n",
    "        self.assertEqual(('', '', ''), parse_name(None))\n",
    "        \n",
    "if __name__ == \"__main__\":\n",
    "    unittest.main(argv=['first-arg-is-ignored'], exit=False)"
   ]
  },
  {
   "cell_type": "markdown",
   "metadata": {},
   "source": [
    "## Структура проекта c тестами"
   ]
  },
  {
   "cell_type": "markdown",
   "metadata": {},
   "source": [
    "+ все тесты в отдельной папке, название test или tests\n",
    "+ лучше превратить в пакет - добавить \\_\\_init\\_\\_.py (можно пустой)\n",
    "+ названия файлов с тестами начинаются с test_"
   ]
  },
  {
   "cell_type": "markdown",
   "metadata": {},
   "source": [
    "```\n",
    "├── project root directory      \n",
    "   ├── main project directory\n",
    "   │   ├── ...\n",
    "   │   ├── ...\n",
    "   │    \n",
    "   └── tests\n",
    "       ├── __init__.py\n",
    "       ├── test_*.py\n",
    "       └── test_*.py \n",
    "\n",
    "```"
   ]
  },
  {
   "cell_type": "markdown",
   "metadata": {},
   "source": [
    "## Запуск тестов "
   ]
  },
  {
   "cell_type": "markdown",
   "metadata": {},
   "source": [
    "### командная строка"
   ]
  },
  {
   "cell_type": "markdown",
   "metadata": {},
   "source": [
    "+ все тесты в проекте: ```python -m unittest discover ```\n",
    "+ все тесты в модуле: ``` python -m unittest tests.test_something ```\n",
    "+ все тесты в классе (тест-кейсе): \n",
    "``` python -m unittest tests.test_something.SomeTestCase ```\n",
    "\n",
    "\n",
    "Флаг ***-m*** означает, что интерпретор найдет модуль/пакет с нужным именем и запустит его как  [***\\_\\_main\\_\\_***](https://docs.python.org/3/library/__main__.html#module-__main__), расширение (***.py***) писать не нужно ([документация](https://docs.python.org/3/using/cmdline.html#cmdoption-m))."
   ]
  },
  {
   "cell_type": "markdown",
   "metadata": {},
   "source": [
    "### PyCharm"
   ]
  },
  {
   "cell_type": "markdown",
   "metadata": {},
   "source": [
    "+ правой кнопкой мыши на папку/файл/класс, выбрать run 'Unittest in ...'"
   ]
  },
  {
   "cell_type": "markdown",
   "metadata": {},
   "source": [
    "**Задание**\n",
    "+ склонировать/скачать этот репозиторий https://github.com/clips/pattern\n",
    "+ ```pip install feedparser cherrypy```\n",
    "+ запустить все тесты в PyCharm, сделать так, чтобы они запустились\n",
    "+ посмотреть, что будет (в идеале вы должны увидеть пройденные, непройденные и пропущенные тесты)\n",
    "+ понять, почему не проходятся тесты test_web.TestDocumentParser, сделать так, чтобы проходились (если у вас проходятся, то помочь товарищу)"
   ]
  }
 ],
 "metadata": {
  "kernelspec": {
   "display_name": "Python 3",
   "language": "python",
   "name": "python3"
  },
  "language_info": {
   "codemirror_mode": {
    "name": "ipython",
    "version": 3
   },
   "file_extension": ".py",
   "mimetype": "text/x-python",
   "name": "python",
   "nbconvert_exporter": "python",
   "pygments_lexer": "ipython3",
   "version": "3.7.4"
  }
 },
 "nbformat": 4,
 "nbformat_minor": 4
}
