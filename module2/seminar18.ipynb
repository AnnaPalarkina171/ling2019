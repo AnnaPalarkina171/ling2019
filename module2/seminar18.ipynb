{
  "nbformat": 4,
  "nbformat_minor": 0,
  "metadata": {
    "colab": {
      "name": "seminar18.ipynb",
      "provenance": [],
      "collapsed_sections": [
        "LOLAtkIW3yYz",
        "c5HZgTOw2Ixi",
        "zn5rqAbIhMjK",
        "Duxhd3f1jenJ",
        "kVgkSRUzbTtp",
        "YenCSjzRWuLy",
        "8lFdlBBKdlcv",
        "QKMOD0xBfICy"
      ]
    },
    "kernelspec": {
      "name": "python3",
      "display_name": "Python 3"
    }
  },
  "cells": [
    {
      "cell_type": "markdown",
      "metadata": {
        "id": "qYSEkN3aNmiR",
        "colab_type": "text"
      },
      "source": [
        "# Вспоминаем что такое машинное обучение. "
      ]
    },
    {
      "cell_type": "markdown",
      "metadata": {
        "id": "qHxwg5TKjFJe",
        "colab_type": "text"
      },
      "source": [
        "## Основные понятия\n",
        "+ Обучение с учителем/ без учителя\n",
        "+ Объект\n",
        "+ Целевая переменная\n",
        "+ Признаки (количественные/бинарные/категориальные)\n",
        "+ Ответы \n",
        "+ Модель "
      ]
    },
    {
      "cell_type": "markdown",
      "metadata": {
        "id": "iWgYvb8dqYor",
        "colab_type": "text"
      },
      "source": [
        "## Первичный анализ данных, pandas"
      ]
    },
    {
      "cell_type": "markdown",
      "metadata": {
        "id": "X_Ga0SxrUqcg",
        "colab_type": "text"
      },
      "source": [
        "**pandas** - библиотека для работы с данными в табличном формате   "
      ]
    },
    {
      "cell_type": "markdown",
      "metadata": {
        "id": "lHfXHaSPPkKn",
        "colab_type": "text"
      },
      "source": [
        "+ будем работать с датасетом [Student Performance](http://archive.ics.uci.edu/ml/datasets/Student+Performance#)\n",
        "+ постараемся предсказать итоговую оценку по математике (G3) по разным другим признакам \n",
        "\n"
      ]
    },
    {
      "cell_type": "markdown",
      "metadata": {
        "id": "h29t3ALzZSQF",
        "colab_type": "text"
      },
      "source": [
        "### Attributes"
      ]
    },
    {
      "cell_type": "markdown",
      "metadata": {
        "id": "4o5nMt_bY3rQ",
        "colab_type": "text"
      },
      "source": [
        "\n",
        "1. **school** - student's school (binary: 'GP' - Gabriel Pereira or 'MS' - Mousinho da Silveira)\n",
        "2. **sex** - student's sex (binary: 'F' - female or 'M' - male)\n",
        "3. **age** - student's age (numeric: from 15 to 22)\n",
        "4. **address** - student's home address type (binary: 'U' - urban or 'R' - rural)\n",
        "5. **famsize** - family size (binary: 'LE3' - less or equal to 3 or 'GT3' - greater than 3)\n",
        "6. **Pstatus** - parent's cohabitation status (binary: 'T' - living together or 'A' - apart)\n",
        "7. **Medu** - mother's education (numeric: 0 - none, 1 - primary education (4th grade), 2 - 5th to 9th grade, 3 - secondary education or 4 - higher education)\n",
        "8. **Fedu** - father's education (numeric: 0 - none, 1 - primary education (4th grade), 2 - 5th to 9th grade, 3 - secondary education or 4 - higher education)\n",
        "9. **Mjob** - mother's job (nominal: 'teacher', 'health' care related, civil 'services' (e.g. administrative or police), 'at_home' or 'other')\n",
        "10. **Fjob** - father's job (nominal: 'teacher', 'health' care related, civil 'services' (e.g. administrative or police), 'at_home' or 'other')\n",
        "11. **reason** - reason to choose this school (nominal: close to 'home', school 'reputation', 'course' preference or 'other')\n",
        "12. **guardian** - student's guardian (nominal: 'mother', 'father' or 'other')\n",
        "13. **traveltime** - home to school travel time (numeric: 1 - <15 min., 2 - 15 to 30 min., 3 - 30 min. to 1 hour, or 4 - >1 hour)\n",
        "14. **studytime** - weekly study time (numeric: 1 - <2 hours, 2 - 2 to 5 hours, 3 - 5 to 10 hours, or 4 - >10 hours)\n",
        "15. **failures** - number of past class failures (numeric: n if 1<=n<3, else 4)\n",
        "16. **schoolsup** - extra educational support (binary: yes or no)\n",
        "17. **famsup** - family educational support (binary: yes or no)\n",
        "18. **paid**- extra paid classes within the course subject (Math or Portuguese) (binary: yes or no)\n",
        "19. **activities** - extra-curricular activities (binary: yes or no)\n",
        "20. **nursery** - attended nursery school (binary: yes or no)\n",
        "21. **higher** - wants to take higher education (binary: yes or no)\n",
        "22. **internet** - Internet access at home (binary: yes or no)\n",
        "23. **romantic** - with a romantic relationship (binary: yes or no)\n",
        "24. **famrel** - quality of family relationships (numeric: from 1 - very bad to 5 - excellent)\n",
        "25. **freetime** - free time after school (numeric: from 1 - very low to 5 - very high)\n",
        "26. **goout** - going out with friends (numeric: from 1 - very low to 5 - very high)\n",
        "27. **Dalc** - workday alcohol consumption (numeric: from 1 - very low to 5 - very high)\n",
        "28. **Walc** - weekend alcohol consumption (numeric: from 1 - very low to 5 - very high)\n",
        "29. **health** - current health status (numeric: from 1 - very bad to 5 - very good)\n",
        "30. **absences** - number of school absences (numeric: from 0 to 93)\n",
        "\n"
      ]
    },
    {
      "cell_type": "markdown",
      "metadata": {
        "id": "V6TEXVMiZppF",
        "colab_type": "text"
      },
      "source": [
        "### Target:\n",
        "31. **G1** - first period grade (numeric: from 0 to 20)\n",
        "31. **G2** - second period grade (numeric: from 0 to 20)\n",
        "32.**G3** - final grade (numeric: from 0 to 20, output target)"
      ]
    },
    {
      "cell_type": "markdown",
      "metadata": {
        "id": "fX5eVHozY79Y",
        "colab_type": "text"
      },
      "source": [
        "### Посмотрим на данные"
      ]
    },
    {
      "cell_type": "code",
      "metadata": {
        "id": "q8EiMYpOWV4g",
        "colab_type": "code",
        "colab": {}
      },
      "source": [
        "import pandas as pd"
      ],
      "execution_count": 0,
      "outputs": []
    },
    {
      "cell_type": "code",
      "metadata": {
        "id": "3O6luYV7PjDG",
        "colab_type": "code",
        "colab": {}
      },
      "source": [
        "# загружаем датасет с оценками по математике\n",
        "# не забываем указать правильный разделитель\n",
        "data = pd.read_csv('https://raw.githubusercontent.com/arunk13/MSDA-Assignments/master/IS607Fall2015/Assignment3/student-mat.csv', delimiter=';')"
      ],
      "execution_count": 0,
      "outputs": []
    },
    {
      "cell_type": "code",
      "metadata": {
        "id": "WUbpkhqjW68X",
        "colab_type": "code",
        "outputId": "f2aeb62a-6e11-4070-8847-7e0629749267",
        "colab": {
          "base_uri": "https://localhost:8080/",
          "height": 534
        }
      },
      "source": [
        "# посмотрим на первые 15 строк таблицы\n",
        "# каждая строка - объект\n",
        "# столбцы - признаки\n",
        "data.head(15)"
      ],
      "execution_count": 3,
      "outputs": [
        {
          "output_type": "execute_result",
          "data": {
            "text/html": [
              "<div>\n",
              "<style scoped>\n",
              "    .dataframe tbody tr th:only-of-type {\n",
              "        vertical-align: middle;\n",
              "    }\n",
              "\n",
              "    .dataframe tbody tr th {\n",
              "        vertical-align: top;\n",
              "    }\n",
              "\n",
              "    .dataframe thead th {\n",
              "        text-align: right;\n",
              "    }\n",
              "</style>\n",
              "<table border=\"1\" class=\"dataframe\">\n",
              "  <thead>\n",
              "    <tr style=\"text-align: right;\">\n",
              "      <th></th>\n",
              "      <th>school</th>\n",
              "      <th>sex</th>\n",
              "      <th>age</th>\n",
              "      <th>address</th>\n",
              "      <th>famsize</th>\n",
              "      <th>Pstatus</th>\n",
              "      <th>Medu</th>\n",
              "      <th>Fedu</th>\n",
              "      <th>Mjob</th>\n",
              "      <th>Fjob</th>\n",
              "      <th>reason</th>\n",
              "      <th>guardian</th>\n",
              "      <th>traveltime</th>\n",
              "      <th>studytime</th>\n",
              "      <th>failures</th>\n",
              "      <th>schoolsup</th>\n",
              "      <th>famsup</th>\n",
              "      <th>paid</th>\n",
              "      <th>activities</th>\n",
              "      <th>nursery</th>\n",
              "      <th>higher</th>\n",
              "      <th>internet</th>\n",
              "      <th>romantic</th>\n",
              "      <th>famrel</th>\n",
              "      <th>freetime</th>\n",
              "      <th>goout</th>\n",
              "      <th>Dalc</th>\n",
              "      <th>Walc</th>\n",
              "      <th>health</th>\n",
              "      <th>absences</th>\n",
              "      <th>G1</th>\n",
              "      <th>G2</th>\n",
              "      <th>G3</th>\n",
              "    </tr>\n",
              "  </thead>\n",
              "  <tbody>\n",
              "    <tr>\n",
              "      <th>0</th>\n",
              "      <td>GP</td>\n",
              "      <td>F</td>\n",
              "      <td>18</td>\n",
              "      <td>U</td>\n",
              "      <td>GT3</td>\n",
              "      <td>A</td>\n",
              "      <td>4</td>\n",
              "      <td>4</td>\n",
              "      <td>at_home</td>\n",
              "      <td>teacher</td>\n",
              "      <td>course</td>\n",
              "      <td>mother</td>\n",
              "      <td>2</td>\n",
              "      <td>2</td>\n",
              "      <td>0</td>\n",
              "      <td>yes</td>\n",
              "      <td>no</td>\n",
              "      <td>no</td>\n",
              "      <td>no</td>\n",
              "      <td>yes</td>\n",
              "      <td>yes</td>\n",
              "      <td>no</td>\n",
              "      <td>no</td>\n",
              "      <td>4</td>\n",
              "      <td>3</td>\n",
              "      <td>4</td>\n",
              "      <td>1</td>\n",
              "      <td>1</td>\n",
              "      <td>3</td>\n",
              "      <td>6</td>\n",
              "      <td>5</td>\n",
              "      <td>6</td>\n",
              "      <td>6</td>\n",
              "    </tr>\n",
              "    <tr>\n",
              "      <th>1</th>\n",
              "      <td>GP</td>\n",
              "      <td>F</td>\n",
              "      <td>17</td>\n",
              "      <td>U</td>\n",
              "      <td>GT3</td>\n",
              "      <td>T</td>\n",
              "      <td>1</td>\n",
              "      <td>1</td>\n",
              "      <td>at_home</td>\n",
              "      <td>other</td>\n",
              "      <td>course</td>\n",
              "      <td>father</td>\n",
              "      <td>1</td>\n",
              "      <td>2</td>\n",
              "      <td>0</td>\n",
              "      <td>no</td>\n",
              "      <td>yes</td>\n",
              "      <td>no</td>\n",
              "      <td>no</td>\n",
              "      <td>no</td>\n",
              "      <td>yes</td>\n",
              "      <td>yes</td>\n",
              "      <td>no</td>\n",
              "      <td>5</td>\n",
              "      <td>3</td>\n",
              "      <td>3</td>\n",
              "      <td>1</td>\n",
              "      <td>1</td>\n",
              "      <td>3</td>\n",
              "      <td>4</td>\n",
              "      <td>5</td>\n",
              "      <td>5</td>\n",
              "      <td>6</td>\n",
              "    </tr>\n",
              "    <tr>\n",
              "      <th>2</th>\n",
              "      <td>GP</td>\n",
              "      <td>F</td>\n",
              "      <td>15</td>\n",
              "      <td>U</td>\n",
              "      <td>LE3</td>\n",
              "      <td>T</td>\n",
              "      <td>1</td>\n",
              "      <td>1</td>\n",
              "      <td>at_home</td>\n",
              "      <td>other</td>\n",
              "      <td>other</td>\n",
              "      <td>mother</td>\n",
              "      <td>1</td>\n",
              "      <td>2</td>\n",
              "      <td>3</td>\n",
              "      <td>yes</td>\n",
              "      <td>no</td>\n",
              "      <td>yes</td>\n",
              "      <td>no</td>\n",
              "      <td>yes</td>\n",
              "      <td>yes</td>\n",
              "      <td>yes</td>\n",
              "      <td>no</td>\n",
              "      <td>4</td>\n",
              "      <td>3</td>\n",
              "      <td>2</td>\n",
              "      <td>2</td>\n",
              "      <td>3</td>\n",
              "      <td>3</td>\n",
              "      <td>10</td>\n",
              "      <td>7</td>\n",
              "      <td>8</td>\n",
              "      <td>10</td>\n",
              "    </tr>\n",
              "    <tr>\n",
              "      <th>3</th>\n",
              "      <td>GP</td>\n",
              "      <td>F</td>\n",
              "      <td>15</td>\n",
              "      <td>U</td>\n",
              "      <td>GT3</td>\n",
              "      <td>T</td>\n",
              "      <td>4</td>\n",
              "      <td>2</td>\n",
              "      <td>health</td>\n",
              "      <td>services</td>\n",
              "      <td>home</td>\n",
              "      <td>mother</td>\n",
              "      <td>1</td>\n",
              "      <td>3</td>\n",
              "      <td>0</td>\n",
              "      <td>no</td>\n",
              "      <td>yes</td>\n",
              "      <td>yes</td>\n",
              "      <td>yes</td>\n",
              "      <td>yes</td>\n",
              "      <td>yes</td>\n",
              "      <td>yes</td>\n",
              "      <td>yes</td>\n",
              "      <td>3</td>\n",
              "      <td>2</td>\n",
              "      <td>2</td>\n",
              "      <td>1</td>\n",
              "      <td>1</td>\n",
              "      <td>5</td>\n",
              "      <td>2</td>\n",
              "      <td>15</td>\n",
              "      <td>14</td>\n",
              "      <td>15</td>\n",
              "    </tr>\n",
              "    <tr>\n",
              "      <th>4</th>\n",
              "      <td>GP</td>\n",
              "      <td>F</td>\n",
              "      <td>16</td>\n",
              "      <td>U</td>\n",
              "      <td>GT3</td>\n",
              "      <td>T</td>\n",
              "      <td>3</td>\n",
              "      <td>3</td>\n",
              "      <td>other</td>\n",
              "      <td>other</td>\n",
              "      <td>home</td>\n",
              "      <td>father</td>\n",
              "      <td>1</td>\n",
              "      <td>2</td>\n",
              "      <td>0</td>\n",
              "      <td>no</td>\n",
              "      <td>yes</td>\n",
              "      <td>yes</td>\n",
              "      <td>no</td>\n",
              "      <td>yes</td>\n",
              "      <td>yes</td>\n",
              "      <td>no</td>\n",
              "      <td>no</td>\n",
              "      <td>4</td>\n",
              "      <td>3</td>\n",
              "      <td>2</td>\n",
              "      <td>1</td>\n",
              "      <td>2</td>\n",
              "      <td>5</td>\n",
              "      <td>4</td>\n",
              "      <td>6</td>\n",
              "      <td>10</td>\n",
              "      <td>10</td>\n",
              "    </tr>\n",
              "    <tr>\n",
              "      <th>5</th>\n",
              "      <td>GP</td>\n",
              "      <td>M</td>\n",
              "      <td>16</td>\n",
              "      <td>U</td>\n",
              "      <td>LE3</td>\n",
              "      <td>T</td>\n",
              "      <td>4</td>\n",
              "      <td>3</td>\n",
              "      <td>services</td>\n",
              "      <td>other</td>\n",
              "      <td>reputation</td>\n",
              "      <td>mother</td>\n",
              "      <td>1</td>\n",
              "      <td>2</td>\n",
              "      <td>0</td>\n",
              "      <td>no</td>\n",
              "      <td>yes</td>\n",
              "      <td>yes</td>\n",
              "      <td>yes</td>\n",
              "      <td>yes</td>\n",
              "      <td>yes</td>\n",
              "      <td>yes</td>\n",
              "      <td>no</td>\n",
              "      <td>5</td>\n",
              "      <td>4</td>\n",
              "      <td>2</td>\n",
              "      <td>1</td>\n",
              "      <td>2</td>\n",
              "      <td>5</td>\n",
              "      <td>10</td>\n",
              "      <td>15</td>\n",
              "      <td>15</td>\n",
              "      <td>15</td>\n",
              "    </tr>\n",
              "    <tr>\n",
              "      <th>6</th>\n",
              "      <td>GP</td>\n",
              "      <td>M</td>\n",
              "      <td>16</td>\n",
              "      <td>U</td>\n",
              "      <td>LE3</td>\n",
              "      <td>T</td>\n",
              "      <td>2</td>\n",
              "      <td>2</td>\n",
              "      <td>other</td>\n",
              "      <td>other</td>\n",
              "      <td>home</td>\n",
              "      <td>mother</td>\n",
              "      <td>1</td>\n",
              "      <td>2</td>\n",
              "      <td>0</td>\n",
              "      <td>no</td>\n",
              "      <td>no</td>\n",
              "      <td>no</td>\n",
              "      <td>no</td>\n",
              "      <td>yes</td>\n",
              "      <td>yes</td>\n",
              "      <td>yes</td>\n",
              "      <td>no</td>\n",
              "      <td>4</td>\n",
              "      <td>4</td>\n",
              "      <td>4</td>\n",
              "      <td>1</td>\n",
              "      <td>1</td>\n",
              "      <td>3</td>\n",
              "      <td>0</td>\n",
              "      <td>12</td>\n",
              "      <td>12</td>\n",
              "      <td>11</td>\n",
              "    </tr>\n",
              "    <tr>\n",
              "      <th>7</th>\n",
              "      <td>GP</td>\n",
              "      <td>F</td>\n",
              "      <td>17</td>\n",
              "      <td>U</td>\n",
              "      <td>GT3</td>\n",
              "      <td>A</td>\n",
              "      <td>4</td>\n",
              "      <td>4</td>\n",
              "      <td>other</td>\n",
              "      <td>teacher</td>\n",
              "      <td>home</td>\n",
              "      <td>mother</td>\n",
              "      <td>2</td>\n",
              "      <td>2</td>\n",
              "      <td>0</td>\n",
              "      <td>yes</td>\n",
              "      <td>yes</td>\n",
              "      <td>no</td>\n",
              "      <td>no</td>\n",
              "      <td>yes</td>\n",
              "      <td>yes</td>\n",
              "      <td>no</td>\n",
              "      <td>no</td>\n",
              "      <td>4</td>\n",
              "      <td>1</td>\n",
              "      <td>4</td>\n",
              "      <td>1</td>\n",
              "      <td>1</td>\n",
              "      <td>1</td>\n",
              "      <td>6</td>\n",
              "      <td>6</td>\n",
              "      <td>5</td>\n",
              "      <td>6</td>\n",
              "    </tr>\n",
              "    <tr>\n",
              "      <th>8</th>\n",
              "      <td>GP</td>\n",
              "      <td>M</td>\n",
              "      <td>15</td>\n",
              "      <td>U</td>\n",
              "      <td>LE3</td>\n",
              "      <td>A</td>\n",
              "      <td>3</td>\n",
              "      <td>2</td>\n",
              "      <td>services</td>\n",
              "      <td>other</td>\n",
              "      <td>home</td>\n",
              "      <td>mother</td>\n",
              "      <td>1</td>\n",
              "      <td>2</td>\n",
              "      <td>0</td>\n",
              "      <td>no</td>\n",
              "      <td>yes</td>\n",
              "      <td>yes</td>\n",
              "      <td>no</td>\n",
              "      <td>yes</td>\n",
              "      <td>yes</td>\n",
              "      <td>yes</td>\n",
              "      <td>no</td>\n",
              "      <td>4</td>\n",
              "      <td>2</td>\n",
              "      <td>2</td>\n",
              "      <td>1</td>\n",
              "      <td>1</td>\n",
              "      <td>1</td>\n",
              "      <td>0</td>\n",
              "      <td>16</td>\n",
              "      <td>18</td>\n",
              "      <td>19</td>\n",
              "    </tr>\n",
              "    <tr>\n",
              "      <th>9</th>\n",
              "      <td>GP</td>\n",
              "      <td>M</td>\n",
              "      <td>15</td>\n",
              "      <td>U</td>\n",
              "      <td>GT3</td>\n",
              "      <td>T</td>\n",
              "      <td>3</td>\n",
              "      <td>4</td>\n",
              "      <td>other</td>\n",
              "      <td>other</td>\n",
              "      <td>home</td>\n",
              "      <td>mother</td>\n",
              "      <td>1</td>\n",
              "      <td>2</td>\n",
              "      <td>0</td>\n",
              "      <td>no</td>\n",
              "      <td>yes</td>\n",
              "      <td>yes</td>\n",
              "      <td>yes</td>\n",
              "      <td>yes</td>\n",
              "      <td>yes</td>\n",
              "      <td>yes</td>\n",
              "      <td>no</td>\n",
              "      <td>5</td>\n",
              "      <td>5</td>\n",
              "      <td>1</td>\n",
              "      <td>1</td>\n",
              "      <td>1</td>\n",
              "      <td>5</td>\n",
              "      <td>0</td>\n",
              "      <td>14</td>\n",
              "      <td>15</td>\n",
              "      <td>15</td>\n",
              "    </tr>\n",
              "    <tr>\n",
              "      <th>10</th>\n",
              "      <td>GP</td>\n",
              "      <td>F</td>\n",
              "      <td>15</td>\n",
              "      <td>U</td>\n",
              "      <td>GT3</td>\n",
              "      <td>T</td>\n",
              "      <td>4</td>\n",
              "      <td>4</td>\n",
              "      <td>teacher</td>\n",
              "      <td>health</td>\n",
              "      <td>reputation</td>\n",
              "      <td>mother</td>\n",
              "      <td>1</td>\n",
              "      <td>2</td>\n",
              "      <td>0</td>\n",
              "      <td>no</td>\n",
              "      <td>yes</td>\n",
              "      <td>yes</td>\n",
              "      <td>no</td>\n",
              "      <td>yes</td>\n",
              "      <td>yes</td>\n",
              "      <td>yes</td>\n",
              "      <td>no</td>\n",
              "      <td>3</td>\n",
              "      <td>3</td>\n",
              "      <td>3</td>\n",
              "      <td>1</td>\n",
              "      <td>2</td>\n",
              "      <td>2</td>\n",
              "      <td>0</td>\n",
              "      <td>10</td>\n",
              "      <td>8</td>\n",
              "      <td>9</td>\n",
              "    </tr>\n",
              "    <tr>\n",
              "      <th>11</th>\n",
              "      <td>GP</td>\n",
              "      <td>F</td>\n",
              "      <td>15</td>\n",
              "      <td>U</td>\n",
              "      <td>GT3</td>\n",
              "      <td>T</td>\n",
              "      <td>2</td>\n",
              "      <td>1</td>\n",
              "      <td>services</td>\n",
              "      <td>other</td>\n",
              "      <td>reputation</td>\n",
              "      <td>father</td>\n",
              "      <td>3</td>\n",
              "      <td>3</td>\n",
              "      <td>0</td>\n",
              "      <td>no</td>\n",
              "      <td>yes</td>\n",
              "      <td>no</td>\n",
              "      <td>yes</td>\n",
              "      <td>yes</td>\n",
              "      <td>yes</td>\n",
              "      <td>yes</td>\n",
              "      <td>no</td>\n",
              "      <td>5</td>\n",
              "      <td>2</td>\n",
              "      <td>2</td>\n",
              "      <td>1</td>\n",
              "      <td>1</td>\n",
              "      <td>4</td>\n",
              "      <td>4</td>\n",
              "      <td>10</td>\n",
              "      <td>12</td>\n",
              "      <td>12</td>\n",
              "    </tr>\n",
              "    <tr>\n",
              "      <th>12</th>\n",
              "      <td>GP</td>\n",
              "      <td>M</td>\n",
              "      <td>15</td>\n",
              "      <td>U</td>\n",
              "      <td>LE3</td>\n",
              "      <td>T</td>\n",
              "      <td>4</td>\n",
              "      <td>4</td>\n",
              "      <td>health</td>\n",
              "      <td>services</td>\n",
              "      <td>course</td>\n",
              "      <td>father</td>\n",
              "      <td>1</td>\n",
              "      <td>1</td>\n",
              "      <td>0</td>\n",
              "      <td>no</td>\n",
              "      <td>yes</td>\n",
              "      <td>yes</td>\n",
              "      <td>yes</td>\n",
              "      <td>yes</td>\n",
              "      <td>yes</td>\n",
              "      <td>yes</td>\n",
              "      <td>no</td>\n",
              "      <td>4</td>\n",
              "      <td>3</td>\n",
              "      <td>3</td>\n",
              "      <td>1</td>\n",
              "      <td>3</td>\n",
              "      <td>5</td>\n",
              "      <td>2</td>\n",
              "      <td>14</td>\n",
              "      <td>14</td>\n",
              "      <td>14</td>\n",
              "    </tr>\n",
              "    <tr>\n",
              "      <th>13</th>\n",
              "      <td>GP</td>\n",
              "      <td>M</td>\n",
              "      <td>15</td>\n",
              "      <td>U</td>\n",
              "      <td>GT3</td>\n",
              "      <td>T</td>\n",
              "      <td>4</td>\n",
              "      <td>3</td>\n",
              "      <td>teacher</td>\n",
              "      <td>other</td>\n",
              "      <td>course</td>\n",
              "      <td>mother</td>\n",
              "      <td>2</td>\n",
              "      <td>2</td>\n",
              "      <td>0</td>\n",
              "      <td>no</td>\n",
              "      <td>yes</td>\n",
              "      <td>yes</td>\n",
              "      <td>no</td>\n",
              "      <td>yes</td>\n",
              "      <td>yes</td>\n",
              "      <td>yes</td>\n",
              "      <td>no</td>\n",
              "      <td>5</td>\n",
              "      <td>4</td>\n",
              "      <td>3</td>\n",
              "      <td>1</td>\n",
              "      <td>2</td>\n",
              "      <td>3</td>\n",
              "      <td>2</td>\n",
              "      <td>10</td>\n",
              "      <td>10</td>\n",
              "      <td>11</td>\n",
              "    </tr>\n",
              "    <tr>\n",
              "      <th>14</th>\n",
              "      <td>GP</td>\n",
              "      <td>M</td>\n",
              "      <td>15</td>\n",
              "      <td>U</td>\n",
              "      <td>GT3</td>\n",
              "      <td>A</td>\n",
              "      <td>2</td>\n",
              "      <td>2</td>\n",
              "      <td>other</td>\n",
              "      <td>other</td>\n",
              "      <td>home</td>\n",
              "      <td>other</td>\n",
              "      <td>1</td>\n",
              "      <td>3</td>\n",
              "      <td>0</td>\n",
              "      <td>no</td>\n",
              "      <td>yes</td>\n",
              "      <td>no</td>\n",
              "      <td>no</td>\n",
              "      <td>yes</td>\n",
              "      <td>yes</td>\n",
              "      <td>yes</td>\n",
              "      <td>yes</td>\n",
              "      <td>4</td>\n",
              "      <td>5</td>\n",
              "      <td>2</td>\n",
              "      <td>1</td>\n",
              "      <td>1</td>\n",
              "      <td>3</td>\n",
              "      <td>0</td>\n",
              "      <td>14</td>\n",
              "      <td>16</td>\n",
              "      <td>16</td>\n",
              "    </tr>\n",
              "  </tbody>\n",
              "</table>\n",
              "</div>"
            ],
            "text/plain": [
              "   school sex  age address famsize Pstatus  ...  Walc  health absences  G1  G2  G3\n",
              "0      GP   F   18       U     GT3       A  ...     1       3        6   5   6   6\n",
              "1      GP   F   17       U     GT3       T  ...     1       3        4   5   5   6\n",
              "2      GP   F   15       U     LE3       T  ...     3       3       10   7   8  10\n",
              "3      GP   F   15       U     GT3       T  ...     1       5        2  15  14  15\n",
              "4      GP   F   16       U     GT3       T  ...     2       5        4   6  10  10\n",
              "5      GP   M   16       U     LE3       T  ...     2       5       10  15  15  15\n",
              "6      GP   M   16       U     LE3       T  ...     1       3        0  12  12  11\n",
              "7      GP   F   17       U     GT3       A  ...     1       1        6   6   5   6\n",
              "8      GP   M   15       U     LE3       A  ...     1       1        0  16  18  19\n",
              "9      GP   M   15       U     GT3       T  ...     1       5        0  14  15  15\n",
              "10     GP   F   15       U     GT3       T  ...     2       2        0  10   8   9\n",
              "11     GP   F   15       U     GT3       T  ...     1       4        4  10  12  12\n",
              "12     GP   M   15       U     LE3       T  ...     3       5        2  14  14  14\n",
              "13     GP   M   15       U     GT3       T  ...     2       3        2  10  10  11\n",
              "14     GP   M   15       U     GT3       A  ...     1       3        0  14  16  16\n",
              "\n",
              "[15 rows x 33 columns]"
            ]
          },
          "metadata": {
            "tags": []
          },
          "execution_count": 3
        }
      ]
    },
    {
      "cell_type": "markdown",
      "metadata": {
        "id": "SAfLOChxGE_v",
        "colab_type": "text"
      },
      "source": [
        "### Удаление столбцов, добавление столбцов, сортировка"
      ]
    },
    {
      "cell_type": "code",
      "metadata": {
        "id": "35T7VkJZ0Xx-",
        "colab_type": "code",
        "colab": {}
      },
      "source": [
        "# убираем столбцы G1 и G2, т.к. нас интересует только G3\n",
        "data = data.drop(columns=['G1', 'G2'])"
      ],
      "execution_count": 0,
      "outputs": []
    },
    {
      "cell_type": "code",
      "metadata": {
        "id": "m4DfsqxfjJjb",
        "colab_type": "code",
        "colab": {}
      },
      "source": [
        "# добавить столбец\n",
        "data['MeanAlc'] = (data['Walc']+data['Dalc'])/2"
      ],
      "execution_count": 0,
      "outputs": []
    },
    {
      "cell_type": "code",
      "metadata": {
        "id": "ir4FpZ5gjj7S",
        "colab_type": "code",
        "colab": {}
      },
      "source": [
        "data = data.drop(columns=['MeanAlc'])"
      ],
      "execution_count": 0,
      "outputs": []
    },
    {
      "cell_type": "code",
      "metadata": {
        "id": "RbrpUCD5GL8L",
        "colab_type": "code",
        "colab": {}
      },
      "source": [
        "# отсортируем по оценкам по убыванию\n",
        "sorted_data = data.sort_values(by='G3', ascending=False)"
      ],
      "execution_count": 0,
      "outputs": []
    },
    {
      "cell_type": "code",
      "metadata": {
        "id": "SlYMuug3GnNP",
        "colab_type": "code",
        "outputId": "3a2b0c3d-be2d-4147-ba9e-88f6e45b392b",
        "colab": {
          "base_uri": "https://localhost:8080/",
          "height": 224
        }
      },
      "source": [
        "# первые 5 учеников\n",
        "sorted_data.head(5)"
      ],
      "execution_count": 8,
      "outputs": [
        {
          "output_type": "execute_result",
          "data": {
            "text/html": [
              "<div>\n",
              "<style scoped>\n",
              "    .dataframe tbody tr th:only-of-type {\n",
              "        vertical-align: middle;\n",
              "    }\n",
              "\n",
              "    .dataframe tbody tr th {\n",
              "        vertical-align: top;\n",
              "    }\n",
              "\n",
              "    .dataframe thead th {\n",
              "        text-align: right;\n",
              "    }\n",
              "</style>\n",
              "<table border=\"1\" class=\"dataframe\">\n",
              "  <thead>\n",
              "    <tr style=\"text-align: right;\">\n",
              "      <th></th>\n",
              "      <th>school</th>\n",
              "      <th>sex</th>\n",
              "      <th>age</th>\n",
              "      <th>address</th>\n",
              "      <th>famsize</th>\n",
              "      <th>Pstatus</th>\n",
              "      <th>Medu</th>\n",
              "      <th>Fedu</th>\n",
              "      <th>Mjob</th>\n",
              "      <th>Fjob</th>\n",
              "      <th>reason</th>\n",
              "      <th>guardian</th>\n",
              "      <th>traveltime</th>\n",
              "      <th>studytime</th>\n",
              "      <th>failures</th>\n",
              "      <th>schoolsup</th>\n",
              "      <th>famsup</th>\n",
              "      <th>paid</th>\n",
              "      <th>activities</th>\n",
              "      <th>nursery</th>\n",
              "      <th>higher</th>\n",
              "      <th>internet</th>\n",
              "      <th>romantic</th>\n",
              "      <th>famrel</th>\n",
              "      <th>freetime</th>\n",
              "      <th>goout</th>\n",
              "      <th>Dalc</th>\n",
              "      <th>Walc</th>\n",
              "      <th>health</th>\n",
              "      <th>absences</th>\n",
              "      <th>G3</th>\n",
              "    </tr>\n",
              "  </thead>\n",
              "  <tbody>\n",
              "    <tr>\n",
              "      <th>47</th>\n",
              "      <td>GP</td>\n",
              "      <td>M</td>\n",
              "      <td>16</td>\n",
              "      <td>U</td>\n",
              "      <td>GT3</td>\n",
              "      <td>T</td>\n",
              "      <td>4</td>\n",
              "      <td>3</td>\n",
              "      <td>health</td>\n",
              "      <td>services</td>\n",
              "      <td>reputation</td>\n",
              "      <td>mother</td>\n",
              "      <td>1</td>\n",
              "      <td>4</td>\n",
              "      <td>0</td>\n",
              "      <td>no</td>\n",
              "      <td>no</td>\n",
              "      <td>no</td>\n",
              "      <td>yes</td>\n",
              "      <td>yes</td>\n",
              "      <td>yes</td>\n",
              "      <td>yes</td>\n",
              "      <td>no</td>\n",
              "      <td>4</td>\n",
              "      <td>2</td>\n",
              "      <td>2</td>\n",
              "      <td>1</td>\n",
              "      <td>1</td>\n",
              "      <td>2</td>\n",
              "      <td>4</td>\n",
              "      <td>20</td>\n",
              "    </tr>\n",
              "    <tr>\n",
              "      <th>113</th>\n",
              "      <td>GP</td>\n",
              "      <td>M</td>\n",
              "      <td>15</td>\n",
              "      <td>U</td>\n",
              "      <td>LE3</td>\n",
              "      <td>T</td>\n",
              "      <td>4</td>\n",
              "      <td>2</td>\n",
              "      <td>teacher</td>\n",
              "      <td>other</td>\n",
              "      <td>course</td>\n",
              "      <td>mother</td>\n",
              "      <td>1</td>\n",
              "      <td>1</td>\n",
              "      <td>0</td>\n",
              "      <td>no</td>\n",
              "      <td>no</td>\n",
              "      <td>no</td>\n",
              "      <td>no</td>\n",
              "      <td>yes</td>\n",
              "      <td>yes</td>\n",
              "      <td>yes</td>\n",
              "      <td>no</td>\n",
              "      <td>3</td>\n",
              "      <td>5</td>\n",
              "      <td>2</td>\n",
              "      <td>1</td>\n",
              "      <td>1</td>\n",
              "      <td>3</td>\n",
              "      <td>10</td>\n",
              "      <td>19</td>\n",
              "    </tr>\n",
              "    <tr>\n",
              "      <th>110</th>\n",
              "      <td>GP</td>\n",
              "      <td>M</td>\n",
              "      <td>15</td>\n",
              "      <td>U</td>\n",
              "      <td>LE3</td>\n",
              "      <td>A</td>\n",
              "      <td>4</td>\n",
              "      <td>4</td>\n",
              "      <td>teacher</td>\n",
              "      <td>teacher</td>\n",
              "      <td>course</td>\n",
              "      <td>mother</td>\n",
              "      <td>1</td>\n",
              "      <td>1</td>\n",
              "      <td>0</td>\n",
              "      <td>no</td>\n",
              "      <td>no</td>\n",
              "      <td>no</td>\n",
              "      <td>yes</td>\n",
              "      <td>yes</td>\n",
              "      <td>yes</td>\n",
              "      <td>yes</td>\n",
              "      <td>no</td>\n",
              "      <td>5</td>\n",
              "      <td>5</td>\n",
              "      <td>3</td>\n",
              "      <td>1</td>\n",
              "      <td>1</td>\n",
              "      <td>4</td>\n",
              "      <td>6</td>\n",
              "      <td>19</td>\n",
              "    </tr>\n",
              "    <tr>\n",
              "      <th>286</th>\n",
              "      <td>GP</td>\n",
              "      <td>F</td>\n",
              "      <td>18</td>\n",
              "      <td>U</td>\n",
              "      <td>GT3</td>\n",
              "      <td>T</td>\n",
              "      <td>2</td>\n",
              "      <td>2</td>\n",
              "      <td>at_home</td>\n",
              "      <td>at_home</td>\n",
              "      <td>other</td>\n",
              "      <td>mother</td>\n",
              "      <td>1</td>\n",
              "      <td>3</td>\n",
              "      <td>0</td>\n",
              "      <td>no</td>\n",
              "      <td>yes</td>\n",
              "      <td>yes</td>\n",
              "      <td>no</td>\n",
              "      <td>yes</td>\n",
              "      <td>yes</td>\n",
              "      <td>yes</td>\n",
              "      <td>no</td>\n",
              "      <td>4</td>\n",
              "      <td>3</td>\n",
              "      <td>3</td>\n",
              "      <td>1</td>\n",
              "      <td>2</td>\n",
              "      <td>2</td>\n",
              "      <td>5</td>\n",
              "      <td>19</td>\n",
              "    </tr>\n",
              "    <tr>\n",
              "      <th>8</th>\n",
              "      <td>GP</td>\n",
              "      <td>M</td>\n",
              "      <td>15</td>\n",
              "      <td>U</td>\n",
              "      <td>LE3</td>\n",
              "      <td>A</td>\n",
              "      <td>3</td>\n",
              "      <td>2</td>\n",
              "      <td>services</td>\n",
              "      <td>other</td>\n",
              "      <td>home</td>\n",
              "      <td>mother</td>\n",
              "      <td>1</td>\n",
              "      <td>2</td>\n",
              "      <td>0</td>\n",
              "      <td>no</td>\n",
              "      <td>yes</td>\n",
              "      <td>yes</td>\n",
              "      <td>no</td>\n",
              "      <td>yes</td>\n",
              "      <td>yes</td>\n",
              "      <td>yes</td>\n",
              "      <td>no</td>\n",
              "      <td>4</td>\n",
              "      <td>2</td>\n",
              "      <td>2</td>\n",
              "      <td>1</td>\n",
              "      <td>1</td>\n",
              "      <td>1</td>\n",
              "      <td>0</td>\n",
              "      <td>19</td>\n",
              "    </tr>\n",
              "  </tbody>\n",
              "</table>\n",
              "</div>"
            ],
            "text/plain": [
              "    school sex  age address famsize  ... Dalc  Walc  health absences  G3\n",
              "47      GP   M   16       U     GT3  ...    1     1       2        4  20\n",
              "113     GP   M   15       U     LE3  ...    1     1       3       10  19\n",
              "110     GP   M   15       U     LE3  ...    1     1       4        6  19\n",
              "286     GP   F   18       U     GT3  ...    1     2       2        5  19\n",
              "8       GP   M   15       U     LE3  ...    1     1       1        0  19\n",
              "\n",
              "[5 rows x 31 columns]"
            ]
          },
          "metadata": {
            "tags": []
          },
          "execution_count": 8
        }
      ]
    },
    {
      "cell_type": "code",
      "metadata": {
        "id": "2852DZ34Gpnx",
        "colab_type": "code",
        "outputId": "4f1729e5-f48f-4174-fa54-0c7e0a390280",
        "colab": {
          "base_uri": "https://localhost:8080/",
          "height": 224
        }
      },
      "source": [
        "# последние 5 учеников\n",
        "sorted_data.tail(5)"
      ],
      "execution_count": 9,
      "outputs": [
        {
          "output_type": "execute_result",
          "data": {
            "text/html": [
              "<div>\n",
              "<style scoped>\n",
              "    .dataframe tbody tr th:only-of-type {\n",
              "        vertical-align: middle;\n",
              "    }\n",
              "\n",
              "    .dataframe tbody tr th {\n",
              "        vertical-align: top;\n",
              "    }\n",
              "\n",
              "    .dataframe thead th {\n",
              "        text-align: right;\n",
              "    }\n",
              "</style>\n",
              "<table border=\"1\" class=\"dataframe\">\n",
              "  <thead>\n",
              "    <tr style=\"text-align: right;\">\n",
              "      <th></th>\n",
              "      <th>school</th>\n",
              "      <th>sex</th>\n",
              "      <th>age</th>\n",
              "      <th>address</th>\n",
              "      <th>famsize</th>\n",
              "      <th>Pstatus</th>\n",
              "      <th>Medu</th>\n",
              "      <th>Fedu</th>\n",
              "      <th>Mjob</th>\n",
              "      <th>Fjob</th>\n",
              "      <th>reason</th>\n",
              "      <th>guardian</th>\n",
              "      <th>traveltime</th>\n",
              "      <th>studytime</th>\n",
              "      <th>failures</th>\n",
              "      <th>schoolsup</th>\n",
              "      <th>famsup</th>\n",
              "      <th>paid</th>\n",
              "      <th>activities</th>\n",
              "      <th>nursery</th>\n",
              "      <th>higher</th>\n",
              "      <th>internet</th>\n",
              "      <th>romantic</th>\n",
              "      <th>famrel</th>\n",
              "      <th>freetime</th>\n",
              "      <th>goout</th>\n",
              "      <th>Dalc</th>\n",
              "      <th>Walc</th>\n",
              "      <th>health</th>\n",
              "      <th>absences</th>\n",
              "      <th>G3</th>\n",
              "    </tr>\n",
              "  </thead>\n",
              "  <tbody>\n",
              "    <tr>\n",
              "      <th>160</th>\n",
              "      <td>GP</td>\n",
              "      <td>M</td>\n",
              "      <td>17</td>\n",
              "      <td>R</td>\n",
              "      <td>LE3</td>\n",
              "      <td>T</td>\n",
              "      <td>2</td>\n",
              "      <td>1</td>\n",
              "      <td>at_home</td>\n",
              "      <td>other</td>\n",
              "      <td>course</td>\n",
              "      <td>mother</td>\n",
              "      <td>2</td>\n",
              "      <td>1</td>\n",
              "      <td>2</td>\n",
              "      <td>no</td>\n",
              "      <td>no</td>\n",
              "      <td>no</td>\n",
              "      <td>yes</td>\n",
              "      <td>yes</td>\n",
              "      <td>no</td>\n",
              "      <td>yes</td>\n",
              "      <td>yes</td>\n",
              "      <td>3</td>\n",
              "      <td>3</td>\n",
              "      <td>2</td>\n",
              "      <td>2</td>\n",
              "      <td>2</td>\n",
              "      <td>5</td>\n",
              "      <td>0</td>\n",
              "      <td>0</td>\n",
              "    </tr>\n",
              "    <tr>\n",
              "      <th>162</th>\n",
              "      <td>GP</td>\n",
              "      <td>M</td>\n",
              "      <td>16</td>\n",
              "      <td>U</td>\n",
              "      <td>LE3</td>\n",
              "      <td>T</td>\n",
              "      <td>1</td>\n",
              "      <td>2</td>\n",
              "      <td>other</td>\n",
              "      <td>other</td>\n",
              "      <td>course</td>\n",
              "      <td>mother</td>\n",
              "      <td>2</td>\n",
              "      <td>1</td>\n",
              "      <td>1</td>\n",
              "      <td>no</td>\n",
              "      <td>no</td>\n",
              "      <td>no</td>\n",
              "      <td>yes</td>\n",
              "      <td>yes</td>\n",
              "      <td>yes</td>\n",
              "      <td>no</td>\n",
              "      <td>no</td>\n",
              "      <td>4</td>\n",
              "      <td>4</td>\n",
              "      <td>4</td>\n",
              "      <td>2</td>\n",
              "      <td>4</td>\n",
              "      <td>5</td>\n",
              "      <td>0</td>\n",
              "      <td>0</td>\n",
              "    </tr>\n",
              "    <tr>\n",
              "      <th>168</th>\n",
              "      <td>GP</td>\n",
              "      <td>F</td>\n",
              "      <td>16</td>\n",
              "      <td>U</td>\n",
              "      <td>GT3</td>\n",
              "      <td>T</td>\n",
              "      <td>2</td>\n",
              "      <td>2</td>\n",
              "      <td>other</td>\n",
              "      <td>other</td>\n",
              "      <td>home</td>\n",
              "      <td>mother</td>\n",
              "      <td>1</td>\n",
              "      <td>2</td>\n",
              "      <td>0</td>\n",
              "      <td>no</td>\n",
              "      <td>yes</td>\n",
              "      <td>yes</td>\n",
              "      <td>no</td>\n",
              "      <td>no</td>\n",
              "      <td>yes</td>\n",
              "      <td>yes</td>\n",
              "      <td>no</td>\n",
              "      <td>5</td>\n",
              "      <td>1</td>\n",
              "      <td>5</td>\n",
              "      <td>1</td>\n",
              "      <td>1</td>\n",
              "      <td>4</td>\n",
              "      <td>0</td>\n",
              "      <td>0</td>\n",
              "    </tr>\n",
              "    <tr>\n",
              "      <th>367</th>\n",
              "      <td>MS</td>\n",
              "      <td>F</td>\n",
              "      <td>17</td>\n",
              "      <td>R</td>\n",
              "      <td>GT3</td>\n",
              "      <td>T</td>\n",
              "      <td>1</td>\n",
              "      <td>1</td>\n",
              "      <td>other</td>\n",
              "      <td>services</td>\n",
              "      <td>reputation</td>\n",
              "      <td>mother</td>\n",
              "      <td>3</td>\n",
              "      <td>1</td>\n",
              "      <td>1</td>\n",
              "      <td>no</td>\n",
              "      <td>yes</td>\n",
              "      <td>yes</td>\n",
              "      <td>no</td>\n",
              "      <td>yes</td>\n",
              "      <td>yes</td>\n",
              "      <td>yes</td>\n",
              "      <td>yes</td>\n",
              "      <td>5</td>\n",
              "      <td>2</td>\n",
              "      <td>1</td>\n",
              "      <td>1</td>\n",
              "      <td>2</td>\n",
              "      <td>1</td>\n",
              "      <td>0</td>\n",
              "      <td>0</td>\n",
              "    </tr>\n",
              "    <tr>\n",
              "      <th>150</th>\n",
              "      <td>GP</td>\n",
              "      <td>M</td>\n",
              "      <td>18</td>\n",
              "      <td>U</td>\n",
              "      <td>LE3</td>\n",
              "      <td>T</td>\n",
              "      <td>1</td>\n",
              "      <td>1</td>\n",
              "      <td>other</td>\n",
              "      <td>other</td>\n",
              "      <td>course</td>\n",
              "      <td>mother</td>\n",
              "      <td>1</td>\n",
              "      <td>1</td>\n",
              "      <td>3</td>\n",
              "      <td>no</td>\n",
              "      <td>no</td>\n",
              "      <td>no</td>\n",
              "      <td>no</td>\n",
              "      <td>yes</td>\n",
              "      <td>no</td>\n",
              "      <td>yes</td>\n",
              "      <td>yes</td>\n",
              "      <td>2</td>\n",
              "      <td>3</td>\n",
              "      <td>5</td>\n",
              "      <td>2</td>\n",
              "      <td>5</td>\n",
              "      <td>4</td>\n",
              "      <td>0</td>\n",
              "      <td>0</td>\n",
              "    </tr>\n",
              "  </tbody>\n",
              "</table>\n",
              "</div>"
            ],
            "text/plain": [
              "    school sex  age address famsize  ... Dalc  Walc  health absences G3\n",
              "160     GP   M   17       R     LE3  ...    2     2       5        0  0\n",
              "162     GP   M   16       U     LE3  ...    2     4       5        0  0\n",
              "168     GP   F   16       U     GT3  ...    1     1       4        0  0\n",
              "367     MS   F   17       R     GT3  ...    1     2       1        0  0\n",
              "150     GP   M   18       U     LE3  ...    2     5       4        0  0\n",
              "\n",
              "[5 rows x 31 columns]"
            ]
          },
          "metadata": {
            "tags": []
          },
          "execution_count": 9
        }
      ]
    },
    {
      "cell_type": "markdown",
      "metadata": {
        "id": "LOLAtkIW3yYz",
        "colab_type": "text"
      },
      "source": [
        "### Индексация"
      ]
    },
    {
      "cell_type": "code",
      "metadata": {
        "id": "I9ETD9OX1Fos",
        "colab_type": "code",
        "outputId": "b5471c01-d980-4441-bc1e-b7afe954e4f2",
        "colab": {
          "base_uri": "https://localhost:8080/",
          "height": 561
        }
      },
      "source": [
        "# индексация - строки\n",
        "data.loc[0]\n",
        "# data.loc[:10]"
      ],
      "execution_count": 10,
      "outputs": [
        {
          "output_type": "execute_result",
          "data": {
            "text/plain": [
              "school             GP\n",
              "sex                 F\n",
              "age                18\n",
              "address             U\n",
              "famsize           GT3\n",
              "Pstatus             A\n",
              "Medu                4\n",
              "Fedu                4\n",
              "Mjob          at_home\n",
              "Fjob          teacher\n",
              "reason         course\n",
              "guardian       mother\n",
              "traveltime          2\n",
              "studytime           2\n",
              "failures            0\n",
              "schoolsup         yes\n",
              "famsup             no\n",
              "paid               no\n",
              "activities         no\n",
              "nursery           yes\n",
              "higher            yes\n",
              "internet           no\n",
              "romantic           no\n",
              "famrel              4\n",
              "freetime            3\n",
              "goout               4\n",
              "Dalc                1\n",
              "Walc                1\n",
              "health              3\n",
              "absences            6\n",
              "G3                  6\n",
              "Name: 0, dtype: object"
            ]
          },
          "metadata": {
            "tags": []
          },
          "execution_count": 10
        }
      ]
    },
    {
      "cell_type": "code",
      "metadata": {
        "id": "D5rLtD-C1Law",
        "colab_type": "code",
        "outputId": "31e05077-0d37-4450-e98b-7fec6a4fac4a",
        "colab": {
          "base_uri": "https://localhost:8080/",
          "height": 419
        }
      },
      "source": [
        "# индексация - столбцы\n",
        "data['G3']\n",
        "# data[['school', 'address']] # несколько столбцов"
      ],
      "execution_count": 39,
      "outputs": [
        {
          "output_type": "execute_result",
          "data": {
            "text/html": [
              "<div>\n",
              "<style scoped>\n",
              "    .dataframe tbody tr th:only-of-type {\n",
              "        vertical-align: middle;\n",
              "    }\n",
              "\n",
              "    .dataframe tbody tr th {\n",
              "        vertical-align: top;\n",
              "    }\n",
              "\n",
              "    .dataframe thead th {\n",
              "        text-align: right;\n",
              "    }\n",
              "</style>\n",
              "<table border=\"1\" class=\"dataframe\">\n",
              "  <thead>\n",
              "    <tr style=\"text-align: right;\">\n",
              "      <th></th>\n",
              "      <th>school</th>\n",
              "      <th>address</th>\n",
              "    </tr>\n",
              "  </thead>\n",
              "  <tbody>\n",
              "    <tr>\n",
              "      <th>0</th>\n",
              "      <td>GP</td>\n",
              "      <td>U</td>\n",
              "    </tr>\n",
              "    <tr>\n",
              "      <th>1</th>\n",
              "      <td>GP</td>\n",
              "      <td>U</td>\n",
              "    </tr>\n",
              "    <tr>\n",
              "      <th>2</th>\n",
              "      <td>GP</td>\n",
              "      <td>U</td>\n",
              "    </tr>\n",
              "    <tr>\n",
              "      <th>3</th>\n",
              "      <td>GP</td>\n",
              "      <td>U</td>\n",
              "    </tr>\n",
              "    <tr>\n",
              "      <th>4</th>\n",
              "      <td>GP</td>\n",
              "      <td>U</td>\n",
              "    </tr>\n",
              "    <tr>\n",
              "      <th>...</th>\n",
              "      <td>...</td>\n",
              "      <td>...</td>\n",
              "    </tr>\n",
              "    <tr>\n",
              "      <th>390</th>\n",
              "      <td>MS</td>\n",
              "      <td>U</td>\n",
              "    </tr>\n",
              "    <tr>\n",
              "      <th>391</th>\n",
              "      <td>MS</td>\n",
              "      <td>U</td>\n",
              "    </tr>\n",
              "    <tr>\n",
              "      <th>392</th>\n",
              "      <td>MS</td>\n",
              "      <td>R</td>\n",
              "    </tr>\n",
              "    <tr>\n",
              "      <th>393</th>\n",
              "      <td>MS</td>\n",
              "      <td>R</td>\n",
              "    </tr>\n",
              "    <tr>\n",
              "      <th>394</th>\n",
              "      <td>MS</td>\n",
              "      <td>U</td>\n",
              "    </tr>\n",
              "  </tbody>\n",
              "</table>\n",
              "<p>395 rows × 2 columns</p>\n",
              "</div>"
            ],
            "text/plain": [
              "    school address\n",
              "0       GP       U\n",
              "1       GP       U\n",
              "2       GP       U\n",
              "3       GP       U\n",
              "4       GP       U\n",
              "..     ...     ...\n",
              "390     MS       U\n",
              "391     MS       U\n",
              "392     MS       R\n",
              "393     MS       R\n",
              "394     MS       U\n",
              "\n",
              "[395 rows x 2 columns]"
            ]
          },
          "metadata": {
            "tags": []
          },
          "execution_count": 39
        }
      ]
    },
    {
      "cell_type": "code",
      "metadata": {
        "id": "CVlgjrz9HOif",
        "colab_type": "code",
        "outputId": "a8e0c9ca-5151-476f-b3c4-5d93ec7fbb0e",
        "colab": {
          "base_uri": "https://localhost:8080/",
          "height": 34
        }
      },
      "source": [
        "# и то, и другое\n",
        "data['G3'].loc[0]\n",
        "# data.loc[0]['G3'] # так тоже можно"
      ],
      "execution_count": 12,
      "outputs": [
        {
          "output_type": "execute_result",
          "data": {
            "text/plain": [
              "6"
            ]
          },
          "metadata": {
            "tags": []
          },
          "execution_count": 12
        }
      ]
    },
    {
      "cell_type": "code",
      "metadata": {
        "id": "ZdvuROH618FB",
        "colab_type": "code",
        "outputId": "1e46e7cb-23e6-4c92-96c9-d36d56781855",
        "colab": {
          "base_uri": "https://localhost:8080/",
          "height": 34
        }
      },
      "source": [
        "# индексация по условию\n",
        "# средняя оценка людей, состоящих в отношениях\n",
        "data[data['romantic'] == 'yes']['G3'].mean()"
      ],
      "execution_count": 13,
      "outputs": [
        {
          "output_type": "execute_result",
          "data": {
            "text/plain": [
              "9.575757575757576"
            ]
          },
          "metadata": {
            "tags": []
          },
          "execution_count": 13
        }
      ]
    },
    {
      "cell_type": "code",
      "metadata": {
        "id": "OjeqMF5G3iNZ",
        "colab_type": "code",
        "outputId": "98a8fcb8-fe2c-476a-ed31-bc94243fd779",
        "colab": {
          "base_uri": "https://localhost:8080/",
          "height": 34
        }
      },
      "source": [
        "# и не состоящих\n",
        "data[data['romantic'] == 'no']['G3'].mean()"
      ],
      "execution_count": 14,
      "outputs": [
        {
          "output_type": "execute_result",
          "data": {
            "text/plain": [
              "10.836501901140684"
            ]
          },
          "metadata": {
            "tags": []
          },
          "execution_count": 14
        }
      ]
    },
    {
      "cell_type": "markdown",
      "metadata": {
        "id": "c5HZgTOw2Ixi",
        "colab_type": "text"
      },
      "source": [
        "###Задание\n",
        "Найти средний возраст тех, кто много пьет (Dalc и Walc = 4) и тех, кто мало пьёт (Dalc и Walc = 1)\n"
      ]
    },
    {
      "cell_type": "markdown",
      "metadata": {
        "id": "-44O4OxNae_n",
        "colab_type": "text"
      },
      "source": [
        "## Типы признаков и их статистические характеристики"
      ]
    },
    {
      "cell_type": "code",
      "metadata": {
        "id": "XGtbRaRr0GfR",
        "colab_type": "code",
        "outputId": "8a8245dd-96d0-482e-e573-30c93fef9f42",
        "colab": {
          "base_uri": "https://localhost:8080/",
          "height": 119
        }
      },
      "source": [
        "# названия столбцов\n",
        "data.columns"
      ],
      "execution_count": 15,
      "outputs": [
        {
          "output_type": "execute_result",
          "data": {
            "text/plain": [
              "Index(['school', 'sex', 'age', 'address', 'famsize', 'Pstatus', 'Medu', 'Fedu',\n",
              "       'Mjob', 'Fjob', 'reason', 'guardian', 'traveltime', 'studytime',\n",
              "       'failures', 'schoolsup', 'famsup', 'paid', 'activities', 'nursery',\n",
              "       'higher', 'internet', 'romantic', 'famrel', 'freetime', 'goout', 'Dalc',\n",
              "       'Walc', 'health', 'absences', 'G3'],\n",
              "      dtype='object')"
            ]
          },
          "metadata": {
            "tags": []
          },
          "execution_count": 15
        }
      ]
    },
    {
      "cell_type": "code",
      "metadata": {
        "id": "y2-m4mv-suQw",
        "colab_type": "code",
        "outputId": "aee5b4ad-a749-48a1-c6d6-291be3d3bb92",
        "colab": {
          "base_uri": "https://localhost:8080/",
          "height": 629
        }
      },
      "source": [
        "# количестов объектов, названия и типы признаков\n",
        "data.info()"
      ],
      "execution_count": 16,
      "outputs": [
        {
          "output_type": "stream",
          "text": [
            "<class 'pandas.core.frame.DataFrame'>\n",
            "RangeIndex: 395 entries, 0 to 394\n",
            "Data columns (total 31 columns):\n",
            "school        395 non-null object\n",
            "sex           395 non-null object\n",
            "age           395 non-null int64\n",
            "address       395 non-null object\n",
            "famsize       395 non-null object\n",
            "Pstatus       395 non-null object\n",
            "Medu          395 non-null int64\n",
            "Fedu          395 non-null int64\n",
            "Mjob          395 non-null object\n",
            "Fjob          395 non-null object\n",
            "reason        395 non-null object\n",
            "guardian      395 non-null object\n",
            "traveltime    395 non-null int64\n",
            "studytime     395 non-null int64\n",
            "failures      395 non-null int64\n",
            "schoolsup     395 non-null object\n",
            "famsup        395 non-null object\n",
            "paid          395 non-null object\n",
            "activities    395 non-null object\n",
            "nursery       395 non-null object\n",
            "higher        395 non-null object\n",
            "internet      395 non-null object\n",
            "romantic      395 non-null object\n",
            "famrel        395 non-null int64\n",
            "freetime      395 non-null int64\n",
            "goout         395 non-null int64\n",
            "Dalc          395 non-null int64\n",
            "Walc          395 non-null int64\n",
            "health        395 non-null int64\n",
            "absences      395 non-null int64\n",
            "G3            395 non-null int64\n",
            "dtypes: int64(14), object(17)\n",
            "memory usage: 95.8+ KB\n"
          ],
          "name": "stdout"
        }
      ]
    },
    {
      "cell_type": "code",
      "metadata": {
        "id": "Ei_DJcyvinGX",
        "colab_type": "code",
        "outputId": "302f7fd9-d378-41c5-c5b9-a6793c4a650c",
        "colab": {
          "base_uri": "https://localhost:8080/",
          "height": 297
        }
      },
      "source": [
        "# узнать разные статистические характеристики признаков \n",
        "data.describe()"
      ],
      "execution_count": 17,
      "outputs": [
        {
          "output_type": "execute_result",
          "data": {
            "text/html": [
              "<div>\n",
              "<style scoped>\n",
              "    .dataframe tbody tr th:only-of-type {\n",
              "        vertical-align: middle;\n",
              "    }\n",
              "\n",
              "    .dataframe tbody tr th {\n",
              "        vertical-align: top;\n",
              "    }\n",
              "\n",
              "    .dataframe thead th {\n",
              "        text-align: right;\n",
              "    }\n",
              "</style>\n",
              "<table border=\"1\" class=\"dataframe\">\n",
              "  <thead>\n",
              "    <tr style=\"text-align: right;\">\n",
              "      <th></th>\n",
              "      <th>age</th>\n",
              "      <th>Medu</th>\n",
              "      <th>Fedu</th>\n",
              "      <th>traveltime</th>\n",
              "      <th>studytime</th>\n",
              "      <th>failures</th>\n",
              "      <th>famrel</th>\n",
              "      <th>freetime</th>\n",
              "      <th>goout</th>\n",
              "      <th>Dalc</th>\n",
              "      <th>Walc</th>\n",
              "      <th>health</th>\n",
              "      <th>absences</th>\n",
              "      <th>G3</th>\n",
              "    </tr>\n",
              "  </thead>\n",
              "  <tbody>\n",
              "    <tr>\n",
              "      <th>count</th>\n",
              "      <td>395.000000</td>\n",
              "      <td>395.000000</td>\n",
              "      <td>395.000000</td>\n",
              "      <td>395.000000</td>\n",
              "      <td>395.000000</td>\n",
              "      <td>395.000000</td>\n",
              "      <td>395.000000</td>\n",
              "      <td>395.000000</td>\n",
              "      <td>395.000000</td>\n",
              "      <td>395.000000</td>\n",
              "      <td>395.000000</td>\n",
              "      <td>395.000000</td>\n",
              "      <td>395.000000</td>\n",
              "      <td>395.000000</td>\n",
              "    </tr>\n",
              "    <tr>\n",
              "      <th>mean</th>\n",
              "      <td>16.696203</td>\n",
              "      <td>2.749367</td>\n",
              "      <td>2.521519</td>\n",
              "      <td>1.448101</td>\n",
              "      <td>2.035443</td>\n",
              "      <td>0.334177</td>\n",
              "      <td>3.944304</td>\n",
              "      <td>3.235443</td>\n",
              "      <td>3.108861</td>\n",
              "      <td>1.481013</td>\n",
              "      <td>2.291139</td>\n",
              "      <td>3.554430</td>\n",
              "      <td>5.708861</td>\n",
              "      <td>10.415190</td>\n",
              "    </tr>\n",
              "    <tr>\n",
              "      <th>std</th>\n",
              "      <td>1.276043</td>\n",
              "      <td>1.094735</td>\n",
              "      <td>1.088201</td>\n",
              "      <td>0.697505</td>\n",
              "      <td>0.839240</td>\n",
              "      <td>0.743651</td>\n",
              "      <td>0.896659</td>\n",
              "      <td>0.998862</td>\n",
              "      <td>1.113278</td>\n",
              "      <td>0.890741</td>\n",
              "      <td>1.287897</td>\n",
              "      <td>1.390303</td>\n",
              "      <td>8.003096</td>\n",
              "      <td>4.581443</td>\n",
              "    </tr>\n",
              "    <tr>\n",
              "      <th>min</th>\n",
              "      <td>15.000000</td>\n",
              "      <td>0.000000</td>\n",
              "      <td>0.000000</td>\n",
              "      <td>1.000000</td>\n",
              "      <td>1.000000</td>\n",
              "      <td>0.000000</td>\n",
              "      <td>1.000000</td>\n",
              "      <td>1.000000</td>\n",
              "      <td>1.000000</td>\n",
              "      <td>1.000000</td>\n",
              "      <td>1.000000</td>\n",
              "      <td>1.000000</td>\n",
              "      <td>0.000000</td>\n",
              "      <td>0.000000</td>\n",
              "    </tr>\n",
              "    <tr>\n",
              "      <th>25%</th>\n",
              "      <td>16.000000</td>\n",
              "      <td>2.000000</td>\n",
              "      <td>2.000000</td>\n",
              "      <td>1.000000</td>\n",
              "      <td>1.000000</td>\n",
              "      <td>0.000000</td>\n",
              "      <td>4.000000</td>\n",
              "      <td>3.000000</td>\n",
              "      <td>2.000000</td>\n",
              "      <td>1.000000</td>\n",
              "      <td>1.000000</td>\n",
              "      <td>3.000000</td>\n",
              "      <td>0.000000</td>\n",
              "      <td>8.000000</td>\n",
              "    </tr>\n",
              "    <tr>\n",
              "      <th>50%</th>\n",
              "      <td>17.000000</td>\n",
              "      <td>3.000000</td>\n",
              "      <td>2.000000</td>\n",
              "      <td>1.000000</td>\n",
              "      <td>2.000000</td>\n",
              "      <td>0.000000</td>\n",
              "      <td>4.000000</td>\n",
              "      <td>3.000000</td>\n",
              "      <td>3.000000</td>\n",
              "      <td>1.000000</td>\n",
              "      <td>2.000000</td>\n",
              "      <td>4.000000</td>\n",
              "      <td>4.000000</td>\n",
              "      <td>11.000000</td>\n",
              "    </tr>\n",
              "    <tr>\n",
              "      <th>75%</th>\n",
              "      <td>18.000000</td>\n",
              "      <td>4.000000</td>\n",
              "      <td>3.000000</td>\n",
              "      <td>2.000000</td>\n",
              "      <td>2.000000</td>\n",
              "      <td>0.000000</td>\n",
              "      <td>5.000000</td>\n",
              "      <td>4.000000</td>\n",
              "      <td>4.000000</td>\n",
              "      <td>2.000000</td>\n",
              "      <td>3.000000</td>\n",
              "      <td>5.000000</td>\n",
              "      <td>8.000000</td>\n",
              "      <td>14.000000</td>\n",
              "    </tr>\n",
              "    <tr>\n",
              "      <th>max</th>\n",
              "      <td>22.000000</td>\n",
              "      <td>4.000000</td>\n",
              "      <td>4.000000</td>\n",
              "      <td>4.000000</td>\n",
              "      <td>4.000000</td>\n",
              "      <td>3.000000</td>\n",
              "      <td>5.000000</td>\n",
              "      <td>5.000000</td>\n",
              "      <td>5.000000</td>\n",
              "      <td>5.000000</td>\n",
              "      <td>5.000000</td>\n",
              "      <td>5.000000</td>\n",
              "      <td>75.000000</td>\n",
              "      <td>20.000000</td>\n",
              "    </tr>\n",
              "  </tbody>\n",
              "</table>\n",
              "</div>"
            ],
            "text/plain": [
              "              age        Medu        Fedu  ...      health    absences          G3\n",
              "count  395.000000  395.000000  395.000000  ...  395.000000  395.000000  395.000000\n",
              "mean    16.696203    2.749367    2.521519  ...    3.554430    5.708861   10.415190\n",
              "std      1.276043    1.094735    1.088201  ...    1.390303    8.003096    4.581443\n",
              "min     15.000000    0.000000    0.000000  ...    1.000000    0.000000    0.000000\n",
              "25%     16.000000    2.000000    2.000000  ...    3.000000    0.000000    8.000000\n",
              "50%     17.000000    3.000000    2.000000  ...    4.000000    4.000000   11.000000\n",
              "75%     18.000000    4.000000    3.000000  ...    5.000000    8.000000   14.000000\n",
              "max     22.000000    4.000000    4.000000  ...    5.000000   75.000000   20.000000\n",
              "\n",
              "[8 rows x 14 columns]"
            ]
          },
          "metadata": {
            "tags": []
          },
          "execution_count": 17
        }
      ]
    },
    {
      "cell_type": "code",
      "metadata": {
        "id": "1goKihpPtWhv",
        "colab_type": "code",
        "outputId": "7be17ec9-562d-4d70-c71b-eb65aeb5ea5c",
        "colab": {
          "base_uri": "https://localhost:8080/",
          "height": 173
        }
      },
      "source": [
        "# то же самое для бинарных и категориальных признаков\n",
        "# в include пишем нужные типы переменных\n",
        "data.describe(include=['object'])"
      ],
      "execution_count": 18,
      "outputs": [
        {
          "output_type": "execute_result",
          "data": {
            "text/html": [
              "<div>\n",
              "<style scoped>\n",
              "    .dataframe tbody tr th:only-of-type {\n",
              "        vertical-align: middle;\n",
              "    }\n",
              "\n",
              "    .dataframe tbody tr th {\n",
              "        vertical-align: top;\n",
              "    }\n",
              "\n",
              "    .dataframe thead th {\n",
              "        text-align: right;\n",
              "    }\n",
              "</style>\n",
              "<table border=\"1\" class=\"dataframe\">\n",
              "  <thead>\n",
              "    <tr style=\"text-align: right;\">\n",
              "      <th></th>\n",
              "      <th>school</th>\n",
              "      <th>sex</th>\n",
              "      <th>address</th>\n",
              "      <th>famsize</th>\n",
              "      <th>Pstatus</th>\n",
              "      <th>Mjob</th>\n",
              "      <th>Fjob</th>\n",
              "      <th>reason</th>\n",
              "      <th>guardian</th>\n",
              "      <th>schoolsup</th>\n",
              "      <th>famsup</th>\n",
              "      <th>paid</th>\n",
              "      <th>activities</th>\n",
              "      <th>nursery</th>\n",
              "      <th>higher</th>\n",
              "      <th>internet</th>\n",
              "      <th>romantic</th>\n",
              "    </tr>\n",
              "  </thead>\n",
              "  <tbody>\n",
              "    <tr>\n",
              "      <th>count</th>\n",
              "      <td>395</td>\n",
              "      <td>395</td>\n",
              "      <td>395</td>\n",
              "      <td>395</td>\n",
              "      <td>395</td>\n",
              "      <td>395</td>\n",
              "      <td>395</td>\n",
              "      <td>395</td>\n",
              "      <td>395</td>\n",
              "      <td>395</td>\n",
              "      <td>395</td>\n",
              "      <td>395</td>\n",
              "      <td>395</td>\n",
              "      <td>395</td>\n",
              "      <td>395</td>\n",
              "      <td>395</td>\n",
              "      <td>395</td>\n",
              "    </tr>\n",
              "    <tr>\n",
              "      <th>unique</th>\n",
              "      <td>2</td>\n",
              "      <td>2</td>\n",
              "      <td>2</td>\n",
              "      <td>2</td>\n",
              "      <td>2</td>\n",
              "      <td>5</td>\n",
              "      <td>5</td>\n",
              "      <td>4</td>\n",
              "      <td>3</td>\n",
              "      <td>2</td>\n",
              "      <td>2</td>\n",
              "      <td>2</td>\n",
              "      <td>2</td>\n",
              "      <td>2</td>\n",
              "      <td>2</td>\n",
              "      <td>2</td>\n",
              "      <td>2</td>\n",
              "    </tr>\n",
              "    <tr>\n",
              "      <th>top</th>\n",
              "      <td>GP</td>\n",
              "      <td>F</td>\n",
              "      <td>U</td>\n",
              "      <td>GT3</td>\n",
              "      <td>T</td>\n",
              "      <td>other</td>\n",
              "      <td>other</td>\n",
              "      <td>course</td>\n",
              "      <td>mother</td>\n",
              "      <td>no</td>\n",
              "      <td>yes</td>\n",
              "      <td>no</td>\n",
              "      <td>yes</td>\n",
              "      <td>yes</td>\n",
              "      <td>yes</td>\n",
              "      <td>yes</td>\n",
              "      <td>no</td>\n",
              "    </tr>\n",
              "    <tr>\n",
              "      <th>freq</th>\n",
              "      <td>349</td>\n",
              "      <td>208</td>\n",
              "      <td>307</td>\n",
              "      <td>281</td>\n",
              "      <td>354</td>\n",
              "      <td>141</td>\n",
              "      <td>217</td>\n",
              "      <td>145</td>\n",
              "      <td>273</td>\n",
              "      <td>344</td>\n",
              "      <td>242</td>\n",
              "      <td>214</td>\n",
              "      <td>201</td>\n",
              "      <td>314</td>\n",
              "      <td>375</td>\n",
              "      <td>329</td>\n",
              "      <td>263</td>\n",
              "    </tr>\n",
              "  </tbody>\n",
              "</table>\n",
              "</div>"
            ],
            "text/plain": [
              "       school  sex address famsize  ... nursery higher internet romantic\n",
              "count     395  395     395     395  ...     395    395      395      395\n",
              "unique      2    2       2       2  ...       2      2        2        2\n",
              "top        GP    F       U     GT3  ...     yes    yes      yes       no\n",
              "freq      349  208     307     281  ...     314    375      329      263\n",
              "\n",
              "[4 rows x 17 columns]"
            ]
          },
          "metadata": {
            "tags": []
          },
          "execution_count": 18
        }
      ]
    },
    {
      "cell_type": "markdown",
      "metadata": {
        "id": "Z9_iBPJ2s8M0",
        "colab_type": "text"
      },
      "source": [
        "Для категориальных (тип object) и булевых (тип bool) признаков можно воспользоваться методом value_counts."
      ]
    },
    {
      "cell_type": "code",
      "metadata": {
        "id": "uQlt1Jb-uq-r",
        "colab_type": "code",
        "outputId": "a046fcf6-fd41-44b9-d230-482ecdf5e717",
        "colab": {
          "base_uri": "https://localhost:8080/",
          "height": 119
        }
      },
      "source": [
        "# узнаем какие профессии родителей встречаются чаще всего\n",
        "data['Mjob'].value_counts()"
      ],
      "execution_count": 19,
      "outputs": [
        {
          "output_type": "execute_result",
          "data": {
            "text/plain": [
              "other       141\n",
              "services    103\n",
              "at_home      59\n",
              "teacher      58\n",
              "health       34\n",
              "Name: Mjob, dtype: int64"
            ]
          },
          "metadata": {
            "tags": []
          },
          "execution_count": 19
        }
      ]
    },
    {
      "cell_type": "code",
      "metadata": {
        "id": "Ff4svhj0vfwv",
        "colab_type": "code",
        "outputId": "7152335e-372d-4813-c335-7898c105b510",
        "colab": {
          "base_uri": "https://localhost:8080/",
          "height": 119
        }
      },
      "source": [
        "# то же самое, но в % соотношении\n",
        "data['Mjob'].value_counts(normalize=True)"
      ],
      "execution_count": 20,
      "outputs": [
        {
          "output_type": "execute_result",
          "data": {
            "text/plain": [
              "other       0.356962\n",
              "services    0.260759\n",
              "at_home     0.149367\n",
              "teacher     0.146835\n",
              "health      0.086076\n",
              "Name: Mjob, dtype: float64"
            ]
          },
          "metadata": {
            "tags": []
          },
          "execution_count": 20
        }
      ]
    },
    {
      "cell_type": "code",
      "metadata": {
        "id": "z61i6WXmvSlg",
        "colab_type": "code",
        "outputId": "aede92dc-40ed-4595-81d9-89d0ae6016bc",
        "colab": {
          "base_uri": "https://localhost:8080/",
          "height": 119
        }
      },
      "source": [
        "data['Fjob'].value_counts()"
      ],
      "execution_count": 21,
      "outputs": [
        {
          "output_type": "execute_result",
          "data": {
            "text/plain": [
              "other       217\n",
              "services    111\n",
              "teacher      29\n",
              "at_home      20\n",
              "health       18\n",
              "Name: Fjob, dtype: int64"
            ]
          },
          "metadata": {
            "tags": []
          },
          "execution_count": 21
        }
      ]
    },
    {
      "cell_type": "markdown",
      "metadata": {
        "id": "zn5rqAbIhMjK",
        "colab_type": "text"
      },
      "source": [
        "### Сводные таблицы"
      ]
    },
    {
      "cell_type": "code",
      "metadata": {
        "id": "cMjq8cnSIKU6",
        "colab_type": "code",
        "outputId": "128bd2ea-9568-45dd-948d-3a99985932c1",
        "colab": {
          "base_uri": "https://localhost:8080/",
          "height": 0
        }
      },
      "source": [
        "# pd.crosstab(data['sex'], data['romantic'])\n",
        "pd.crosstab(data['sex'], data['romantic'], normalize=True)"
      ],
      "execution_count": 22,
      "outputs": [
        {
          "output_type": "execute_result",
          "data": {
            "text/html": [
              "<div>\n",
              "<style scoped>\n",
              "    .dataframe tbody tr th:only-of-type {\n",
              "        vertical-align: middle;\n",
              "    }\n",
              "\n",
              "    .dataframe tbody tr th {\n",
              "        vertical-align: top;\n",
              "    }\n",
              "\n",
              "    .dataframe thead th {\n",
              "        text-align: right;\n",
              "    }\n",
              "</style>\n",
              "<table border=\"1\" class=\"dataframe\">\n",
              "  <thead>\n",
              "    <tr style=\"text-align: right;\">\n",
              "      <th>romantic</th>\n",
              "      <th>no</th>\n",
              "      <th>yes</th>\n",
              "    </tr>\n",
              "    <tr>\n",
              "      <th>sex</th>\n",
              "      <th></th>\n",
              "      <th></th>\n",
              "    </tr>\n",
              "  </thead>\n",
              "  <tbody>\n",
              "    <tr>\n",
              "      <th>F</th>\n",
              "      <td>0.326582</td>\n",
              "      <td>0.200000</td>\n",
              "    </tr>\n",
              "    <tr>\n",
              "      <th>M</th>\n",
              "      <td>0.339241</td>\n",
              "      <td>0.134177</td>\n",
              "    </tr>\n",
              "  </tbody>\n",
              "</table>\n",
              "</div>"
            ],
            "text/plain": [
              "romantic        no       yes\n",
              "sex                         \n",
              "F         0.326582  0.200000\n",
              "M         0.339241  0.134177"
            ]
          },
          "metadata": {
            "tags": []
          },
          "execution_count": 22
        }
      ]
    },
    {
      "cell_type": "code",
      "metadata": {
        "id": "HVLWU8fAI0ES",
        "colab_type": "code",
        "outputId": "589bd088-d74d-4229-80c0-2a9f09bc5454",
        "colab": {
          "base_uri": "https://localhost:8080/",
          "height": 0
        }
      },
      "source": [
        "# сколько мальчиков и девочек среду тех, кто получил худшие оценки\n",
        "worst_grades = data[data['G3'] <= 5]\n",
        "pd.crosstab(worst_grades['G3'], worst_grades['sex'], normalize=True)"
      ],
      "execution_count": 23,
      "outputs": [
        {
          "output_type": "execute_result",
          "data": {
            "text/html": [
              "<div>\n",
              "<style scoped>\n",
              "    .dataframe tbody tr th:only-of-type {\n",
              "        vertical-align: middle;\n",
              "    }\n",
              "\n",
              "    .dataframe tbody tr th {\n",
              "        vertical-align: top;\n",
              "    }\n",
              "\n",
              "    .dataframe thead th {\n",
              "        text-align: right;\n",
              "    }\n",
              "</style>\n",
              "<table border=\"1\" class=\"dataframe\">\n",
              "  <thead>\n",
              "    <tr style=\"text-align: right;\">\n",
              "      <th>sex</th>\n",
              "      <th>F</th>\n",
              "      <th>M</th>\n",
              "    </tr>\n",
              "    <tr>\n",
              "      <th>G3</th>\n",
              "      <th></th>\n",
              "      <th></th>\n",
              "    </tr>\n",
              "  </thead>\n",
              "  <tbody>\n",
              "    <tr>\n",
              "      <th>0</th>\n",
              "      <td>0.500000</td>\n",
              "      <td>0.326087</td>\n",
              "    </tr>\n",
              "    <tr>\n",
              "      <th>4</th>\n",
              "      <td>0.021739</td>\n",
              "      <td>0.000000</td>\n",
              "    </tr>\n",
              "    <tr>\n",
              "      <th>5</th>\n",
              "      <td>0.065217</td>\n",
              "      <td>0.086957</td>\n",
              "    </tr>\n",
              "  </tbody>\n",
              "</table>\n",
              "</div>"
            ],
            "text/plain": [
              "sex         F         M\n",
              "G3                     \n",
              "0    0.500000  0.326087\n",
              "4    0.021739  0.000000\n",
              "5    0.065217  0.086957"
            ]
          },
          "metadata": {
            "tags": []
          },
          "execution_count": 23
        }
      ]
    },
    {
      "cell_type": "markdown",
      "metadata": {
        "id": "Duxhd3f1jenJ",
        "colab_type": "text"
      },
      "source": [
        "### Бонус - google facets"
      ]
    },
    {
      "cell_type": "code",
      "metadata": {
        "id": "Kr2gllDmjc6y",
        "colab_type": "code",
        "outputId": "df57c4c1-97e1-4039-ee9c-f1689aaac626",
        "colab": {
          "base_uri": "https://localhost:8080/",
          "height": 0
        }
      },
      "source": [
        "!pip install facets-overview\n",
        "import base64\n",
        "from facets_overview.generic_feature_statistics_generator import GenericFeatureStatisticsGenerator\n",
        "from IPython.core.display import display, HTML"
      ],
      "execution_count": 24,
      "outputs": [
        {
          "output_type": "stream",
          "text": [
            "Requirement already satisfied: facets-overview in /usr/local/lib/python3.6/dist-packages (1.0.0)\n",
            "Requirement already satisfied: numpy>=1.16.0 in /usr/local/lib/python3.6/dist-packages (from facets-overview) (1.17.5)\n",
            "Requirement already satisfied: pandas>=0.22.0 in /usr/local/lib/python3.6/dist-packages (from facets-overview) (0.25.3)\n",
            "Requirement already satisfied: protobuf>=3.7.0 in /usr/local/lib/python3.6/dist-packages (from facets-overview) (3.10.0)\n",
            "Requirement already satisfied: pytz>=2017.2 in /usr/local/lib/python3.6/dist-packages (from pandas>=0.22.0->facets-overview) (2018.9)\n",
            "Requirement already satisfied: python-dateutil>=2.6.1 in /usr/local/lib/python3.6/dist-packages (from pandas>=0.22.0->facets-overview) (2.6.1)\n",
            "Requirement already satisfied: setuptools in /usr/local/lib/python3.6/dist-packages (from protobuf>=3.7.0->facets-overview) (45.1.0)\n",
            "Requirement already satisfied: six>=1.9 in /usr/local/lib/python3.6/dist-packages (from protobuf>=3.7.0->facets-overview) (1.12.0)\n"
          ],
          "name": "stdout"
        }
      ]
    },
    {
      "cell_type": "code",
      "metadata": {
        "id": "DkXfvPuqpOkf",
        "colab_type": "code",
        "colab": {}
      },
      "source": [
        "# создать таблицу со статистиками признаков\n",
        "gfsg = GenericFeatureStatisticsGenerator()\n",
        "proto = gfsg.ProtoFromDataFrames([{'name': 'data', 'table': data}])\n",
        "protostr = base64.b64encode(proto.SerializeToString()).decode(\"utf-8\") # превратить данные в строку"
      ],
      "execution_count": 0,
      "outputs": []
    },
    {
      "cell_type": "code",
      "metadata": {
        "id": "Nbk7fW2IpV6u",
        "colab_type": "code",
        "outputId": "099053f4-c39a-4bf9-88d4-508f0c342d48",
        "colab": {
          "base_uri": "https://localhost:8080/",
          "height": 0
        }
      },
      "source": [
        " # отобразить интерактивную таблицу со статистиками признаков\n",
        "HTML_TEMPLATE = \"\"\"\n",
        "        <script src=\"https://cdnjs.cloudflare.com/ajax/libs/webcomponentsjs/1.3.3/webcomponents-lite.js\"></script>\n",
        "        <link rel=\"import\" href=\"https://raw.githubusercontent.com/PAIR-code/facets/1.0.0/facets-dist/facets-jupyter.html\" >\n",
        "        <facets-overview id=\"elem\"></facets-overview>\n",
        "        <script>\n",
        "          document.querySelector(\"#elem\").protoInput = \"{protostr}\";\n",
        "        </script>\"\"\"\n",
        "html = HTML_TEMPLATE.format(protostr=protostr)\n",
        "display(HTML(html))"
      ],
      "execution_count": 26,
      "outputs": [
        {
          "output_type": "display_data",
          "data": {
            "text/html": [
              "\n",
              "        <script src=\"https://cdnjs.cloudflare.com/ajax/libs/webcomponentsjs/1.3.3/webcomponents-lite.js\"></script>\n",
              "        <link rel=\"import\" href=\"https://raw.githubusercontent.com/PAIR-code/facets/1.0.0/facets-dist/facets-jupyter.html\" >\n",
              "        <facets-overview id=\"elem\"></facets-overview>\n",
              "        <script>\n",
              "          document.querySelector(\"#elem\").protoInput = \"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\";\n",
              "        </script>"
            ],
            "text/plain": [
              "<IPython.core.display.HTML object>"
            ]
          },
          "metadata": {
            "tags": []
          }
        }
      ]
    },
    {
      "cell_type": "code",
      "metadata": {
        "id": "2WOyJrytjsi3",
        "colab_type": "code",
        "outputId": "8d1a4584-b700-4a7b-89cd-168154437370",
        "colab": {
          "base_uri": "https://localhost:8080/",
          "height": 0
        }
      },
      "source": [
        "# отобразить интерактивное представление данных\n",
        "jsonstr = data.to_json(orient='records')\n",
        "HTML_TEMPLATE = \"\"\"\n",
        "        <script src=\"https://cdnjs.cloudflare.com/ajax/libs/webcomponentsjs/1.3.3/webcomponents-lite.js\"></script>\n",
        "        <link rel=\"import\" href=\"https://raw.githubusercontent.com/PAIR-code/facets/1.0.0/facets-dist/facets-jupyter.html\">\n",
        "        <facets-dive id=\"elem\" height=\"600\"></facets-dive>\n",
        "        <script>\n",
        "          var data = {jsonstr};\n",
        "          document.querySelector(\"#elem\").data = data;\n",
        "        </script>\"\"\"\n",
        "html = HTML_TEMPLATE.format(jsonstr=jsonstr)\n",
        "display(HTML(html))"
      ],
      "execution_count": 27,
      "outputs": [
        {
          "output_type": "display_data",
          "data": {
            "text/html": [
              "\n",
              "        <script src=\"https://cdnjs.cloudflare.com/ajax/libs/webcomponentsjs/1.3.3/webcomponents-lite.js\"></script>\n",
              "        <link rel=\"import\" href=\"https://raw.githubusercontent.com/PAIR-code/facets/1.0.0/facets-dist/facets-jupyter.html\">\n",
              "        <facets-dive id=\"elem\" height=\"600\"></facets-dive>\n",
              "        <script>\n",
              "          var data = [{\"school\":\"GP\",\"sex\":\"F\",\"age\":18,\"address\":\"U\",\"famsize\":\"GT3\",\"Pstatus\":\"A\",\"Medu\":4,\"Fedu\":4,\"Mjob\":\"at_home\",\"Fjob\":\"teacher\",\"reason\":\"course\",\"guardian\":\"mother\",\"traveltime\":2,\"studytime\":2,\"failures\":0,\"schoolsup\":\"yes\",\"famsup\":\"no\",\"paid\":\"no\",\"activities\":\"no\",\"nursery\":\"yes\",\"higher\":\"yes\",\"internet\":\"no\",\"romantic\":\"no\",\"famrel\":4,\"freetime\":3,\"goout\":4,\"Dalc\":1,\"Walc\":1,\"health\":3,\"absences\":6,\"G3\":6},{\"school\":\"GP\",\"sex\":\"F\",\"age\":17,\"address\":\"U\",\"famsize\":\"GT3\",\"Pstatus\":\"T\",\"Medu\":1,\"Fedu\":1,\"Mjob\":\"at_home\",\"Fjob\":\"other\",\"reason\":\"course\",\"guardian\":\"father\",\"traveltime\":1,\"studytime\":2,\"failures\":0,\"schoolsup\":\"no\",\"famsup\":\"yes\",\"paid\":\"no\",\"activities\":\"no\",\"nursery\":\"no\",\"higher\":\"yes\",\"internet\":\"yes\",\"romantic\":\"no\",\"famrel\":5,\"freetime\":3,\"goout\":3,\"Dalc\":1,\"Walc\":1,\"health\":3,\"absences\":4,\"G3\":6},{\"school\":\"GP\",\"sex\":\"F\",\"age\":15,\"address\":\"U\",\"famsize\":\"LE3\",\"Pstatus\":\"T\",\"Medu\":1,\"Fedu\":1,\"Mjob\":\"at_home\",\"Fjob\":\"other\",\"reason\":\"other\",\"guardian\":\"mother\",\"traveltime\":1,\"studytime\":2,\"failures\":3,\"schoolsup\":\"yes\",\"famsup\":\"no\",\"paid\":\"yes\",\"activities\":\"no\",\"nursery\":\"yes\",\"higher\":\"yes\",\"internet\":\"yes\",\"romantic\":\"no\",\"famrel\":4,\"freetime\":3,\"goout\":2,\"Dalc\":2,\"Walc\":3,\"health\":3,\"absences\":10,\"G3\":10},{\"school\":\"GP\",\"sex\":\"F\",\"age\":15,\"address\":\"U\",\"famsize\":\"GT3\",\"Pstatus\":\"T\",\"Medu\":4,\"Fedu\":2,\"Mjob\":\"health\",\"Fjob\":\"services\",\"reason\":\"home\",\"guardian\":\"mother\",\"traveltime\":1,\"studytime\":3,\"failures\":0,\"schoolsup\":\"no\",\"famsup\":\"yes\",\"paid\":\"yes\",\"activities\":\"yes\",\"nursery\":\"yes\",\"higher\":\"yes\",\"internet\":\"yes\",\"romantic\":\"yes\",\"famrel\":3,\"freetime\":2,\"goout\":2,\"Dalc\":1,\"Walc\":1,\"health\":5,\"absences\":2,\"G3\":15},{\"school\":\"GP\",\"sex\":\"F\",\"age\":16,\"address\":\"U\",\"famsize\":\"GT3\",\"Pstatus\":\"T\",\"Medu\":3,\"Fedu\":3,\"Mjob\":\"other\",\"Fjob\":\"other\",\"reason\":\"home\",\"guardian\":\"father\",\"traveltime\":1,\"studytime\":2,\"failures\":0,\"schoolsup\":\"no\",\"famsup\":\"yes\",\"paid\":\"yes\",\"activities\":\"no\",\"nursery\":\"yes\",\"higher\":\"yes\",\"internet\":\"no\",\"romantic\":\"no\",\"famrel\":4,\"freetime\":3,\"goout\":2,\"Dalc\":1,\"Walc\":2,\"health\":5,\"absences\":4,\"G3\":10},{\"school\":\"GP\",\"sex\":\"M\",\"age\":16,\"address\":\"U\",\"famsize\":\"LE3\",\"Pstatus\":\"T\",\"Medu\":4,\"Fedu\":3,\"Mjob\":\"services\",\"Fjob\":\"other\",\"reason\":\"reputation\",\"guardian\":\"mother\",\"traveltime\":1,\"studytime\":2,\"failures\":0,\"schoolsup\":\"no\",\"famsup\":\"yes\",\"paid\":\"yes\",\"activities\":\"yes\",\"nursery\":\"yes\",\"higher\":\"yes\",\"internet\":\"yes\",\"romantic\":\"no\",\"famrel\":5,\"freetime\":4,\"goout\":2,\"Dalc\":1,\"Walc\":2,\"health\":5,\"absences\":10,\"G3\":15},{\"school\":\"GP\",\"sex\":\"M\",\"age\":16,\"address\":\"U\",\"famsize\":\"LE3\",\"Pstatus\":\"T\",\"Medu\":2,\"Fedu\":2,\"Mjob\":\"other\",\"Fjob\":\"other\",\"reason\":\"home\",\"guardian\":\"mother\",\"traveltime\":1,\"studytime\":2,\"failures\":0,\"schoolsup\":\"no\",\"famsup\":\"no\",\"paid\":\"no\",\"activities\":\"no\",\"nursery\":\"yes\",\"higher\":\"yes\",\"internet\":\"yes\",\"romantic\":\"no\",\"famrel\":4,\"freetime\":4,\"goout\":4,\"Dalc\":1,\"Walc\":1,\"health\":3,\"absences\":0,\"G3\":11},{\"school\":\"GP\",\"sex\":\"F\",\"age\":17,\"address\":\"U\",\"famsize\":\"GT3\",\"Pstatus\":\"A\",\"Medu\":4,\"Fedu\":4,\"Mjob\":\"other\",\"Fjob\":\"teacher\",\"reason\":\"home\",\"guardian\":\"mother\",\"traveltime\":2,\"studytime\":2,\"failures\":0,\"schoolsup\":\"yes\",\"famsup\":\"yes\",\"paid\":\"no\",\"activities\":\"no\",\"nursery\":\"yes\",\"higher\":\"yes\",\"internet\":\"no\",\"romantic\":\"no\",\"famrel\":4,\"freetime\":1,\"goout\":4,\"Dalc\":1,\"Walc\":1,\"health\":1,\"absences\":6,\"G3\":6},{\"school\":\"GP\",\"sex\":\"M\",\"age\":15,\"address\":\"U\",\"famsize\":\"LE3\",\"Pstatus\":\"A\",\"Medu\":3,\"Fedu\":2,\"Mjob\":\"services\",\"Fjob\":\"other\",\"reason\":\"home\",\"guardian\":\"mother\",\"traveltime\":1,\"studytime\":2,\"failures\":0,\"schoolsup\":\"no\",\"famsup\":\"yes\",\"paid\":\"yes\",\"activities\":\"no\",\"nursery\":\"yes\",\"higher\":\"yes\",\"internet\":\"yes\",\"romantic\":\"no\",\"famrel\":4,\"freetime\":2,\"goout\":2,\"Dalc\":1,\"Walc\":1,\"health\":1,\"absences\":0,\"G3\":19},{\"school\":\"GP\",\"sex\":\"M\",\"age\":15,\"address\":\"U\",\"famsize\":\"GT3\",\"Pstatus\":\"T\",\"Medu\":3,\"Fedu\":4,\"Mjob\":\"other\",\"Fjob\":\"other\",\"reason\":\"home\",\"guardian\":\"mother\",\"traveltime\":1,\"studytime\":2,\"failures\":0,\"schoolsup\":\"no\",\"famsup\":\"yes\",\"paid\":\"yes\",\"activities\":\"yes\",\"nursery\":\"yes\",\"higher\":\"yes\",\"internet\":\"yes\",\"romantic\":\"no\",\"famrel\":5,\"freetime\":5,\"goout\":1,\"Dalc\":1,\"Walc\":1,\"health\":5,\"absences\":0,\"G3\":15},{\"school\":\"GP\",\"sex\":\"F\",\"age\":15,\"address\":\"U\",\"famsize\":\"GT3\",\"Pstatus\":\"T\",\"Medu\":4,\"Fedu\":4,\"Mjob\":\"teacher\",\"Fjob\":\"health\",\"reason\":\"reputation\",\"guardian\":\"mother\",\"traveltime\":1,\"studytime\":2,\"failures\":0,\"schoolsup\":\"no\",\"famsup\":\"yes\",\"paid\":\"yes\",\"activities\":\"no\",\"nursery\":\"yes\",\"higher\":\"yes\",\"internet\":\"yes\",\"romantic\":\"no\",\"famrel\":3,\"freetime\":3,\"goout\":3,\"Dalc\":1,\"Walc\":2,\"health\":2,\"absences\":0,\"G3\":9},{\"school\":\"GP\",\"sex\":\"F\",\"age\":15,\"address\":\"U\",\"famsize\":\"GT3\",\"Pstatus\":\"T\",\"Medu\":2,\"Fedu\":1,\"Mjob\":\"services\",\"Fjob\":\"other\",\"reason\":\"reputation\",\"guardian\":\"father\",\"traveltime\":3,\"studytime\":3,\"failures\":0,\"schoolsup\":\"no\",\"famsup\":\"yes\",\"paid\":\"no\",\"activities\":\"yes\",\"nursery\":\"yes\",\"higher\":\"yes\",\"internet\":\"yes\",\"romantic\":\"no\",\"famrel\":5,\"freetime\":2,\"goout\":2,\"Dalc\":1,\"Walc\":1,\"health\":4,\"absences\":4,\"G3\":12},{\"school\":\"GP\",\"sex\":\"M\",\"age\":15,\"address\":\"U\",\"famsize\":\"LE3\",\"Pstatus\":\"T\",\"Medu\":4,\"Fedu\":4,\"Mjob\":\"health\",\"Fjob\":\"services\",\"reason\":\"course\",\"guardian\":\"father\",\"traveltime\":1,\"studytime\":1,\"failures\":0,\"schoolsup\":\"no\",\"famsup\":\"yes\",\"paid\":\"yes\",\"activities\":\"yes\",\"nursery\":\"yes\",\"higher\":\"yes\",\"internet\":\"yes\",\"romantic\":\"no\",\"famrel\":4,\"freetime\":3,\"goout\":3,\"Dalc\":1,\"Walc\":3,\"health\":5,\"absences\":2,\"G3\":14},{\"school\":\"GP\",\"sex\":\"M\",\"age\":15,\"address\":\"U\",\"famsize\":\"GT3\",\"Pstatus\":\"T\",\"Medu\":4,\"Fedu\":3,\"Mjob\":\"teacher\",\"Fjob\":\"other\",\"reason\":\"course\",\"guardian\":\"mother\",\"traveltime\":2,\"studytime\":2,\"failures\":0,\"schoolsup\":\"no\",\"famsup\":\"yes\",\"paid\":\"yes\",\"activities\":\"no\",\"nursery\":\"yes\",\"higher\":\"yes\",\"internet\":\"yes\",\"romantic\":\"no\",\"famrel\":5,\"freetime\":4,\"goout\":3,\"Dalc\":1,\"Walc\":2,\"health\":3,\"absences\":2,\"G3\":11},{\"school\":\"GP\",\"sex\":\"M\",\"age\":15,\"address\":\"U\",\"famsize\":\"GT3\",\"Pstatus\":\"A\",\"Medu\":2,\"Fedu\":2,\"Mjob\":\"other\",\"Fjob\":\"other\",\"reason\":\"home\",\"guardian\":\"other\",\"traveltime\":1,\"studytime\":3,\"failures\":0,\"schoolsup\":\"no\",\"famsup\":\"yes\",\"paid\":\"no\",\"activities\":\"no\",\"nursery\":\"yes\",\"higher\":\"yes\",\"internet\":\"yes\",\"romantic\":\"yes\",\"famrel\":4,\"freetime\":5,\"goout\":2,\"Dalc\":1,\"Walc\":1,\"health\":3,\"absences\":0,\"G3\":16},{\"school\":\"GP\",\"sex\":\"F\",\"age\":16,\"address\":\"U\",\"famsize\":\"GT3\",\"Pstatus\":\"T\",\"Medu\":4,\"Fedu\":4,\"Mjob\":\"health\",\"Fjob\":\"other\",\"reason\":\"home\",\"guardian\":\"mother\",\"traveltime\":1,\"studytime\":1,\"failures\":0,\"schoolsup\":\"no\",\"famsup\":\"yes\",\"paid\":\"no\",\"activities\":\"no\",\"nursery\":\"yes\",\"higher\":\"yes\",\"internet\":\"yes\",\"romantic\":\"no\",\"famrel\":4,\"freetime\":4,\"goout\":4,\"Dalc\":1,\"Walc\":2,\"health\":2,\"absences\":4,\"G3\":14},{\"school\":\"GP\",\"sex\":\"F\",\"age\":16,\"address\":\"U\",\"famsize\":\"GT3\",\"Pstatus\":\"T\",\"Medu\":4,\"Fedu\":4,\"Mjob\":\"services\",\"Fjob\":\"services\",\"reason\":\"reputation\",\"guardian\":\"mother\",\"traveltime\":1,\"studytime\":3,\"failures\":0,\"schoolsup\":\"no\",\"famsup\":\"yes\",\"paid\":\"yes\",\"activities\":\"yes\",\"nursery\":\"yes\",\"higher\":\"yes\",\"internet\":\"yes\",\"romantic\":\"no\",\"famrel\":3,\"freetime\":2,\"goout\":3,\"Dalc\":1,\"Walc\":2,\"health\":2,\"absences\":6,\"G3\":14},{\"school\":\"GP\",\"sex\":\"F\",\"age\":16,\"address\":\"U\",\"famsize\":\"GT3\",\"Pstatus\":\"T\",\"Medu\":3,\"Fedu\":3,\"Mjob\":\"other\",\"Fjob\":\"other\",\"reason\":\"reputation\",\"guardian\":\"mother\",\"traveltime\":3,\"studytime\":2,\"failures\":0,\"schoolsup\":\"yes\",\"famsup\":\"yes\",\"paid\":\"no\",\"activities\":\"yes\",\"nursery\":\"yes\",\"higher\":\"yes\",\"internet\":\"no\",\"romantic\":\"no\",\"famrel\":5,\"freetime\":3,\"goout\":2,\"Dalc\":1,\"Walc\":1,\"health\":4,\"absences\":4,\"G3\":10},{\"school\":\"GP\",\"sex\":\"M\",\"age\":17,\"address\":\"U\",\"famsize\":\"GT3\",\"Pstatus\":\"T\",\"Medu\":3,\"Fedu\":2,\"Mjob\":\"services\",\"Fjob\":\"services\",\"reason\":\"course\",\"guardian\":\"mother\",\"traveltime\":1,\"studytime\":1,\"failures\":3,\"schoolsup\":\"no\",\"famsup\":\"yes\",\"paid\":\"no\",\"activities\":\"yes\",\"nursery\":\"yes\",\"higher\":\"yes\",\"internet\":\"yes\",\"romantic\":\"no\",\"famrel\":5,\"freetime\":5,\"goout\":5,\"Dalc\":2,\"Walc\":4,\"health\":5,\"absences\":16,\"G3\":5},{\"school\":\"GP\",\"sex\":\"M\",\"age\":16,\"address\":\"U\",\"famsize\":\"LE3\",\"Pstatus\":\"T\",\"Medu\":4,\"Fedu\":3,\"Mjob\":\"health\",\"Fjob\":\"other\",\"reason\":\"home\",\"guardian\":\"father\",\"traveltime\":1,\"studytime\":1,\"failures\":0,\"schoolsup\":\"no\",\"famsup\":\"no\",\"paid\":\"yes\",\"activities\":\"yes\",\"nursery\":\"yes\",\"higher\":\"yes\",\"internet\":\"yes\",\"romantic\":\"no\",\"famrel\":3,\"freetime\":1,\"goout\":3,\"Dalc\":1,\"Walc\":3,\"health\":5,\"absences\":4,\"G3\":10},{\"school\":\"GP\",\"sex\":\"M\",\"age\":15,\"address\":\"U\",\"famsize\":\"GT3\",\"Pstatus\":\"T\",\"Medu\":4,\"Fedu\":3,\"Mjob\":\"teacher\",\"Fjob\":\"other\",\"reason\":\"reputation\",\"guardian\":\"mother\",\"traveltime\":1,\"studytime\":2,\"failures\":0,\"schoolsup\":\"no\",\"famsup\":\"no\",\"paid\":\"no\",\"activities\":\"no\",\"nursery\":\"yes\",\"higher\":\"yes\",\"internet\":\"yes\",\"romantic\":\"no\",\"famrel\":4,\"freetime\":4,\"goout\":1,\"Dalc\":1,\"Walc\":1,\"health\":1,\"absences\":0,\"G3\":15},{\"school\":\"GP\",\"sex\":\"M\",\"age\":15,\"address\":\"U\",\"famsize\":\"GT3\",\"Pstatus\":\"T\",\"Medu\":4,\"Fedu\":4,\"Mjob\":\"health\",\"Fjob\":\"health\",\"reason\":\"other\",\"guardian\":\"father\",\"traveltime\":1,\"studytime\":1,\"failures\":0,\"schoolsup\":\"no\",\"famsup\":\"yes\",\"paid\":\"yes\",\"activities\":\"no\",\"nursery\":\"yes\",\"higher\":\"yes\",\"internet\":\"yes\",\"romantic\":\"no\",\"famrel\":5,\"freetime\":4,\"goout\":2,\"Dalc\":1,\"Walc\":1,\"health\":5,\"absences\":0,\"G3\":15},{\"school\":\"GP\",\"sex\":\"M\",\"age\":16,\"address\":\"U\",\"famsize\":\"LE3\",\"Pstatus\":\"T\",\"Medu\":4,\"Fedu\":2,\"Mjob\":\"teacher\",\"Fjob\":\"other\",\"reason\":\"course\",\"guardian\":\"mother\",\"traveltime\":1,\"studytime\":2,\"failures\":0,\"schoolsup\":\"no\",\"famsup\":\"no\",\"paid\":\"no\",\"activities\":\"yes\",\"nursery\":\"yes\",\"higher\":\"yes\",\"internet\":\"yes\",\"romantic\":\"no\",\"famrel\":4,\"freetime\":5,\"goout\":1,\"Dalc\":1,\"Walc\":3,\"health\":5,\"absences\":2,\"G3\":16},{\"school\":\"GP\",\"sex\":\"M\",\"age\":16,\"address\":\"U\",\"famsize\":\"LE3\",\"Pstatus\":\"T\",\"Medu\":2,\"Fedu\":2,\"Mjob\":\"other\",\"Fjob\":\"other\",\"reason\":\"reputation\",\"guardian\":\"mother\",\"traveltime\":2,\"studytime\":2,\"failures\":0,\"schoolsup\":\"no\",\"famsup\":\"yes\",\"paid\":\"no\",\"activities\":\"yes\",\"nursery\":\"yes\",\"higher\":\"yes\",\"internet\":\"yes\",\"romantic\":\"no\",\"famrel\":5,\"freetime\":4,\"goout\":4,\"Dalc\":2,\"Walc\":4,\"health\":5,\"absences\":0,\"G3\":12},{\"school\":\"GP\",\"sex\":\"F\",\"age\":15,\"address\":\"R\",\"famsize\":\"GT3\",\"Pstatus\":\"T\",\"Medu\":2,\"Fedu\":4,\"Mjob\":\"services\",\"Fjob\":\"health\",\"reason\":\"course\",\"guardian\":\"mother\",\"traveltime\":1,\"studytime\":3,\"failures\":0,\"schoolsup\":\"yes\",\"famsup\":\"yes\",\"paid\":\"yes\",\"activities\":\"yes\",\"nursery\":\"yes\",\"higher\":\"yes\",\"internet\":\"yes\",\"romantic\":\"no\",\"famrel\":4,\"freetime\":3,\"goout\":2,\"Dalc\":1,\"Walc\":1,\"health\":5,\"absences\":2,\"G3\":8},{\"school\":\"GP\",\"sex\":\"F\",\"age\":16,\"address\":\"U\",\"famsize\":\"GT3\",\"Pstatus\":\"T\",\"Medu\":2,\"Fedu\":2,\"Mjob\":\"services\",\"Fjob\":\"services\",\"reason\":\"home\",\"guardian\":\"mother\",\"traveltime\":1,\"studytime\":1,\"failures\":2,\"schoolsup\":\"no\",\"famsup\":\"yes\",\"paid\":\"yes\",\"activities\":\"no\",\"nursery\":\"no\",\"higher\":\"yes\",\"internet\":\"yes\",\"romantic\":\"no\",\"famrel\":1,\"freetime\":2,\"goout\":2,\"Dalc\":1,\"Walc\":3,\"health\":5,\"absences\":14,\"G3\":8},{\"school\":\"GP\",\"sex\":\"M\",\"age\":15,\"address\":\"U\",\"famsize\":\"GT3\",\"Pstatus\":\"T\",\"Medu\":2,\"Fedu\":2,\"Mjob\":\"other\",\"Fjob\":\"other\",\"reason\":\"home\",\"guardian\":\"mother\",\"traveltime\":1,\"studytime\":1,\"failures\":0,\"schoolsup\":\"no\",\"famsup\":\"yes\",\"paid\":\"yes\",\"activities\":\"no\",\"nursery\":\"yes\",\"higher\":\"yes\",\"internet\":\"yes\",\"romantic\":\"no\",\"famrel\":4,\"freetime\":2,\"goout\":2,\"Dalc\":1,\"Walc\":2,\"health\":5,\"absences\":2,\"G3\":11},{\"school\":\"GP\",\"sex\":\"M\",\"age\":15,\"address\":\"U\",\"famsize\":\"GT3\",\"Pstatus\":\"T\",\"Medu\":4,\"Fedu\":2,\"Mjob\":\"health\",\"Fjob\":\"services\",\"reason\":\"other\",\"guardian\":\"mother\",\"traveltime\":1,\"studytime\":1,\"failures\":0,\"schoolsup\":\"no\",\"famsup\":\"no\",\"paid\":\"yes\",\"activities\":\"no\",\"nursery\":\"yes\",\"higher\":\"yes\",\"internet\":\"yes\",\"romantic\":\"no\",\"famrel\":2,\"freetime\":2,\"goout\":4,\"Dalc\":2,\"Walc\":4,\"health\":1,\"absences\":4,\"G3\":15},{\"school\":\"GP\",\"sex\":\"M\",\"age\":16,\"address\":\"U\",\"famsize\":\"LE3\",\"Pstatus\":\"A\",\"Medu\":3,\"Fedu\":4,\"Mjob\":\"services\",\"Fjob\":\"other\",\"reason\":\"home\",\"guardian\":\"mother\",\"traveltime\":1,\"studytime\":2,\"failures\":0,\"schoolsup\":\"yes\",\"famsup\":\"yes\",\"paid\":\"no\",\"activities\":\"yes\",\"nursery\":\"yes\",\"higher\":\"yes\",\"internet\":\"yes\",\"romantic\":\"no\",\"famrel\":5,\"freetime\":3,\"goout\":3,\"Dalc\":1,\"Walc\":1,\"health\":5,\"absences\":4,\"G3\":11},{\"school\":\"GP\",\"sex\":\"M\",\"age\":16,\"address\":\"U\",\"famsize\":\"GT3\",\"Pstatus\":\"T\",\"Medu\":4,\"Fedu\":4,\"Mjob\":\"teacher\",\"Fjob\":\"teacher\",\"reason\":\"home\",\"guardian\":\"mother\",\"traveltime\":1,\"studytime\":2,\"failures\":0,\"schoolsup\":\"no\",\"famsup\":\"yes\",\"paid\":\"yes\",\"activities\":\"yes\",\"nursery\":\"yes\",\"higher\":\"yes\",\"internet\":\"yes\",\"romantic\":\"yes\",\"famrel\":4,\"freetime\":4,\"goout\":5,\"Dalc\":5,\"Walc\":5,\"health\":5,\"absences\":16,\"G3\":11},{\"school\":\"GP\",\"sex\":\"M\",\"age\":15,\"address\":\"U\",\"famsize\":\"GT3\",\"Pstatus\":\"T\",\"Medu\":4,\"Fedu\":4,\"Mjob\":\"health\",\"Fjob\":\"services\",\"reason\":\"home\",\"guardian\":\"mother\",\"traveltime\":1,\"studytime\":2,\"failures\":0,\"schoolsup\":\"no\",\"famsup\":\"yes\",\"paid\":\"yes\",\"activities\":\"no\",\"nursery\":\"no\",\"higher\":\"yes\",\"internet\":\"yes\",\"romantic\":\"no\",\"famrel\":5,\"freetime\":4,\"goout\":2,\"Dalc\":3,\"Walc\":4,\"health\":5,\"absences\":0,\"G3\":12},{\"school\":\"GP\",\"sex\":\"M\",\"age\":15,\"address\":\"U\",\"famsize\":\"GT3\",\"Pstatus\":\"T\",\"Medu\":4,\"Fedu\":4,\"Mjob\":\"services\",\"Fjob\":\"services\",\"reason\":\"reputation\",\"guardian\":\"mother\",\"traveltime\":2,\"studytime\":2,\"failures\":0,\"schoolsup\":\"no\",\"famsup\":\"yes\",\"paid\":\"no\",\"activities\":\"yes\",\"nursery\":\"yes\",\"higher\":\"yes\",\"internet\":\"yes\",\"romantic\":\"no\",\"famrel\":4,\"freetime\":3,\"goout\":1,\"Dalc\":1,\"Walc\":1,\"health\":5,\"absences\":0,\"G3\":17},{\"school\":\"GP\",\"sex\":\"M\",\"age\":15,\"address\":\"R\",\"famsize\":\"GT3\",\"Pstatus\":\"T\",\"Medu\":4,\"Fedu\":3,\"Mjob\":\"teacher\",\"Fjob\":\"at_home\",\"reason\":\"course\",\"guardian\":\"mother\",\"traveltime\":1,\"studytime\":2,\"failures\":0,\"schoolsup\":\"no\",\"famsup\":\"yes\",\"paid\":\"no\",\"activities\":\"yes\",\"nursery\":\"yes\",\"higher\":\"yes\",\"internet\":\"yes\",\"romantic\":\"yes\",\"famrel\":4,\"freetime\":5,\"goout\":2,\"Dalc\":1,\"Walc\":1,\"health\":5,\"absences\":0,\"G3\":16},{\"school\":\"GP\",\"sex\":\"M\",\"age\":15,\"address\":\"U\",\"famsize\":\"LE3\",\"Pstatus\":\"T\",\"Medu\":3,\"Fedu\":3,\"Mjob\":\"other\",\"Fjob\":\"other\",\"reason\":\"course\",\"guardian\":\"mother\",\"traveltime\":1,\"studytime\":2,\"failures\":0,\"schoolsup\":\"no\",\"famsup\":\"no\",\"paid\":\"no\",\"activities\":\"yes\",\"nursery\":\"no\",\"higher\":\"yes\",\"internet\":\"yes\",\"romantic\":\"no\",\"famrel\":5,\"freetime\":3,\"goout\":2,\"Dalc\":1,\"Walc\":1,\"health\":2,\"absences\":0,\"G3\":12},{\"school\":\"GP\",\"sex\":\"M\",\"age\":16,\"address\":\"U\",\"famsize\":\"GT3\",\"Pstatus\":\"T\",\"Medu\":3,\"Fedu\":2,\"Mjob\":\"other\",\"Fjob\":\"other\",\"reason\":\"home\",\"guardian\":\"mother\",\"traveltime\":1,\"studytime\":1,\"failures\":0,\"schoolsup\":\"no\",\"famsup\":\"yes\",\"paid\":\"yes\",\"activities\":\"no\",\"nursery\":\"no\",\"higher\":\"yes\",\"internet\":\"yes\",\"romantic\":\"no\",\"famrel\":5,\"freetime\":4,\"goout\":3,\"Dalc\":1,\"Walc\":1,\"health\":5,\"absences\":0,\"G3\":15},{\"school\":\"GP\",\"sex\":\"F\",\"age\":15,\"address\":\"U\",\"famsize\":\"GT3\",\"Pstatus\":\"T\",\"Medu\":2,\"Fedu\":3,\"Mjob\":\"other\",\"Fjob\":\"other\",\"reason\":\"other\",\"guardian\":\"father\",\"traveltime\":2,\"studytime\":1,\"failures\":0,\"schoolsup\":\"no\",\"famsup\":\"yes\",\"paid\":\"no\",\"activities\":\"yes\",\"nursery\":\"yes\",\"higher\":\"yes\",\"internet\":\"no\",\"romantic\":\"no\",\"famrel\":3,\"freetime\":5,\"goout\":1,\"Dalc\":1,\"Walc\":1,\"health\":5,\"absences\":0,\"G3\":6},{\"school\":\"GP\",\"sex\":\"M\",\"age\":15,\"address\":\"U\",\"famsize\":\"LE3\",\"Pstatus\":\"T\",\"Medu\":4,\"Fedu\":3,\"Mjob\":\"teacher\",\"Fjob\":\"services\",\"reason\":\"home\",\"guardian\":\"mother\",\"traveltime\":1,\"studytime\":3,\"failures\":0,\"schoolsup\":\"no\",\"famsup\":\"yes\",\"paid\":\"no\",\"activities\":\"yes\",\"nursery\":\"yes\",\"higher\":\"yes\",\"internet\":\"yes\",\"romantic\":\"no\",\"famrel\":5,\"freetime\":4,\"goout\":3,\"Dalc\":1,\"Walc\":1,\"health\":4,\"absences\":2,\"G3\":18},{\"school\":\"GP\",\"sex\":\"M\",\"age\":16,\"address\":\"R\",\"famsize\":\"GT3\",\"Pstatus\":\"A\",\"Medu\":4,\"Fedu\":4,\"Mjob\":\"other\",\"Fjob\":\"teacher\",\"reason\":\"reputation\",\"guardian\":\"mother\",\"traveltime\":2,\"studytime\":3,\"failures\":0,\"schoolsup\":\"no\",\"famsup\":\"yes\",\"paid\":\"no\",\"activities\":\"yes\",\"nursery\":\"yes\",\"higher\":\"yes\",\"internet\":\"yes\",\"romantic\":\"yes\",\"famrel\":2,\"freetime\":4,\"goout\":3,\"Dalc\":1,\"Walc\":1,\"health\":5,\"absences\":7,\"G3\":15},{\"school\":\"GP\",\"sex\":\"F\",\"age\":15,\"address\":\"R\",\"famsize\":\"GT3\",\"Pstatus\":\"T\",\"Medu\":3,\"Fedu\":4,\"Mjob\":\"services\",\"Fjob\":\"health\",\"reason\":\"course\",\"guardian\":\"mother\",\"traveltime\":1,\"studytime\":3,\"failures\":0,\"schoolsup\":\"yes\",\"famsup\":\"yes\",\"paid\":\"yes\",\"activities\":\"yes\",\"nursery\":\"yes\",\"higher\":\"yes\",\"internet\":\"yes\",\"romantic\":\"no\",\"famrel\":4,\"freetime\":3,\"goout\":2,\"Dalc\":1,\"Walc\":1,\"health\":5,\"absences\":2,\"G3\":11},{\"school\":\"GP\",\"sex\":\"F\",\"age\":15,\"address\":\"R\",\"famsize\":\"GT3\",\"Pstatus\":\"T\",\"Medu\":2,\"Fedu\":2,\"Mjob\":\"at_home\",\"Fjob\":\"other\",\"reason\":\"reputation\",\"guardian\":\"mother\",\"traveltime\":1,\"studytime\":1,\"failures\":0,\"schoolsup\":\"yes\",\"famsup\":\"yes\",\"paid\":\"yes\",\"activities\":\"yes\",\"nursery\":\"yes\",\"higher\":\"yes\",\"internet\":\"no\",\"romantic\":\"no\",\"famrel\":4,\"freetime\":3,\"goout\":1,\"Dalc\":1,\"Walc\":1,\"health\":2,\"absences\":8,\"G3\":13},{\"school\":\"GP\",\"sex\":\"F\",\"age\":16,\"address\":\"U\",\"famsize\":\"LE3\",\"Pstatus\":\"T\",\"Medu\":2,\"Fedu\":2,\"Mjob\":\"other\",\"Fjob\":\"other\",\"reason\":\"home\",\"guardian\":\"mother\",\"traveltime\":2,\"studytime\":2,\"failures\":1,\"schoolsup\":\"no\",\"famsup\":\"yes\",\"paid\":\"no\",\"activities\":\"yes\",\"nursery\":\"no\",\"higher\":\"yes\",\"internet\":\"yes\",\"romantic\":\"yes\",\"famrel\":3,\"freetime\":3,\"goout\":3,\"Dalc\":1,\"Walc\":2,\"health\":3,\"absences\":25,\"G3\":11},{\"school\":\"GP\",\"sex\":\"M\",\"age\":15,\"address\":\"U\",\"famsize\":\"LE3\",\"Pstatus\":\"T\",\"Medu\":4,\"Fedu\":4,\"Mjob\":\"teacher\",\"Fjob\":\"other\",\"reason\":\"home\",\"guardian\":\"other\",\"traveltime\":1,\"studytime\":1,\"failures\":0,\"schoolsup\":\"no\",\"famsup\":\"yes\",\"paid\":\"no\",\"activities\":\"no\",\"nursery\":\"no\",\"higher\":\"yes\",\"internet\":\"yes\",\"romantic\":\"yes\",\"famrel\":5,\"freetime\":4,\"goout\":3,\"Dalc\":2,\"Walc\":4,\"health\":5,\"absences\":8,\"G3\":12},{\"school\":\"GP\",\"sex\":\"M\",\"age\":15,\"address\":\"U\",\"famsize\":\"GT3\",\"Pstatus\":\"T\",\"Medu\":4,\"Fedu\":4,\"Mjob\":\"services\",\"Fjob\":\"teacher\",\"reason\":\"course\",\"guardian\":\"father\",\"traveltime\":1,\"studytime\":2,\"failures\":0,\"schoolsup\":\"no\",\"famsup\":\"yes\",\"paid\":\"no\",\"activities\":\"yes\",\"nursery\":\"yes\",\"higher\":\"yes\",\"internet\":\"yes\",\"romantic\":\"no\",\"famrel\":4,\"freetime\":3,\"goout\":3,\"Dalc\":1,\"Walc\":1,\"health\":5,\"absences\":2,\"G3\":18},{\"school\":\"GP\",\"sex\":\"M\",\"age\":15,\"address\":\"U\",\"famsize\":\"GT3\",\"Pstatus\":\"T\",\"Medu\":2,\"Fedu\":2,\"Mjob\":\"services\",\"Fjob\":\"services\",\"reason\":\"course\",\"guardian\":\"father\",\"traveltime\":1,\"studytime\":1,\"failures\":0,\"schoolsup\":\"yes\",\"famsup\":\"yes\",\"paid\":\"no\",\"activities\":\"no\",\"nursery\":\"yes\",\"higher\":\"yes\",\"internet\":\"yes\",\"romantic\":\"no\",\"famrel\":5,\"freetime\":4,\"goout\":1,\"Dalc\":1,\"Walc\":1,\"health\":1,\"absences\":0,\"G3\":11},{\"school\":\"GP\",\"sex\":\"F\",\"age\":16,\"address\":\"U\",\"famsize\":\"LE3\",\"Pstatus\":\"T\",\"Medu\":2,\"Fedu\":2,\"Mjob\":\"other\",\"Fjob\":\"at_home\",\"reason\":\"course\",\"guardian\":\"father\",\"traveltime\":2,\"studytime\":2,\"failures\":1,\"schoolsup\":\"yes\",\"famsup\":\"no\",\"paid\":\"no\",\"activities\":\"yes\",\"nursery\":\"yes\",\"higher\":\"yes\",\"internet\":\"yes\",\"romantic\":\"no\",\"famrel\":4,\"freetime\":3,\"goout\":3,\"Dalc\":2,\"Walc\":2,\"health\":5,\"absences\":14,\"G3\":9},{\"school\":\"GP\",\"sex\":\"F\",\"age\":15,\"address\":\"U\",\"famsize\":\"LE3\",\"Pstatus\":\"A\",\"Medu\":4,\"Fedu\":3,\"Mjob\":\"other\",\"Fjob\":\"other\",\"reason\":\"course\",\"guardian\":\"mother\",\"traveltime\":1,\"studytime\":2,\"failures\":0,\"schoolsup\":\"yes\",\"famsup\":\"yes\",\"paid\":\"yes\",\"activities\":\"yes\",\"nursery\":\"yes\",\"higher\":\"yes\",\"internet\":\"yes\",\"romantic\":\"yes\",\"famrel\":5,\"freetime\":2,\"goout\":2,\"Dalc\":1,\"Walc\":1,\"health\":5,\"absences\":8,\"G3\":6},{\"school\":\"GP\",\"sex\":\"F\",\"age\":16,\"address\":\"U\",\"famsize\":\"LE3\",\"Pstatus\":\"A\",\"Medu\":3,\"Fedu\":3,\"Mjob\":\"other\",\"Fjob\":\"services\",\"reason\":\"home\",\"guardian\":\"mother\",\"traveltime\":1,\"studytime\":2,\"failures\":0,\"schoolsup\":\"no\",\"famsup\":\"yes\",\"paid\":\"no\",\"activities\":\"no\",\"nursery\":\"yes\",\"higher\":\"yes\",\"internet\":\"yes\",\"romantic\":\"no\",\"famrel\":2,\"freetime\":3,\"goout\":5,\"Dalc\":1,\"Walc\":4,\"health\":3,\"absences\":12,\"G3\":11},{\"school\":\"GP\",\"sex\":\"M\",\"age\":16,\"address\":\"U\",\"famsize\":\"GT3\",\"Pstatus\":\"T\",\"Medu\":4,\"Fedu\":3,\"Mjob\":\"health\",\"Fjob\":\"services\",\"reason\":\"reputation\",\"guardian\":\"mother\",\"traveltime\":1,\"studytime\":4,\"failures\":0,\"schoolsup\":\"no\",\"famsup\":\"no\",\"paid\":\"no\",\"activities\":\"yes\",\"nursery\":\"yes\",\"higher\":\"yes\",\"internet\":\"yes\",\"romantic\":\"no\",\"famrel\":4,\"freetime\":2,\"goout\":2,\"Dalc\":1,\"Walc\":1,\"health\":2,\"absences\":4,\"G3\":20},{\"school\":\"GP\",\"sex\":\"M\",\"age\":15,\"address\":\"U\",\"famsize\":\"GT3\",\"Pstatus\":\"T\",\"Medu\":4,\"Fedu\":2,\"Mjob\":\"teacher\",\"Fjob\":\"other\",\"reason\":\"home\",\"guardian\":\"mother\",\"traveltime\":1,\"studytime\":2,\"failures\":0,\"schoolsup\":\"no\",\"famsup\":\"yes\",\"paid\":\"yes\",\"activities\":\"no\",\"nursery\":\"yes\",\"higher\":\"yes\",\"internet\":\"no\",\"romantic\":\"no\",\"famrel\":4,\"freetime\":3,\"goout\":3,\"Dalc\":2,\"Walc\":2,\"health\":5,\"absences\":2,\"G3\":14},{\"school\":\"GP\",\"sex\":\"F\",\"age\":15,\"address\":\"U\",\"famsize\":\"GT3\",\"Pstatus\":\"T\",\"Medu\":4,\"Fedu\":4,\"Mjob\":\"services\",\"Fjob\":\"teacher\",\"reason\":\"other\",\"guardian\":\"father\",\"traveltime\":1,\"studytime\":2,\"failures\":1,\"schoolsup\":\"yes\",\"famsup\":\"yes\",\"paid\":\"no\",\"activities\":\"yes\",\"nursery\":\"no\",\"higher\":\"yes\",\"internet\":\"yes\",\"romantic\":\"no\",\"famrel\":4,\"freetime\":4,\"goout\":4,\"Dalc\":1,\"Walc\":1,\"health\":3,\"absences\":2,\"G3\":7},{\"school\":\"GP\",\"sex\":\"F\",\"age\":16,\"address\":\"U\",\"famsize\":\"LE3\",\"Pstatus\":\"T\",\"Medu\":2,\"Fedu\":2,\"Mjob\":\"services\",\"Fjob\":\"services\",\"reason\":\"course\",\"guardian\":\"mother\",\"traveltime\":3,\"studytime\":2,\"failures\":0,\"schoolsup\":\"no\",\"famsup\":\"yes\",\"paid\":\"yes\",\"activities\":\"no\",\"nursery\":\"yes\",\"higher\":\"yes\",\"internet\":\"yes\",\"romantic\":\"no\",\"famrel\":4,\"freetime\":3,\"goout\":3,\"Dalc\":2,\"Walc\":3,\"health\":4,\"absences\":2,\"G3\":13},{\"school\":\"GP\",\"sex\":\"F\",\"age\":15,\"address\":\"U\",\"famsize\":\"LE3\",\"Pstatus\":\"T\",\"Medu\":4,\"Fedu\":2,\"Mjob\":\"health\",\"Fjob\":\"other\",\"reason\":\"other\",\"guardian\":\"mother\",\"traveltime\":1,\"studytime\":2,\"failures\":0,\"schoolsup\":\"no\",\"famsup\":\"yes\",\"paid\":\"yes\",\"activities\":\"no\",\"nursery\":\"yes\",\"higher\":\"yes\",\"internet\":\"yes\",\"romantic\":\"no\",\"famrel\":4,\"freetime\":3,\"goout\":3,\"Dalc\":1,\"Walc\":1,\"health\":5,\"absences\":2,\"G3\":13},{\"school\":\"GP\",\"sex\":\"M\",\"age\":15,\"address\":\"U\",\"famsize\":\"LE3\",\"Pstatus\":\"A\",\"Medu\":4,\"Fedu\":2,\"Mjob\":\"health\",\"Fjob\":\"health\",\"reason\":\"other\",\"guardian\":\"father\",\"traveltime\":2,\"studytime\":1,\"failures\":1,\"schoolsup\":\"no\",\"famsup\":\"no\",\"paid\":\"no\",\"activities\":\"no\",\"nursery\":\"yes\",\"higher\":\"yes\",\"internet\":\"no\",\"romantic\":\"no\",\"famrel\":5,\"freetime\":5,\"goout\":5,\"Dalc\":3,\"Walc\":4,\"health\":5,\"absences\":6,\"G3\":10},{\"school\":\"GP\",\"sex\":\"F\",\"age\":15,\"address\":\"U\",\"famsize\":\"GT3\",\"Pstatus\":\"T\",\"Medu\":4,\"Fedu\":4,\"Mjob\":\"services\",\"Fjob\":\"services\",\"reason\":\"course\",\"guardian\":\"mother\",\"traveltime\":1,\"studytime\":1,\"failures\":0,\"schoolsup\":\"yes\",\"famsup\":\"yes\",\"paid\":\"yes\",\"activities\":\"no\",\"nursery\":\"yes\",\"higher\":\"yes\",\"internet\":\"yes\",\"romantic\":\"no\",\"famrel\":3,\"freetime\":3,\"goout\":4,\"Dalc\":2,\"Walc\":3,\"health\":5,\"absences\":0,\"G3\":11},{\"school\":\"GP\",\"sex\":\"F\",\"age\":15,\"address\":\"U\",\"famsize\":\"LE3\",\"Pstatus\":\"A\",\"Medu\":3,\"Fedu\":3,\"Mjob\":\"other\",\"Fjob\":\"other\",\"reason\":\"other\",\"guardian\":\"mother\",\"traveltime\":1,\"studytime\":1,\"failures\":0,\"schoolsup\":\"no\",\"famsup\":\"no\",\"paid\":\"yes\",\"activities\":\"no\",\"nursery\":\"yes\",\"higher\":\"yes\",\"internet\":\"yes\",\"romantic\":\"no\",\"famrel\":5,\"freetime\":3,\"goout\":4,\"Dalc\":4,\"Walc\":4,\"health\":1,\"absences\":6,\"G3\":13},{\"school\":\"GP\",\"sex\":\"F\",\"age\":16,\"address\":\"U\",\"famsize\":\"GT3\",\"Pstatus\":\"A\",\"Medu\":2,\"Fedu\":1,\"Mjob\":\"other\",\"Fjob\":\"other\",\"reason\":\"other\",\"guardian\":\"mother\",\"traveltime\":1,\"studytime\":2,\"failures\":0,\"schoolsup\":\"no\",\"famsup\":\"no\",\"paid\":\"yes\",\"activities\":\"yes\",\"nursery\":\"yes\",\"higher\":\"yes\",\"internet\":\"yes\",\"romantic\":\"yes\",\"famrel\":5,\"freetime\":3,\"goout\":4,\"Dalc\":1,\"Walc\":1,\"health\":2,\"absences\":8,\"G3\":10},{\"school\":\"GP\",\"sex\":\"F\",\"age\":15,\"address\":\"U\",\"famsize\":\"GT3\",\"Pstatus\":\"A\",\"Medu\":4,\"Fedu\":3,\"Mjob\":\"services\",\"Fjob\":\"services\",\"reason\":\"reputation\",\"guardian\":\"mother\",\"traveltime\":1,\"studytime\":2,\"failures\":0,\"schoolsup\":\"no\",\"famsup\":\"yes\",\"paid\":\"yes\",\"activities\":\"yes\",\"nursery\":\"yes\",\"higher\":\"yes\",\"internet\":\"yes\",\"romantic\":\"no\",\"famrel\":4,\"freetime\":3,\"goout\":2,\"Dalc\":1,\"Walc\":1,\"health\":1,\"absences\":0,\"G3\":15},{\"school\":\"GP\",\"sex\":\"M\",\"age\":15,\"address\":\"U\",\"famsize\":\"GT3\",\"Pstatus\":\"T\",\"Medu\":4,\"Fedu\":4,\"Mjob\":\"teacher\",\"Fjob\":\"health\",\"reason\":\"reputation\",\"guardian\":\"mother\",\"traveltime\":1,\"studytime\":2,\"failures\":0,\"schoolsup\":\"no\",\"famsup\":\"yes\",\"paid\":\"no\",\"activities\":\"yes\",\"nursery\":\"yes\",\"higher\":\"yes\",\"internet\":\"no\",\"romantic\":\"no\",\"famrel\":3,\"freetime\":2,\"goout\":2,\"Dalc\":1,\"Walc\":1,\"health\":5,\"absences\":4,\"G3\":15},{\"school\":\"GP\",\"sex\":\"M\",\"age\":15,\"address\":\"U\",\"famsize\":\"LE3\",\"Pstatus\":\"T\",\"Medu\":1,\"Fedu\":2,\"Mjob\":\"other\",\"Fjob\":\"at_home\",\"reason\":\"home\",\"guardian\":\"father\",\"traveltime\":1,\"studytime\":2,\"failures\":0,\"schoolsup\":\"yes\",\"famsup\":\"yes\",\"paid\":\"no\",\"activities\":\"yes\",\"nursery\":\"yes\",\"higher\":\"yes\",\"internet\":\"yes\",\"romantic\":\"no\",\"famrel\":4,\"freetime\":3,\"goout\":2,\"Dalc\":1,\"Walc\":1,\"health\":5,\"absences\":2,\"G3\":9},{\"school\":\"GP\",\"sex\":\"F\",\"age\":16,\"address\":\"U\",\"famsize\":\"GT3\",\"Pstatus\":\"T\",\"Medu\":4,\"Fedu\":2,\"Mjob\":\"services\",\"Fjob\":\"other\",\"reason\":\"course\",\"guardian\":\"mother\",\"traveltime\":1,\"studytime\":2,\"failures\":0,\"schoolsup\":\"no\",\"famsup\":\"yes\",\"paid\":\"no\",\"activities\":\"no\",\"nursery\":\"yes\",\"higher\":\"yes\",\"internet\":\"yes\",\"romantic\":\"no\",\"famrel\":4,\"freetime\":2,\"goout\":3,\"Dalc\":1,\"Walc\":1,\"health\":5,\"absences\":2,\"G3\":16},{\"school\":\"GP\",\"sex\":\"F\",\"age\":16,\"address\":\"R\",\"famsize\":\"GT3\",\"Pstatus\":\"T\",\"Medu\":4,\"Fedu\":4,\"Mjob\":\"health\",\"Fjob\":\"teacher\",\"reason\":\"other\",\"guardian\":\"mother\",\"traveltime\":1,\"studytime\":2,\"failures\":0,\"schoolsup\":\"no\",\"famsup\":\"yes\",\"paid\":\"no\",\"activities\":\"yes\",\"nursery\":\"yes\",\"higher\":\"yes\",\"internet\":\"no\",\"romantic\":\"no\",\"famrel\":2,\"freetime\":4,\"goout\":4,\"Dalc\":2,\"Walc\":3,\"health\":4,\"absences\":6,\"G3\":11},{\"school\":\"GP\",\"sex\":\"F\",\"age\":16,\"address\":\"U\",\"famsize\":\"GT3\",\"Pstatus\":\"T\",\"Medu\":1,\"Fedu\":1,\"Mjob\":\"services\",\"Fjob\":\"services\",\"reason\":\"course\",\"guardian\":\"father\",\"traveltime\":4,\"studytime\":1,\"failures\":0,\"schoolsup\":\"yes\",\"famsup\":\"yes\",\"paid\":\"no\",\"activities\":\"yes\",\"nursery\":\"no\",\"higher\":\"yes\",\"internet\":\"yes\",\"romantic\":\"yes\",\"famrel\":5,\"freetime\":5,\"goout\":5,\"Dalc\":5,\"Walc\":5,\"health\":5,\"absences\":6,\"G3\":11},{\"school\":\"GP\",\"sex\":\"F\",\"age\":16,\"address\":\"U\",\"famsize\":\"LE3\",\"Pstatus\":\"T\",\"Medu\":1,\"Fedu\":2,\"Mjob\":\"other\",\"Fjob\":\"services\",\"reason\":\"reputation\",\"guardian\":\"father\",\"traveltime\":1,\"studytime\":2,\"failures\":0,\"schoolsup\":\"yes\",\"famsup\":\"no\",\"paid\":\"no\",\"activities\":\"yes\",\"nursery\":\"yes\",\"higher\":\"yes\",\"internet\":\"yes\",\"romantic\":\"no\",\"famrel\":4,\"freetime\":4,\"goout\":3,\"Dalc\":1,\"Walc\":1,\"health\":1,\"absences\":4,\"G3\":9},{\"school\":\"GP\",\"sex\":\"F\",\"age\":16,\"address\":\"U\",\"famsize\":\"GT3\",\"Pstatus\":\"T\",\"Medu\":4,\"Fedu\":3,\"Mjob\":\"teacher\",\"Fjob\":\"health\",\"reason\":\"home\",\"guardian\":\"mother\",\"traveltime\":1,\"studytime\":3,\"failures\":0,\"schoolsup\":\"yes\",\"famsup\":\"yes\",\"paid\":\"yes\",\"activities\":\"yes\",\"nursery\":\"yes\",\"higher\":\"yes\",\"internet\":\"yes\",\"romantic\":\"no\",\"famrel\":3,\"freetime\":4,\"goout\":4,\"Dalc\":2,\"Walc\":4,\"health\":4,\"absences\":2,\"G3\":9},{\"school\":\"GP\",\"sex\":\"F\",\"age\":15,\"address\":\"U\",\"famsize\":\"LE3\",\"Pstatus\":\"T\",\"Medu\":4,\"Fedu\":3,\"Mjob\":\"services\",\"Fjob\":\"services\",\"reason\":\"reputation\",\"guardian\":\"father\",\"traveltime\":1,\"studytime\":2,\"failures\":0,\"schoolsup\":\"yes\",\"famsup\":\"no\",\"paid\":\"no\",\"activities\":\"yes\",\"nursery\":\"yes\",\"higher\":\"yes\",\"internet\":\"yes\",\"romantic\":\"yes\",\"famrel\":4,\"freetime\":4,\"goout\":4,\"Dalc\":2,\"Walc\":4,\"health\":2,\"absences\":0,\"G3\":10},{\"school\":\"GP\",\"sex\":\"F\",\"age\":16,\"address\":\"U\",\"famsize\":\"LE3\",\"Pstatus\":\"T\",\"Medu\":4,\"Fedu\":3,\"Mjob\":\"teacher\",\"Fjob\":\"services\",\"reason\":\"course\",\"guardian\":\"mother\",\"traveltime\":3,\"studytime\":2,\"failures\":0,\"schoolsup\":\"no\",\"famsup\":\"yes\",\"paid\":\"no\",\"activities\":\"yes\",\"nursery\":\"yes\",\"higher\":\"yes\",\"internet\":\"yes\",\"romantic\":\"no\",\"famrel\":5,\"freetime\":4,\"goout\":3,\"Dalc\":1,\"Walc\":2,\"health\":1,\"absences\":2,\"G3\":15},{\"school\":\"GP\",\"sex\":\"M\",\"age\":15,\"address\":\"U\",\"famsize\":\"GT3\",\"Pstatus\":\"A\",\"Medu\":4,\"Fedu\":4,\"Mjob\":\"other\",\"Fjob\":\"services\",\"reason\":\"reputation\",\"guardian\":\"mother\",\"traveltime\":1,\"studytime\":4,\"failures\":0,\"schoolsup\":\"no\",\"famsup\":\"yes\",\"paid\":\"no\",\"activities\":\"yes\",\"nursery\":\"no\",\"higher\":\"yes\",\"internet\":\"yes\",\"romantic\":\"yes\",\"famrel\":1,\"freetime\":3,\"goout\":3,\"Dalc\":5,\"Walc\":5,\"health\":3,\"absences\":4,\"G3\":12},{\"school\":\"GP\",\"sex\":\"F\",\"age\":16,\"address\":\"U\",\"famsize\":\"GT3\",\"Pstatus\":\"T\",\"Medu\":3,\"Fedu\":1,\"Mjob\":\"services\",\"Fjob\":\"other\",\"reason\":\"course\",\"guardian\":\"mother\",\"traveltime\":1,\"studytime\":4,\"failures\":0,\"schoolsup\":\"yes\",\"famsup\":\"yes\",\"paid\":\"yes\",\"activities\":\"no\",\"nursery\":\"yes\",\"higher\":\"yes\",\"internet\":\"yes\",\"romantic\":\"no\",\"famrel\":4,\"freetime\":3,\"goout\":3,\"Dalc\":1,\"Walc\":2,\"health\":5,\"absences\":4,\"G3\":6},{\"school\":\"GP\",\"sex\":\"F\",\"age\":15,\"address\":\"R\",\"famsize\":\"LE3\",\"Pstatus\":\"T\",\"Medu\":2,\"Fedu\":2,\"Mjob\":\"health\",\"Fjob\":\"services\",\"reason\":\"reputation\",\"guardian\":\"mother\",\"traveltime\":2,\"studytime\":2,\"failures\":0,\"schoolsup\":\"yes\",\"famsup\":\"yes\",\"paid\":\"yes\",\"activities\":\"no\",\"nursery\":\"yes\",\"higher\":\"yes\",\"internet\":\"yes\",\"romantic\":\"no\",\"famrel\":4,\"freetime\":1,\"goout\":3,\"Dalc\":1,\"Walc\":3,\"health\":4,\"absences\":2,\"G3\":8},{\"school\":\"GP\",\"sex\":\"F\",\"age\":15,\"address\":\"R\",\"famsize\":\"LE3\",\"Pstatus\":\"T\",\"Medu\":3,\"Fedu\":1,\"Mjob\":\"other\",\"Fjob\":\"other\",\"reason\":\"reputation\",\"guardian\":\"father\",\"traveltime\":2,\"studytime\":4,\"failures\":0,\"schoolsup\":\"no\",\"famsup\":\"yes\",\"paid\":\"no\",\"activities\":\"no\",\"nursery\":\"no\",\"higher\":\"yes\",\"internet\":\"yes\",\"romantic\":\"no\",\"famrel\":4,\"freetime\":4,\"goout\":2,\"Dalc\":2,\"Walc\":3,\"health\":3,\"absences\":12,\"G3\":16},{\"school\":\"GP\",\"sex\":\"M\",\"age\":16,\"address\":\"U\",\"famsize\":\"GT3\",\"Pstatus\":\"T\",\"Medu\":3,\"Fedu\":1,\"Mjob\":\"other\",\"Fjob\":\"other\",\"reason\":\"reputation\",\"guardian\":\"father\",\"traveltime\":2,\"studytime\":4,\"failures\":0,\"schoolsup\":\"no\",\"famsup\":\"yes\",\"paid\":\"yes\",\"activities\":\"no\",\"nursery\":\"yes\",\"higher\":\"yes\",\"internet\":\"yes\",\"romantic\":\"no\",\"famrel\":4,\"freetime\":3,\"goout\":2,\"Dalc\":1,\"Walc\":1,\"health\":5,\"absences\":0,\"G3\":15},{\"school\":\"GP\",\"sex\":\"M\",\"age\":15,\"address\":\"U\",\"famsize\":\"GT3\",\"Pstatus\":\"T\",\"Medu\":4,\"Fedu\":2,\"Mjob\":\"other\",\"Fjob\":\"other\",\"reason\":\"course\",\"guardian\":\"mother\",\"traveltime\":1,\"studytime\":4,\"failures\":0,\"schoolsup\":\"no\",\"famsup\":\"no\",\"paid\":\"no\",\"activities\":\"no\",\"nursery\":\"yes\",\"higher\":\"yes\",\"internet\":\"yes\",\"romantic\":\"no\",\"famrel\":3,\"freetime\":3,\"goout\":3,\"Dalc\":1,\"Walc\":1,\"health\":3,\"absences\":0,\"G3\":10},{\"school\":\"GP\",\"sex\":\"F\",\"age\":15,\"address\":\"R\",\"famsize\":\"GT3\",\"Pstatus\":\"T\",\"Medu\":1,\"Fedu\":1,\"Mjob\":\"other\",\"Fjob\":\"other\",\"reason\":\"reputation\",\"guardian\":\"mother\",\"traveltime\":1,\"studytime\":2,\"failures\":2,\"schoolsup\":\"yes\",\"famsup\":\"yes\",\"paid\":\"no\",\"activities\":\"no\",\"nursery\":\"no\",\"higher\":\"yes\",\"internet\":\"yes\",\"romantic\":\"yes\",\"famrel\":3,\"freetime\":3,\"goout\":4,\"Dalc\":2,\"Walc\":4,\"health\":5,\"absences\":2,\"G3\":5},{\"school\":\"GP\",\"sex\":\"M\",\"age\":16,\"address\":\"U\",\"famsize\":\"GT3\",\"Pstatus\":\"T\",\"Medu\":3,\"Fedu\":1,\"Mjob\":\"other\",\"Fjob\":\"other\",\"reason\":\"reputation\",\"guardian\":\"mother\",\"traveltime\":1,\"studytime\":1,\"failures\":0,\"schoolsup\":\"no\",\"famsup\":\"no\",\"paid\":\"no\",\"activities\":\"yes\",\"nursery\":\"yes\",\"higher\":\"yes\",\"internet\":\"no\",\"romantic\":\"no\",\"famrel\":5,\"freetime\":3,\"goout\":2,\"Dalc\":2,\"Walc\":2,\"health\":5,\"absences\":2,\"G3\":14},{\"school\":\"GP\",\"sex\":\"F\",\"age\":16,\"address\":\"U\",\"famsize\":\"GT3\",\"Pstatus\":\"T\",\"Medu\":3,\"Fedu\":3,\"Mjob\":\"other\",\"Fjob\":\"services\",\"reason\":\"home\",\"guardian\":\"mother\",\"traveltime\":1,\"studytime\":2,\"failures\":0,\"schoolsup\":\"yes\",\"famsup\":\"yes\",\"paid\":\"yes\",\"activities\":\"yes\",\"nursery\":\"yes\",\"higher\":\"yes\",\"internet\":\"yes\",\"romantic\":\"no\",\"famrel\":4,\"freetime\":3,\"goout\":3,\"Dalc\":2,\"Walc\":4,\"health\":5,\"absences\":54,\"G3\":11},{\"school\":\"GP\",\"sex\":\"M\",\"age\":15,\"address\":\"U\",\"famsize\":\"GT3\",\"Pstatus\":\"T\",\"Medu\":4,\"Fedu\":3,\"Mjob\":\"teacher\",\"Fjob\":\"other\",\"reason\":\"home\",\"guardian\":\"mother\",\"traveltime\":1,\"studytime\":2,\"failures\":0,\"schoolsup\":\"no\",\"famsup\":\"yes\",\"paid\":\"yes\",\"activities\":\"yes\",\"nursery\":\"yes\",\"higher\":\"yes\",\"internet\":\"yes\",\"romantic\":\"no\",\"famrel\":4,\"freetime\":3,\"goout\":3,\"Dalc\":2,\"Walc\":3,\"health\":5,\"absences\":6,\"G3\":10},{\"school\":\"GP\",\"sex\":\"M\",\"age\":15,\"address\":\"U\",\"famsize\":\"GT3\",\"Pstatus\":\"T\",\"Medu\":4,\"Fedu\":0,\"Mjob\":\"teacher\",\"Fjob\":\"other\",\"reason\":\"course\",\"guardian\":\"mother\",\"traveltime\":2,\"studytime\":4,\"failures\":0,\"schoolsup\":\"no\",\"famsup\":\"no\",\"paid\":\"no\",\"activities\":\"yes\",\"nursery\":\"yes\",\"higher\":\"yes\",\"internet\":\"yes\",\"romantic\":\"no\",\"famrel\":3,\"freetime\":4,\"goout\":3,\"Dalc\":1,\"Walc\":1,\"health\":1,\"absences\":8,\"G3\":10},{\"school\":\"GP\",\"sex\":\"F\",\"age\":16,\"address\":\"U\",\"famsize\":\"GT3\",\"Pstatus\":\"T\",\"Medu\":2,\"Fedu\":2,\"Mjob\":\"other\",\"Fjob\":\"other\",\"reason\":\"reputation\",\"guardian\":\"mother\",\"traveltime\":1,\"studytime\":4,\"failures\":0,\"schoolsup\":\"no\",\"famsup\":\"no\",\"paid\":\"yes\",\"activities\":\"no\",\"nursery\":\"yes\",\"higher\":\"yes\",\"internet\":\"yes\",\"romantic\":\"yes\",\"famrel\":5,\"freetime\":2,\"goout\":3,\"Dalc\":1,\"Walc\":3,\"health\":3,\"absences\":0,\"G3\":11},{\"school\":\"GP\",\"sex\":\"M\",\"age\":17,\"address\":\"U\",\"famsize\":\"GT3\",\"Pstatus\":\"T\",\"Medu\":2,\"Fedu\":1,\"Mjob\":\"other\",\"Fjob\":\"other\",\"reason\":\"home\",\"guardian\":\"mother\",\"traveltime\":2,\"studytime\":1,\"failures\":3,\"schoolsup\":\"yes\",\"famsup\":\"yes\",\"paid\":\"no\",\"activities\":\"yes\",\"nursery\":\"yes\",\"higher\":\"no\",\"internet\":\"yes\",\"romantic\":\"no\",\"famrel\":4,\"freetime\":5,\"goout\":1,\"Dalc\":1,\"Walc\":1,\"health\":3,\"absences\":2,\"G3\":10},{\"school\":\"GP\",\"sex\":\"F\",\"age\":16,\"address\":\"U\",\"famsize\":\"GT3\",\"Pstatus\":\"T\",\"Medu\":3,\"Fedu\":4,\"Mjob\":\"at_home\",\"Fjob\":\"other\",\"reason\":\"course\",\"guardian\":\"mother\",\"traveltime\":1,\"studytime\":2,\"failures\":0,\"schoolsup\":\"no\",\"famsup\":\"yes\",\"paid\":\"no\",\"activities\":\"no\",\"nursery\":\"yes\",\"higher\":\"yes\",\"internet\":\"yes\",\"romantic\":\"no\",\"famrel\":2,\"freetime\":4,\"goout\":3,\"Dalc\":1,\"Walc\":2,\"health\":3,\"absences\":12,\"G3\":5},{\"school\":\"GP\",\"sex\":\"M\",\"age\":15,\"address\":\"U\",\"famsize\":\"GT3\",\"Pstatus\":\"T\",\"Medu\":2,\"Fedu\":3,\"Mjob\":\"other\",\"Fjob\":\"services\",\"reason\":\"course\",\"guardian\":\"father\",\"traveltime\":1,\"studytime\":1,\"failures\":0,\"schoolsup\":\"yes\",\"famsup\":\"yes\",\"paid\":\"yes\",\"activities\":\"yes\",\"nursery\":\"no\",\"higher\":\"yes\",\"internet\":\"yes\",\"romantic\":\"yes\",\"famrel\":3,\"freetime\":2,\"goout\":2,\"Dalc\":1,\"Walc\":3,\"health\":3,\"absences\":2,\"G3\":12},{\"school\":\"GP\",\"sex\":\"M\",\"age\":15,\"address\":\"U\",\"famsize\":\"GT3\",\"Pstatus\":\"T\",\"Medu\":2,\"Fedu\":3,\"Mjob\":\"other\",\"Fjob\":\"other\",\"reason\":\"home\",\"guardian\":\"mother\",\"traveltime\":1,\"studytime\":3,\"failures\":0,\"schoolsup\":\"yes\",\"famsup\":\"no\",\"paid\":\"yes\",\"activities\":\"no\",\"nursery\":\"no\",\"higher\":\"yes\",\"internet\":\"yes\",\"romantic\":\"no\",\"famrel\":5,\"freetime\":3,\"goout\":2,\"Dalc\":1,\"Walc\":2,\"health\":5,\"absences\":4,\"G3\":11},{\"school\":\"GP\",\"sex\":\"F\",\"age\":15,\"address\":\"U\",\"famsize\":\"LE3\",\"Pstatus\":\"T\",\"Medu\":3,\"Fedu\":2,\"Mjob\":\"services\",\"Fjob\":\"other\",\"reason\":\"reputation\",\"guardian\":\"mother\",\"traveltime\":1,\"studytime\":2,\"failures\":0,\"schoolsup\":\"no\",\"famsup\":\"yes\",\"paid\":\"yes\",\"activities\":\"no\",\"nursery\":\"yes\",\"higher\":\"yes\",\"internet\":\"yes\",\"romantic\":\"no\",\"famrel\":4,\"freetime\":4,\"goout\":4,\"Dalc\":1,\"Walc\":1,\"health\":5,\"absences\":10,\"G3\":6},{\"school\":\"GP\",\"sex\":\"M\",\"age\":15,\"address\":\"U\",\"famsize\":\"LE3\",\"Pstatus\":\"T\",\"Medu\":2,\"Fedu\":2,\"Mjob\":\"services\",\"Fjob\":\"services\",\"reason\":\"home\",\"guardian\":\"mother\",\"traveltime\":2,\"studytime\":2,\"failures\":0,\"schoolsup\":\"no\",\"famsup\":\"no\",\"paid\":\"yes\",\"activities\":\"yes\",\"nursery\":\"yes\",\"higher\":\"yes\",\"internet\":\"yes\",\"romantic\":\"no\",\"famrel\":5,\"freetime\":3,\"goout\":3,\"Dalc\":1,\"Walc\":3,\"health\":4,\"absences\":4,\"G3\":15},{\"school\":\"GP\",\"sex\":\"F\",\"age\":15,\"address\":\"U\",\"famsize\":\"GT3\",\"Pstatus\":\"T\",\"Medu\":1,\"Fedu\":1,\"Mjob\":\"other\",\"Fjob\":\"other\",\"reason\":\"home\",\"guardian\":\"father\",\"traveltime\":1,\"studytime\":2,\"failures\":0,\"schoolsup\":\"no\",\"famsup\":\"yes\",\"paid\":\"no\",\"activities\":\"yes\",\"nursery\":\"no\",\"higher\":\"yes\",\"internet\":\"yes\",\"romantic\":\"no\",\"famrel\":4,\"freetime\":3,\"goout\":2,\"Dalc\":2,\"Walc\":3,\"health\":4,\"absences\":2,\"G3\":10},{\"school\":\"GP\",\"sex\":\"F\",\"age\":15,\"address\":\"U\",\"famsize\":\"GT3\",\"Pstatus\":\"T\",\"Medu\":4,\"Fedu\":4,\"Mjob\":\"services\",\"Fjob\":\"services\",\"reason\":\"reputation\",\"guardian\":\"father\",\"traveltime\":2,\"studytime\":2,\"failures\":2,\"schoolsup\":\"no\",\"famsup\":\"no\",\"paid\":\"yes\",\"activities\":\"no\",\"nursery\":\"yes\",\"higher\":\"yes\",\"internet\":\"yes\",\"romantic\":\"yes\",\"famrel\":4,\"freetime\":4,\"goout\":4,\"Dalc\":2,\"Walc\":3,\"health\":5,\"absences\":6,\"G3\":8},{\"school\":\"GP\",\"sex\":\"F\",\"age\":16,\"address\":\"U\",\"famsize\":\"LE3\",\"Pstatus\":\"T\",\"Medu\":2,\"Fedu\":2,\"Mjob\":\"at_home\",\"Fjob\":\"other\",\"reason\":\"course\",\"guardian\":\"mother\",\"traveltime\":1,\"studytime\":2,\"failures\":0,\"schoolsup\":\"no\",\"famsup\":\"yes\",\"paid\":\"no\",\"activities\":\"no\",\"nursery\":\"yes\",\"higher\":\"yes\",\"internet\":\"no\",\"romantic\":\"no\",\"famrel\":4,\"freetime\":3,\"goout\":4,\"Dalc\":1,\"Walc\":2,\"health\":2,\"absences\":4,\"G3\":6},{\"school\":\"GP\",\"sex\":\"F\",\"age\":15,\"address\":\"U\",\"famsize\":\"GT3\",\"Pstatus\":\"T\",\"Medu\":4,\"Fedu\":2,\"Mjob\":\"other\",\"Fjob\":\"other\",\"reason\":\"reputation\",\"guardian\":\"mother\",\"traveltime\":1,\"studytime\":3,\"failures\":0,\"schoolsup\":\"no\",\"famsup\":\"yes\",\"paid\":\"no\",\"activities\":\"yes\",\"nursery\":\"yes\",\"higher\":\"yes\",\"internet\":\"yes\",\"romantic\":\"no\",\"famrel\":5,\"freetime\":3,\"goout\":3,\"Dalc\":1,\"Walc\":3,\"health\":1,\"absences\":4,\"G3\":14},{\"school\":\"GP\",\"sex\":\"M\",\"age\":16,\"address\":\"U\",\"famsize\":\"GT3\",\"Pstatus\":\"T\",\"Medu\":2,\"Fedu\":2,\"Mjob\":\"services\",\"Fjob\":\"other\",\"reason\":\"reputation\",\"guardian\":\"father\",\"traveltime\":2,\"studytime\":2,\"failures\":1,\"schoolsup\":\"no\",\"famsup\":\"no\",\"paid\":\"yes\",\"activities\":\"yes\",\"nursery\":\"no\",\"higher\":\"yes\",\"internet\":\"yes\",\"romantic\":\"no\",\"famrel\":4,\"freetime\":4,\"goout\":2,\"Dalc\":1,\"Walc\":1,\"health\":3,\"absences\":12,\"G3\":10},{\"school\":\"GP\",\"sex\":\"M\",\"age\":16,\"address\":\"U\",\"famsize\":\"LE3\",\"Pstatus\":\"A\",\"Medu\":4,\"Fedu\":4,\"Mjob\":\"teacher\",\"Fjob\":\"health\",\"reason\":\"reputation\",\"guardian\":\"mother\",\"traveltime\":1,\"studytime\":2,\"failures\":0,\"schoolsup\":\"no\",\"famsup\":\"yes\",\"paid\":\"no\",\"activities\":\"no\",\"nursery\":\"yes\",\"higher\":\"yes\",\"internet\":\"no\",\"romantic\":\"no\",\"famrel\":4,\"freetime\":1,\"goout\":3,\"Dalc\":3,\"Walc\":5,\"health\":5,\"absences\":18,\"G3\":7},{\"school\":\"GP\",\"sex\":\"F\",\"age\":16,\"address\":\"U\",\"famsize\":\"GT3\",\"Pstatus\":\"T\",\"Medu\":3,\"Fedu\":3,\"Mjob\":\"other\",\"Fjob\":\"other\",\"reason\":\"home\",\"guardian\":\"mother\",\"traveltime\":1,\"studytime\":3,\"failures\":0,\"schoolsup\":\"no\",\"famsup\":\"yes\",\"paid\":\"yes\",\"activities\":\"no\",\"nursery\":\"yes\",\"higher\":\"yes\",\"internet\":\"yes\",\"romantic\":\"yes\",\"famrel\":4,\"freetime\":3,\"goout\":3,\"Dalc\":1,\"Walc\":3,\"health\":4,\"absences\":0,\"G3\":8},{\"school\":\"GP\",\"sex\":\"F\",\"age\":15,\"address\":\"U\",\"famsize\":\"GT3\",\"Pstatus\":\"T\",\"Medu\":4,\"Fedu\":3,\"Mjob\":\"services\",\"Fjob\":\"other\",\"reason\":\"reputation\",\"guardian\":\"mother\",\"traveltime\":1,\"studytime\":1,\"failures\":0,\"schoolsup\":\"no\",\"famsup\":\"no\",\"paid\":\"yes\",\"activities\":\"yes\",\"nursery\":\"yes\",\"higher\":\"yes\",\"internet\":\"yes\",\"romantic\":\"no\",\"famrel\":4,\"freetime\":5,\"goout\":5,\"Dalc\":1,\"Walc\":3,\"health\":1,\"absences\":4,\"G3\":18},{\"school\":\"GP\",\"sex\":\"F\",\"age\":16,\"address\":\"U\",\"famsize\":\"LE3\",\"Pstatus\":\"T\",\"Medu\":3,\"Fedu\":1,\"Mjob\":\"other\",\"Fjob\":\"other\",\"reason\":\"home\",\"guardian\":\"father\",\"traveltime\":1,\"studytime\":2,\"failures\":0,\"schoolsup\":\"yes\",\"famsup\":\"yes\",\"paid\":\"no\",\"activities\":\"no\",\"nursery\":\"yes\",\"higher\":\"yes\",\"internet\":\"no\",\"romantic\":\"no\",\"famrel\":3,\"freetime\":3,\"goout\":3,\"Dalc\":2,\"Walc\":3,\"health\":2,\"absences\":4,\"G3\":6},{\"school\":\"GP\",\"sex\":\"F\",\"age\":16,\"address\":\"U\",\"famsize\":\"GT3\",\"Pstatus\":\"T\",\"Medu\":4,\"Fedu\":2,\"Mjob\":\"teacher\",\"Fjob\":\"services\",\"reason\":\"home\",\"guardian\":\"mother\",\"traveltime\":2,\"studytime\":2,\"failures\":0,\"schoolsup\":\"no\",\"famsup\":\"yes\",\"paid\":\"yes\",\"activities\":\"yes\",\"nursery\":\"yes\",\"higher\":\"yes\",\"internet\":\"yes\",\"romantic\":\"no\",\"famrel\":5,\"freetime\":3,\"goout\":3,\"Dalc\":1,\"Walc\":1,\"health\":1,\"absences\":0,\"G3\":10},{\"school\":\"GP\",\"sex\":\"M\",\"age\":15,\"address\":\"U\",\"famsize\":\"LE3\",\"Pstatus\":\"T\",\"Medu\":2,\"Fedu\":2,\"Mjob\":\"services\",\"Fjob\":\"health\",\"reason\":\"reputation\",\"guardian\":\"mother\",\"traveltime\":1,\"studytime\":4,\"failures\":0,\"schoolsup\":\"no\",\"famsup\":\"yes\",\"paid\":\"no\",\"activities\":\"yes\",\"nursery\":\"yes\",\"higher\":\"yes\",\"internet\":\"yes\",\"romantic\":\"no\",\"famrel\":4,\"freetime\":3,\"goout\":4,\"Dalc\":1,\"Walc\":1,\"health\":4,\"absences\":6,\"G3\":14},{\"school\":\"GP\",\"sex\":\"F\",\"age\":15,\"address\":\"R\",\"famsize\":\"GT3\",\"Pstatus\":\"T\",\"Medu\":1,\"Fedu\":1,\"Mjob\":\"at_home\",\"Fjob\":\"other\",\"reason\":\"home\",\"guardian\":\"mother\",\"traveltime\":2,\"studytime\":4,\"failures\":1,\"schoolsup\":\"yes\",\"famsup\":\"yes\",\"paid\":\"yes\",\"activities\":\"yes\",\"nursery\":\"yes\",\"higher\":\"yes\",\"internet\":\"yes\",\"romantic\":\"no\",\"famrel\":3,\"freetime\":1,\"goout\":2,\"Dalc\":1,\"Walc\":1,\"health\":1,\"absences\":2,\"G3\":10},{\"school\":\"GP\",\"sex\":\"M\",\"age\":16,\"address\":\"R\",\"famsize\":\"GT3\",\"Pstatus\":\"T\",\"Medu\":4,\"Fedu\":3,\"Mjob\":\"services\",\"Fjob\":\"other\",\"reason\":\"reputation\",\"guardian\":\"mother\",\"traveltime\":2,\"studytime\":1,\"failures\":0,\"schoolsup\":\"yes\",\"famsup\":\"yes\",\"paid\":\"no\",\"activities\":\"yes\",\"nursery\":\"no\",\"higher\":\"yes\",\"internet\":\"yes\",\"romantic\":\"no\",\"famrel\":3,\"freetime\":3,\"goout\":3,\"Dalc\":1,\"Walc\":1,\"health\":4,\"absences\":2,\"G3\":15},{\"school\":\"GP\",\"sex\":\"F\",\"age\":16,\"address\":\"U\",\"famsize\":\"GT3\",\"Pstatus\":\"T\",\"Medu\":2,\"Fedu\":1,\"Mjob\":\"other\",\"Fjob\":\"other\",\"reason\":\"course\",\"guardian\":\"mother\",\"traveltime\":1,\"studytime\":2,\"failures\":0,\"schoolsup\":\"no\",\"famsup\":\"yes\",\"paid\":\"yes\",\"activities\":\"no\",\"nursery\":\"yes\",\"higher\":\"yes\",\"internet\":\"no\",\"romantic\":\"yes\",\"famrel\":4,\"freetime\":3,\"goout\":5,\"Dalc\":1,\"Walc\":1,\"health\":5,\"absences\":2,\"G3\":10},{\"school\":\"GP\",\"sex\":\"F\",\"age\":16,\"address\":\"U\",\"famsize\":\"GT3\",\"Pstatus\":\"T\",\"Medu\":4,\"Fedu\":4,\"Mjob\":\"other\",\"Fjob\":\"other\",\"reason\":\"reputation\",\"guardian\":\"mother\",\"traveltime\":1,\"studytime\":1,\"failures\":0,\"schoolsup\":\"no\",\"famsup\":\"no\",\"paid\":\"no\",\"activities\":\"yes\",\"nursery\":\"no\",\"higher\":\"yes\",\"internet\":\"yes\",\"romantic\":\"no\",\"famrel\":5,\"freetime\":3,\"goout\":4,\"Dalc\":1,\"Walc\":2,\"health\":1,\"absences\":6,\"G3\":14},{\"school\":\"GP\",\"sex\":\"F\",\"age\":16,\"address\":\"U\",\"famsize\":\"GT3\",\"Pstatus\":\"T\",\"Medu\":4,\"Fedu\":3,\"Mjob\":\"other\",\"Fjob\":\"at_home\",\"reason\":\"course\",\"guardian\":\"mother\",\"traveltime\":1,\"studytime\":3,\"failures\":0,\"schoolsup\":\"yes\",\"famsup\":\"yes\",\"paid\":\"yes\",\"activities\":\"no\",\"nursery\":\"yes\",\"higher\":\"yes\",\"internet\":\"yes\",\"romantic\":\"no\",\"famrel\":5,\"freetime\":3,\"goout\":5,\"Dalc\":1,\"Walc\":1,\"health\":3,\"absences\":0,\"G3\":8},{\"school\":\"GP\",\"sex\":\"M\",\"age\":16,\"address\":\"U\",\"famsize\":\"GT3\",\"Pstatus\":\"T\",\"Medu\":4,\"Fedu\":4,\"Mjob\":\"services\",\"Fjob\":\"services\",\"reason\":\"other\",\"guardian\":\"mother\",\"traveltime\":1,\"studytime\":1,\"failures\":0,\"schoolsup\":\"yes\",\"famsup\":\"yes\",\"paid\":\"yes\",\"activities\":\"yes\",\"nursery\":\"yes\",\"higher\":\"yes\",\"internet\":\"yes\",\"romantic\":\"no\",\"famrel\":4,\"freetime\":5,\"goout\":5,\"Dalc\":5,\"Walc\":5,\"health\":4,\"absences\":14,\"G3\":5},{\"school\":\"GP\",\"sex\":\"M\",\"age\":16,\"address\":\"U\",\"famsize\":\"GT3\",\"Pstatus\":\"T\",\"Medu\":4,\"Fedu\":4,\"Mjob\":\"services\",\"Fjob\":\"teacher\",\"reason\":\"other\",\"guardian\":\"father\",\"traveltime\":1,\"studytime\":3,\"failures\":0,\"schoolsup\":\"no\",\"famsup\":\"yes\",\"paid\":\"no\",\"activities\":\"yes\",\"nursery\":\"yes\",\"higher\":\"yes\",\"internet\":\"yes\",\"romantic\":\"yes\",\"famrel\":4,\"freetime\":4,\"goout\":3,\"Dalc\":1,\"Walc\":1,\"health\":4,\"absences\":0,\"G3\":17},{\"school\":\"GP\",\"sex\":\"M\",\"age\":15,\"address\":\"U\",\"famsize\":\"GT3\",\"Pstatus\":\"T\",\"Medu\":4,\"Fedu\":4,\"Mjob\":\"services\",\"Fjob\":\"other\",\"reason\":\"course\",\"guardian\":\"mother\",\"traveltime\":1,\"studytime\":1,\"failures\":0,\"schoolsup\":\"no\",\"famsup\":\"yes\",\"paid\":\"no\",\"activities\":\"yes\",\"nursery\":\"no\",\"higher\":\"yes\",\"internet\":\"yes\",\"romantic\":\"no\",\"famrel\":5,\"freetime\":3,\"goout\":3,\"Dalc\":1,\"Walc\":1,\"health\":5,\"absences\":4,\"G3\":14},{\"school\":\"GP\",\"sex\":\"F\",\"age\":15,\"address\":\"U\",\"famsize\":\"GT3\",\"Pstatus\":\"T\",\"Medu\":3,\"Fedu\":2,\"Mjob\":\"services\",\"Fjob\":\"other\",\"reason\":\"home\",\"guardian\":\"mother\",\"traveltime\":2,\"studytime\":2,\"failures\":0,\"schoolsup\":\"yes\",\"famsup\":\"yes\",\"paid\":\"yes\",\"activities\":\"no\",\"nursery\":\"yes\",\"higher\":\"yes\",\"internet\":\"yes\",\"romantic\":\"no\",\"famrel\":4,\"freetime\":3,\"goout\":5,\"Dalc\":1,\"Walc\":1,\"health\":2,\"absences\":26,\"G3\":6},{\"school\":\"GP\",\"sex\":\"M\",\"age\":15,\"address\":\"U\",\"famsize\":\"GT3\",\"Pstatus\":\"A\",\"Medu\":3,\"Fedu\":4,\"Mjob\":\"services\",\"Fjob\":\"other\",\"reason\":\"course\",\"guardian\":\"mother\",\"traveltime\":1,\"studytime\":2,\"failures\":0,\"schoolsup\":\"no\",\"famsup\":\"yes\",\"paid\":\"yes\",\"activities\":\"yes\",\"nursery\":\"yes\",\"higher\":\"yes\",\"internet\":\"yes\",\"romantic\":\"no\",\"famrel\":5,\"freetime\":4,\"goout\":4,\"Dalc\":1,\"Walc\":1,\"health\":1,\"absences\":0,\"G3\":18},{\"school\":\"GP\",\"sex\":\"F\",\"age\":15,\"address\":\"U\",\"famsize\":\"GT3\",\"Pstatus\":\"A\",\"Medu\":3,\"Fedu\":3,\"Mjob\":\"other\",\"Fjob\":\"health\",\"reason\":\"reputation\",\"guardian\":\"father\",\"traveltime\":1,\"studytime\":4,\"failures\":0,\"schoolsup\":\"yes\",\"famsup\":\"no\",\"paid\":\"no\",\"activities\":\"no\",\"nursery\":\"yes\",\"higher\":\"yes\",\"internet\":\"no\",\"romantic\":\"no\",\"famrel\":4,\"freetime\":3,\"goout\":3,\"Dalc\":1,\"Walc\":1,\"health\":4,\"absences\":10,\"G3\":11},{\"school\":\"GP\",\"sex\":\"F\",\"age\":15,\"address\":\"U\",\"famsize\":\"GT3\",\"Pstatus\":\"T\",\"Medu\":2,\"Fedu\":2,\"Mjob\":\"other\",\"Fjob\":\"other\",\"reason\":\"course\",\"guardian\":\"mother\",\"traveltime\":1,\"studytime\":4,\"failures\":0,\"schoolsup\":\"yes\",\"famsup\":\"yes\",\"paid\":\"yes\",\"activities\":\"no\",\"nursery\":\"yes\",\"higher\":\"yes\",\"internet\":\"yes\",\"romantic\":\"no\",\"famrel\":5,\"freetime\":1,\"goout\":2,\"Dalc\":1,\"Walc\":1,\"health\":3,\"absences\":8,\"G3\":8},{\"school\":\"GP\",\"sex\":\"M\",\"age\":16,\"address\":\"U\",\"famsize\":\"GT3\",\"Pstatus\":\"T\",\"Medu\":3,\"Fedu\":3,\"Mjob\":\"services\",\"Fjob\":\"other\",\"reason\":\"home\",\"guardian\":\"father\",\"traveltime\":1,\"studytime\":3,\"failures\":0,\"schoolsup\":\"no\",\"famsup\":\"yes\",\"paid\":\"no\",\"activities\":\"yes\",\"nursery\":\"yes\",\"higher\":\"yes\",\"internet\":\"yes\",\"romantic\":\"no\",\"famrel\":5,\"freetime\":3,\"goout\":3,\"Dalc\":1,\"Walc\":1,\"health\":5,\"absences\":2,\"G3\":18},{\"school\":\"GP\",\"sex\":\"M\",\"age\":15,\"address\":\"R\",\"famsize\":\"GT3\",\"Pstatus\":\"T\",\"Medu\":4,\"Fedu\":4,\"Mjob\":\"other\",\"Fjob\":\"other\",\"reason\":\"home\",\"guardian\":\"father\",\"traveltime\":4,\"studytime\":4,\"failures\":0,\"schoolsup\":\"no\",\"famsup\":\"yes\",\"paid\":\"yes\",\"activities\":\"yes\",\"nursery\":\"yes\",\"higher\":\"yes\",\"internet\":\"yes\",\"romantic\":\"yes\",\"famrel\":1,\"freetime\":3,\"goout\":5,\"Dalc\":3,\"Walc\":5,\"health\":1,\"absences\":6,\"G3\":13},{\"school\":\"GP\",\"sex\":\"F\",\"age\":16,\"address\":\"U\",\"famsize\":\"LE3\",\"Pstatus\":\"T\",\"Medu\":4,\"Fedu\":4,\"Mjob\":\"health\",\"Fjob\":\"health\",\"reason\":\"other\",\"guardian\":\"mother\",\"traveltime\":1,\"studytime\":3,\"failures\":0,\"schoolsup\":\"no\",\"famsup\":\"yes\",\"paid\":\"yes\",\"activities\":\"yes\",\"nursery\":\"yes\",\"higher\":\"yes\",\"internet\":\"yes\",\"romantic\":\"yes\",\"famrel\":5,\"freetime\":4,\"goout\":5,\"Dalc\":1,\"Walc\":1,\"health\":4,\"absences\":4,\"G3\":16},{\"school\":\"GP\",\"sex\":\"M\",\"age\":15,\"address\":\"U\",\"famsize\":\"LE3\",\"Pstatus\":\"A\",\"Medu\":4,\"Fedu\":4,\"Mjob\":\"teacher\",\"Fjob\":\"teacher\",\"reason\":\"course\",\"guardian\":\"mother\",\"traveltime\":1,\"studytime\":1,\"failures\":0,\"schoolsup\":\"no\",\"famsup\":\"no\",\"paid\":\"no\",\"activities\":\"yes\",\"nursery\":\"yes\",\"higher\":\"yes\",\"internet\":\"yes\",\"romantic\":\"no\",\"famrel\":5,\"freetime\":5,\"goout\":3,\"Dalc\":1,\"Walc\":1,\"health\":4,\"absences\":6,\"G3\":19},{\"school\":\"GP\",\"sex\":\"F\",\"age\":16,\"address\":\"R\",\"famsize\":\"GT3\",\"Pstatus\":\"T\",\"Medu\":3,\"Fedu\":3,\"Mjob\":\"services\",\"Fjob\":\"other\",\"reason\":\"reputation\",\"guardian\":\"father\",\"traveltime\":1,\"studytime\":3,\"failures\":1,\"schoolsup\":\"yes\",\"famsup\":\"yes\",\"paid\":\"no\",\"activities\":\"yes\",\"nursery\":\"yes\",\"higher\":\"yes\",\"internet\":\"yes\",\"romantic\":\"no\",\"famrel\":4,\"freetime\":1,\"goout\":2,\"Dalc\":1,\"Walc\":1,\"health\":2,\"absences\":0,\"G3\":10},{\"school\":\"GP\",\"sex\":\"F\",\"age\":16,\"address\":\"U\",\"famsize\":\"GT3\",\"Pstatus\":\"T\",\"Medu\":2,\"Fedu\":2,\"Mjob\":\"at_home\",\"Fjob\":\"other\",\"reason\":\"home\",\"guardian\":\"mother\",\"traveltime\":1,\"studytime\":2,\"failures\":1,\"schoolsup\":\"yes\",\"famsup\":\"no\",\"paid\":\"no\",\"activities\":\"yes\",\"nursery\":\"yes\",\"higher\":\"yes\",\"internet\":\"yes\",\"romantic\":\"no\",\"famrel\":3,\"freetime\":1,\"goout\":2,\"Dalc\":1,\"Walc\":1,\"health\":5,\"absences\":6,\"G3\":13},{\"school\":\"GP\",\"sex\":\"M\",\"age\":15,\"address\":\"U\",\"famsize\":\"LE3\",\"Pstatus\":\"T\",\"Medu\":4,\"Fedu\":2,\"Mjob\":\"teacher\",\"Fjob\":\"other\",\"reason\":\"course\",\"guardian\":\"mother\",\"traveltime\":1,\"studytime\":1,\"failures\":0,\"schoolsup\":\"no\",\"famsup\":\"no\",\"paid\":\"no\",\"activities\":\"no\",\"nursery\":\"yes\",\"higher\":\"yes\",\"internet\":\"yes\",\"romantic\":\"no\",\"famrel\":3,\"freetime\":5,\"goout\":2,\"Dalc\":1,\"Walc\":1,\"health\":3,\"absences\":10,\"G3\":19},{\"school\":\"GP\",\"sex\":\"M\",\"age\":15,\"address\":\"R\",\"famsize\":\"GT3\",\"Pstatus\":\"T\",\"Medu\":2,\"Fedu\":1,\"Mjob\":\"health\",\"Fjob\":\"services\",\"reason\":\"reputation\",\"guardian\":\"mother\",\"traveltime\":1,\"studytime\":2,\"failures\":0,\"schoolsup\":\"no\",\"famsup\":\"no\",\"paid\":\"no\",\"activities\":\"yes\",\"nursery\":\"yes\",\"higher\":\"yes\",\"internet\":\"yes\",\"romantic\":\"yes\",\"famrel\":5,\"freetime\":4,\"goout\":2,\"Dalc\":1,\"Walc\":1,\"health\":5,\"absences\":8,\"G3\":9},{\"school\":\"GP\",\"sex\":\"M\",\"age\":16,\"address\":\"U\",\"famsize\":\"GT3\",\"Pstatus\":\"T\",\"Medu\":4,\"Fedu\":4,\"Mjob\":\"teacher\",\"Fjob\":\"teacher\",\"reason\":\"course\",\"guardian\":\"father\",\"traveltime\":1,\"studytime\":2,\"failures\":0,\"schoolsup\":\"no\",\"famsup\":\"yes\",\"paid\":\"no\",\"activities\":\"yes\",\"nursery\":\"yes\",\"higher\":\"yes\",\"internet\":\"yes\",\"romantic\":\"no\",\"famrel\":5,\"freetime\":4,\"goout\":4,\"Dalc\":1,\"Walc\":2,\"health\":5,\"absences\":2,\"G3\":16},{\"school\":\"GP\",\"sex\":\"M\",\"age\":15,\"address\":\"U\",\"famsize\":\"GT3\",\"Pstatus\":\"T\",\"Medu\":4,\"Fedu\":4,\"Mjob\":\"other\",\"Fjob\":\"teacher\",\"reason\":\"reputation\",\"guardian\":\"father\",\"traveltime\":2,\"studytime\":2,\"failures\":0,\"schoolsup\":\"no\",\"famsup\":\"yes\",\"paid\":\"no\",\"activities\":\"yes\",\"nursery\":\"yes\",\"higher\":\"yes\",\"internet\":\"no\",\"romantic\":\"no\",\"famrel\":4,\"freetime\":4,\"goout\":3,\"Dalc\":1,\"Walc\":1,\"health\":2,\"absences\":2,\"G3\":14},{\"school\":\"GP\",\"sex\":\"M\",\"age\":16,\"address\":\"U\",\"famsize\":\"GT3\",\"Pstatus\":\"T\",\"Medu\":3,\"Fedu\":3,\"Mjob\":\"other\",\"Fjob\":\"services\",\"reason\":\"home\",\"guardian\":\"father\",\"traveltime\":2,\"studytime\":1,\"failures\":0,\"schoolsup\":\"no\",\"famsup\":\"no\",\"paid\":\"no\",\"activities\":\"yes\",\"nursery\":\"yes\",\"higher\":\"yes\",\"internet\":\"yes\",\"romantic\":\"no\",\"famrel\":5,\"freetime\":4,\"goout\":2,\"Dalc\":1,\"Walc\":1,\"health\":5,\"absences\":0,\"G3\":13},{\"school\":\"GP\",\"sex\":\"M\",\"age\":17,\"address\":\"R\",\"famsize\":\"GT3\",\"Pstatus\":\"T\",\"Medu\":1,\"Fedu\":3,\"Mjob\":\"other\",\"Fjob\":\"other\",\"reason\":\"course\",\"guardian\":\"father\",\"traveltime\":3,\"studytime\":2,\"failures\":1,\"schoolsup\":\"no\",\"famsup\":\"yes\",\"paid\":\"no\",\"activities\":\"yes\",\"nursery\":\"yes\",\"higher\":\"yes\",\"internet\":\"yes\",\"romantic\":\"no\",\"famrel\":5,\"freetime\":2,\"goout\":4,\"Dalc\":1,\"Walc\":4,\"health\":5,\"absences\":20,\"G3\":8},{\"school\":\"GP\",\"sex\":\"M\",\"age\":15,\"address\":\"U\",\"famsize\":\"GT3\",\"Pstatus\":\"T\",\"Medu\":3,\"Fedu\":4,\"Mjob\":\"other\",\"Fjob\":\"other\",\"reason\":\"reputation\",\"guardian\":\"father\",\"traveltime\":1,\"studytime\":1,\"failures\":0,\"schoolsup\":\"no\",\"famsup\":\"no\",\"paid\":\"no\",\"activities\":\"no\",\"nursery\":\"yes\",\"higher\":\"yes\",\"internet\":\"yes\",\"romantic\":\"no\",\"famrel\":3,\"freetime\":4,\"goout\":3,\"Dalc\":1,\"Walc\":2,\"health\":4,\"absences\":6,\"G3\":13},{\"school\":\"GP\",\"sex\":\"F\",\"age\":15,\"address\":\"U\",\"famsize\":\"GT3\",\"Pstatus\":\"T\",\"Medu\":1,\"Fedu\":2,\"Mjob\":\"at_home\",\"Fjob\":\"services\",\"reason\":\"course\",\"guardian\":\"mother\",\"traveltime\":1,\"studytime\":2,\"failures\":0,\"schoolsup\":\"no\",\"famsup\":\"no\",\"paid\":\"no\",\"activities\":\"no\",\"nursery\":\"no\",\"higher\":\"yes\",\"internet\":\"yes\",\"romantic\":\"no\",\"famrel\":3,\"freetime\":2,\"goout\":3,\"Dalc\":1,\"Walc\":2,\"health\":1,\"absences\":2,\"G3\":15},{\"school\":\"GP\",\"sex\":\"M\",\"age\":15,\"address\":\"U\",\"famsize\":\"GT3\",\"Pstatus\":\"T\",\"Medu\":2,\"Fedu\":2,\"Mjob\":\"services\",\"Fjob\":\"services\",\"reason\":\"home\",\"guardian\":\"father\",\"traveltime\":1,\"studytime\":4,\"failures\":0,\"schoolsup\":\"no\",\"famsup\":\"yes\",\"paid\":\"yes\",\"activities\":\"yes\",\"nursery\":\"yes\",\"higher\":\"yes\",\"internet\":\"yes\",\"romantic\":\"no\",\"famrel\":5,\"freetime\":5,\"goout\":4,\"Dalc\":1,\"Walc\":2,\"health\":5,\"absences\":6,\"G3\":15},{\"school\":\"GP\",\"sex\":\"F\",\"age\":16,\"address\":\"U\",\"famsize\":\"LE3\",\"Pstatus\":\"T\",\"Medu\":2,\"Fedu\":4,\"Mjob\":\"other\",\"Fjob\":\"health\",\"reason\":\"course\",\"guardian\":\"father\",\"traveltime\":2,\"studytime\":2,\"failures\":0,\"schoolsup\":\"no\",\"famsup\":\"yes\",\"paid\":\"yes\",\"activities\":\"yes\",\"nursery\":\"yes\",\"higher\":\"yes\",\"internet\":\"yes\",\"romantic\":\"yes\",\"famrel\":4,\"freetime\":2,\"goout\":2,\"Dalc\":1,\"Walc\":2,\"health\":5,\"absences\":2,\"G3\":13},{\"school\":\"GP\",\"sex\":\"M\",\"age\":16,\"address\":\"U\",\"famsize\":\"GT3\",\"Pstatus\":\"T\",\"Medu\":4,\"Fedu\":4,\"Mjob\":\"health\",\"Fjob\":\"other\",\"reason\":\"course\",\"guardian\":\"mother\",\"traveltime\":1,\"studytime\":1,\"failures\":0,\"schoolsup\":\"no\",\"famsup\":\"yes\",\"paid\":\"no\",\"activities\":\"yes\",\"nursery\":\"yes\",\"higher\":\"yes\",\"internet\":\"yes\",\"romantic\":\"no\",\"famrel\":3,\"freetime\":4,\"goout\":4,\"Dalc\":1,\"Walc\":4,\"health\":5,\"absences\":18,\"G3\":13},{\"school\":\"GP\",\"sex\":\"F\",\"age\":16,\"address\":\"U\",\"famsize\":\"GT3\",\"Pstatus\":\"T\",\"Medu\":2,\"Fedu\":2,\"Mjob\":\"other\",\"Fjob\":\"other\",\"reason\":\"home\",\"guardian\":\"mother\",\"traveltime\":1,\"studytime\":2,\"failures\":0,\"schoolsup\":\"no\",\"famsup\":\"no\",\"paid\":\"yes\",\"activities\":\"no\",\"nursery\":\"yes\",\"higher\":\"yes\",\"internet\":\"yes\",\"romantic\":\"yes\",\"famrel\":5,\"freetime\":4,\"goout\":4,\"Dalc\":1,\"Walc\":1,\"health\":5,\"absences\":0,\"G3\":8},{\"school\":\"GP\",\"sex\":\"M\",\"age\":15,\"address\":\"U\",\"famsize\":\"GT3\",\"Pstatus\":\"T\",\"Medu\":3,\"Fedu\":4,\"Mjob\":\"services\",\"Fjob\":\"services\",\"reason\":\"home\",\"guardian\":\"father\",\"traveltime\":1,\"studytime\":1,\"failures\":0,\"schoolsup\":\"yes\",\"famsup\":\"no\",\"paid\":\"no\",\"activities\":\"no\",\"nursery\":\"yes\",\"higher\":\"yes\",\"internet\":\"yes\",\"romantic\":\"no\",\"famrel\":5,\"freetime\":5,\"goout\":5,\"Dalc\":3,\"Walc\":2,\"health\":5,\"absences\":0,\"G3\":12},{\"school\":\"GP\",\"sex\":\"F\",\"age\":15,\"address\":\"U\",\"famsize\":\"LE3\",\"Pstatus\":\"A\",\"Medu\":3,\"Fedu\":4,\"Mjob\":\"other\",\"Fjob\":\"other\",\"reason\":\"home\",\"guardian\":\"mother\",\"traveltime\":1,\"studytime\":2,\"failures\":0,\"schoolsup\":\"yes\",\"famsup\":\"no\",\"paid\":\"no\",\"activities\":\"yes\",\"nursery\":\"yes\",\"higher\":\"yes\",\"internet\":\"yes\",\"romantic\":\"yes\",\"famrel\":5,\"freetime\":3,\"goout\":2,\"Dalc\":1,\"Walc\":1,\"health\":1,\"absences\":0,\"G3\":11},{\"school\":\"GP\",\"sex\":\"F\",\"age\":19,\"address\":\"U\",\"famsize\":\"GT3\",\"Pstatus\":\"T\",\"Medu\":0,\"Fedu\":1,\"Mjob\":\"at_home\",\"Fjob\":\"other\",\"reason\":\"course\",\"guardian\":\"other\",\"traveltime\":1,\"studytime\":2,\"failures\":3,\"schoolsup\":\"no\",\"famsup\":\"yes\",\"paid\":\"no\",\"activities\":\"no\",\"nursery\":\"no\",\"higher\":\"no\",\"internet\":\"no\",\"romantic\":\"no\",\"famrel\":3,\"freetime\":4,\"goout\":2,\"Dalc\":1,\"Walc\":1,\"health\":5,\"absences\":2,\"G3\":9},{\"school\":\"GP\",\"sex\":\"M\",\"age\":18,\"address\":\"R\",\"famsize\":\"GT3\",\"Pstatus\":\"T\",\"Medu\":2,\"Fedu\":2,\"Mjob\":\"services\",\"Fjob\":\"other\",\"reason\":\"reputation\",\"guardian\":\"mother\",\"traveltime\":1,\"studytime\":1,\"failures\":2,\"schoolsup\":\"no\",\"famsup\":\"yes\",\"paid\":\"no\",\"activities\":\"yes\",\"nursery\":\"yes\",\"higher\":\"yes\",\"internet\":\"yes\",\"romantic\":\"no\",\"famrel\":3,\"freetime\":3,\"goout\":3,\"Dalc\":1,\"Walc\":2,\"health\":4,\"absences\":0,\"G3\":0},{\"school\":\"GP\",\"sex\":\"M\",\"age\":16,\"address\":\"R\",\"famsize\":\"GT3\",\"Pstatus\":\"T\",\"Medu\":4,\"Fedu\":4,\"Mjob\":\"teacher\",\"Fjob\":\"teacher\",\"reason\":\"course\",\"guardian\":\"mother\",\"traveltime\":1,\"studytime\":1,\"failures\":0,\"schoolsup\":\"no\",\"famsup\":\"no\",\"paid\":\"yes\",\"activities\":\"yes\",\"nursery\":\"yes\",\"higher\":\"yes\",\"internet\":\"yes\",\"romantic\":\"no\",\"famrel\":3,\"freetime\":5,\"goout\":5,\"Dalc\":2,\"Walc\":5,\"health\":4,\"absences\":8,\"G3\":18},{\"school\":\"GP\",\"sex\":\"F\",\"age\":15,\"address\":\"R\",\"famsize\":\"GT3\",\"Pstatus\":\"T\",\"Medu\":3,\"Fedu\":4,\"Mjob\":\"services\",\"Fjob\":\"teacher\",\"reason\":\"course\",\"guardian\":\"father\",\"traveltime\":2,\"studytime\":3,\"failures\":2,\"schoolsup\":\"no\",\"famsup\":\"yes\",\"paid\":\"no\",\"activities\":\"no\",\"nursery\":\"yes\",\"higher\":\"yes\",\"internet\":\"yes\",\"romantic\":\"yes\",\"famrel\":4,\"freetime\":2,\"goout\":2,\"Dalc\":2,\"Walc\":2,\"health\":5,\"absences\":0,\"G3\":0},{\"school\":\"GP\",\"sex\":\"F\",\"age\":15,\"address\":\"U\",\"famsize\":\"GT3\",\"Pstatus\":\"T\",\"Medu\":1,\"Fedu\":1,\"Mjob\":\"at_home\",\"Fjob\":\"other\",\"reason\":\"course\",\"guardian\":\"mother\",\"traveltime\":3,\"studytime\":1,\"failures\":0,\"schoolsup\":\"no\",\"famsup\":\"yes\",\"paid\":\"no\",\"activities\":\"yes\",\"nursery\":\"no\",\"higher\":\"yes\",\"internet\":\"yes\",\"romantic\":\"yes\",\"famrel\":4,\"freetime\":3,\"goout\":3,\"Dalc\":1,\"Walc\":2,\"health\":4,\"absences\":0,\"G3\":0},{\"school\":\"GP\",\"sex\":\"F\",\"age\":17,\"address\":\"U\",\"famsize\":\"LE3\",\"Pstatus\":\"T\",\"Medu\":2,\"Fedu\":2,\"Mjob\":\"other\",\"Fjob\":\"other\",\"reason\":\"course\",\"guardian\":\"father\",\"traveltime\":1,\"studytime\":1,\"failures\":0,\"schoolsup\":\"no\",\"famsup\":\"yes\",\"paid\":\"no\",\"activities\":\"no\",\"nursery\":\"yes\",\"higher\":\"yes\",\"internet\":\"yes\",\"romantic\":\"yes\",\"famrel\":3,\"freetime\":4,\"goout\":4,\"Dalc\":1,\"Walc\":3,\"health\":5,\"absences\":12,\"G3\":12},{\"school\":\"GP\",\"sex\":\"F\",\"age\":16,\"address\":\"U\",\"famsize\":\"GT3\",\"Pstatus\":\"A\",\"Medu\":3,\"Fedu\":4,\"Mjob\":\"services\",\"Fjob\":\"other\",\"reason\":\"course\",\"guardian\":\"father\",\"traveltime\":1,\"studytime\":1,\"failures\":0,\"schoolsup\":\"no\",\"famsup\":\"no\",\"paid\":\"no\",\"activities\":\"no\",\"nursery\":\"yes\",\"higher\":\"yes\",\"internet\":\"yes\",\"romantic\":\"no\",\"famrel\":3,\"freetime\":2,\"goout\":1,\"Dalc\":1,\"Walc\":4,\"health\":5,\"absences\":16,\"G3\":11},{\"school\":\"GP\",\"sex\":\"M\",\"age\":15,\"address\":\"R\",\"famsize\":\"GT3\",\"Pstatus\":\"T\",\"Medu\":3,\"Fedu\":4,\"Mjob\":\"at_home\",\"Fjob\":\"teacher\",\"reason\":\"course\",\"guardian\":\"mother\",\"traveltime\":4,\"studytime\":2,\"failures\":0,\"schoolsup\":\"no\",\"famsup\":\"yes\",\"paid\":\"no\",\"activities\":\"no\",\"nursery\":\"yes\",\"higher\":\"yes\",\"internet\":\"no\",\"romantic\":\"yes\",\"famrel\":5,\"freetime\":3,\"goout\":3,\"Dalc\":1,\"Walc\":1,\"health\":5,\"absences\":0,\"G3\":0},{\"school\":\"GP\",\"sex\":\"F\",\"age\":15,\"address\":\"U\",\"famsize\":\"GT3\",\"Pstatus\":\"T\",\"Medu\":4,\"Fedu\":4,\"Mjob\":\"services\",\"Fjob\":\"at_home\",\"reason\":\"course\",\"guardian\":\"mother\",\"traveltime\":1,\"studytime\":3,\"failures\":0,\"schoolsup\":\"no\",\"famsup\":\"yes\",\"paid\":\"no\",\"activities\":\"yes\",\"nursery\":\"yes\",\"higher\":\"yes\",\"internet\":\"yes\",\"romantic\":\"yes\",\"famrel\":4,\"freetime\":3,\"goout\":3,\"Dalc\":1,\"Walc\":1,\"health\":5,\"absences\":0,\"G3\":0},{\"school\":\"GP\",\"sex\":\"M\",\"age\":17,\"address\":\"R\",\"famsize\":\"GT3\",\"Pstatus\":\"T\",\"Medu\":3,\"Fedu\":4,\"Mjob\":\"at_home\",\"Fjob\":\"other\",\"reason\":\"course\",\"guardian\":\"mother\",\"traveltime\":3,\"studytime\":2,\"failures\":0,\"schoolsup\":\"no\",\"famsup\":\"no\",\"paid\":\"no\",\"activities\":\"no\",\"nursery\":\"yes\",\"higher\":\"yes\",\"internet\":\"no\",\"romantic\":\"no\",\"famrel\":5,\"freetime\":4,\"goout\":5,\"Dalc\":2,\"Walc\":4,\"health\":5,\"absences\":0,\"G3\":0},{\"school\":\"GP\",\"sex\":\"F\",\"age\":16,\"address\":\"U\",\"famsize\":\"GT3\",\"Pstatus\":\"A\",\"Medu\":3,\"Fedu\":3,\"Mjob\":\"other\",\"Fjob\":\"other\",\"reason\":\"course\",\"guardian\":\"other\",\"traveltime\":2,\"studytime\":1,\"failures\":2,\"schoolsup\":\"no\",\"famsup\":\"yes\",\"paid\":\"no\",\"activities\":\"yes\",\"nursery\":\"no\",\"higher\":\"yes\",\"internet\":\"yes\",\"romantic\":\"yes\",\"famrel\":4,\"freetime\":3,\"goout\":2,\"Dalc\":1,\"Walc\":1,\"health\":5,\"absences\":0,\"G3\":0},{\"school\":\"GP\",\"sex\":\"M\",\"age\":16,\"address\":\"U\",\"famsize\":\"LE3\",\"Pstatus\":\"T\",\"Medu\":1,\"Fedu\":1,\"Mjob\":\"services\",\"Fjob\":\"other\",\"reason\":\"course\",\"guardian\":\"mother\",\"traveltime\":1,\"studytime\":2,\"failures\":1,\"schoolsup\":\"no\",\"famsup\":\"no\",\"paid\":\"no\",\"activities\":\"no\",\"nursery\":\"yes\",\"higher\":\"yes\",\"internet\":\"no\",\"romantic\":\"yes\",\"famrel\":4,\"freetime\":4,\"goout\":4,\"Dalc\":1,\"Walc\":3,\"health\":5,\"absences\":0,\"G3\":12},{\"school\":\"GP\",\"sex\":\"F\",\"age\":15,\"address\":\"U\",\"famsize\":\"GT3\",\"Pstatus\":\"T\",\"Medu\":4,\"Fedu\":4,\"Mjob\":\"teacher\",\"Fjob\":\"teacher\",\"reason\":\"course\",\"guardian\":\"mother\",\"traveltime\":2,\"studytime\":1,\"failures\":0,\"schoolsup\":\"no\",\"famsup\":\"no\",\"paid\":\"no\",\"activities\":\"yes\",\"nursery\":\"yes\",\"higher\":\"yes\",\"internet\":\"yes\",\"romantic\":\"no\",\"famrel\":4,\"freetime\":3,\"goout\":2,\"Dalc\":1,\"Walc\":1,\"health\":5,\"absences\":0,\"G3\":15},{\"school\":\"GP\",\"sex\":\"M\",\"age\":15,\"address\":\"U\",\"famsize\":\"GT3\",\"Pstatus\":\"T\",\"Medu\":4,\"Fedu\":3,\"Mjob\":\"teacher\",\"Fjob\":\"services\",\"reason\":\"course\",\"guardian\":\"father\",\"traveltime\":2,\"studytime\":4,\"failures\":0,\"schoolsup\":\"yes\",\"famsup\":\"yes\",\"paid\":\"no\",\"activities\":\"no\",\"nursery\":\"yes\",\"higher\":\"yes\",\"internet\":\"yes\",\"romantic\":\"no\",\"famrel\":2,\"freetime\":2,\"goout\":2,\"Dalc\":1,\"Walc\":1,\"health\":3,\"absences\":0,\"G3\":0},{\"school\":\"GP\",\"sex\":\"M\",\"age\":16,\"address\":\"U\",\"famsize\":\"LE3\",\"Pstatus\":\"T\",\"Medu\":2,\"Fedu\":2,\"Mjob\":\"services\",\"Fjob\":\"services\",\"reason\":\"reputation\",\"guardian\":\"father\",\"traveltime\":2,\"studytime\":1,\"failures\":2,\"schoolsup\":\"no\",\"famsup\":\"yes\",\"paid\":\"no\",\"activities\":\"yes\",\"nursery\":\"yes\",\"higher\":\"yes\",\"internet\":\"yes\",\"romantic\":\"no\",\"famrel\":2,\"freetime\":3,\"goout\":3,\"Dalc\":2,\"Walc\":2,\"health\":2,\"absences\":8,\"G3\":9},{\"school\":\"GP\",\"sex\":\"F\",\"age\":15,\"address\":\"U\",\"famsize\":\"GT3\",\"Pstatus\":\"T\",\"Medu\":4,\"Fedu\":4,\"Mjob\":\"teacher\",\"Fjob\":\"services\",\"reason\":\"course\",\"guardian\":\"mother\",\"traveltime\":1,\"studytime\":3,\"failures\":0,\"schoolsup\":\"no\",\"famsup\":\"yes\",\"paid\":\"yes\",\"activities\":\"yes\",\"nursery\":\"yes\",\"higher\":\"yes\",\"internet\":\"yes\",\"romantic\":\"no\",\"famrel\":4,\"freetime\":2,\"goout\":2,\"Dalc\":1,\"Walc\":1,\"health\":5,\"absences\":2,\"G3\":11},{\"school\":\"GP\",\"sex\":\"F\",\"age\":16,\"address\":\"U\",\"famsize\":\"LE3\",\"Pstatus\":\"T\",\"Medu\":1,\"Fedu\":1,\"Mjob\":\"at_home\",\"Fjob\":\"at_home\",\"reason\":\"course\",\"guardian\":\"mother\",\"traveltime\":1,\"studytime\":1,\"failures\":0,\"schoolsup\":\"no\",\"famsup\":\"no\",\"paid\":\"no\",\"activities\":\"no\",\"nursery\":\"yes\",\"higher\":\"yes\",\"internet\":\"yes\",\"romantic\":\"no\",\"famrel\":3,\"freetime\":4,\"goout\":4,\"Dalc\":3,\"Walc\":3,\"health\":1,\"absences\":2,\"G3\":13},{\"school\":\"GP\",\"sex\":\"M\",\"age\":17,\"address\":\"U\",\"famsize\":\"GT3\",\"Pstatus\":\"T\",\"Medu\":2,\"Fedu\":1,\"Mjob\":\"other\",\"Fjob\":\"other\",\"reason\":\"home\",\"guardian\":\"mother\",\"traveltime\":1,\"studytime\":1,\"failures\":3,\"schoolsup\":\"no\",\"famsup\":\"yes\",\"paid\":\"no\",\"activities\":\"no\",\"nursery\":\"yes\",\"higher\":\"yes\",\"internet\":\"yes\",\"romantic\":\"no\",\"famrel\":5,\"freetime\":4,\"goout\":5,\"Dalc\":1,\"Walc\":2,\"health\":5,\"absences\":0,\"G3\":0},{\"school\":\"GP\",\"sex\":\"F\",\"age\":15,\"address\":\"U\",\"famsize\":\"GT3\",\"Pstatus\":\"T\",\"Medu\":1,\"Fedu\":1,\"Mjob\":\"other\",\"Fjob\":\"services\",\"reason\":\"course\",\"guardian\":\"father\",\"traveltime\":1,\"studytime\":2,\"failures\":0,\"schoolsup\":\"no\",\"famsup\":\"yes\",\"paid\":\"yes\",\"activities\":\"no\",\"nursery\":\"yes\",\"higher\":\"yes\",\"internet\":\"yes\",\"romantic\":\"no\",\"famrel\":4,\"freetime\":4,\"goout\":2,\"Dalc\":1,\"Walc\":2,\"health\":5,\"absences\":0,\"G3\":11},{\"school\":\"GP\",\"sex\":\"F\",\"age\":15,\"address\":\"U\",\"famsize\":\"GT3\",\"Pstatus\":\"T\",\"Medu\":3,\"Fedu\":2,\"Mjob\":\"health\",\"Fjob\":\"services\",\"reason\":\"home\",\"guardian\":\"father\",\"traveltime\":1,\"studytime\":2,\"failures\":3,\"schoolsup\":\"no\",\"famsup\":\"yes\",\"paid\":\"no\",\"activities\":\"no\",\"nursery\":\"yes\",\"higher\":\"yes\",\"internet\":\"yes\",\"romantic\":\"no\",\"famrel\":3,\"freetime\":3,\"goout\":2,\"Dalc\":1,\"Walc\":1,\"health\":3,\"absences\":0,\"G3\":0},{\"school\":\"GP\",\"sex\":\"F\",\"age\":15,\"address\":\"U\",\"famsize\":\"GT3\",\"Pstatus\":\"T\",\"Medu\":1,\"Fedu\":2,\"Mjob\":\"at_home\",\"Fjob\":\"other\",\"reason\":\"course\",\"guardian\":\"mother\",\"traveltime\":1,\"studytime\":2,\"failures\":0,\"schoolsup\":\"no\",\"famsup\":\"yes\",\"paid\":\"yes\",\"activities\":\"no\",\"nursery\":\"no\",\"higher\":\"yes\",\"internet\":\"yes\",\"romantic\":\"no\",\"famrel\":4,\"freetime\":3,\"goout\":2,\"Dalc\":1,\"Walc\":1,\"health\":5,\"absences\":2,\"G3\":11},{\"school\":\"GP\",\"sex\":\"M\",\"age\":16,\"address\":\"U\",\"famsize\":\"GT3\",\"Pstatus\":\"T\",\"Medu\":4,\"Fedu\":4,\"Mjob\":\"teacher\",\"Fjob\":\"teacher\",\"reason\":\"course\",\"guardian\":\"mother\",\"traveltime\":1,\"studytime\":1,\"failures\":0,\"schoolsup\":\"no\",\"famsup\":\"yes\",\"paid\":\"no\",\"activities\":\"no\",\"nursery\":\"yes\",\"higher\":\"no\",\"internet\":\"yes\",\"romantic\":\"yes\",\"famrel\":3,\"freetime\":3,\"goout\":2,\"Dalc\":2,\"Walc\":1,\"health\":5,\"absences\":0,\"G3\":0},{\"school\":\"GP\",\"sex\":\"M\",\"age\":15,\"address\":\"U\",\"famsize\":\"LE3\",\"Pstatus\":\"A\",\"Medu\":2,\"Fedu\":1,\"Mjob\":\"services\",\"Fjob\":\"other\",\"reason\":\"course\",\"guardian\":\"mother\",\"traveltime\":4,\"studytime\":1,\"failures\":3,\"schoolsup\":\"no\",\"famsup\":\"no\",\"paid\":\"no\",\"activities\":\"no\",\"nursery\":\"yes\",\"higher\":\"yes\",\"internet\":\"yes\",\"romantic\":\"no\",\"famrel\":4,\"freetime\":5,\"goout\":5,\"Dalc\":2,\"Walc\":5,\"health\":5,\"absences\":0,\"G3\":10},{\"school\":\"GP\",\"sex\":\"M\",\"age\":18,\"address\":\"U\",\"famsize\":\"LE3\",\"Pstatus\":\"T\",\"Medu\":1,\"Fedu\":1,\"Mjob\":\"other\",\"Fjob\":\"other\",\"reason\":\"course\",\"guardian\":\"mother\",\"traveltime\":1,\"studytime\":1,\"failures\":3,\"schoolsup\":\"no\",\"famsup\":\"no\",\"paid\":\"no\",\"activities\":\"no\",\"nursery\":\"yes\",\"higher\":\"no\",\"internet\":\"yes\",\"romantic\":\"yes\",\"famrel\":2,\"freetime\":3,\"goout\":5,\"Dalc\":2,\"Walc\":5,\"health\":4,\"absences\":0,\"G3\":0},{\"school\":\"GP\",\"sex\":\"M\",\"age\":16,\"address\":\"U\",\"famsize\":\"LE3\",\"Pstatus\":\"T\",\"Medu\":2,\"Fedu\":1,\"Mjob\":\"at_home\",\"Fjob\":\"other\",\"reason\":\"course\",\"guardian\":\"mother\",\"traveltime\":1,\"studytime\":1,\"failures\":1,\"schoolsup\":\"no\",\"famsup\":\"no\",\"paid\":\"no\",\"activities\":\"yes\",\"nursery\":\"yes\",\"higher\":\"yes\",\"internet\":\"no\",\"romantic\":\"yes\",\"famrel\":4,\"freetime\":4,\"goout\":4,\"Dalc\":3,\"Walc\":5,\"health\":5,\"absences\":6,\"G3\":14},{\"school\":\"GP\",\"sex\":\"F\",\"age\":15,\"address\":\"R\",\"famsize\":\"GT3\",\"Pstatus\":\"T\",\"Medu\":3,\"Fedu\":3,\"Mjob\":\"services\",\"Fjob\":\"services\",\"reason\":\"reputation\",\"guardian\":\"other\",\"traveltime\":2,\"studytime\":3,\"failures\":2,\"schoolsup\":\"no\",\"famsup\":\"yes\",\"paid\":\"yes\",\"activities\":\"yes\",\"nursery\":\"yes\",\"higher\":\"yes\",\"internet\":\"yes\",\"romantic\":\"yes\",\"famrel\":4,\"freetime\":2,\"goout\":1,\"Dalc\":2,\"Walc\":3,\"health\":3,\"absences\":8,\"G3\":10},{\"school\":\"GP\",\"sex\":\"M\",\"age\":19,\"address\":\"U\",\"famsize\":\"GT3\",\"Pstatus\":\"T\",\"Medu\":3,\"Fedu\":2,\"Mjob\":\"services\",\"Fjob\":\"at_home\",\"reason\":\"home\",\"guardian\":\"mother\",\"traveltime\":1,\"studytime\":1,\"failures\":3,\"schoolsup\":\"no\",\"famsup\":\"yes\",\"paid\":\"no\",\"activities\":\"no\",\"nursery\":\"yes\",\"higher\":\"no\",\"internet\":\"yes\",\"romantic\":\"yes\",\"famrel\":4,\"freetime\":5,\"goout\":4,\"Dalc\":1,\"Walc\":1,\"health\":4,\"absences\":0,\"G3\":0},{\"school\":\"GP\",\"sex\":\"F\",\"age\":17,\"address\":\"U\",\"famsize\":\"GT3\",\"Pstatus\":\"T\",\"Medu\":4,\"Fedu\":4,\"Mjob\":\"other\",\"Fjob\":\"teacher\",\"reason\":\"course\",\"guardian\":\"mother\",\"traveltime\":1,\"studytime\":1,\"failures\":0,\"schoolsup\":\"yes\",\"famsup\":\"yes\",\"paid\":\"no\",\"activities\":\"no\",\"nursery\":\"yes\",\"higher\":\"yes\",\"internet\":\"no\",\"romantic\":\"yes\",\"famrel\":4,\"freetime\":2,\"goout\":1,\"Dalc\":1,\"Walc\":1,\"health\":4,\"absences\":0,\"G3\":12},{\"school\":\"GP\",\"sex\":\"M\",\"age\":15,\"address\":\"R\",\"famsize\":\"GT3\",\"Pstatus\":\"T\",\"Medu\":2,\"Fedu\":3,\"Mjob\":\"at_home\",\"Fjob\":\"services\",\"reason\":\"course\",\"guardian\":\"mother\",\"traveltime\":1,\"studytime\":2,\"failures\":0,\"schoolsup\":\"yes\",\"famsup\":\"no\",\"paid\":\"yes\",\"activities\":\"yes\",\"nursery\":\"yes\",\"higher\":\"yes\",\"internet\":\"no\",\"romantic\":\"no\",\"famrel\":4,\"freetime\":4,\"goout\":4,\"Dalc\":1,\"Walc\":1,\"health\":1,\"absences\":2,\"G3\":8},{\"school\":\"GP\",\"sex\":\"M\",\"age\":17,\"address\":\"R\",\"famsize\":\"LE3\",\"Pstatus\":\"T\",\"Medu\":1,\"Fedu\":2,\"Mjob\":\"other\",\"Fjob\":\"other\",\"reason\":\"reputation\",\"guardian\":\"mother\",\"traveltime\":1,\"studytime\":1,\"failures\":0,\"schoolsup\":\"no\",\"famsup\":\"no\",\"paid\":\"no\",\"activities\":\"no\",\"nursery\":\"yes\",\"higher\":\"yes\",\"internet\":\"no\",\"romantic\":\"no\",\"famrel\":2,\"freetime\":2,\"goout\":2,\"Dalc\":3,\"Walc\":3,\"health\":5,\"absences\":8,\"G3\":13},{\"school\":\"GP\",\"sex\":\"F\",\"age\":18,\"address\":\"R\",\"famsize\":\"GT3\",\"Pstatus\":\"T\",\"Medu\":1,\"Fedu\":1,\"Mjob\":\"at_home\",\"Fjob\":\"other\",\"reason\":\"course\",\"guardian\":\"mother\",\"traveltime\":3,\"studytime\":1,\"failures\":3,\"schoolsup\":\"no\",\"famsup\":\"yes\",\"paid\":\"no\",\"activities\":\"yes\",\"nursery\":\"no\",\"higher\":\"yes\",\"internet\":\"no\",\"romantic\":\"no\",\"famrel\":5,\"freetime\":2,\"goout\":5,\"Dalc\":1,\"Walc\":5,\"health\":4,\"absences\":6,\"G3\":10},{\"school\":\"GP\",\"sex\":\"M\",\"age\":16,\"address\":\"R\",\"famsize\":\"GT3\",\"Pstatus\":\"T\",\"Medu\":2,\"Fedu\":2,\"Mjob\":\"at_home\",\"Fjob\":\"other\",\"reason\":\"course\",\"guardian\":\"mother\",\"traveltime\":3,\"studytime\":1,\"failures\":0,\"schoolsup\":\"no\",\"famsup\":\"no\",\"paid\":\"no\",\"activities\":\"no\",\"nursery\":\"no\",\"higher\":\"yes\",\"internet\":\"no\",\"romantic\":\"no\",\"famrel\":4,\"freetime\":2,\"goout\":2,\"Dalc\":1,\"Walc\":2,\"health\":3,\"absences\":2,\"G3\":15},{\"school\":\"GP\",\"sex\":\"M\",\"age\":16,\"address\":\"U\",\"famsize\":\"GT3\",\"Pstatus\":\"T\",\"Medu\":3,\"Fedu\":3,\"Mjob\":\"other\",\"Fjob\":\"services\",\"reason\":\"course\",\"guardian\":\"father\",\"traveltime\":1,\"studytime\":2,\"failures\":1,\"schoolsup\":\"no\",\"famsup\":\"yes\",\"paid\":\"yes\",\"activities\":\"no\",\"nursery\":\"yes\",\"higher\":\"yes\",\"internet\":\"yes\",\"romantic\":\"yes\",\"famrel\":4,\"freetime\":5,\"goout\":5,\"Dalc\":4,\"Walc\":4,\"health\":5,\"absences\":4,\"G3\":12},{\"school\":\"GP\",\"sex\":\"M\",\"age\":17,\"address\":\"R\",\"famsize\":\"LE3\",\"Pstatus\":\"T\",\"Medu\":2,\"Fedu\":1,\"Mjob\":\"at_home\",\"Fjob\":\"other\",\"reason\":\"course\",\"guardian\":\"mother\",\"traveltime\":2,\"studytime\":1,\"failures\":2,\"schoolsup\":\"no\",\"famsup\":\"no\",\"paid\":\"no\",\"activities\":\"yes\",\"nursery\":\"yes\",\"higher\":\"no\",\"internet\":\"yes\",\"romantic\":\"yes\",\"famrel\":3,\"freetime\":3,\"goout\":2,\"Dalc\":2,\"Walc\":2,\"health\":5,\"absences\":0,\"G3\":0},{\"school\":\"GP\",\"sex\":\"M\",\"age\":15,\"address\":\"R\",\"famsize\":\"GT3\",\"Pstatus\":\"T\",\"Medu\":3,\"Fedu\":2,\"Mjob\":\"other\",\"Fjob\":\"other\",\"reason\":\"course\",\"guardian\":\"mother\",\"traveltime\":2,\"studytime\":2,\"failures\":2,\"schoolsup\":\"yes\",\"famsup\":\"yes\",\"paid\":\"no\",\"activities\":\"no\",\"nursery\":\"yes\",\"higher\":\"yes\",\"internet\":\"yes\",\"romantic\":\"yes\",\"famrel\":4,\"freetime\":4,\"goout\":4,\"Dalc\":1,\"Walc\":4,\"health\":3,\"absences\":6,\"G3\":7},{\"school\":\"GP\",\"sex\":\"M\",\"age\":16,\"address\":\"U\",\"famsize\":\"LE3\",\"Pstatus\":\"T\",\"Medu\":1,\"Fedu\":2,\"Mjob\":\"other\",\"Fjob\":\"other\",\"reason\":\"course\",\"guardian\":\"mother\",\"traveltime\":2,\"studytime\":1,\"failures\":1,\"schoolsup\":\"no\",\"famsup\":\"no\",\"paid\":\"no\",\"activities\":\"yes\",\"nursery\":\"yes\",\"higher\":\"yes\",\"internet\":\"no\",\"romantic\":\"no\",\"famrel\":4,\"freetime\":4,\"goout\":4,\"Dalc\":2,\"Walc\":4,\"health\":5,\"absences\":0,\"G3\":0},{\"school\":\"GP\",\"sex\":\"M\",\"age\":17,\"address\":\"U\",\"famsize\":\"GT3\",\"Pstatus\":\"T\",\"Medu\":1,\"Fedu\":3,\"Mjob\":\"at_home\",\"Fjob\":\"services\",\"reason\":\"course\",\"guardian\":\"father\",\"traveltime\":1,\"studytime\":1,\"failures\":0,\"schoolsup\":\"no\",\"famsup\":\"no\",\"paid\":\"no\",\"activities\":\"no\",\"nursery\":\"yes\",\"higher\":\"no\",\"internet\":\"yes\",\"romantic\":\"no\",\"famrel\":5,\"freetime\":3,\"goout\":3,\"Dalc\":1,\"Walc\":4,\"health\":2,\"absences\":2,\"G3\":10},{\"school\":\"GP\",\"sex\":\"M\",\"age\":17,\"address\":\"R\",\"famsize\":\"LE3\",\"Pstatus\":\"T\",\"Medu\":1,\"Fedu\":1,\"Mjob\":\"other\",\"Fjob\":\"services\",\"reason\":\"course\",\"guardian\":\"mother\",\"traveltime\":4,\"studytime\":2,\"failures\":3,\"schoolsup\":\"no\",\"famsup\":\"no\",\"paid\":\"no\",\"activities\":\"yes\",\"nursery\":\"yes\",\"higher\":\"no\",\"internet\":\"no\",\"romantic\":\"yes\",\"famrel\":5,\"freetime\":3,\"goout\":5,\"Dalc\":1,\"Walc\":5,\"health\":5,\"absences\":0,\"G3\":7},{\"school\":\"GP\",\"sex\":\"M\",\"age\":16,\"address\":\"U\",\"famsize\":\"GT3\",\"Pstatus\":\"T\",\"Medu\":3,\"Fedu\":2,\"Mjob\":\"services\",\"Fjob\":\"services\",\"reason\":\"course\",\"guardian\":\"mother\",\"traveltime\":2,\"studytime\":1,\"failures\":1,\"schoolsup\":\"no\",\"famsup\":\"yes\",\"paid\":\"no\",\"activities\":\"yes\",\"nursery\":\"no\",\"higher\":\"no\",\"internet\":\"no\",\"romantic\":\"no\",\"famrel\":4,\"freetime\":5,\"goout\":2,\"Dalc\":1,\"Walc\":1,\"health\":2,\"absences\":16,\"G3\":12},{\"school\":\"GP\",\"sex\":\"M\",\"age\":16,\"address\":\"U\",\"famsize\":\"GT3\",\"Pstatus\":\"T\",\"Medu\":2,\"Fedu\":2,\"Mjob\":\"other\",\"Fjob\":\"other\",\"reason\":\"course\",\"guardian\":\"father\",\"traveltime\":1,\"studytime\":2,\"failures\":0,\"schoolsup\":\"no\",\"famsup\":\"no\",\"paid\":\"no\",\"activities\":\"no\",\"nursery\":\"yes\",\"higher\":\"no\",\"internet\":\"yes\",\"romantic\":\"no\",\"famrel\":4,\"freetime\":3,\"goout\":5,\"Dalc\":2,\"Walc\":4,\"health\":4,\"absences\":4,\"G3\":10},{\"school\":\"GP\",\"sex\":\"F\",\"age\":16,\"address\":\"U\",\"famsize\":\"GT3\",\"Pstatus\":\"T\",\"Medu\":4,\"Fedu\":2,\"Mjob\":\"health\",\"Fjob\":\"services\",\"reason\":\"home\",\"guardian\":\"father\",\"traveltime\":1,\"studytime\":2,\"failures\":0,\"schoolsup\":\"no\",\"famsup\":\"no\",\"paid\":\"yes\",\"activities\":\"no\",\"nursery\":\"yes\",\"higher\":\"yes\",\"internet\":\"yes\",\"romantic\":\"yes\",\"famrel\":4,\"freetime\":2,\"goout\":3,\"Dalc\":1,\"Walc\":1,\"health\":3,\"absences\":0,\"G3\":16},{\"school\":\"GP\",\"sex\":\"F\",\"age\":16,\"address\":\"U\",\"famsize\":\"GT3\",\"Pstatus\":\"T\",\"Medu\":2,\"Fedu\":2,\"Mjob\":\"other\",\"Fjob\":\"other\",\"reason\":\"home\",\"guardian\":\"mother\",\"traveltime\":1,\"studytime\":2,\"failures\":0,\"schoolsup\":\"no\",\"famsup\":\"yes\",\"paid\":\"yes\",\"activities\":\"no\",\"nursery\":\"no\",\"higher\":\"yes\",\"internet\":\"yes\",\"romantic\":\"no\",\"famrel\":5,\"freetime\":1,\"goout\":5,\"Dalc\":1,\"Walc\":1,\"health\":4,\"absences\":0,\"G3\":0},{\"school\":\"GP\",\"sex\":\"F\",\"age\":16,\"address\":\"U\",\"famsize\":\"GT3\",\"Pstatus\":\"T\",\"Medu\":4,\"Fedu\":4,\"Mjob\":\"health\",\"Fjob\":\"health\",\"reason\":\"reputation\",\"guardian\":\"mother\",\"traveltime\":1,\"studytime\":2,\"failures\":0,\"schoolsup\":\"no\",\"famsup\":\"yes\",\"paid\":\"yes\",\"activities\":\"no\",\"nursery\":\"yes\",\"higher\":\"yes\",\"internet\":\"yes\",\"romantic\":\"yes\",\"famrel\":4,\"freetime\":4,\"goout\":2,\"Dalc\":1,\"Walc\":1,\"health\":3,\"absences\":0,\"G3\":14},{\"school\":\"GP\",\"sex\":\"M\",\"age\":16,\"address\":\"U\",\"famsize\":\"GT3\",\"Pstatus\":\"T\",\"Medu\":3,\"Fedu\":4,\"Mjob\":\"other\",\"Fjob\":\"other\",\"reason\":\"course\",\"guardian\":\"father\",\"traveltime\":3,\"studytime\":1,\"failures\":2,\"schoolsup\":\"no\",\"famsup\":\"yes\",\"paid\":\"no\",\"activities\":\"yes\",\"nursery\":\"no\",\"higher\":\"yes\",\"internet\":\"yes\",\"romantic\":\"no\",\"famrel\":3,\"freetime\":4,\"goout\":5,\"Dalc\":2,\"Walc\":4,\"health\":2,\"absences\":0,\"G3\":0},{\"school\":\"GP\",\"sex\":\"M\",\"age\":16,\"address\":\"U\",\"famsize\":\"GT3\",\"Pstatus\":\"T\",\"Medu\":1,\"Fedu\":0,\"Mjob\":\"other\",\"Fjob\":\"other\",\"reason\":\"reputation\",\"guardian\":\"mother\",\"traveltime\":2,\"studytime\":2,\"failures\":0,\"schoolsup\":\"no\",\"famsup\":\"yes\",\"paid\":\"yes\",\"activities\":\"yes\",\"nursery\":\"yes\",\"higher\":\"yes\",\"internet\":\"yes\",\"romantic\":\"yes\",\"famrel\":4,\"freetime\":3,\"goout\":2,\"Dalc\":1,\"Walc\":1,\"health\":3,\"absences\":2,\"G3\":16},{\"school\":\"GP\",\"sex\":\"M\",\"age\":17,\"address\":\"U\",\"famsize\":\"LE3\",\"Pstatus\":\"T\",\"Medu\":4,\"Fedu\":4,\"Mjob\":\"teacher\",\"Fjob\":\"other\",\"reason\":\"reputation\",\"guardian\":\"mother\",\"traveltime\":1,\"studytime\":2,\"failures\":0,\"schoolsup\":\"no\",\"famsup\":\"yes\",\"paid\":\"yes\",\"activities\":\"yes\",\"nursery\":\"yes\",\"higher\":\"yes\",\"internet\":\"yes\",\"romantic\":\"no\",\"famrel\":4,\"freetime\":4,\"goout\":4,\"Dalc\":1,\"Walc\":3,\"health\":5,\"absences\":0,\"G3\":10},{\"school\":\"GP\",\"sex\":\"F\",\"age\":16,\"address\":\"U\",\"famsize\":\"GT3\",\"Pstatus\":\"T\",\"Medu\":1,\"Fedu\":3,\"Mjob\":\"at_home\",\"Fjob\":\"services\",\"reason\":\"home\",\"guardian\":\"mother\",\"traveltime\":1,\"studytime\":2,\"failures\":3,\"schoolsup\":\"no\",\"famsup\":\"no\",\"paid\":\"no\",\"activities\":\"yes\",\"nursery\":\"no\",\"higher\":\"yes\",\"internet\":\"yes\",\"romantic\":\"yes\",\"famrel\":4,\"freetime\":3,\"goout\":5,\"Dalc\":1,\"Walc\":1,\"health\":3,\"absences\":0,\"G3\":0},{\"school\":\"GP\",\"sex\":\"F\",\"age\":16,\"address\":\"U\",\"famsize\":\"LE3\",\"Pstatus\":\"T\",\"Medu\":3,\"Fedu\":3,\"Mjob\":\"other\",\"Fjob\":\"other\",\"reason\":\"reputation\",\"guardian\":\"mother\",\"traveltime\":2,\"studytime\":2,\"failures\":0,\"schoolsup\":\"no\",\"famsup\":\"yes\",\"paid\":\"yes\",\"activities\":\"yes\",\"nursery\":\"yes\",\"higher\":\"yes\",\"internet\":\"yes\",\"romantic\":\"no\",\"famrel\":4,\"freetime\":4,\"goout\":5,\"Dalc\":1,\"Walc\":1,\"health\":4,\"absences\":4,\"G3\":9},{\"school\":\"GP\",\"sex\":\"M\",\"age\":17,\"address\":\"U\",\"famsize\":\"LE3\",\"Pstatus\":\"T\",\"Medu\":4,\"Fedu\":3,\"Mjob\":\"teacher\",\"Fjob\":\"other\",\"reason\":\"course\",\"guardian\":\"mother\",\"traveltime\":2,\"studytime\":2,\"failures\":0,\"schoolsup\":\"no\",\"famsup\":\"no\",\"paid\":\"yes\",\"activities\":\"yes\",\"nursery\":\"yes\",\"higher\":\"yes\",\"internet\":\"yes\",\"romantic\":\"no\",\"famrel\":4,\"freetime\":4,\"goout\":4,\"Dalc\":4,\"Walc\":4,\"health\":4,\"absences\":4,\"G3\":9},{\"school\":\"GP\",\"sex\":\"F\",\"age\":16,\"address\":\"U\",\"famsize\":\"GT3\",\"Pstatus\":\"T\",\"Medu\":2,\"Fedu\":2,\"Mjob\":\"services\",\"Fjob\":\"other\",\"reason\":\"reputation\",\"guardian\":\"mother\",\"traveltime\":2,\"studytime\":2,\"failures\":0,\"schoolsup\":\"no\",\"famsup\":\"no\",\"paid\":\"yes\",\"activities\":\"yes\",\"nursery\":\"no\",\"higher\":\"yes\",\"internet\":\"yes\",\"romantic\":\"no\",\"famrel\":3,\"freetime\":4,\"goout\":4,\"Dalc\":1,\"Walc\":4,\"health\":5,\"absences\":2,\"G3\":11},{\"school\":\"GP\",\"sex\":\"M\",\"age\":17,\"address\":\"U\",\"famsize\":\"GT3\",\"Pstatus\":\"T\",\"Medu\":3,\"Fedu\":3,\"Mjob\":\"other\",\"Fjob\":\"other\",\"reason\":\"reputation\",\"guardian\":\"father\",\"traveltime\":1,\"studytime\":2,\"failures\":0,\"schoolsup\":\"no\",\"famsup\":\"no\",\"paid\":\"no\",\"activities\":\"yes\",\"nursery\":\"no\",\"higher\":\"yes\",\"internet\":\"yes\",\"romantic\":\"no\",\"famrel\":4,\"freetime\":3,\"goout\":4,\"Dalc\":1,\"Walc\":4,\"health\":4,\"absences\":4,\"G3\":6},{\"school\":\"GP\",\"sex\":\"M\",\"age\":16,\"address\":\"R\",\"famsize\":\"GT3\",\"Pstatus\":\"T\",\"Medu\":4,\"Fedu\":2,\"Mjob\":\"teacher\",\"Fjob\":\"services\",\"reason\":\"other\",\"guardian\":\"mother\",\"traveltime\":1,\"studytime\":1,\"failures\":0,\"schoolsup\":\"no\",\"famsup\":\"yes\",\"paid\":\"no\",\"activities\":\"yes\",\"nursery\":\"yes\",\"higher\":\"yes\",\"internet\":\"yes\",\"romantic\":\"yes\",\"famrel\":4,\"freetime\":3,\"goout\":3,\"Dalc\":3,\"Walc\":4,\"health\":3,\"absences\":10,\"G3\":9},{\"school\":\"GP\",\"sex\":\"M\",\"age\":17,\"address\":\"U\",\"famsize\":\"GT3\",\"Pstatus\":\"T\",\"Medu\":4,\"Fedu\":3,\"Mjob\":\"other\",\"Fjob\":\"other\",\"reason\":\"course\",\"guardian\":\"mother\",\"traveltime\":1,\"studytime\":2,\"failures\":0,\"schoolsup\":\"no\",\"famsup\":\"yes\",\"paid\":\"no\",\"activities\":\"yes\",\"nursery\":\"yes\",\"higher\":\"yes\",\"internet\":\"yes\",\"romantic\":\"yes\",\"famrel\":5,\"freetime\":2,\"goout\":3,\"Dalc\":1,\"Walc\":1,\"health\":2,\"absences\":4,\"G3\":11},{\"school\":\"GP\",\"sex\":\"M\",\"age\":16,\"address\":\"U\",\"famsize\":\"GT3\",\"Pstatus\":\"T\",\"Medu\":4,\"Fedu\":3,\"Mjob\":\"teacher\",\"Fjob\":\"other\",\"reason\":\"home\",\"guardian\":\"mother\",\"traveltime\":1,\"studytime\":2,\"failures\":0,\"schoolsup\":\"no\",\"famsup\":\"yes\",\"paid\":\"yes\",\"activities\":\"yes\",\"nursery\":\"yes\",\"higher\":\"yes\",\"internet\":\"yes\",\"romantic\":\"no\",\"famrel\":3,\"freetime\":4,\"goout\":3,\"Dalc\":2,\"Walc\":3,\"health\":3,\"absences\":10,\"G3\":8},{\"school\":\"GP\",\"sex\":\"M\",\"age\":16,\"address\":\"U\",\"famsize\":\"GT3\",\"Pstatus\":\"T\",\"Medu\":3,\"Fedu\":3,\"Mjob\":\"services\",\"Fjob\":\"other\",\"reason\":\"home\",\"guardian\":\"mother\",\"traveltime\":1,\"studytime\":2,\"failures\":0,\"schoolsup\":\"no\",\"famsup\":\"no\",\"paid\":\"yes\",\"activities\":\"yes\",\"nursery\":\"yes\",\"higher\":\"yes\",\"internet\":\"yes\",\"romantic\":\"yes\",\"famrel\":4,\"freetime\":2,\"goout\":3,\"Dalc\":1,\"Walc\":2,\"health\":3,\"absences\":2,\"G3\":12},{\"school\":\"GP\",\"sex\":\"F\",\"age\":17,\"address\":\"U\",\"famsize\":\"GT3\",\"Pstatus\":\"T\",\"Medu\":2,\"Fedu\":4,\"Mjob\":\"services\",\"Fjob\":\"services\",\"reason\":\"reputation\",\"guardian\":\"father\",\"traveltime\":1,\"studytime\":2,\"failures\":0,\"schoolsup\":\"no\",\"famsup\":\"yes\",\"paid\":\"no\",\"activities\":\"yes\",\"nursery\":\"yes\",\"higher\":\"yes\",\"internet\":\"no\",\"romantic\":\"no\",\"famrel\":5,\"freetime\":4,\"goout\":2,\"Dalc\":2,\"Walc\":3,\"health\":5,\"absences\":0,\"G3\":17},{\"school\":\"GP\",\"sex\":\"F\",\"age\":17,\"address\":\"U\",\"famsize\":\"LE3\",\"Pstatus\":\"T\",\"Medu\":3,\"Fedu\":3,\"Mjob\":\"other\",\"Fjob\":\"other\",\"reason\":\"reputation\",\"guardian\":\"mother\",\"traveltime\":1,\"studytime\":2,\"failures\":0,\"schoolsup\":\"no\",\"famsup\":\"yes\",\"paid\":\"no\",\"activities\":\"yes\",\"nursery\":\"yes\",\"higher\":\"yes\",\"internet\":\"yes\",\"romantic\":\"yes\",\"famrel\":5,\"freetime\":3,\"goout\":3,\"Dalc\":2,\"Walc\":3,\"health\":1,\"absences\":56,\"G3\":8},{\"school\":\"GP\",\"sex\":\"F\",\"age\":16,\"address\":\"U\",\"famsize\":\"GT3\",\"Pstatus\":\"T\",\"Medu\":3,\"Fedu\":2,\"Mjob\":\"other\",\"Fjob\":\"other\",\"reason\":\"reputation\",\"guardian\":\"mother\",\"traveltime\":1,\"studytime\":2,\"failures\":0,\"schoolsup\":\"no\",\"famsup\":\"yes\",\"paid\":\"yes\",\"activities\":\"no\",\"nursery\":\"yes\",\"higher\":\"yes\",\"internet\":\"yes\",\"romantic\":\"no\",\"famrel\":1,\"freetime\":2,\"goout\":2,\"Dalc\":1,\"Walc\":2,\"health\":1,\"absences\":14,\"G3\":12},{\"school\":\"GP\",\"sex\":\"M\",\"age\":17,\"address\":\"U\",\"famsize\":\"GT3\",\"Pstatus\":\"T\",\"Medu\":3,\"Fedu\":3,\"Mjob\":\"services\",\"Fjob\":\"services\",\"reason\":\"other\",\"guardian\":\"mother\",\"traveltime\":1,\"studytime\":2,\"failures\":0,\"schoolsup\":\"no\",\"famsup\":\"yes\",\"paid\":\"no\",\"activities\":\"yes\",\"nursery\":\"yes\",\"higher\":\"yes\",\"internet\":\"yes\",\"romantic\":\"yes\",\"famrel\":4,\"freetime\":3,\"goout\":4,\"Dalc\":2,\"Walc\":3,\"health\":4,\"absences\":12,\"G3\":11},{\"school\":\"GP\",\"sex\":\"M\",\"age\":16,\"address\":\"U\",\"famsize\":\"GT3\",\"Pstatus\":\"T\",\"Medu\":1,\"Fedu\":2,\"Mjob\":\"services\",\"Fjob\":\"services\",\"reason\":\"other\",\"guardian\":\"mother\",\"traveltime\":1,\"studytime\":1,\"failures\":0,\"schoolsup\":\"no\",\"famsup\":\"yes\",\"paid\":\"yes\",\"activities\":\"yes\",\"nursery\":\"yes\",\"higher\":\"yes\",\"internet\":\"yes\",\"romantic\":\"yes\",\"famrel\":3,\"freetime\":3,\"goout\":3,\"Dalc\":1,\"Walc\":2,\"health\":3,\"absences\":2,\"G3\":11},{\"school\":\"GP\",\"sex\":\"M\",\"age\":16,\"address\":\"U\",\"famsize\":\"LE3\",\"Pstatus\":\"T\",\"Medu\":2,\"Fedu\":1,\"Mjob\":\"other\",\"Fjob\":\"other\",\"reason\":\"course\",\"guardian\":\"mother\",\"traveltime\":1,\"studytime\":2,\"failures\":0,\"schoolsup\":\"no\",\"famsup\":\"no\",\"paid\":\"yes\",\"activities\":\"yes\",\"nursery\":\"yes\",\"higher\":\"yes\",\"internet\":\"yes\",\"romantic\":\"yes\",\"famrel\":4,\"freetime\":2,\"goout\":3,\"Dalc\":1,\"Walc\":2,\"health\":5,\"absences\":0,\"G3\":15},{\"school\":\"GP\",\"sex\":\"F\",\"age\":17,\"address\":\"U\",\"famsize\":\"GT3\",\"Pstatus\":\"A\",\"Medu\":3,\"Fedu\":3,\"Mjob\":\"health\",\"Fjob\":\"other\",\"reason\":\"reputation\",\"guardian\":\"mother\",\"traveltime\":1,\"studytime\":2,\"failures\":0,\"schoolsup\":\"no\",\"famsup\":\"yes\",\"paid\":\"no\",\"activities\":\"no\",\"nursery\":\"no\",\"higher\":\"yes\",\"internet\":\"yes\",\"romantic\":\"yes\",\"famrel\":3,\"freetime\":3,\"goout\":3,\"Dalc\":1,\"Walc\":3,\"health\":3,\"absences\":6,\"G3\":9},{\"school\":\"GP\",\"sex\":\"M\",\"age\":17,\"address\":\"R\",\"famsize\":\"GT3\",\"Pstatus\":\"T\",\"Medu\":1,\"Fedu\":2,\"Mjob\":\"at_home\",\"Fjob\":\"other\",\"reason\":\"home\",\"guardian\":\"mother\",\"traveltime\":1,\"studytime\":2,\"failures\":0,\"schoolsup\":\"no\",\"famsup\":\"no\",\"paid\":\"no\",\"activities\":\"no\",\"nursery\":\"yes\",\"higher\":\"yes\",\"internet\":\"no\",\"romantic\":\"no\",\"famrel\":3,\"freetime\":1,\"goout\":3,\"Dalc\":1,\"Walc\":5,\"health\":3,\"absences\":4,\"G3\":10},{\"school\":\"GP\",\"sex\":\"F\",\"age\":16,\"address\":\"U\",\"famsize\":\"GT3\",\"Pstatus\":\"T\",\"Medu\":2,\"Fedu\":3,\"Mjob\":\"services\",\"Fjob\":\"services\",\"reason\":\"course\",\"guardian\":\"mother\",\"traveltime\":1,\"studytime\":2,\"failures\":0,\"schoolsup\":\"no\",\"famsup\":\"no\",\"paid\":\"no\",\"activities\":\"no\",\"nursery\":\"yes\",\"higher\":\"yes\",\"internet\":\"yes\",\"romantic\":\"no\",\"famrel\":4,\"freetime\":3,\"goout\":3,\"Dalc\":1,\"Walc\":1,\"health\":2,\"absences\":10,\"G3\":13},{\"school\":\"GP\",\"sex\":\"F\",\"age\":17,\"address\":\"U\",\"famsize\":\"GT3\",\"Pstatus\":\"T\",\"Medu\":1,\"Fedu\":1,\"Mjob\":\"at_home\",\"Fjob\":\"services\",\"reason\":\"course\",\"guardian\":\"mother\",\"traveltime\":1,\"studytime\":2,\"failures\":0,\"schoolsup\":\"no\",\"famsup\":\"no\",\"paid\":\"no\",\"activities\":\"yes\",\"nursery\":\"yes\",\"higher\":\"yes\",\"internet\":\"yes\",\"romantic\":\"no\",\"famrel\":5,\"freetime\":3,\"goout\":3,\"Dalc\":1,\"Walc\":1,\"health\":3,\"absences\":0,\"G3\":9},{\"school\":\"GP\",\"sex\":\"M\",\"age\":17,\"address\":\"U\",\"famsize\":\"GT3\",\"Pstatus\":\"T\",\"Medu\":1,\"Fedu\":2,\"Mjob\":\"at_home\",\"Fjob\":\"services\",\"reason\":\"other\",\"guardian\":\"other\",\"traveltime\":2,\"studytime\":2,\"failures\":0,\"schoolsup\":\"no\",\"famsup\":\"no\",\"paid\":\"yes\",\"activities\":\"yes\",\"nursery\":\"no\",\"higher\":\"yes\",\"internet\":\"yes\",\"romantic\":\"no\",\"famrel\":4,\"freetime\":4,\"goout\":4,\"Dalc\":4,\"Walc\":5,\"health\":5,\"absences\":12,\"G3\":8},{\"school\":\"GP\",\"sex\":\"M\",\"age\":16,\"address\":\"R\",\"famsize\":\"GT3\",\"Pstatus\":\"T\",\"Medu\":3,\"Fedu\":3,\"Mjob\":\"services\",\"Fjob\":\"services\",\"reason\":\"reputation\",\"guardian\":\"mother\",\"traveltime\":1,\"studytime\":1,\"failures\":0,\"schoolsup\":\"no\",\"famsup\":\"yes\",\"paid\":\"no\",\"activities\":\"yes\",\"nursery\":\"yes\",\"higher\":\"yes\",\"internet\":\"yes\",\"romantic\":\"no\",\"famrel\":4,\"freetime\":3,\"goout\":2,\"Dalc\":3,\"Walc\":4,\"health\":5,\"absences\":8,\"G3\":10},{\"school\":\"GP\",\"sex\":\"M\",\"age\":16,\"address\":\"U\",\"famsize\":\"GT3\",\"Pstatus\":\"T\",\"Medu\":2,\"Fedu\":3,\"Mjob\":\"other\",\"Fjob\":\"other\",\"reason\":\"home\",\"guardian\":\"father\",\"traveltime\":2,\"studytime\":1,\"failures\":0,\"schoolsup\":\"no\",\"famsup\":\"no\",\"paid\":\"no\",\"activities\":\"no\",\"nursery\":\"yes\",\"higher\":\"yes\",\"internet\":\"yes\",\"romantic\":\"no\",\"famrel\":5,\"freetime\":3,\"goout\":3,\"Dalc\":1,\"Walc\":1,\"health\":3,\"absences\":0,\"G3\":14},{\"school\":\"GP\",\"sex\":\"F\",\"age\":17,\"address\":\"U\",\"famsize\":\"LE3\",\"Pstatus\":\"T\",\"Medu\":2,\"Fedu\":4,\"Mjob\":\"services\",\"Fjob\":\"services\",\"reason\":\"course\",\"guardian\":\"father\",\"traveltime\":1,\"studytime\":2,\"failures\":0,\"schoolsup\":\"no\",\"famsup\":\"no\",\"paid\":\"no\",\"activities\":\"yes\",\"nursery\":\"yes\",\"higher\":\"yes\",\"internet\":\"yes\",\"romantic\":\"yes\",\"famrel\":4,\"freetime\":3,\"goout\":2,\"Dalc\":1,\"Walc\":1,\"health\":5,\"absences\":0,\"G3\":15},{\"school\":\"GP\",\"sex\":\"M\",\"age\":17,\"address\":\"U\",\"famsize\":\"GT3\",\"Pstatus\":\"T\",\"Medu\":4,\"Fedu\":4,\"Mjob\":\"services\",\"Fjob\":\"teacher\",\"reason\":\"home\",\"guardian\":\"mother\",\"traveltime\":1,\"studytime\":1,\"failures\":0,\"schoolsup\":\"no\",\"famsup\":\"no\",\"paid\":\"no\",\"activities\":\"no\",\"nursery\":\"yes\",\"higher\":\"yes\",\"internet\":\"yes\",\"romantic\":\"no\",\"famrel\":5,\"freetime\":2,\"goout\":3,\"Dalc\":1,\"Walc\":2,\"health\":5,\"absences\":4,\"G3\":16},{\"school\":\"GP\",\"sex\":\"M\",\"age\":16,\"address\":\"R\",\"famsize\":\"LE3\",\"Pstatus\":\"T\",\"Medu\":3,\"Fedu\":3,\"Mjob\":\"teacher\",\"Fjob\":\"other\",\"reason\":\"home\",\"guardian\":\"father\",\"traveltime\":3,\"studytime\":1,\"failures\":0,\"schoolsup\":\"no\",\"famsup\":\"yes\",\"paid\":\"yes\",\"activities\":\"yes\",\"nursery\":\"yes\",\"higher\":\"yes\",\"internet\":\"yes\",\"romantic\":\"no\",\"famrel\":3,\"freetime\":3,\"goout\":4,\"Dalc\":3,\"Walc\":5,\"health\":3,\"absences\":8,\"G3\":10},{\"school\":\"GP\",\"sex\":\"F\",\"age\":17,\"address\":\"U\",\"famsize\":\"GT3\",\"Pstatus\":\"T\",\"Medu\":4,\"Fedu\":4,\"Mjob\":\"services\",\"Fjob\":\"teacher\",\"reason\":\"home\",\"guardian\":\"mother\",\"traveltime\":2,\"studytime\":1,\"failures\":1,\"schoolsup\":\"no\",\"famsup\":\"yes\",\"paid\":\"no\",\"activities\":\"no\",\"nursery\":\"yes\",\"higher\":\"yes\",\"internet\":\"yes\",\"romantic\":\"no\",\"famrel\":4,\"freetime\":2,\"goout\":4,\"Dalc\":2,\"Walc\":3,\"health\":2,\"absences\":24,\"G3\":18},{\"school\":\"GP\",\"sex\":\"F\",\"age\":16,\"address\":\"U\",\"famsize\":\"LE3\",\"Pstatus\":\"T\",\"Medu\":4,\"Fedu\":4,\"Mjob\":\"teacher\",\"Fjob\":\"teacher\",\"reason\":\"reputation\",\"guardian\":\"mother\",\"traveltime\":1,\"studytime\":2,\"failures\":0,\"schoolsup\":\"no\",\"famsup\":\"yes\",\"paid\":\"yes\",\"activities\":\"no\",\"nursery\":\"yes\",\"higher\":\"yes\",\"internet\":\"yes\",\"romantic\":\"no\",\"famrel\":4,\"freetime\":5,\"goout\":2,\"Dalc\":1,\"Walc\":2,\"health\":3,\"absences\":0,\"G3\":10},{\"school\":\"GP\",\"sex\":\"F\",\"age\":16,\"address\":\"U\",\"famsize\":\"GT3\",\"Pstatus\":\"T\",\"Medu\":4,\"Fedu\":3,\"Mjob\":\"health\",\"Fjob\":\"other\",\"reason\":\"home\",\"guardian\":\"mother\",\"traveltime\":1,\"studytime\":2,\"failures\":0,\"schoolsup\":\"no\",\"famsup\":\"yes\",\"paid\":\"no\",\"activities\":\"yes\",\"nursery\":\"yes\",\"higher\":\"yes\",\"internet\":\"yes\",\"romantic\":\"no\",\"famrel\":4,\"freetime\":3,\"goout\":5,\"Dalc\":1,\"Walc\":5,\"health\":2,\"absences\":2,\"G3\":16},{\"school\":\"GP\",\"sex\":\"F\",\"age\":16,\"address\":\"U\",\"famsize\":\"GT3\",\"Pstatus\":\"T\",\"Medu\":2,\"Fedu\":3,\"Mjob\":\"other\",\"Fjob\":\"other\",\"reason\":\"reputation\",\"guardian\":\"mother\",\"traveltime\":1,\"studytime\":2,\"failures\":0,\"schoolsup\":\"yes\",\"famsup\":\"yes\",\"paid\":\"yes\",\"activities\":\"yes\",\"nursery\":\"yes\",\"higher\":\"yes\",\"internet\":\"no\",\"romantic\":\"no\",\"famrel\":4,\"freetime\":4,\"goout\":3,\"Dalc\":1,\"Walc\":3,\"health\":4,\"absences\":6,\"G3\":10},{\"school\":\"GP\",\"sex\":\"F\",\"age\":17,\"address\":\"U\",\"famsize\":\"GT3\",\"Pstatus\":\"T\",\"Medu\":1,\"Fedu\":1,\"Mjob\":\"other\",\"Fjob\":\"other\",\"reason\":\"course\",\"guardian\":\"mother\",\"traveltime\":1,\"studytime\":2,\"failures\":0,\"schoolsup\":\"no\",\"famsup\":\"yes\",\"paid\":\"yes\",\"activities\":\"no\",\"nursery\":\"no\",\"higher\":\"yes\",\"internet\":\"no\",\"romantic\":\"no\",\"famrel\":4,\"freetime\":4,\"goout\":4,\"Dalc\":1,\"Walc\":3,\"health\":1,\"absences\":4,\"G3\":10},{\"school\":\"GP\",\"sex\":\"F\",\"age\":17,\"address\":\"R\",\"famsize\":\"GT3\",\"Pstatus\":\"T\",\"Medu\":2,\"Fedu\":2,\"Mjob\":\"other\",\"Fjob\":\"other\",\"reason\":\"reputation\",\"guardian\":\"mother\",\"traveltime\":1,\"studytime\":1,\"failures\":0,\"schoolsup\":\"no\",\"famsup\":\"yes\",\"paid\":\"no\",\"activities\":\"no\",\"nursery\":\"yes\",\"higher\":\"yes\",\"internet\":\"yes\",\"romantic\":\"no\",\"famrel\":5,\"freetime\":3,\"goout\":2,\"Dalc\":1,\"Walc\":2,\"health\":3,\"absences\":18,\"G3\":6},{\"school\":\"GP\",\"sex\":\"F\",\"age\":16,\"address\":\"R\",\"famsize\":\"GT3\",\"Pstatus\":\"T\",\"Medu\":2,\"Fedu\":2,\"Mjob\":\"services\",\"Fjob\":\"services\",\"reason\":\"reputation\",\"guardian\":\"mother\",\"traveltime\":2,\"studytime\":4,\"failures\":0,\"schoolsup\":\"no\",\"famsup\":\"yes\",\"paid\":\"yes\",\"activities\":\"yes\",\"nursery\":\"no\",\"higher\":\"yes\",\"internet\":\"yes\",\"romantic\":\"no\",\"famrel\":5,\"freetime\":3,\"goout\":5,\"Dalc\":1,\"Walc\":1,\"health\":5,\"absences\":6,\"G3\":11},{\"school\":\"GP\",\"sex\":\"F\",\"age\":17,\"address\":\"U\",\"famsize\":\"GT3\",\"Pstatus\":\"T\",\"Medu\":3,\"Fedu\":4,\"Mjob\":\"at_home\",\"Fjob\":\"services\",\"reason\":\"home\",\"guardian\":\"mother\",\"traveltime\":1,\"studytime\":3,\"failures\":1,\"schoolsup\":\"no\",\"famsup\":\"yes\",\"paid\":\"yes\",\"activities\":\"no\",\"nursery\":\"yes\",\"higher\":\"yes\",\"internet\":\"yes\",\"romantic\":\"yes\",\"famrel\":4,\"freetime\":4,\"goout\":3,\"Dalc\":3,\"Walc\":4,\"health\":5,\"absences\":28,\"G3\":9},{\"school\":\"GP\",\"sex\":\"F\",\"age\":16,\"address\":\"U\",\"famsize\":\"GT3\",\"Pstatus\":\"A\",\"Medu\":3,\"Fedu\":1,\"Mjob\":\"services\",\"Fjob\":\"other\",\"reason\":\"course\",\"guardian\":\"mother\",\"traveltime\":1,\"studytime\":2,\"failures\":3,\"schoolsup\":\"no\",\"famsup\":\"yes\",\"paid\":\"yes\",\"activities\":\"no\",\"nursery\":\"yes\",\"higher\":\"yes\",\"internet\":\"yes\",\"romantic\":\"no\",\"famrel\":2,\"freetime\":3,\"goout\":3,\"Dalc\":2,\"Walc\":2,\"health\":4,\"absences\":5,\"G3\":7},{\"school\":\"GP\",\"sex\":\"F\",\"age\":16,\"address\":\"U\",\"famsize\":\"GT3\",\"Pstatus\":\"T\",\"Medu\":4,\"Fedu\":3,\"Mjob\":\"teacher\",\"Fjob\":\"other\",\"reason\":\"other\",\"guardian\":\"mother\",\"traveltime\":1,\"studytime\":2,\"failures\":0,\"schoolsup\":\"no\",\"famsup\":\"no\",\"paid\":\"yes\",\"activities\":\"yes\",\"nursery\":\"yes\",\"higher\":\"yes\",\"internet\":\"yes\",\"romantic\":\"yes\",\"famrel\":1,\"freetime\":3,\"goout\":2,\"Dalc\":1,\"Walc\":1,\"health\":1,\"absences\":10,\"G3\":13},{\"school\":\"GP\",\"sex\":\"F\",\"age\":16,\"address\":\"U\",\"famsize\":\"GT3\",\"Pstatus\":\"T\",\"Medu\":1,\"Fedu\":1,\"Mjob\":\"at_home\",\"Fjob\":\"other\",\"reason\":\"home\",\"guardian\":\"mother\",\"traveltime\":2,\"studytime\":1,\"failures\":0,\"schoolsup\":\"no\",\"famsup\":\"yes\",\"paid\":\"yes\",\"activities\":\"no\",\"nursery\":\"yes\",\"higher\":\"yes\",\"internet\":\"no\",\"romantic\":\"no\",\"famrel\":4,\"freetime\":3,\"goout\":2,\"Dalc\":1,\"Walc\":4,\"health\":5,\"absences\":6,\"G3\":10},{\"school\":\"GP\",\"sex\":\"F\",\"age\":17,\"address\":\"R\",\"famsize\":\"GT3\",\"Pstatus\":\"T\",\"Medu\":4,\"Fedu\":3,\"Mjob\":\"teacher\",\"Fjob\":\"other\",\"reason\":\"reputation\",\"guardian\":\"mother\",\"traveltime\":2,\"studytime\":3,\"failures\":0,\"schoolsup\":\"no\",\"famsup\":\"yes\",\"paid\":\"yes\",\"activities\":\"yes\",\"nursery\":\"yes\",\"higher\":\"yes\",\"internet\":\"yes\",\"romantic\":\"yes\",\"famrel\":4,\"freetime\":4,\"goout\":2,\"Dalc\":1,\"Walc\":1,\"health\":4,\"absences\":6,\"G3\":7},{\"school\":\"GP\",\"sex\":\"F\",\"age\":19,\"address\":\"U\",\"famsize\":\"GT3\",\"Pstatus\":\"T\",\"Medu\":3,\"Fedu\":3,\"Mjob\":\"other\",\"Fjob\":\"other\",\"reason\":\"reputation\",\"guardian\":\"other\",\"traveltime\":1,\"studytime\":4,\"failures\":0,\"schoolsup\":\"no\",\"famsup\":\"yes\",\"paid\":\"yes\",\"activities\":\"yes\",\"nursery\":\"yes\",\"higher\":\"yes\",\"internet\":\"yes\",\"romantic\":\"no\",\"famrel\":4,\"freetime\":3,\"goout\":3,\"Dalc\":1,\"Walc\":2,\"health\":3,\"absences\":10,\"G3\":8},{\"school\":\"GP\",\"sex\":\"M\",\"age\":17,\"address\":\"U\",\"famsize\":\"LE3\",\"Pstatus\":\"T\",\"Medu\":4,\"Fedu\":4,\"Mjob\":\"services\",\"Fjob\":\"other\",\"reason\":\"home\",\"guardian\":\"mother\",\"traveltime\":1,\"studytime\":2,\"failures\":0,\"schoolsup\":\"no\",\"famsup\":\"yes\",\"paid\":\"yes\",\"activities\":\"no\",\"nursery\":\"yes\",\"higher\":\"yes\",\"internet\":\"yes\",\"romantic\":\"yes\",\"famrel\":5,\"freetime\":3,\"goout\":5,\"Dalc\":4,\"Walc\":5,\"health\":3,\"absences\":13,\"G3\":13},{\"school\":\"GP\",\"sex\":\"F\",\"age\":16,\"address\":\"U\",\"famsize\":\"GT3\",\"Pstatus\":\"A\",\"Medu\":2,\"Fedu\":2,\"Mjob\":\"other\",\"Fjob\":\"other\",\"reason\":\"reputation\",\"guardian\":\"mother\",\"traveltime\":1,\"studytime\":2,\"failures\":0,\"schoolsup\":\"yes\",\"famsup\":\"yes\",\"paid\":\"yes\",\"activities\":\"no\",\"nursery\":\"yes\",\"higher\":\"yes\",\"internet\":\"yes\",\"romantic\":\"no\",\"famrel\":3,\"freetime\":3,\"goout\":4,\"Dalc\":1,\"Walc\":1,\"health\":4,\"absences\":0,\"G3\":14},{\"school\":\"GP\",\"sex\":\"M\",\"age\":18,\"address\":\"U\",\"famsize\":\"GT3\",\"Pstatus\":\"T\",\"Medu\":2,\"Fedu\":2,\"Mjob\":\"services\",\"Fjob\":\"other\",\"reason\":\"home\",\"guardian\":\"mother\",\"traveltime\":1,\"studytime\":2,\"failures\":1,\"schoolsup\":\"no\",\"famsup\":\"yes\",\"paid\":\"yes\",\"activities\":\"yes\",\"nursery\":\"yes\",\"higher\":\"yes\",\"internet\":\"yes\",\"romantic\":\"no\",\"famrel\":4,\"freetime\":4,\"goout\":4,\"Dalc\":2,\"Walc\":4,\"health\":5,\"absences\":15,\"G3\":8},{\"school\":\"GP\",\"sex\":\"F\",\"age\":17,\"address\":\"R\",\"famsize\":\"LE3\",\"Pstatus\":\"T\",\"Medu\":4,\"Fedu\":4,\"Mjob\":\"services\",\"Fjob\":\"other\",\"reason\":\"other\",\"guardian\":\"mother\",\"traveltime\":1,\"studytime\":1,\"failures\":0,\"schoolsup\":\"no\",\"famsup\":\"yes\",\"paid\":\"yes\",\"activities\":\"no\",\"nursery\":\"yes\",\"higher\":\"yes\",\"internet\":\"no\",\"romantic\":\"no\",\"famrel\":5,\"freetime\":2,\"goout\":1,\"Dalc\":1,\"Walc\":2,\"health\":3,\"absences\":12,\"G3\":10},{\"school\":\"GP\",\"sex\":\"F\",\"age\":17,\"address\":\"U\",\"famsize\":\"LE3\",\"Pstatus\":\"T\",\"Medu\":3,\"Fedu\":2,\"Mjob\":\"other\",\"Fjob\":\"other\",\"reason\":\"reputation\",\"guardian\":\"mother\",\"traveltime\":2,\"studytime\":2,\"failures\":0,\"schoolsup\":\"no\",\"famsup\":\"no\",\"paid\":\"yes\",\"activities\":\"no\",\"nursery\":\"yes\",\"higher\":\"yes\",\"internet\":\"yes\",\"romantic\":\"no\",\"famrel\":4,\"freetime\":4,\"goout\":4,\"Dalc\":1,\"Walc\":3,\"health\":1,\"absences\":2,\"G3\":15},{\"school\":\"GP\",\"sex\":\"F\",\"age\":17,\"address\":\"U\",\"famsize\":\"GT3\",\"Pstatus\":\"T\",\"Medu\":4,\"Fedu\":3,\"Mjob\":\"other\",\"Fjob\":\"other\",\"reason\":\"reputation\",\"guardian\":\"mother\",\"traveltime\":1,\"studytime\":2,\"failures\":2,\"schoolsup\":\"no\",\"famsup\":\"no\",\"paid\":\"yes\",\"activities\":\"no\",\"nursery\":\"yes\",\"higher\":\"yes\",\"internet\":\"yes\",\"romantic\":\"yes\",\"famrel\":3,\"freetime\":4,\"goout\":5,\"Dalc\":2,\"Walc\":4,\"health\":1,\"absences\":22,\"G3\":4},{\"school\":\"GP\",\"sex\":\"M\",\"age\":18,\"address\":\"U\",\"famsize\":\"LE3\",\"Pstatus\":\"T\",\"Medu\":3,\"Fedu\":3,\"Mjob\":\"services\",\"Fjob\":\"health\",\"reason\":\"home\",\"guardian\":\"father\",\"traveltime\":1,\"studytime\":2,\"failures\":1,\"schoolsup\":\"no\",\"famsup\":\"yes\",\"paid\":\"yes\",\"activities\":\"no\",\"nursery\":\"yes\",\"higher\":\"yes\",\"internet\":\"yes\",\"romantic\":\"no\",\"famrel\":3,\"freetime\":2,\"goout\":4,\"Dalc\":2,\"Walc\":4,\"health\":4,\"absences\":13,\"G3\":8},{\"school\":\"GP\",\"sex\":\"F\",\"age\":17,\"address\":\"U\",\"famsize\":\"GT3\",\"Pstatus\":\"T\",\"Medu\":2,\"Fedu\":3,\"Mjob\":\"at_home\",\"Fjob\":\"other\",\"reason\":\"home\",\"guardian\":\"father\",\"traveltime\":2,\"studytime\":1,\"failures\":0,\"schoolsup\":\"no\",\"famsup\":\"yes\",\"paid\":\"yes\",\"activities\":\"no\",\"nursery\":\"yes\",\"higher\":\"yes\",\"internet\":\"no\",\"romantic\":\"no\",\"famrel\":3,\"freetime\":3,\"goout\":3,\"Dalc\":1,\"Walc\":4,\"health\":3,\"absences\":3,\"G3\":8},{\"school\":\"GP\",\"sex\":\"F\",\"age\":17,\"address\":\"U\",\"famsize\":\"GT3\",\"Pstatus\":\"T\",\"Medu\":2,\"Fedu\":2,\"Mjob\":\"at_home\",\"Fjob\":\"at_home\",\"reason\":\"course\",\"guardian\":\"mother\",\"traveltime\":1,\"studytime\":3,\"failures\":0,\"schoolsup\":\"no\",\"famsup\":\"yes\",\"paid\":\"yes\",\"activities\":\"yes\",\"nursery\":\"yes\",\"higher\":\"yes\",\"internet\":\"yes\",\"romantic\":\"no\",\"famrel\":4,\"freetime\":3,\"goout\":3,\"Dalc\":1,\"Walc\":1,\"health\":4,\"absences\":4,\"G3\":10},{\"school\":\"GP\",\"sex\":\"F\",\"age\":17,\"address\":\"R\",\"famsize\":\"GT3\",\"Pstatus\":\"T\",\"Medu\":2,\"Fedu\":1,\"Mjob\":\"at_home\",\"Fjob\":\"services\",\"reason\":\"reputation\",\"guardian\":\"mother\",\"traveltime\":2,\"studytime\":2,\"failures\":0,\"schoolsup\":\"no\",\"famsup\":\"yes\",\"paid\":\"no\",\"activities\":\"yes\",\"nursery\":\"yes\",\"higher\":\"yes\",\"internet\":\"yes\",\"romantic\":\"no\",\"famrel\":4,\"freetime\":2,\"goout\":5,\"Dalc\":1,\"Walc\":2,\"health\":5,\"absences\":2,\"G3\":6},{\"school\":\"GP\",\"sex\":\"F\",\"age\":17,\"address\":\"U\",\"famsize\":\"GT3\",\"Pstatus\":\"T\",\"Medu\":1,\"Fedu\":1,\"Mjob\":\"at_home\",\"Fjob\":\"other\",\"reason\":\"reputation\",\"guardian\":\"mother\",\"traveltime\":1,\"studytime\":3,\"failures\":1,\"schoolsup\":\"no\",\"famsup\":\"yes\",\"paid\":\"no\",\"activities\":\"yes\",\"nursery\":\"yes\",\"higher\":\"yes\",\"internet\":\"no\",\"romantic\":\"yes\",\"famrel\":4,\"freetime\":3,\"goout\":4,\"Dalc\":1,\"Walc\":1,\"health\":5,\"absences\":0,\"G3\":0},{\"school\":\"GP\",\"sex\":\"F\",\"age\":16,\"address\":\"U\",\"famsize\":\"GT3\",\"Pstatus\":\"T\",\"Medu\":2,\"Fedu\":3,\"Mjob\":\"services\",\"Fjob\":\"teacher\",\"reason\":\"other\",\"guardian\":\"mother\",\"traveltime\":1,\"studytime\":2,\"failures\":0,\"schoolsup\":\"yes\",\"famsup\":\"no\",\"paid\":\"no\",\"activities\":\"no\",\"nursery\":\"yes\",\"higher\":\"yes\",\"internet\":\"yes\",\"romantic\":\"no\",\"famrel\":2,\"freetime\":3,\"goout\":1,\"Dalc\":1,\"Walc\":1,\"health\":3,\"absences\":2,\"G3\":17},{\"school\":\"GP\",\"sex\":\"M\",\"age\":18,\"address\":\"U\",\"famsize\":\"GT3\",\"Pstatus\":\"T\",\"Medu\":2,\"Fedu\":2,\"Mjob\":\"other\",\"Fjob\":\"other\",\"reason\":\"home\",\"guardian\":\"mother\",\"traveltime\":2,\"studytime\":2,\"failures\":0,\"schoolsup\":\"no\",\"famsup\":\"yes\",\"paid\":\"yes\",\"activities\":\"no\",\"nursery\":\"yes\",\"higher\":\"yes\",\"internet\":\"yes\",\"romantic\":\"no\",\"famrel\":3,\"freetime\":3,\"goout\":3,\"Dalc\":5,\"Walc\":5,\"health\":4,\"absences\":0,\"G3\":13},{\"school\":\"GP\",\"sex\":\"F\",\"age\":16,\"address\":\"U\",\"famsize\":\"GT3\",\"Pstatus\":\"T\",\"Medu\":4,\"Fedu\":4,\"Mjob\":\"teacher\",\"Fjob\":\"services\",\"reason\":\"home\",\"guardian\":\"mother\",\"traveltime\":1,\"studytime\":3,\"failures\":0,\"schoolsup\":\"no\",\"famsup\":\"yes\",\"paid\":\"no\",\"activities\":\"yes\",\"nursery\":\"no\",\"higher\":\"yes\",\"internet\":\"yes\",\"romantic\":\"no\",\"famrel\":5,\"freetime\":3,\"goout\":2,\"Dalc\":1,\"Walc\":1,\"health\":5,\"absences\":0,\"G3\":14},{\"school\":\"GP\",\"sex\":\"F\",\"age\":18,\"address\":\"R\",\"famsize\":\"GT3\",\"Pstatus\":\"T\",\"Medu\":3,\"Fedu\":1,\"Mjob\":\"other\",\"Fjob\":\"other\",\"reason\":\"reputation\",\"guardian\":\"mother\",\"traveltime\":1,\"studytime\":2,\"failures\":1,\"schoolsup\":\"no\",\"famsup\":\"no\",\"paid\":\"no\",\"activities\":\"yes\",\"nursery\":\"yes\",\"higher\":\"yes\",\"internet\":\"yes\",\"romantic\":\"yes\",\"famrel\":5,\"freetime\":3,\"goout\":3,\"Dalc\":1,\"Walc\":1,\"health\":4,\"absences\":16,\"G3\":7},{\"school\":\"GP\",\"sex\":\"F\",\"age\":17,\"address\":\"U\",\"famsize\":\"GT3\",\"Pstatus\":\"T\",\"Medu\":3,\"Fedu\":2,\"Mjob\":\"other\",\"Fjob\":\"other\",\"reason\":\"course\",\"guardian\":\"mother\",\"traveltime\":1,\"studytime\":2,\"failures\":0,\"schoolsup\":\"no\",\"famsup\":\"no\",\"paid\":\"no\",\"activities\":\"yes\",\"nursery\":\"no\",\"higher\":\"yes\",\"internet\":\"yes\",\"romantic\":\"no\",\"famrel\":5,\"freetime\":3,\"goout\":4,\"Dalc\":1,\"Walc\":3,\"health\":3,\"absences\":10,\"G3\":15},{\"school\":\"GP\",\"sex\":\"M\",\"age\":17,\"address\":\"U\",\"famsize\":\"LE3\",\"Pstatus\":\"T\",\"Medu\":2,\"Fedu\":3,\"Mjob\":\"services\",\"Fjob\":\"services\",\"reason\":\"reputation\",\"guardian\":\"father\",\"traveltime\":1,\"studytime\":2,\"failures\":0,\"schoolsup\":\"no\",\"famsup\":\"yes\",\"paid\":\"yes\",\"activities\":\"no\",\"nursery\":\"no\",\"higher\":\"yes\",\"internet\":\"yes\",\"romantic\":\"no\",\"famrel\":5,\"freetime\":3,\"goout\":3,\"Dalc\":1,\"Walc\":3,\"health\":3,\"absences\":2,\"G3\":12},{\"school\":\"GP\",\"sex\":\"M\",\"age\":18,\"address\":\"U\",\"famsize\":\"LE3\",\"Pstatus\":\"T\",\"Medu\":2,\"Fedu\":1,\"Mjob\":\"at_home\",\"Fjob\":\"other\",\"reason\":\"course\",\"guardian\":\"mother\",\"traveltime\":4,\"studytime\":2,\"failures\":0,\"schoolsup\":\"yes\",\"famsup\":\"yes\",\"paid\":\"yes\",\"activities\":\"yes\",\"nursery\":\"yes\",\"higher\":\"yes\",\"internet\":\"yes\",\"romantic\":\"yes\",\"famrel\":4,\"freetime\":3,\"goout\":2,\"Dalc\":4,\"Walc\":5,\"health\":3,\"absences\":14,\"G3\":9},{\"school\":\"GP\",\"sex\":\"F\",\"age\":17,\"address\":\"U\",\"famsize\":\"GT3\",\"Pstatus\":\"A\",\"Medu\":2,\"Fedu\":1,\"Mjob\":\"other\",\"Fjob\":\"other\",\"reason\":\"course\",\"guardian\":\"mother\",\"traveltime\":2,\"studytime\":3,\"failures\":0,\"schoolsup\":\"no\",\"famsup\":\"no\",\"paid\":\"no\",\"activities\":\"yes\",\"nursery\":\"yes\",\"higher\":\"yes\",\"internet\":\"yes\",\"romantic\":\"yes\",\"famrel\":3,\"freetime\":2,\"goout\":3,\"Dalc\":1,\"Walc\":2,\"health\":3,\"absences\":10,\"G3\":12},{\"school\":\"GP\",\"sex\":\"F\",\"age\":17,\"address\":\"U\",\"famsize\":\"LE3\",\"Pstatus\":\"T\",\"Medu\":4,\"Fedu\":3,\"Mjob\":\"health\",\"Fjob\":\"other\",\"reason\":\"reputation\",\"guardian\":\"father\",\"traveltime\":1,\"studytime\":2,\"failures\":0,\"schoolsup\":\"no\",\"famsup\":\"no\",\"paid\":\"no\",\"activities\":\"yes\",\"nursery\":\"yes\",\"higher\":\"yes\",\"internet\":\"yes\",\"romantic\":\"yes\",\"famrel\":3,\"freetime\":2,\"goout\":3,\"Dalc\":1,\"Walc\":2,\"health\":3,\"absences\":14,\"G3\":14},{\"school\":\"GP\",\"sex\":\"M\",\"age\":17,\"address\":\"R\",\"famsize\":\"GT3\",\"Pstatus\":\"T\",\"Medu\":2,\"Fedu\":2,\"Mjob\":\"other\",\"Fjob\":\"other\",\"reason\":\"course\",\"guardian\":\"father\",\"traveltime\":2,\"studytime\":2,\"failures\":0,\"schoolsup\":\"no\",\"famsup\":\"yes\",\"paid\":\"yes\",\"activities\":\"yes\",\"nursery\":\"yes\",\"higher\":\"yes\",\"internet\":\"yes\",\"romantic\":\"no\",\"famrel\":4,\"freetime\":5,\"goout\":2,\"Dalc\":1,\"Walc\":1,\"health\":1,\"absences\":4,\"G3\":11},{\"school\":\"GP\",\"sex\":\"M\",\"age\":17,\"address\":\"U\",\"famsize\":\"GT3\",\"Pstatus\":\"T\",\"Medu\":4,\"Fedu\":4,\"Mjob\":\"teacher\",\"Fjob\":\"teacher\",\"reason\":\"reputation\",\"guardian\":\"mother\",\"traveltime\":1,\"studytime\":2,\"failures\":0,\"schoolsup\":\"yes\",\"famsup\":\"yes\",\"paid\":\"no\",\"activities\":\"yes\",\"nursery\":\"yes\",\"higher\":\"yes\",\"internet\":\"yes\",\"romantic\":\"yes\",\"famrel\":4,\"freetime\":5,\"goout\":5,\"Dalc\":1,\"Walc\":3,\"health\":2,\"absences\":14,\"G3\":9},{\"school\":\"GP\",\"sex\":\"M\",\"age\":16,\"address\":\"U\",\"famsize\":\"GT3\",\"Pstatus\":\"T\",\"Medu\":4,\"Fedu\":4,\"Mjob\":\"health\",\"Fjob\":\"other\",\"reason\":\"reputation\",\"guardian\":\"father\",\"traveltime\":1,\"studytime\":2,\"failures\":0,\"schoolsup\":\"no\",\"famsup\":\"yes\",\"paid\":\"yes\",\"activities\":\"yes\",\"nursery\":\"yes\",\"higher\":\"yes\",\"internet\":\"yes\",\"romantic\":\"no\",\"famrel\":4,\"freetime\":2,\"goout\":4,\"Dalc\":2,\"Walc\":4,\"health\":1,\"absences\":2,\"G3\":13},{\"school\":\"GP\",\"sex\":\"M\",\"age\":16,\"address\":\"U\",\"famsize\":\"LE3\",\"Pstatus\":\"T\",\"Medu\":1,\"Fedu\":1,\"Mjob\":\"other\",\"Fjob\":\"other\",\"reason\":\"home\",\"guardian\":\"mother\",\"traveltime\":2,\"studytime\":2,\"failures\":0,\"schoolsup\":\"no\",\"famsup\":\"yes\",\"paid\":\"yes\",\"activities\":\"no\",\"nursery\":\"yes\",\"higher\":\"yes\",\"internet\":\"yes\",\"romantic\":\"no\",\"famrel\":3,\"freetime\":4,\"goout\":2,\"Dalc\":1,\"Walc\":1,\"health\":5,\"absences\":18,\"G3\":6},{\"school\":\"GP\",\"sex\":\"M\",\"age\":16,\"address\":\"U\",\"famsize\":\"GT3\",\"Pstatus\":\"T\",\"Medu\":3,\"Fedu\":2,\"Mjob\":\"at_home\",\"Fjob\":\"other\",\"reason\":\"reputation\",\"guardian\":\"mother\",\"traveltime\":2,\"studytime\":3,\"failures\":0,\"schoolsup\":\"no\",\"famsup\":\"no\",\"paid\":\"no\",\"activities\":\"yes\",\"nursery\":\"yes\",\"higher\":\"yes\",\"internet\":\"yes\",\"romantic\":\"yes\",\"famrel\":5,\"freetime\":3,\"goout\":3,\"Dalc\":1,\"Walc\":3,\"health\":2,\"absences\":10,\"G3\":10},{\"school\":\"GP\",\"sex\":\"M\",\"age\":17,\"address\":\"U\",\"famsize\":\"LE3\",\"Pstatus\":\"T\",\"Medu\":2,\"Fedu\":2,\"Mjob\":\"other\",\"Fjob\":\"other\",\"reason\":\"home\",\"guardian\":\"father\",\"traveltime\":1,\"studytime\":2,\"failures\":0,\"schoolsup\":\"no\",\"famsup\":\"no\",\"paid\":\"yes\",\"activities\":\"yes\",\"nursery\":\"no\",\"higher\":\"yes\",\"internet\":\"yes\",\"romantic\":\"yes\",\"famrel\":4,\"freetime\":4,\"goout\":2,\"Dalc\":5,\"Walc\":5,\"health\":4,\"absences\":4,\"G3\":13},{\"school\":\"GP\",\"sex\":\"F\",\"age\":16,\"address\":\"U\",\"famsize\":\"GT3\",\"Pstatus\":\"T\",\"Medu\":2,\"Fedu\":1,\"Mjob\":\"other\",\"Fjob\":\"other\",\"reason\":\"home\",\"guardian\":\"mother\",\"traveltime\":1,\"studytime\":1,\"failures\":0,\"schoolsup\":\"no\",\"famsup\":\"no\",\"paid\":\"no\",\"activities\":\"no\",\"nursery\":\"yes\",\"higher\":\"yes\",\"internet\":\"yes\",\"romantic\":\"yes\",\"famrel\":4,\"freetime\":5,\"goout\":2,\"Dalc\":1,\"Walc\":1,\"health\":5,\"absences\":20,\"G3\":12},{\"school\":\"GP\",\"sex\":\"F\",\"age\":17,\"address\":\"R\",\"famsize\":\"GT3\",\"Pstatus\":\"T\",\"Medu\":2,\"Fedu\":1,\"Mjob\":\"at_home\",\"Fjob\":\"services\",\"reason\":\"course\",\"guardian\":\"mother\",\"traveltime\":3,\"studytime\":2,\"failures\":0,\"schoolsup\":\"no\",\"famsup\":\"no\",\"paid\":\"no\",\"activities\":\"yes\",\"nursery\":\"yes\",\"higher\":\"yes\",\"internet\":\"no\",\"romantic\":\"no\",\"famrel\":2,\"freetime\":1,\"goout\":1,\"Dalc\":1,\"Walc\":1,\"health\":3,\"absences\":2,\"G3\":11},{\"school\":\"GP\",\"sex\":\"M\",\"age\":18,\"address\":\"U\",\"famsize\":\"GT3\",\"Pstatus\":\"T\",\"Medu\":2,\"Fedu\":2,\"Mjob\":\"other\",\"Fjob\":\"services\",\"reason\":\"reputation\",\"guardian\":\"father\",\"traveltime\":1,\"studytime\":2,\"failures\":1,\"schoolsup\":\"no\",\"famsup\":\"no\",\"paid\":\"no\",\"activities\":\"no\",\"nursery\":\"yes\",\"higher\":\"no\",\"internet\":\"yes\",\"romantic\":\"no\",\"famrel\":5,\"freetime\":5,\"goout\":4,\"Dalc\":3,\"Walc\":5,\"health\":2,\"absences\":0,\"G3\":0},{\"school\":\"GP\",\"sex\":\"M\",\"age\":17,\"address\":\"U\",\"famsize\":\"LE3\",\"Pstatus\":\"T\",\"Medu\":4,\"Fedu\":3,\"Mjob\":\"health\",\"Fjob\":\"other\",\"reason\":\"course\",\"guardian\":\"mother\",\"traveltime\":2,\"studytime\":2,\"failures\":0,\"schoolsup\":\"no\",\"famsup\":\"no\",\"paid\":\"no\",\"activities\":\"yes\",\"nursery\":\"yes\",\"higher\":\"yes\",\"internet\":\"yes\",\"romantic\":\"yes\",\"famrel\":2,\"freetime\":5,\"goout\":5,\"Dalc\":1,\"Walc\":4,\"health\":5,\"absences\":14,\"G3\":12},{\"school\":\"GP\",\"sex\":\"M\",\"age\":17,\"address\":\"R\",\"famsize\":\"LE3\",\"Pstatus\":\"A\",\"Medu\":4,\"Fedu\":4,\"Mjob\":\"teacher\",\"Fjob\":\"other\",\"reason\":\"course\",\"guardian\":\"mother\",\"traveltime\":2,\"studytime\":2,\"failures\":0,\"schoolsup\":\"no\",\"famsup\":\"yes\",\"paid\":\"yes\",\"activities\":\"no\",\"nursery\":\"yes\",\"higher\":\"yes\",\"internet\":\"yes\",\"romantic\":\"no\",\"famrel\":3,\"freetime\":3,\"goout\":3,\"Dalc\":2,\"Walc\":3,\"health\":4,\"absences\":2,\"G3\":12},{\"school\":\"GP\",\"sex\":\"M\",\"age\":16,\"address\":\"U\",\"famsize\":\"LE3\",\"Pstatus\":\"T\",\"Medu\":4,\"Fedu\":3,\"Mjob\":\"teacher\",\"Fjob\":\"other\",\"reason\":\"course\",\"guardian\":\"mother\",\"traveltime\":1,\"studytime\":1,\"failures\":0,\"schoolsup\":\"no\",\"famsup\":\"no\",\"paid\":\"no\",\"activities\":\"yes\",\"nursery\":\"no\",\"higher\":\"yes\",\"internet\":\"yes\",\"romantic\":\"no\",\"famrel\":5,\"freetime\":4,\"goout\":5,\"Dalc\":1,\"Walc\":1,\"health\":3,\"absences\":0,\"G3\":0},{\"school\":\"GP\",\"sex\":\"M\",\"age\":16,\"address\":\"U\",\"famsize\":\"GT3\",\"Pstatus\":\"T\",\"Medu\":4,\"Fedu\":4,\"Mjob\":\"services\",\"Fjob\":\"services\",\"reason\":\"course\",\"guardian\":\"mother\",\"traveltime\":1,\"studytime\":1,\"failures\":0,\"schoolsup\":\"no\",\"famsup\":\"no\",\"paid\":\"no\",\"activities\":\"yes\",\"nursery\":\"yes\",\"higher\":\"yes\",\"internet\":\"yes\",\"romantic\":\"no\",\"famrel\":5,\"freetime\":3,\"goout\":2,\"Dalc\":1,\"Walc\":2,\"health\":5,\"absences\":0,\"G3\":12},{\"school\":\"GP\",\"sex\":\"F\",\"age\":18,\"address\":\"U\",\"famsize\":\"GT3\",\"Pstatus\":\"T\",\"Medu\":2,\"Fedu\":1,\"Mjob\":\"other\",\"Fjob\":\"other\",\"reason\":\"course\",\"guardian\":\"other\",\"traveltime\":2,\"studytime\":3,\"failures\":0,\"schoolsup\":\"no\",\"famsup\":\"yes\",\"paid\":\"yes\",\"activities\":\"no\",\"nursery\":\"no\",\"higher\":\"yes\",\"internet\":\"yes\",\"romantic\":\"yes\",\"famrel\":4,\"freetime\":4,\"goout\":4,\"Dalc\":1,\"Walc\":1,\"health\":3,\"absences\":0,\"G3\":0},{\"school\":\"GP\",\"sex\":\"M\",\"age\":16,\"address\":\"U\",\"famsize\":\"GT3\",\"Pstatus\":\"T\",\"Medu\":2,\"Fedu\":1,\"Mjob\":\"other\",\"Fjob\":\"other\",\"reason\":\"course\",\"guardian\":\"mother\",\"traveltime\":3,\"studytime\":1,\"failures\":0,\"schoolsup\":\"no\",\"famsup\":\"no\",\"paid\":\"no\",\"activities\":\"no\",\"nursery\":\"yes\",\"higher\":\"yes\",\"internet\":\"yes\",\"romantic\":\"no\",\"famrel\":4,\"freetime\":3,\"goout\":3,\"Dalc\":1,\"Walc\":1,\"health\":4,\"absences\":6,\"G3\":18},{\"school\":\"GP\",\"sex\":\"M\",\"age\":17,\"address\":\"U\",\"famsize\":\"GT3\",\"Pstatus\":\"T\",\"Medu\":2,\"Fedu\":3,\"Mjob\":\"other\",\"Fjob\":\"other\",\"reason\":\"course\",\"guardian\":\"father\",\"traveltime\":2,\"studytime\":1,\"failures\":0,\"schoolsup\":\"no\",\"famsup\":\"no\",\"paid\":\"no\",\"activities\":\"no\",\"nursery\":\"yes\",\"higher\":\"yes\",\"internet\":\"yes\",\"romantic\":\"no\",\"famrel\":5,\"freetime\":2,\"goout\":2,\"Dalc\":1,\"Walc\":1,\"health\":2,\"absences\":4,\"G3\":13},{\"school\":\"GP\",\"sex\":\"M\",\"age\":22,\"address\":\"U\",\"famsize\":\"GT3\",\"Pstatus\":\"T\",\"Medu\":3,\"Fedu\":1,\"Mjob\":\"services\",\"Fjob\":\"services\",\"reason\":\"other\",\"guardian\":\"mother\",\"traveltime\":1,\"studytime\":1,\"failures\":3,\"schoolsup\":\"no\",\"famsup\":\"no\",\"paid\":\"no\",\"activities\":\"no\",\"nursery\":\"no\",\"higher\":\"no\",\"internet\":\"yes\",\"romantic\":\"yes\",\"famrel\":5,\"freetime\":4,\"goout\":5,\"Dalc\":5,\"Walc\":5,\"health\":1,\"absences\":16,\"G3\":8},{\"school\":\"GP\",\"sex\":\"M\",\"age\":18,\"address\":\"R\",\"famsize\":\"LE3\",\"Pstatus\":\"T\",\"Medu\":3,\"Fedu\":3,\"Mjob\":\"other\",\"Fjob\":\"services\",\"reason\":\"course\",\"guardian\":\"mother\",\"traveltime\":1,\"studytime\":2,\"failures\":1,\"schoolsup\":\"no\",\"famsup\":\"yes\",\"paid\":\"no\",\"activities\":\"no\",\"nursery\":\"yes\",\"higher\":\"yes\",\"internet\":\"yes\",\"romantic\":\"yes\",\"famrel\":4,\"freetime\":3,\"goout\":3,\"Dalc\":1,\"Walc\":3,\"health\":5,\"absences\":8,\"G3\":5},{\"school\":\"GP\",\"sex\":\"M\",\"age\":16,\"address\":\"U\",\"famsize\":\"GT3\",\"Pstatus\":\"T\",\"Medu\":0,\"Fedu\":2,\"Mjob\":\"other\",\"Fjob\":\"other\",\"reason\":\"other\",\"guardian\":\"mother\",\"traveltime\":1,\"studytime\":1,\"failures\":0,\"schoolsup\":\"no\",\"famsup\":\"no\",\"paid\":\"yes\",\"activities\":\"no\",\"nursery\":\"no\",\"higher\":\"yes\",\"internet\":\"yes\",\"romantic\":\"no\",\"famrel\":4,\"freetime\":3,\"goout\":2,\"Dalc\":2,\"Walc\":4,\"health\":5,\"absences\":0,\"G3\":15},{\"school\":\"GP\",\"sex\":\"M\",\"age\":18,\"address\":\"U\",\"famsize\":\"GT3\",\"Pstatus\":\"T\",\"Medu\":3,\"Fedu\":2,\"Mjob\":\"services\",\"Fjob\":\"other\",\"reason\":\"course\",\"guardian\":\"mother\",\"traveltime\":2,\"studytime\":1,\"failures\":1,\"schoolsup\":\"no\",\"famsup\":\"no\",\"paid\":\"no\",\"activities\":\"no\",\"nursery\":\"yes\",\"higher\":\"no\",\"internet\":\"yes\",\"romantic\":\"no\",\"famrel\":4,\"freetime\":4,\"goout\":5,\"Dalc\":2,\"Walc\":4,\"health\":5,\"absences\":0,\"G3\":8},{\"school\":\"GP\",\"sex\":\"M\",\"age\":16,\"address\":\"U\",\"famsize\":\"GT3\",\"Pstatus\":\"T\",\"Medu\":3,\"Fedu\":3,\"Mjob\":\"at_home\",\"Fjob\":\"other\",\"reason\":\"reputation\",\"guardian\":\"other\",\"traveltime\":3,\"studytime\":2,\"failures\":0,\"schoolsup\":\"yes\",\"famsup\":\"yes\",\"paid\":\"no\",\"activities\":\"no\",\"nursery\":\"no\",\"higher\":\"yes\",\"internet\":\"yes\",\"romantic\":\"no\",\"famrel\":5,\"freetime\":3,\"goout\":3,\"Dalc\":1,\"Walc\":3,\"health\":2,\"absences\":6,\"G3\":10},{\"school\":\"GP\",\"sex\":\"M\",\"age\":18,\"address\":\"U\",\"famsize\":\"GT3\",\"Pstatus\":\"T\",\"Medu\":2,\"Fedu\":1,\"Mjob\":\"services\",\"Fjob\":\"services\",\"reason\":\"other\",\"guardian\":\"mother\",\"traveltime\":1,\"studytime\":1,\"failures\":1,\"schoolsup\":\"no\",\"famsup\":\"no\",\"paid\":\"no\",\"activities\":\"no\",\"nursery\":\"no\",\"higher\":\"no\",\"internet\":\"yes\",\"romantic\":\"no\",\"famrel\":3,\"freetime\":2,\"goout\":5,\"Dalc\":2,\"Walc\":5,\"health\":5,\"absences\":4,\"G3\":8},{\"school\":\"GP\",\"sex\":\"M\",\"age\":16,\"address\":\"R\",\"famsize\":\"GT3\",\"Pstatus\":\"T\",\"Medu\":2,\"Fedu\":1,\"Mjob\":\"other\",\"Fjob\":\"other\",\"reason\":\"course\",\"guardian\":\"mother\",\"traveltime\":2,\"studytime\":1,\"failures\":0,\"schoolsup\":\"no\",\"famsup\":\"no\",\"paid\":\"no\",\"activities\":\"yes\",\"nursery\":\"no\",\"higher\":\"yes\",\"internet\":\"no\",\"romantic\":\"no\",\"famrel\":3,\"freetime\":3,\"goout\":2,\"Dalc\":1,\"Walc\":3,\"health\":3,\"absences\":0,\"G3\":8},{\"school\":\"GP\",\"sex\":\"M\",\"age\":17,\"address\":\"R\",\"famsize\":\"GT3\",\"Pstatus\":\"T\",\"Medu\":2,\"Fedu\":1,\"Mjob\":\"other\",\"Fjob\":\"other\",\"reason\":\"course\",\"guardian\":\"mother\",\"traveltime\":1,\"studytime\":1,\"failures\":0,\"schoolsup\":\"no\",\"famsup\":\"no\",\"paid\":\"no\",\"activities\":\"no\",\"nursery\":\"no\",\"higher\":\"yes\",\"internet\":\"yes\",\"romantic\":\"no\",\"famrel\":4,\"freetime\":4,\"goout\":2,\"Dalc\":2,\"Walc\":4,\"health\":5,\"absences\":0,\"G3\":12},{\"school\":\"GP\",\"sex\":\"M\",\"age\":17,\"address\":\"U\",\"famsize\":\"LE3\",\"Pstatus\":\"T\",\"Medu\":1,\"Fedu\":1,\"Mjob\":\"health\",\"Fjob\":\"other\",\"reason\":\"course\",\"guardian\":\"mother\",\"traveltime\":2,\"studytime\":1,\"failures\":1,\"schoolsup\":\"no\",\"famsup\":\"yes\",\"paid\":\"no\",\"activities\":\"yes\",\"nursery\":\"yes\",\"higher\":\"yes\",\"internet\":\"yes\",\"romantic\":\"no\",\"famrel\":4,\"freetime\":4,\"goout\":4,\"Dalc\":1,\"Walc\":2,\"health\":5,\"absences\":2,\"G3\":8},{\"school\":\"GP\",\"sex\":\"F\",\"age\":17,\"address\":\"U\",\"famsize\":\"LE3\",\"Pstatus\":\"T\",\"Medu\":4,\"Fedu\":2,\"Mjob\":\"teacher\",\"Fjob\":\"services\",\"reason\":\"reputation\",\"guardian\":\"mother\",\"traveltime\":1,\"studytime\":4,\"failures\":0,\"schoolsup\":\"no\",\"famsup\":\"yes\",\"paid\":\"yes\",\"activities\":\"yes\",\"nursery\":\"yes\",\"higher\":\"yes\",\"internet\":\"yes\",\"romantic\":\"no\",\"famrel\":4,\"freetime\":2,\"goout\":3,\"Dalc\":1,\"Walc\":1,\"health\":4,\"absences\":6,\"G3\":13},{\"school\":\"GP\",\"sex\":\"M\",\"age\":19,\"address\":\"U\",\"famsize\":\"LE3\",\"Pstatus\":\"A\",\"Medu\":4,\"Fedu\":3,\"Mjob\":\"services\",\"Fjob\":\"at_home\",\"reason\":\"reputation\",\"guardian\":\"mother\",\"traveltime\":1,\"studytime\":2,\"failures\":0,\"schoolsup\":\"no\",\"famsup\":\"yes\",\"paid\":\"no\",\"activities\":\"no\",\"nursery\":\"yes\",\"higher\":\"yes\",\"internet\":\"yes\",\"romantic\":\"no\",\"famrel\":4,\"freetime\":3,\"goout\":1,\"Dalc\":1,\"Walc\":1,\"health\":1,\"absences\":12,\"G3\":11},{\"school\":\"GP\",\"sex\":\"M\",\"age\":18,\"address\":\"U\",\"famsize\":\"GT3\",\"Pstatus\":\"T\",\"Medu\":2,\"Fedu\":1,\"Mjob\":\"other\",\"Fjob\":\"other\",\"reason\":\"home\",\"guardian\":\"mother\",\"traveltime\":1,\"studytime\":2,\"failures\":0,\"schoolsup\":\"no\",\"famsup\":\"no\",\"paid\":\"no\",\"activities\":\"yes\",\"nursery\":\"yes\",\"higher\":\"yes\",\"internet\":\"yes\",\"romantic\":\"no\",\"famrel\":5,\"freetime\":2,\"goout\":4,\"Dalc\":1,\"Walc\":2,\"health\":4,\"absences\":8,\"G3\":14},{\"school\":\"GP\",\"sex\":\"F\",\"age\":17,\"address\":\"U\",\"famsize\":\"LE3\",\"Pstatus\":\"T\",\"Medu\":2,\"Fedu\":2,\"Mjob\":\"services\",\"Fjob\":\"services\",\"reason\":\"course\",\"guardian\":\"father\",\"traveltime\":1,\"studytime\":4,\"failures\":0,\"schoolsup\":\"no\",\"famsup\":\"no\",\"paid\":\"yes\",\"activities\":\"yes\",\"nursery\":\"yes\",\"higher\":\"yes\",\"internet\":\"yes\",\"romantic\":\"yes\",\"famrel\":3,\"freetime\":4,\"goout\":1,\"Dalc\":1,\"Walc\":1,\"health\":2,\"absences\":0,\"G3\":0},{\"school\":\"GP\",\"sex\":\"F\",\"age\":18,\"address\":\"U\",\"famsize\":\"GT3\",\"Pstatus\":\"T\",\"Medu\":4,\"Fedu\":3,\"Mjob\":\"services\",\"Fjob\":\"other\",\"reason\":\"home\",\"guardian\":\"father\",\"traveltime\":1,\"studytime\":2,\"failures\":0,\"schoolsup\":\"no\",\"famsup\":\"yes\",\"paid\":\"yes\",\"activities\":\"no\",\"nursery\":\"yes\",\"higher\":\"yes\",\"internet\":\"yes\",\"romantic\":\"yes\",\"famrel\":3,\"freetime\":1,\"goout\":2,\"Dalc\":1,\"Walc\":3,\"health\":2,\"absences\":21,\"G3\":18},{\"school\":\"GP\",\"sex\":\"M\",\"age\":18,\"address\":\"U\",\"famsize\":\"GT3\",\"Pstatus\":\"T\",\"Medu\":4,\"Fedu\":3,\"Mjob\":\"teacher\",\"Fjob\":\"other\",\"reason\":\"course\",\"guardian\":\"mother\",\"traveltime\":1,\"studytime\":2,\"failures\":0,\"schoolsup\":\"no\",\"famsup\":\"yes\",\"paid\":\"yes\",\"activities\":\"no\",\"nursery\":\"no\",\"higher\":\"yes\",\"internet\":\"yes\",\"romantic\":\"no\",\"famrel\":4,\"freetime\":3,\"goout\":2,\"Dalc\":1,\"Walc\":1,\"health\":3,\"absences\":2,\"G3\":8},{\"school\":\"GP\",\"sex\":\"M\",\"age\":18,\"address\":\"R\",\"famsize\":\"GT3\",\"Pstatus\":\"T\",\"Medu\":3,\"Fedu\":2,\"Mjob\":\"other\",\"Fjob\":\"other\",\"reason\":\"course\",\"guardian\":\"mother\",\"traveltime\":1,\"studytime\":3,\"failures\":0,\"schoolsup\":\"no\",\"famsup\":\"no\",\"paid\":\"no\",\"activities\":\"yes\",\"nursery\":\"no\",\"higher\":\"yes\",\"internet\":\"no\",\"romantic\":\"no\",\"famrel\":5,\"freetime\":3,\"goout\":2,\"Dalc\":1,\"Walc\":1,\"health\":3,\"absences\":1,\"G3\":12},{\"school\":\"GP\",\"sex\":\"F\",\"age\":17,\"address\":\"U\",\"famsize\":\"GT3\",\"Pstatus\":\"T\",\"Medu\":3,\"Fedu\":3,\"Mjob\":\"other\",\"Fjob\":\"other\",\"reason\":\"home\",\"guardian\":\"mother\",\"traveltime\":1,\"studytime\":3,\"failures\":0,\"schoolsup\":\"no\",\"famsup\":\"no\",\"paid\":\"no\",\"activities\":\"yes\",\"nursery\":\"no\",\"higher\":\"yes\",\"internet\":\"no\",\"romantic\":\"no\",\"famrel\":3,\"freetime\":2,\"goout\":3,\"Dalc\":1,\"Walc\":1,\"health\":4,\"absences\":4,\"G3\":9},{\"school\":\"GP\",\"sex\":\"F\",\"age\":18,\"address\":\"U\",\"famsize\":\"GT3\",\"Pstatus\":\"T\",\"Medu\":2,\"Fedu\":2,\"Mjob\":\"at_home\",\"Fjob\":\"services\",\"reason\":\"home\",\"guardian\":\"mother\",\"traveltime\":1,\"studytime\":3,\"failures\":0,\"schoolsup\":\"no\",\"famsup\":\"yes\",\"paid\":\"yes\",\"activities\":\"yes\",\"nursery\":\"yes\",\"higher\":\"yes\",\"internet\":\"yes\",\"romantic\":\"yes\",\"famrel\":4,\"freetime\":3,\"goout\":3,\"Dalc\":1,\"Walc\":1,\"health\":3,\"absences\":0,\"G3\":0},{\"school\":\"GP\",\"sex\":\"M\",\"age\":18,\"address\":\"R\",\"famsize\":\"LE3\",\"Pstatus\":\"A\",\"Medu\":3,\"Fedu\":4,\"Mjob\":\"other\",\"Fjob\":\"other\",\"reason\":\"reputation\",\"guardian\":\"mother\",\"traveltime\":2,\"studytime\":2,\"failures\":0,\"schoolsup\":\"no\",\"famsup\":\"yes\",\"paid\":\"yes\",\"activities\":\"yes\",\"nursery\":\"yes\",\"higher\":\"yes\",\"internet\":\"yes\",\"romantic\":\"no\",\"famrel\":4,\"freetime\":2,\"goout\":5,\"Dalc\":3,\"Walc\":4,\"health\":1,\"absences\":13,\"G3\":17},{\"school\":\"GP\",\"sex\":\"M\",\"age\":17,\"address\":\"U\",\"famsize\":\"GT3\",\"Pstatus\":\"T\",\"Medu\":3,\"Fedu\":1,\"Mjob\":\"services\",\"Fjob\":\"other\",\"reason\":\"other\",\"guardian\":\"mother\",\"traveltime\":1,\"studytime\":2,\"failures\":0,\"schoolsup\":\"no\",\"famsup\":\"no\",\"paid\":\"yes\",\"activities\":\"yes\",\"nursery\":\"yes\",\"higher\":\"yes\",\"internet\":\"yes\",\"romantic\":\"yes\",\"famrel\":5,\"freetime\":4,\"goout\":4,\"Dalc\":3,\"Walc\":4,\"health\":5,\"absences\":2,\"G3\":10},{\"school\":\"GP\",\"sex\":\"F\",\"age\":18,\"address\":\"R\",\"famsize\":\"GT3\",\"Pstatus\":\"T\",\"Medu\":4,\"Fedu\":4,\"Mjob\":\"teacher\",\"Fjob\":\"other\",\"reason\":\"reputation\",\"guardian\":\"mother\",\"traveltime\":2,\"studytime\":2,\"failures\":0,\"schoolsup\":\"no\",\"famsup\":\"no\",\"paid\":\"yes\",\"activities\":\"yes\",\"nursery\":\"yes\",\"higher\":\"yes\",\"internet\":\"yes\",\"romantic\":\"no\",\"famrel\":4,\"freetime\":3,\"goout\":4,\"Dalc\":2,\"Walc\":2,\"health\":4,\"absences\":8,\"G3\":11},{\"school\":\"GP\",\"sex\":\"M\",\"age\":18,\"address\":\"U\",\"famsize\":\"GT3\",\"Pstatus\":\"T\",\"Medu\":4,\"Fedu\":2,\"Mjob\":\"health\",\"Fjob\":\"other\",\"reason\":\"reputation\",\"guardian\":\"father\",\"traveltime\":1,\"studytime\":2,\"failures\":0,\"schoolsup\":\"no\",\"famsup\":\"yes\",\"paid\":\"yes\",\"activities\":\"yes\",\"nursery\":\"yes\",\"higher\":\"yes\",\"internet\":\"yes\",\"romantic\":\"yes\",\"famrel\":5,\"freetime\":4,\"goout\":5,\"Dalc\":1,\"Walc\":3,\"health\":5,\"absences\":10,\"G3\":10},{\"school\":\"GP\",\"sex\":\"F\",\"age\":18,\"address\":\"R\",\"famsize\":\"GT3\",\"Pstatus\":\"T\",\"Medu\":2,\"Fedu\":1,\"Mjob\":\"other\",\"Fjob\":\"other\",\"reason\":\"reputation\",\"guardian\":\"mother\",\"traveltime\":2,\"studytime\":2,\"failures\":0,\"schoolsup\":\"no\",\"famsup\":\"yes\",\"paid\":\"no\",\"activities\":\"no\",\"nursery\":\"yes\",\"higher\":\"no\",\"internet\":\"yes\",\"romantic\":\"yes\",\"famrel\":4,\"freetime\":3,\"goout\":5,\"Dalc\":1,\"Walc\":2,\"health\":3,\"absences\":0,\"G3\":0},{\"school\":\"GP\",\"sex\":\"F\",\"age\":19,\"address\":\"U\",\"famsize\":\"GT3\",\"Pstatus\":\"T\",\"Medu\":3,\"Fedu\":3,\"Mjob\":\"other\",\"Fjob\":\"services\",\"reason\":\"home\",\"guardian\":\"other\",\"traveltime\":1,\"studytime\":2,\"failures\":2,\"schoolsup\":\"no\",\"famsup\":\"yes\",\"paid\":\"yes\",\"activities\":\"yes\",\"nursery\":\"yes\",\"higher\":\"yes\",\"internet\":\"yes\",\"romantic\":\"no\",\"famrel\":4,\"freetime\":3,\"goout\":5,\"Dalc\":3,\"Walc\":3,\"health\":5,\"absences\":15,\"G3\":9},{\"school\":\"GP\",\"sex\":\"F\",\"age\":18,\"address\":\"U\",\"famsize\":\"GT3\",\"Pstatus\":\"T\",\"Medu\":2,\"Fedu\":3,\"Mjob\":\"other\",\"Fjob\":\"services\",\"reason\":\"reputation\",\"guardian\":\"father\",\"traveltime\":1,\"studytime\":4,\"failures\":0,\"schoolsup\":\"no\",\"famsup\":\"yes\",\"paid\":\"yes\",\"activities\":\"yes\",\"nursery\":\"yes\",\"higher\":\"yes\",\"internet\":\"yes\",\"romantic\":\"yes\",\"famrel\":4,\"freetime\":5,\"goout\":5,\"Dalc\":1,\"Walc\":3,\"health\":2,\"absences\":4,\"G3\":14},{\"school\":\"GP\",\"sex\":\"F\",\"age\":18,\"address\":\"U\",\"famsize\":\"LE3\",\"Pstatus\":\"T\",\"Medu\":1,\"Fedu\":1,\"Mjob\":\"other\",\"Fjob\":\"other\",\"reason\":\"home\",\"guardian\":\"mother\",\"traveltime\":2,\"studytime\":2,\"failures\":0,\"schoolsup\":\"no\",\"famsup\":\"yes\",\"paid\":\"yes\",\"activities\":\"no\",\"nursery\":\"no\",\"higher\":\"yes\",\"internet\":\"no\",\"romantic\":\"no\",\"famrel\":4,\"freetime\":4,\"goout\":3,\"Dalc\":1,\"Walc\":1,\"health\":3,\"absences\":2,\"G3\":11},{\"school\":\"GP\",\"sex\":\"M\",\"age\":17,\"address\":\"R\",\"famsize\":\"GT3\",\"Pstatus\":\"T\",\"Medu\":1,\"Fedu\":2,\"Mjob\":\"at_home\",\"Fjob\":\"at_home\",\"reason\":\"home\",\"guardian\":\"mother\",\"traveltime\":1,\"studytime\":2,\"failures\":0,\"schoolsup\":\"no\",\"famsup\":\"yes\",\"paid\":\"yes\",\"activities\":\"yes\",\"nursery\":\"no\",\"higher\":\"yes\",\"internet\":\"no\",\"romantic\":\"yes\",\"famrel\":3,\"freetime\":5,\"goout\":2,\"Dalc\":2,\"Walc\":2,\"health\":1,\"absences\":2,\"G3\":14},{\"school\":\"GP\",\"sex\":\"F\",\"age\":17,\"address\":\"U\",\"famsize\":\"GT3\",\"Pstatus\":\"T\",\"Medu\":2,\"Fedu\":4,\"Mjob\":\"at_home\",\"Fjob\":\"health\",\"reason\":\"reputation\",\"guardian\":\"mother\",\"traveltime\":2,\"studytime\":2,\"failures\":0,\"schoolsup\":\"no\",\"famsup\":\"yes\",\"paid\":\"yes\",\"activities\":\"no\",\"nursery\":\"yes\",\"higher\":\"yes\",\"internet\":\"yes\",\"romantic\":\"yes\",\"famrel\":4,\"freetime\":3,\"goout\":3,\"Dalc\":1,\"Walc\":1,\"health\":1,\"absences\":2,\"G3\":10},{\"school\":\"GP\",\"sex\":\"F\",\"age\":17,\"address\":\"U\",\"famsize\":\"LE3\",\"Pstatus\":\"T\",\"Medu\":2,\"Fedu\":2,\"Mjob\":\"services\",\"Fjob\":\"other\",\"reason\":\"course\",\"guardian\":\"mother\",\"traveltime\":2,\"studytime\":2,\"failures\":0,\"schoolsup\":\"yes\",\"famsup\":\"yes\",\"paid\":\"yes\",\"activities\":\"no\",\"nursery\":\"yes\",\"higher\":\"yes\",\"internet\":\"yes\",\"romantic\":\"yes\",\"famrel\":4,\"freetime\":4,\"goout\":4,\"Dalc\":2,\"Walc\":3,\"health\":5,\"absences\":6,\"G3\":12},{\"school\":\"GP\",\"sex\":\"F\",\"age\":18,\"address\":\"R\",\"famsize\":\"GT3\",\"Pstatus\":\"A\",\"Medu\":3,\"Fedu\":2,\"Mjob\":\"other\",\"Fjob\":\"services\",\"reason\":\"home\",\"guardian\":\"mother\",\"traveltime\":2,\"studytime\":2,\"failures\":0,\"schoolsup\":\"no\",\"famsup\":\"no\",\"paid\":\"no\",\"activities\":\"no\",\"nursery\":\"no\",\"higher\":\"no\",\"internet\":\"yes\",\"romantic\":\"yes\",\"famrel\":4,\"freetime\":1,\"goout\":1,\"Dalc\":1,\"Walc\":1,\"health\":5,\"absences\":75,\"G3\":9},{\"school\":\"GP\",\"sex\":\"M\",\"age\":18,\"address\":\"U\",\"famsize\":\"GT3\",\"Pstatus\":\"T\",\"Medu\":4,\"Fedu\":4,\"Mjob\":\"teacher\",\"Fjob\":\"services\",\"reason\":\"home\",\"guardian\":\"mother\",\"traveltime\":2,\"studytime\":1,\"failures\":0,\"schoolsup\":\"no\",\"famsup\":\"no\",\"paid\":\"yes\",\"activities\":\"yes\",\"nursery\":\"yes\",\"higher\":\"yes\",\"internet\":\"yes\",\"romantic\":\"no\",\"famrel\":3,\"freetime\":2,\"goout\":4,\"Dalc\":1,\"Walc\":4,\"health\":3,\"absences\":22,\"G3\":9},{\"school\":\"GP\",\"sex\":\"F\",\"age\":18,\"address\":\"U\",\"famsize\":\"GT3\",\"Pstatus\":\"T\",\"Medu\":4,\"Fedu\":4,\"Mjob\":\"health\",\"Fjob\":\"health\",\"reason\":\"reputation\",\"guardian\":\"father\",\"traveltime\":1,\"studytime\":2,\"failures\":1,\"schoolsup\":\"yes\",\"famsup\":\"yes\",\"paid\":\"no\",\"activities\":\"yes\",\"nursery\":\"yes\",\"higher\":\"yes\",\"internet\":\"yes\",\"romantic\":\"yes\",\"famrel\":2,\"freetime\":4,\"goout\":4,\"Dalc\":1,\"Walc\":1,\"health\":4,\"absences\":15,\"G3\":8},{\"school\":\"GP\",\"sex\":\"M\",\"age\":18,\"address\":\"U\",\"famsize\":\"LE3\",\"Pstatus\":\"T\",\"Medu\":4,\"Fedu\":3,\"Mjob\":\"teacher\",\"Fjob\":\"services\",\"reason\":\"course\",\"guardian\":\"mother\",\"traveltime\":2,\"studytime\":1,\"failures\":0,\"schoolsup\":\"no\",\"famsup\":\"no\",\"paid\":\"yes\",\"activities\":\"yes\",\"nursery\":\"yes\",\"higher\":\"yes\",\"internet\":\"yes\",\"romantic\":\"no\",\"famrel\":4,\"freetime\":2,\"goout\":3,\"Dalc\":1,\"Walc\":2,\"health\":1,\"absences\":8,\"G3\":10},{\"school\":\"GP\",\"sex\":\"M\",\"age\":17,\"address\":\"U\",\"famsize\":\"LE3\",\"Pstatus\":\"A\",\"Medu\":4,\"Fedu\":1,\"Mjob\":\"services\",\"Fjob\":\"other\",\"reason\":\"home\",\"guardian\":\"mother\",\"traveltime\":2,\"studytime\":1,\"failures\":0,\"schoolsup\":\"no\",\"famsup\":\"no\",\"paid\":\"yes\",\"activities\":\"yes\",\"nursery\":\"yes\",\"higher\":\"yes\",\"internet\":\"yes\",\"romantic\":\"yes\",\"famrel\":4,\"freetime\":5,\"goout\":4,\"Dalc\":2,\"Walc\":4,\"health\":5,\"absences\":30,\"G3\":8},{\"school\":\"GP\",\"sex\":\"M\",\"age\":17,\"address\":\"U\",\"famsize\":\"LE3\",\"Pstatus\":\"A\",\"Medu\":3,\"Fedu\":2,\"Mjob\":\"teacher\",\"Fjob\":\"services\",\"reason\":\"home\",\"guardian\":\"mother\",\"traveltime\":1,\"studytime\":1,\"failures\":1,\"schoolsup\":\"no\",\"famsup\":\"no\",\"paid\":\"no\",\"activities\":\"no\",\"nursery\":\"yes\",\"higher\":\"yes\",\"internet\":\"yes\",\"romantic\":\"no\",\"famrel\":4,\"freetime\":4,\"goout\":4,\"Dalc\":3,\"Walc\":4,\"health\":3,\"absences\":19,\"G3\":10},{\"school\":\"GP\",\"sex\":\"F\",\"age\":18,\"address\":\"R\",\"famsize\":\"LE3\",\"Pstatus\":\"T\",\"Medu\":1,\"Fedu\":1,\"Mjob\":\"at_home\",\"Fjob\":\"other\",\"reason\":\"reputation\",\"guardian\":\"mother\",\"traveltime\":2,\"studytime\":4,\"failures\":0,\"schoolsup\":\"no\",\"famsup\":\"yes\",\"paid\":\"yes\",\"activities\":\"yes\",\"nursery\":\"yes\",\"higher\":\"yes\",\"internet\":\"no\",\"romantic\":\"no\",\"famrel\":5,\"freetime\":2,\"goout\":2,\"Dalc\":1,\"Walc\":1,\"health\":3,\"absences\":1,\"G3\":12},{\"school\":\"GP\",\"sex\":\"F\",\"age\":18,\"address\":\"U\",\"famsize\":\"GT3\",\"Pstatus\":\"T\",\"Medu\":1,\"Fedu\":1,\"Mjob\":\"other\",\"Fjob\":\"other\",\"reason\":\"home\",\"guardian\":\"mother\",\"traveltime\":2,\"studytime\":2,\"failures\":0,\"schoolsup\":\"yes\",\"famsup\":\"no\",\"paid\":\"no\",\"activities\":\"yes\",\"nursery\":\"yes\",\"higher\":\"yes\",\"internet\":\"yes\",\"romantic\":\"no\",\"famrel\":5,\"freetime\":4,\"goout\":4,\"Dalc\":1,\"Walc\":1,\"health\":4,\"absences\":4,\"G3\":10},{\"school\":\"GP\",\"sex\":\"F\",\"age\":17,\"address\":\"U\",\"famsize\":\"GT3\",\"Pstatus\":\"T\",\"Medu\":2,\"Fedu\":2,\"Mjob\":\"other\",\"Fjob\":\"other\",\"reason\":\"course\",\"guardian\":\"mother\",\"traveltime\":1,\"studytime\":2,\"failures\":0,\"schoolsup\":\"no\",\"famsup\":\"yes\",\"paid\":\"no\",\"activities\":\"no\",\"nursery\":\"no\",\"higher\":\"yes\",\"internet\":\"yes\",\"romantic\":\"no\",\"famrel\":5,\"freetime\":4,\"goout\":5,\"Dalc\":1,\"Walc\":2,\"health\":5,\"absences\":4,\"G3\":11},{\"school\":\"GP\",\"sex\":\"M\",\"age\":17,\"address\":\"U\",\"famsize\":\"GT3\",\"Pstatus\":\"T\",\"Medu\":1,\"Fedu\":1,\"Mjob\":\"other\",\"Fjob\":\"other\",\"reason\":\"reputation\",\"guardian\":\"father\",\"traveltime\":1,\"studytime\":2,\"failures\":0,\"schoolsup\":\"no\",\"famsup\":\"no\",\"paid\":\"yes\",\"activities\":\"no\",\"nursery\":\"no\",\"higher\":\"yes\",\"internet\":\"yes\",\"romantic\":\"no\",\"famrel\":4,\"freetime\":3,\"goout\":3,\"Dalc\":1,\"Walc\":2,\"health\":4,\"absences\":2,\"G3\":11},{\"school\":\"GP\",\"sex\":\"F\",\"age\":18,\"address\":\"U\",\"famsize\":\"GT3\",\"Pstatus\":\"T\",\"Medu\":2,\"Fedu\":2,\"Mjob\":\"at_home\",\"Fjob\":\"at_home\",\"reason\":\"other\",\"guardian\":\"mother\",\"traveltime\":1,\"studytime\":3,\"failures\":0,\"schoolsup\":\"no\",\"famsup\":\"yes\",\"paid\":\"yes\",\"activities\":\"no\",\"nursery\":\"yes\",\"higher\":\"yes\",\"internet\":\"yes\",\"romantic\":\"no\",\"famrel\":4,\"freetime\":3,\"goout\":3,\"Dalc\":1,\"Walc\":2,\"health\":2,\"absences\":5,\"G3\":19},{\"school\":\"GP\",\"sex\":\"F\",\"age\":17,\"address\":\"U\",\"famsize\":\"GT3\",\"Pstatus\":\"T\",\"Medu\":1,\"Fedu\":1,\"Mjob\":\"services\",\"Fjob\":\"teacher\",\"reason\":\"reputation\",\"guardian\":\"mother\",\"traveltime\":1,\"studytime\":3,\"failures\":0,\"schoolsup\":\"no\",\"famsup\":\"yes\",\"paid\":\"yes\",\"activities\":\"no\",\"nursery\":\"yes\",\"higher\":\"yes\",\"internet\":\"yes\",\"romantic\":\"no\",\"famrel\":4,\"freetime\":3,\"goout\":3,\"Dalc\":1,\"Walc\":1,\"health\":3,\"absences\":6,\"G3\":12},{\"school\":\"GP\",\"sex\":\"M\",\"age\":18,\"address\":\"U\",\"famsize\":\"GT3\",\"Pstatus\":\"T\",\"Medu\":2,\"Fedu\":1,\"Mjob\":\"services\",\"Fjob\":\"services\",\"reason\":\"reputation\",\"guardian\":\"mother\",\"traveltime\":1,\"studytime\":3,\"failures\":0,\"schoolsup\":\"no\",\"famsup\":\"no\",\"paid\":\"yes\",\"activities\":\"yes\",\"nursery\":\"yes\",\"higher\":\"yes\",\"internet\":\"yes\",\"romantic\":\"no\",\"famrel\":4,\"freetime\":2,\"goout\":4,\"Dalc\":1,\"Walc\":3,\"health\":2,\"absences\":6,\"G3\":14},{\"school\":\"GP\",\"sex\":\"M\",\"age\":18,\"address\":\"U\",\"famsize\":\"LE3\",\"Pstatus\":\"A\",\"Medu\":4,\"Fedu\":4,\"Mjob\":\"teacher\",\"Fjob\":\"teacher\",\"reason\":\"reputation\",\"guardian\":\"mother\",\"traveltime\":1,\"studytime\":2,\"failures\":0,\"schoolsup\":\"no\",\"famsup\":\"yes\",\"paid\":\"yes\",\"activities\":\"yes\",\"nursery\":\"yes\",\"higher\":\"yes\",\"internet\":\"yes\",\"romantic\":\"no\",\"famrel\":5,\"freetime\":4,\"goout\":3,\"Dalc\":1,\"Walc\":1,\"health\":2,\"absences\":9,\"G3\":15},{\"school\":\"GP\",\"sex\":\"M\",\"age\":18,\"address\":\"U\",\"famsize\":\"GT3\",\"Pstatus\":\"T\",\"Medu\":4,\"Fedu\":2,\"Mjob\":\"teacher\",\"Fjob\":\"other\",\"reason\":\"home\",\"guardian\":\"mother\",\"traveltime\":1,\"studytime\":2,\"failures\":0,\"schoolsup\":\"no\",\"famsup\":\"yes\",\"paid\":\"yes\",\"activities\":\"yes\",\"nursery\":\"yes\",\"higher\":\"yes\",\"internet\":\"yes\",\"romantic\":\"yes\",\"famrel\":4,\"freetime\":3,\"goout\":2,\"Dalc\":1,\"Walc\":4,\"health\":5,\"absences\":11,\"G3\":11},{\"school\":\"GP\",\"sex\":\"F\",\"age\":17,\"address\":\"U\",\"famsize\":\"GT3\",\"Pstatus\":\"T\",\"Medu\":4,\"Fedu\":3,\"Mjob\":\"health\",\"Fjob\":\"services\",\"reason\":\"reputation\",\"guardian\":\"mother\",\"traveltime\":1,\"studytime\":3,\"failures\":0,\"schoolsup\":\"no\",\"famsup\":\"yes\",\"paid\":\"yes\",\"activities\":\"no\",\"nursery\":\"yes\",\"higher\":\"yes\",\"internet\":\"yes\",\"romantic\":\"no\",\"famrel\":4,\"freetime\":2,\"goout\":2,\"Dalc\":1,\"Walc\":2,\"health\":3,\"absences\":0,\"G3\":15},{\"school\":\"GP\",\"sex\":\"F\",\"age\":18,\"address\":\"U\",\"famsize\":\"LE3\",\"Pstatus\":\"T\",\"Medu\":2,\"Fedu\":1,\"Mjob\":\"services\",\"Fjob\":\"at_home\",\"reason\":\"reputation\",\"guardian\":\"mother\",\"traveltime\":1,\"studytime\":2,\"failures\":1,\"schoolsup\":\"no\",\"famsup\":\"no\",\"paid\":\"no\",\"activities\":\"no\",\"nursery\":\"yes\",\"higher\":\"yes\",\"internet\":\"yes\",\"romantic\":\"yes\",\"famrel\":5,\"freetime\":4,\"goout\":3,\"Dalc\":1,\"Walc\":1,\"health\":5,\"absences\":12,\"G3\":13},{\"school\":\"GP\",\"sex\":\"F\",\"age\":17,\"address\":\"R\",\"famsize\":\"LE3\",\"Pstatus\":\"T\",\"Medu\":3,\"Fedu\":1,\"Mjob\":\"services\",\"Fjob\":\"other\",\"reason\":\"reputation\",\"guardian\":\"mother\",\"traveltime\":2,\"studytime\":4,\"failures\":0,\"schoolsup\":\"no\",\"famsup\":\"yes\",\"paid\":\"yes\",\"activities\":\"no\",\"nursery\":\"yes\",\"higher\":\"yes\",\"internet\":\"no\",\"romantic\":\"no\",\"famrel\":3,\"freetime\":1,\"goout\":2,\"Dalc\":1,\"Walc\":1,\"health\":3,\"absences\":6,\"G3\":18},{\"school\":\"GP\",\"sex\":\"M\",\"age\":18,\"address\":\"R\",\"famsize\":\"LE3\",\"Pstatus\":\"T\",\"Medu\":3,\"Fedu\":2,\"Mjob\":\"services\",\"Fjob\":\"other\",\"reason\":\"reputation\",\"guardian\":\"mother\",\"traveltime\":2,\"studytime\":3,\"failures\":0,\"schoolsup\":\"no\",\"famsup\":\"yes\",\"paid\":\"yes\",\"activities\":\"yes\",\"nursery\":\"yes\",\"higher\":\"yes\",\"internet\":\"yes\",\"romantic\":\"no\",\"famrel\":5,\"freetime\":4,\"goout\":2,\"Dalc\":1,\"Walc\":1,\"health\":4,\"absences\":8,\"G3\":14},{\"school\":\"GP\",\"sex\":\"M\",\"age\":17,\"address\":\"U\",\"famsize\":\"GT3\",\"Pstatus\":\"T\",\"Medu\":3,\"Fedu\":3,\"Mjob\":\"health\",\"Fjob\":\"other\",\"reason\":\"home\",\"guardian\":\"mother\",\"traveltime\":1,\"studytime\":1,\"failures\":0,\"schoolsup\":\"no\",\"famsup\":\"yes\",\"paid\":\"yes\",\"activities\":\"no\",\"nursery\":\"yes\",\"higher\":\"yes\",\"internet\":\"yes\",\"romantic\":\"no\",\"famrel\":4,\"freetime\":4,\"goout\":3,\"Dalc\":1,\"Walc\":3,\"health\":5,\"absences\":4,\"G3\":11},{\"school\":\"GP\",\"sex\":\"F\",\"age\":19,\"address\":\"U\",\"famsize\":\"GT3\",\"Pstatus\":\"T\",\"Medu\":4,\"Fedu\":4,\"Mjob\":\"health\",\"Fjob\":\"other\",\"reason\":\"reputation\",\"guardian\":\"other\",\"traveltime\":2,\"studytime\":2,\"failures\":0,\"schoolsup\":\"no\",\"famsup\":\"yes\",\"paid\":\"yes\",\"activities\":\"yes\",\"nursery\":\"yes\",\"higher\":\"yes\",\"internet\":\"yes\",\"romantic\":\"no\",\"famrel\":2,\"freetime\":3,\"goout\":4,\"Dalc\":2,\"Walc\":3,\"health\":2,\"absences\":0,\"G3\":0},{\"school\":\"GP\",\"sex\":\"F\",\"age\":18,\"address\":\"U\",\"famsize\":\"LE3\",\"Pstatus\":\"T\",\"Medu\":4,\"Fedu\":3,\"Mjob\":\"other\",\"Fjob\":\"other\",\"reason\":\"home\",\"guardian\":\"other\",\"traveltime\":2,\"studytime\":2,\"failures\":0,\"schoolsup\":\"no\",\"famsup\":\"yes\",\"paid\":\"yes\",\"activities\":\"no\",\"nursery\":\"yes\",\"higher\":\"yes\",\"internet\":\"yes\",\"romantic\":\"yes\",\"famrel\":4,\"freetime\":4,\"goout\":5,\"Dalc\":1,\"Walc\":2,\"health\":2,\"absences\":10,\"G3\":8},{\"school\":\"GP\",\"sex\":\"F\",\"age\":18,\"address\":\"U\",\"famsize\":\"GT3\",\"Pstatus\":\"T\",\"Medu\":4,\"Fedu\":3,\"Mjob\":\"other\",\"Fjob\":\"other\",\"reason\":\"reputation\",\"guardian\":\"father\",\"traveltime\":1,\"studytime\":4,\"failures\":0,\"schoolsup\":\"no\",\"famsup\":\"yes\",\"paid\":\"yes\",\"activities\":\"no\",\"nursery\":\"yes\",\"higher\":\"yes\",\"internet\":\"yes\",\"romantic\":\"no\",\"famrel\":4,\"freetime\":3,\"goout\":3,\"Dalc\":1,\"Walc\":1,\"health\":3,\"absences\":0,\"G3\":14},{\"school\":\"GP\",\"sex\":\"M\",\"age\":18,\"address\":\"U\",\"famsize\":\"LE3\",\"Pstatus\":\"T\",\"Medu\":4,\"Fedu\":4,\"Mjob\":\"teacher\",\"Fjob\":\"teacher\",\"reason\":\"home\",\"guardian\":\"mother\",\"traveltime\":1,\"studytime\":1,\"failures\":0,\"schoolsup\":\"no\",\"famsup\":\"yes\",\"paid\":\"yes\",\"activities\":\"no\",\"nursery\":\"yes\",\"higher\":\"yes\",\"internet\":\"yes\",\"romantic\":\"yes\",\"famrel\":1,\"freetime\":4,\"goout\":2,\"Dalc\":2,\"Walc\":2,\"health\":1,\"absences\":5,\"G3\":16},{\"school\":\"GP\",\"sex\":\"F\",\"age\":18,\"address\":\"U\",\"famsize\":\"LE3\",\"Pstatus\":\"A\",\"Medu\":4,\"Fedu\":4,\"Mjob\":\"health\",\"Fjob\":\"other\",\"reason\":\"home\",\"guardian\":\"mother\",\"traveltime\":1,\"studytime\":2,\"failures\":0,\"schoolsup\":\"no\",\"famsup\":\"yes\",\"paid\":\"no\",\"activities\":\"no\",\"nursery\":\"yes\",\"higher\":\"yes\",\"internet\":\"yes\",\"romantic\":\"yes\",\"famrel\":4,\"freetime\":2,\"goout\":4,\"Dalc\":1,\"Walc\":1,\"health\":4,\"absences\":14,\"G3\":11},{\"school\":\"GP\",\"sex\":\"M\",\"age\":17,\"address\":\"U\",\"famsize\":\"LE3\",\"Pstatus\":\"T\",\"Medu\":4,\"Fedu\":4,\"Mjob\":\"other\",\"Fjob\":\"teacher\",\"reason\":\"home\",\"guardian\":\"father\",\"traveltime\":2,\"studytime\":1,\"failures\":0,\"schoolsup\":\"no\",\"famsup\":\"no\",\"paid\":\"yes\",\"activities\":\"no\",\"nursery\":\"yes\",\"higher\":\"yes\",\"internet\":\"yes\",\"romantic\":\"no\",\"famrel\":4,\"freetime\":1,\"goout\":1,\"Dalc\":2,\"Walc\":2,\"health\":5,\"absences\":0,\"G3\":10},{\"school\":\"GP\",\"sex\":\"F\",\"age\":17,\"address\":\"U\",\"famsize\":\"GT3\",\"Pstatus\":\"T\",\"Medu\":4,\"Fedu\":2,\"Mjob\":\"other\",\"Fjob\":\"other\",\"reason\":\"reputation\",\"guardian\":\"mother\",\"traveltime\":2,\"studytime\":3,\"failures\":0,\"schoolsup\":\"no\",\"famsup\":\"yes\",\"paid\":\"yes\",\"activities\":\"no\",\"nursery\":\"yes\",\"higher\":\"yes\",\"internet\":\"yes\",\"romantic\":\"no\",\"famrel\":4,\"freetime\":3,\"goout\":3,\"Dalc\":1,\"Walc\":1,\"health\":3,\"absences\":0,\"G3\":14},{\"school\":\"GP\",\"sex\":\"F\",\"age\":17,\"address\":\"U\",\"famsize\":\"GT3\",\"Pstatus\":\"T\",\"Medu\":3,\"Fedu\":2,\"Mjob\":\"health\",\"Fjob\":\"health\",\"reason\":\"reputation\",\"guardian\":\"father\",\"traveltime\":1,\"studytime\":4,\"failures\":0,\"schoolsup\":\"no\",\"famsup\":\"yes\",\"paid\":\"yes\",\"activities\":\"yes\",\"nursery\":\"no\",\"higher\":\"yes\",\"internet\":\"yes\",\"romantic\":\"no\",\"famrel\":5,\"freetime\":2,\"goout\":2,\"Dalc\":1,\"Walc\":2,\"health\":5,\"absences\":0,\"G3\":18},{\"school\":\"GP\",\"sex\":\"M\",\"age\":19,\"address\":\"U\",\"famsize\":\"GT3\",\"Pstatus\":\"T\",\"Medu\":3,\"Fedu\":3,\"Mjob\":\"other\",\"Fjob\":\"other\",\"reason\":\"home\",\"guardian\":\"other\",\"traveltime\":1,\"studytime\":2,\"failures\":1,\"schoolsup\":\"no\",\"famsup\":\"yes\",\"paid\":\"no\",\"activities\":\"yes\",\"nursery\":\"yes\",\"higher\":\"yes\",\"internet\":\"yes\",\"romantic\":\"yes\",\"famrel\":4,\"freetime\":4,\"goout\":4,\"Dalc\":1,\"Walc\":1,\"health\":3,\"absences\":20,\"G3\":13},{\"school\":\"GP\",\"sex\":\"F\",\"age\":18,\"address\":\"U\",\"famsize\":\"GT3\",\"Pstatus\":\"T\",\"Medu\":2,\"Fedu\":4,\"Mjob\":\"services\",\"Fjob\":\"at_home\",\"reason\":\"reputation\",\"guardian\":\"other\",\"traveltime\":1,\"studytime\":2,\"failures\":1,\"schoolsup\":\"no\",\"famsup\":\"yes\",\"paid\":\"yes\",\"activities\":\"yes\",\"nursery\":\"yes\",\"higher\":\"yes\",\"internet\":\"yes\",\"romantic\":\"no\",\"famrel\":4,\"freetime\":4,\"goout\":3,\"Dalc\":1,\"Walc\":1,\"health\":3,\"absences\":8,\"G3\":12},{\"school\":\"GP\",\"sex\":\"M\",\"age\":20,\"address\":\"U\",\"famsize\":\"GT3\",\"Pstatus\":\"A\",\"Medu\":3,\"Fedu\":2,\"Mjob\":\"services\",\"Fjob\":\"other\",\"reason\":\"course\",\"guardian\":\"other\",\"traveltime\":1,\"studytime\":1,\"failures\":0,\"schoolsup\":\"no\",\"famsup\":\"no\",\"paid\":\"no\",\"activities\":\"yes\",\"nursery\":\"yes\",\"higher\":\"yes\",\"internet\":\"no\",\"romantic\":\"no\",\"famrel\":5,\"freetime\":5,\"goout\":3,\"Dalc\":1,\"Walc\":1,\"health\":5,\"absences\":0,\"G3\":18},{\"school\":\"GP\",\"sex\":\"M\",\"age\":19,\"address\":\"U\",\"famsize\":\"GT3\",\"Pstatus\":\"T\",\"Medu\":4,\"Fedu\":4,\"Mjob\":\"teacher\",\"Fjob\":\"services\",\"reason\":\"reputation\",\"guardian\":\"other\",\"traveltime\":2,\"studytime\":1,\"failures\":1,\"schoolsup\":\"no\",\"famsup\":\"yes\",\"paid\":\"yes\",\"activities\":\"no\",\"nursery\":\"yes\",\"higher\":\"yes\",\"internet\":\"yes\",\"romantic\":\"yes\",\"famrel\":4,\"freetime\":3,\"goout\":4,\"Dalc\":1,\"Walc\":1,\"health\":4,\"absences\":38,\"G3\":8},{\"school\":\"GP\",\"sex\":\"M\",\"age\":19,\"address\":\"R\",\"famsize\":\"GT3\",\"Pstatus\":\"T\",\"Medu\":3,\"Fedu\":3,\"Mjob\":\"other\",\"Fjob\":\"services\",\"reason\":\"reputation\",\"guardian\":\"father\",\"traveltime\":1,\"studytime\":2,\"failures\":1,\"schoolsup\":\"no\",\"famsup\":\"no\",\"paid\":\"no\",\"activities\":\"yes\",\"nursery\":\"yes\",\"higher\":\"yes\",\"internet\":\"no\",\"romantic\":\"yes\",\"famrel\":4,\"freetime\":5,\"goout\":3,\"Dalc\":1,\"Walc\":2,\"health\":5,\"absences\":0,\"G3\":12},{\"school\":\"GP\",\"sex\":\"F\",\"age\":19,\"address\":\"U\",\"famsize\":\"LE3\",\"Pstatus\":\"T\",\"Medu\":1,\"Fedu\":1,\"Mjob\":\"at_home\",\"Fjob\":\"other\",\"reason\":\"reputation\",\"guardian\":\"other\",\"traveltime\":1,\"studytime\":2,\"failures\":1,\"schoolsup\":\"yes\",\"famsup\":\"yes\",\"paid\":\"no\",\"activities\":\"yes\",\"nursery\":\"no\",\"higher\":\"yes\",\"internet\":\"yes\",\"romantic\":\"no\",\"famrel\":4,\"freetime\":4,\"goout\":3,\"Dalc\":1,\"Walc\":3,\"health\":3,\"absences\":18,\"G3\":10},{\"school\":\"GP\",\"sex\":\"F\",\"age\":19,\"address\":\"U\",\"famsize\":\"LE3\",\"Pstatus\":\"T\",\"Medu\":1,\"Fedu\":2,\"Mjob\":\"services\",\"Fjob\":\"services\",\"reason\":\"home\",\"guardian\":\"other\",\"traveltime\":1,\"studytime\":2,\"failures\":1,\"schoolsup\":\"no\",\"famsup\":\"no\",\"paid\":\"no\",\"activities\":\"yes\",\"nursery\":\"no\",\"higher\":\"yes\",\"internet\":\"no\",\"romantic\":\"yes\",\"famrel\":4,\"freetime\":2,\"goout\":4,\"Dalc\":2,\"Walc\":2,\"health\":3,\"absences\":0,\"G3\":0},{\"school\":\"GP\",\"sex\":\"F\",\"age\":19,\"address\":\"U\",\"famsize\":\"GT3\",\"Pstatus\":\"T\",\"Medu\":2,\"Fedu\":1,\"Mjob\":\"at_home\",\"Fjob\":\"other\",\"reason\":\"other\",\"guardian\":\"other\",\"traveltime\":3,\"studytime\":2,\"failures\":0,\"schoolsup\":\"no\",\"famsup\":\"yes\",\"paid\":\"no\",\"activities\":\"no\",\"nursery\":\"yes\",\"higher\":\"no\",\"internet\":\"yes\",\"romantic\":\"yes\",\"famrel\":3,\"freetime\":4,\"goout\":1,\"Dalc\":1,\"Walc\":1,\"health\":2,\"absences\":20,\"G3\":13},{\"school\":\"GP\",\"sex\":\"M\",\"age\":19,\"address\":\"U\",\"famsize\":\"GT3\",\"Pstatus\":\"T\",\"Medu\":1,\"Fedu\":2,\"Mjob\":\"other\",\"Fjob\":\"services\",\"reason\":\"course\",\"guardian\":\"other\",\"traveltime\":1,\"studytime\":2,\"failures\":1,\"schoolsup\":\"no\",\"famsup\":\"no\",\"paid\":\"no\",\"activities\":\"no\",\"nursery\":\"no\",\"higher\":\"yes\",\"internet\":\"yes\",\"romantic\":\"no\",\"famrel\":4,\"freetime\":5,\"goout\":2,\"Dalc\":2,\"Walc\":2,\"health\":4,\"absences\":3,\"G3\":11},{\"school\":\"GP\",\"sex\":\"F\",\"age\":19,\"address\":\"U\",\"famsize\":\"LE3\",\"Pstatus\":\"T\",\"Medu\":3,\"Fedu\":2,\"Mjob\":\"services\",\"Fjob\":\"other\",\"reason\":\"reputation\",\"guardian\":\"other\",\"traveltime\":2,\"studytime\":2,\"failures\":1,\"schoolsup\":\"no\",\"famsup\":\"yes\",\"paid\":\"yes\",\"activities\":\"no\",\"nursery\":\"no\",\"higher\":\"yes\",\"internet\":\"yes\",\"romantic\":\"yes\",\"famrel\":4,\"freetime\":2,\"goout\":2,\"Dalc\":1,\"Walc\":2,\"health\":1,\"absences\":22,\"G3\":11},{\"school\":\"GP\",\"sex\":\"F\",\"age\":19,\"address\":\"U\",\"famsize\":\"GT3\",\"Pstatus\":\"T\",\"Medu\":1,\"Fedu\":1,\"Mjob\":\"at_home\",\"Fjob\":\"health\",\"reason\":\"home\",\"guardian\":\"other\",\"traveltime\":1,\"studytime\":3,\"failures\":2,\"schoolsup\":\"no\",\"famsup\":\"no\",\"paid\":\"no\",\"activities\":\"no\",\"nursery\":\"no\",\"higher\":\"yes\",\"internet\":\"yes\",\"romantic\":\"yes\",\"famrel\":4,\"freetime\":1,\"goout\":2,\"Dalc\":1,\"Walc\":1,\"health\":3,\"absences\":14,\"G3\":13},{\"school\":\"GP\",\"sex\":\"F\",\"age\":19,\"address\":\"R\",\"famsize\":\"GT3\",\"Pstatus\":\"T\",\"Medu\":2,\"Fedu\":3,\"Mjob\":\"other\",\"Fjob\":\"other\",\"reason\":\"reputation\",\"guardian\":\"other\",\"traveltime\":1,\"studytime\":3,\"failures\":1,\"schoolsup\":\"no\",\"famsup\":\"no\",\"paid\":\"no\",\"activities\":\"no\",\"nursery\":\"yes\",\"higher\":\"yes\",\"internet\":\"yes\",\"romantic\":\"yes\",\"famrel\":4,\"freetime\":1,\"goout\":2,\"Dalc\":1,\"Walc\":1,\"health\":3,\"absences\":40,\"G3\":11},{\"school\":\"GP\",\"sex\":\"F\",\"age\":18,\"address\":\"U\",\"famsize\":\"GT3\",\"Pstatus\":\"T\",\"Medu\":2,\"Fedu\":1,\"Mjob\":\"services\",\"Fjob\":\"other\",\"reason\":\"course\",\"guardian\":\"mother\",\"traveltime\":2,\"studytime\":2,\"failures\":0,\"schoolsup\":\"no\",\"famsup\":\"yes\",\"paid\":\"yes\",\"activities\":\"yes\",\"nursery\":\"yes\",\"higher\":\"yes\",\"internet\":\"yes\",\"romantic\":\"no\",\"famrel\":5,\"freetime\":3,\"goout\":3,\"Dalc\":1,\"Walc\":2,\"health\":1,\"absences\":0,\"G3\":0},{\"school\":\"GP\",\"sex\":\"F\",\"age\":18,\"address\":\"U\",\"famsize\":\"GT3\",\"Pstatus\":\"T\",\"Medu\":4,\"Fedu\":3,\"Mjob\":\"other\",\"Fjob\":\"other\",\"reason\":\"course\",\"guardian\":\"mother\",\"traveltime\":1,\"studytime\":3,\"failures\":0,\"schoolsup\":\"no\",\"famsup\":\"yes\",\"paid\":\"yes\",\"activities\":\"yes\",\"nursery\":\"yes\",\"higher\":\"yes\",\"internet\":\"yes\",\"romantic\":\"yes\",\"famrel\":4,\"freetime\":3,\"goout\":4,\"Dalc\":1,\"Walc\":1,\"health\":5,\"absences\":9,\"G3\":9},{\"school\":\"GP\",\"sex\":\"F\",\"age\":17,\"address\":\"R\",\"famsize\":\"GT3\",\"Pstatus\":\"T\",\"Medu\":3,\"Fedu\":4,\"Mjob\":\"at_home\",\"Fjob\":\"services\",\"reason\":\"course\",\"guardian\":\"father\",\"traveltime\":1,\"studytime\":3,\"failures\":0,\"schoolsup\":\"no\",\"famsup\":\"yes\",\"paid\":\"yes\",\"activities\":\"yes\",\"nursery\":\"no\",\"higher\":\"yes\",\"internet\":\"yes\",\"romantic\":\"no\",\"famrel\":4,\"freetime\":3,\"goout\":4,\"Dalc\":2,\"Walc\":5,\"health\":5,\"absences\":0,\"G3\":10},{\"school\":\"GP\",\"sex\":\"F\",\"age\":18,\"address\":\"U\",\"famsize\":\"GT3\",\"Pstatus\":\"T\",\"Medu\":4,\"Fedu\":4,\"Mjob\":\"teacher\",\"Fjob\":\"other\",\"reason\":\"course\",\"guardian\":\"mother\",\"traveltime\":1,\"studytime\":2,\"failures\":0,\"schoolsup\":\"no\",\"famsup\":\"yes\",\"paid\":\"yes\",\"activities\":\"no\",\"nursery\":\"yes\",\"higher\":\"yes\",\"internet\":\"yes\",\"romantic\":\"no\",\"famrel\":4,\"freetime\":4,\"goout\":4,\"Dalc\":3,\"Walc\":3,\"health\":5,\"absences\":2,\"G3\":11},{\"school\":\"GP\",\"sex\":\"F\",\"age\":17,\"address\":\"U\",\"famsize\":\"GT3\",\"Pstatus\":\"A\",\"Medu\":4,\"Fedu\":3,\"Mjob\":\"services\",\"Fjob\":\"services\",\"reason\":\"course\",\"guardian\":\"mother\",\"traveltime\":1,\"studytime\":2,\"failures\":0,\"schoolsup\":\"no\",\"famsup\":\"yes\",\"paid\":\"yes\",\"activities\":\"no\",\"nursery\":\"yes\",\"higher\":\"yes\",\"internet\":\"yes\",\"romantic\":\"yes\",\"famrel\":5,\"freetime\":2,\"goout\":2,\"Dalc\":1,\"Walc\":2,\"health\":5,\"absences\":23,\"G3\":13},{\"school\":\"GP\",\"sex\":\"F\",\"age\":17,\"address\":\"U\",\"famsize\":\"GT3\",\"Pstatus\":\"T\",\"Medu\":2,\"Fedu\":2,\"Mjob\":\"other\",\"Fjob\":\"other\",\"reason\":\"course\",\"guardian\":\"mother\",\"traveltime\":1,\"studytime\":2,\"failures\":0,\"schoolsup\":\"no\",\"famsup\":\"yes\",\"paid\":\"no\",\"activities\":\"no\",\"nursery\":\"yes\",\"higher\":\"yes\",\"internet\":\"no\",\"romantic\":\"yes\",\"famrel\":4,\"freetime\":2,\"goout\":2,\"Dalc\":1,\"Walc\":1,\"health\":3,\"absences\":12,\"G3\":9},{\"school\":\"GP\",\"sex\":\"F\",\"age\":17,\"address\":\"R\",\"famsize\":\"LE3\",\"Pstatus\":\"T\",\"Medu\":2,\"Fedu\":2,\"Mjob\":\"services\",\"Fjob\":\"services\",\"reason\":\"course\",\"guardian\":\"mother\",\"traveltime\":1,\"studytime\":3,\"failures\":0,\"schoolsup\":\"no\",\"famsup\":\"yes\",\"paid\":\"yes\",\"activities\":\"yes\",\"nursery\":\"yes\",\"higher\":\"yes\",\"internet\":\"yes\",\"romantic\":\"no\",\"famrel\":3,\"freetime\":3,\"goout\":2,\"Dalc\":2,\"Walc\":2,\"health\":3,\"absences\":3,\"G3\":11},{\"school\":\"GP\",\"sex\":\"F\",\"age\":17,\"address\":\"U\",\"famsize\":\"GT3\",\"Pstatus\":\"T\",\"Medu\":3,\"Fedu\":1,\"Mjob\":\"services\",\"Fjob\":\"services\",\"reason\":\"course\",\"guardian\":\"father\",\"traveltime\":1,\"studytime\":3,\"failures\":0,\"schoolsup\":\"no\",\"famsup\":\"yes\",\"paid\":\"no\",\"activities\":\"no\",\"nursery\":\"no\",\"higher\":\"yes\",\"internet\":\"yes\",\"romantic\":\"no\",\"famrel\":3,\"freetime\":4,\"goout\":3,\"Dalc\":2,\"Walc\":3,\"health\":5,\"absences\":1,\"G3\":15},{\"school\":\"GP\",\"sex\":\"F\",\"age\":17,\"address\":\"U\",\"famsize\":\"LE3\",\"Pstatus\":\"T\",\"Medu\":0,\"Fedu\":2,\"Mjob\":\"at_home\",\"Fjob\":\"at_home\",\"reason\":\"home\",\"guardian\":\"father\",\"traveltime\":2,\"studytime\":3,\"failures\":0,\"schoolsup\":\"no\",\"famsup\":\"no\",\"paid\":\"no\",\"activities\":\"no\",\"nursery\":\"yes\",\"higher\":\"yes\",\"internet\":\"yes\",\"romantic\":\"no\",\"famrel\":3,\"freetime\":3,\"goout\":3,\"Dalc\":2,\"Walc\":3,\"health\":2,\"absences\":0,\"G3\":15},{\"school\":\"GP\",\"sex\":\"M\",\"age\":18,\"address\":\"U\",\"famsize\":\"GT3\",\"Pstatus\":\"T\",\"Medu\":4,\"Fedu\":4,\"Mjob\":\"other\",\"Fjob\":\"other\",\"reason\":\"course\",\"guardian\":\"mother\",\"traveltime\":1,\"studytime\":3,\"failures\":0,\"schoolsup\":\"no\",\"famsup\":\"no\",\"paid\":\"no\",\"activities\":\"yes\",\"nursery\":\"yes\",\"higher\":\"yes\",\"internet\":\"yes\",\"romantic\":\"no\",\"famrel\":4,\"freetime\":3,\"goout\":3,\"Dalc\":2,\"Walc\":2,\"health\":3,\"absences\":3,\"G3\":11},{\"school\":\"GP\",\"sex\":\"M\",\"age\":17,\"address\":\"U\",\"famsize\":\"GT3\",\"Pstatus\":\"T\",\"Medu\":3,\"Fedu\":3,\"Mjob\":\"other\",\"Fjob\":\"services\",\"reason\":\"reputation\",\"guardian\":\"mother\",\"traveltime\":1,\"studytime\":1,\"failures\":0,\"schoolsup\":\"no\",\"famsup\":\"no\",\"paid\":\"no\",\"activities\":\"yes\",\"nursery\":\"no\",\"higher\":\"yes\",\"internet\":\"yes\",\"romantic\":\"no\",\"famrel\":4,\"freetime\":3,\"goout\":5,\"Dalc\":3,\"Walc\":5,\"health\":5,\"absences\":3,\"G3\":16},{\"school\":\"GP\",\"sex\":\"M\",\"age\":17,\"address\":\"R\",\"famsize\":\"GT3\",\"Pstatus\":\"T\",\"Medu\":2,\"Fedu\":2,\"Mjob\":\"services\",\"Fjob\":\"other\",\"reason\":\"course\",\"guardian\":\"mother\",\"traveltime\":4,\"studytime\":1,\"failures\":0,\"schoolsup\":\"no\",\"famsup\":\"yes\",\"paid\":\"no\",\"activities\":\"no\",\"nursery\":\"yes\",\"higher\":\"yes\",\"internet\":\"yes\",\"romantic\":\"no\",\"famrel\":4,\"freetime\":4,\"goout\":5,\"Dalc\":5,\"Walc\":5,\"health\":4,\"absences\":8,\"G3\":10},{\"school\":\"GP\",\"sex\":\"F\",\"age\":17,\"address\":\"U\",\"famsize\":\"GT3\",\"Pstatus\":\"T\",\"Medu\":4,\"Fedu\":4,\"Mjob\":\"teacher\",\"Fjob\":\"services\",\"reason\":\"course\",\"guardian\":\"mother\",\"traveltime\":1,\"studytime\":3,\"failures\":0,\"schoolsup\":\"no\",\"famsup\":\"yes\",\"paid\":\"yes\",\"activities\":\"yes\",\"nursery\":\"yes\",\"higher\":\"yes\",\"internet\":\"yes\",\"romantic\":\"no\",\"famrel\":5,\"freetime\":4,\"goout\":4,\"Dalc\":1,\"Walc\":3,\"health\":4,\"absences\":7,\"G3\":9},{\"school\":\"GP\",\"sex\":\"F\",\"age\":17,\"address\":\"U\",\"famsize\":\"GT3\",\"Pstatus\":\"T\",\"Medu\":4,\"Fedu\":4,\"Mjob\":\"teacher\",\"Fjob\":\"teacher\",\"reason\":\"course\",\"guardian\":\"mother\",\"traveltime\":2,\"studytime\":3,\"failures\":0,\"schoolsup\":\"no\",\"famsup\":\"yes\",\"paid\":\"yes\",\"activities\":\"no\",\"nursery\":\"no\",\"higher\":\"yes\",\"internet\":\"yes\",\"romantic\":\"yes\",\"famrel\":4,\"freetime\":3,\"goout\":3,\"Dalc\":1,\"Walc\":2,\"health\":4,\"absences\":4,\"G3\":14},{\"school\":\"GP\",\"sex\":\"M\",\"age\":18,\"address\":\"U\",\"famsize\":\"LE3\",\"Pstatus\":\"T\",\"Medu\":2,\"Fedu\":2,\"Mjob\":\"other\",\"Fjob\":\"other\",\"reason\":\"course\",\"guardian\":\"mother\",\"traveltime\":1,\"studytime\":4,\"failures\":0,\"schoolsup\":\"no\",\"famsup\":\"yes\",\"paid\":\"no\",\"activities\":\"yes\",\"nursery\":\"yes\",\"higher\":\"yes\",\"internet\":\"yes\",\"romantic\":\"no\",\"famrel\":4,\"freetime\":5,\"goout\":5,\"Dalc\":2,\"Walc\":4,\"health\":5,\"absences\":2,\"G3\":8},{\"school\":\"GP\",\"sex\":\"F\",\"age\":17,\"address\":\"R\",\"famsize\":\"GT3\",\"Pstatus\":\"T\",\"Medu\":2,\"Fedu\":4,\"Mjob\":\"at_home\",\"Fjob\":\"other\",\"reason\":\"course\",\"guardian\":\"father\",\"traveltime\":1,\"studytime\":3,\"failures\":0,\"schoolsup\":\"no\",\"famsup\":\"yes\",\"paid\":\"no\",\"activities\":\"no\",\"nursery\":\"yes\",\"higher\":\"yes\",\"internet\":\"yes\",\"romantic\":\"yes\",\"famrel\":4,\"freetime\":4,\"goout\":3,\"Dalc\":1,\"Walc\":1,\"health\":5,\"absences\":7,\"G3\":14},{\"school\":\"GP\",\"sex\":\"F\",\"age\":18,\"address\":\"U\",\"famsize\":\"GT3\",\"Pstatus\":\"T\",\"Medu\":3,\"Fedu\":3,\"Mjob\":\"services\",\"Fjob\":\"services\",\"reason\":\"home\",\"guardian\":\"mother\",\"traveltime\":1,\"studytime\":2,\"failures\":0,\"schoolsup\":\"no\",\"famsup\":\"no\",\"paid\":\"no\",\"activities\":\"yes\",\"nursery\":\"yes\",\"higher\":\"yes\",\"internet\":\"yes\",\"romantic\":\"no\",\"famrel\":5,\"freetime\":3,\"goout\":4,\"Dalc\":1,\"Walc\":1,\"health\":4,\"absences\":0,\"G3\":0},{\"school\":\"GP\",\"sex\":\"F\",\"age\":18,\"address\":\"U\",\"famsize\":\"LE3\",\"Pstatus\":\"T\",\"Medu\":2,\"Fedu\":2,\"Mjob\":\"other\",\"Fjob\":\"other\",\"reason\":\"home\",\"guardian\":\"other\",\"traveltime\":1,\"studytime\":2,\"failures\":0,\"schoolsup\":\"no\",\"famsup\":\"no\",\"paid\":\"no\",\"activities\":\"yes\",\"nursery\":\"no\",\"higher\":\"yes\",\"internet\":\"yes\",\"romantic\":\"yes\",\"famrel\":4,\"freetime\":3,\"goout\":3,\"Dalc\":1,\"Walc\":1,\"health\":2,\"absences\":0,\"G3\":0},{\"school\":\"GP\",\"sex\":\"F\",\"age\":18,\"address\":\"R\",\"famsize\":\"GT3\",\"Pstatus\":\"T\",\"Medu\":2,\"Fedu\":2,\"Mjob\":\"at_home\",\"Fjob\":\"other\",\"reason\":\"course\",\"guardian\":\"mother\",\"traveltime\":2,\"studytime\":4,\"failures\":0,\"schoolsup\":\"no\",\"famsup\":\"no\",\"paid\":\"no\",\"activities\":\"yes\",\"nursery\":\"yes\",\"higher\":\"yes\",\"internet\":\"no\",\"romantic\":\"no\",\"famrel\":4,\"freetime\":4,\"goout\":4,\"Dalc\":1,\"Walc\":1,\"health\":4,\"absences\":0,\"G3\":0},{\"school\":\"GP\",\"sex\":\"F\",\"age\":17,\"address\":\"U\",\"famsize\":\"GT3\",\"Pstatus\":\"T\",\"Medu\":3,\"Fedu\":4,\"Mjob\":\"services\",\"Fjob\":\"other\",\"reason\":\"course\",\"guardian\":\"mother\",\"traveltime\":1,\"studytime\":3,\"failures\":0,\"schoolsup\":\"no\",\"famsup\":\"no\",\"paid\":\"no\",\"activities\":\"no\",\"nursery\":\"yes\",\"higher\":\"yes\",\"internet\":\"yes\",\"romantic\":\"no\",\"famrel\":4,\"freetime\":4,\"goout\":5,\"Dalc\":1,\"Walc\":3,\"health\":5,\"absences\":16,\"G3\":15},{\"school\":\"GP\",\"sex\":\"F\",\"age\":19,\"address\":\"R\",\"famsize\":\"GT3\",\"Pstatus\":\"A\",\"Medu\":3,\"Fedu\":1,\"Mjob\":\"services\",\"Fjob\":\"at_home\",\"reason\":\"home\",\"guardian\":\"other\",\"traveltime\":1,\"studytime\":3,\"failures\":1,\"schoolsup\":\"no\",\"famsup\":\"no\",\"paid\":\"yes\",\"activities\":\"no\",\"nursery\":\"yes\",\"higher\":\"yes\",\"internet\":\"no\",\"romantic\":\"no\",\"famrel\":5,\"freetime\":4,\"goout\":3,\"Dalc\":1,\"Walc\":2,\"health\":5,\"absences\":12,\"G3\":13},{\"school\":\"GP\",\"sex\":\"F\",\"age\":17,\"address\":\"U\",\"famsize\":\"GT3\",\"Pstatus\":\"T\",\"Medu\":3,\"Fedu\":2,\"Mjob\":\"other\",\"Fjob\":\"other\",\"reason\":\"home\",\"guardian\":\"mother\",\"traveltime\":1,\"studytime\":2,\"failures\":0,\"schoolsup\":\"no\",\"famsup\":\"yes\",\"paid\":\"yes\",\"activities\":\"no\",\"nursery\":\"yes\",\"higher\":\"yes\",\"internet\":\"yes\",\"romantic\":\"yes\",\"famrel\":4,\"freetime\":3,\"goout\":2,\"Dalc\":2,\"Walc\":3,\"health\":2,\"absences\":0,\"G3\":0},{\"school\":\"GP\",\"sex\":\"F\",\"age\":18,\"address\":\"U\",\"famsize\":\"LE3\",\"Pstatus\":\"T\",\"Medu\":3,\"Fedu\":3,\"Mjob\":\"services\",\"Fjob\":\"services\",\"reason\":\"home\",\"guardian\":\"mother\",\"traveltime\":1,\"studytime\":4,\"failures\":0,\"schoolsup\":\"no\",\"famsup\":\"yes\",\"paid\":\"no\",\"activities\":\"no\",\"nursery\":\"yes\",\"higher\":\"yes\",\"internet\":\"yes\",\"romantic\":\"no\",\"famrel\":5,\"freetime\":3,\"goout\":3,\"Dalc\":1,\"Walc\":1,\"health\":1,\"absences\":7,\"G3\":17},{\"school\":\"GP\",\"sex\":\"F\",\"age\":17,\"address\":\"R\",\"famsize\":\"GT3\",\"Pstatus\":\"A\",\"Medu\":3,\"Fedu\":2,\"Mjob\":\"other\",\"Fjob\":\"other\",\"reason\":\"home\",\"guardian\":\"mother\",\"traveltime\":1,\"studytime\":2,\"failures\":0,\"schoolsup\":\"no\",\"famsup\":\"yes\",\"paid\":\"yes\",\"activities\":\"no\",\"nursery\":\"yes\",\"higher\":\"yes\",\"internet\":\"yes\",\"romantic\":\"no\",\"famrel\":4,\"freetime\":3,\"goout\":3,\"Dalc\":2,\"Walc\":3,\"health\":2,\"absences\":4,\"G3\":10},{\"school\":\"GP\",\"sex\":\"F\",\"age\":19,\"address\":\"U\",\"famsize\":\"GT3\",\"Pstatus\":\"T\",\"Medu\":2,\"Fedu\":1,\"Mjob\":\"services\",\"Fjob\":\"services\",\"reason\":\"home\",\"guardian\":\"other\",\"traveltime\":1,\"studytime\":3,\"failures\":1,\"schoolsup\":\"no\",\"famsup\":\"no\",\"paid\":\"yes\",\"activities\":\"yes\",\"nursery\":\"yes\",\"higher\":\"yes\",\"internet\":\"yes\",\"romantic\":\"yes\",\"famrel\":4,\"freetime\":3,\"goout\":4,\"Dalc\":1,\"Walc\":3,\"health\":3,\"absences\":4,\"G3\":11},{\"school\":\"GP\",\"sex\":\"M\",\"age\":18,\"address\":\"U\",\"famsize\":\"GT3\",\"Pstatus\":\"T\",\"Medu\":4,\"Fedu\":4,\"Mjob\":\"teacher\",\"Fjob\":\"services\",\"reason\":\"home\",\"guardian\":\"father\",\"traveltime\":1,\"studytime\":2,\"failures\":1,\"schoolsup\":\"no\",\"famsup\":\"yes\",\"paid\":\"no\",\"activities\":\"yes\",\"nursery\":\"yes\",\"higher\":\"yes\",\"internet\":\"yes\",\"romantic\":\"no\",\"famrel\":4,\"freetime\":3,\"goout\":3,\"Dalc\":2,\"Walc\":2,\"health\":2,\"absences\":0,\"G3\":0},{\"school\":\"GP\",\"sex\":\"M\",\"age\":18,\"address\":\"U\",\"famsize\":\"LE3\",\"Pstatus\":\"T\",\"Medu\":3,\"Fedu\":4,\"Mjob\":\"services\",\"Fjob\":\"other\",\"reason\":\"home\",\"guardian\":\"mother\",\"traveltime\":1,\"studytime\":2,\"failures\":0,\"schoolsup\":\"no\",\"famsup\":\"no\",\"paid\":\"no\",\"activities\":\"yes\",\"nursery\":\"yes\",\"higher\":\"yes\",\"internet\":\"yes\",\"romantic\":\"yes\",\"famrel\":4,\"freetime\":3,\"goout\":3,\"Dalc\":1,\"Walc\":3,\"health\":5,\"absences\":11,\"G3\":15},{\"school\":\"GP\",\"sex\":\"F\",\"age\":17,\"address\":\"U\",\"famsize\":\"GT3\",\"Pstatus\":\"A\",\"Medu\":2,\"Fedu\":2,\"Mjob\":\"at_home\",\"Fjob\":\"at_home\",\"reason\":\"home\",\"guardian\":\"father\",\"traveltime\":1,\"studytime\":2,\"failures\":1,\"schoolsup\":\"no\",\"famsup\":\"yes\",\"paid\":\"no\",\"activities\":\"no\",\"nursery\":\"yes\",\"higher\":\"yes\",\"internet\":\"yes\",\"romantic\":\"yes\",\"famrel\":3,\"freetime\":3,\"goout\":1,\"Dalc\":1,\"Walc\":2,\"health\":4,\"absences\":0,\"G3\":0},{\"school\":\"GP\",\"sex\":\"F\",\"age\":18,\"address\":\"U\",\"famsize\":\"GT3\",\"Pstatus\":\"T\",\"Medu\":2,\"Fedu\":3,\"Mjob\":\"at_home\",\"Fjob\":\"other\",\"reason\":\"course\",\"guardian\":\"mother\",\"traveltime\":1,\"studytime\":3,\"failures\":0,\"schoolsup\":\"no\",\"famsup\":\"yes\",\"paid\":\"no\",\"activities\":\"no\",\"nursery\":\"yes\",\"higher\":\"yes\",\"internet\":\"yes\",\"romantic\":\"no\",\"famrel\":4,\"freetime\":3,\"goout\":3,\"Dalc\":1,\"Walc\":2,\"health\":3,\"absences\":4,\"G3\":10},{\"school\":\"GP\",\"sex\":\"F\",\"age\":18,\"address\":\"U\",\"famsize\":\"GT3\",\"Pstatus\":\"T\",\"Medu\":3,\"Fedu\":2,\"Mjob\":\"other\",\"Fjob\":\"services\",\"reason\":\"other\",\"guardian\":\"mother\",\"traveltime\":1,\"studytime\":3,\"failures\":0,\"schoolsup\":\"no\",\"famsup\":\"no\",\"paid\":\"no\",\"activities\":\"no\",\"nursery\":\"yes\",\"higher\":\"yes\",\"internet\":\"yes\",\"romantic\":\"yes\",\"famrel\":5,\"freetime\":4,\"goout\":3,\"Dalc\":2,\"Walc\":3,\"health\":1,\"absences\":7,\"G3\":14},{\"school\":\"GP\",\"sex\":\"M\",\"age\":18,\"address\":\"R\",\"famsize\":\"GT3\",\"Pstatus\":\"T\",\"Medu\":4,\"Fedu\":3,\"Mjob\":\"teacher\",\"Fjob\":\"services\",\"reason\":\"course\",\"guardian\":\"mother\",\"traveltime\":1,\"studytime\":3,\"failures\":0,\"schoolsup\":\"no\",\"famsup\":\"no\",\"paid\":\"no\",\"activities\":\"no\",\"nursery\":\"yes\",\"higher\":\"yes\",\"internet\":\"yes\",\"romantic\":\"yes\",\"famrel\":5,\"freetime\":3,\"goout\":2,\"Dalc\":1,\"Walc\":2,\"health\":4,\"absences\":9,\"G3\":16},{\"school\":\"GP\",\"sex\":\"M\",\"age\":18,\"address\":\"U\",\"famsize\":\"GT3\",\"Pstatus\":\"T\",\"Medu\":4,\"Fedu\":3,\"Mjob\":\"teacher\",\"Fjob\":\"other\",\"reason\":\"course\",\"guardian\":\"mother\",\"traveltime\":1,\"studytime\":3,\"failures\":0,\"schoolsup\":\"no\",\"famsup\":\"yes\",\"paid\":\"yes\",\"activities\":\"no\",\"nursery\":\"yes\",\"higher\":\"yes\",\"internet\":\"yes\",\"romantic\":\"yes\",\"famrel\":5,\"freetime\":4,\"goout\":5,\"Dalc\":2,\"Walc\":3,\"health\":5,\"absences\":0,\"G3\":9},{\"school\":\"GP\",\"sex\":\"F\",\"age\":17,\"address\":\"U\",\"famsize\":\"GT3\",\"Pstatus\":\"T\",\"Medu\":4,\"Fedu\":3,\"Mjob\":\"health\",\"Fjob\":\"other\",\"reason\":\"reputation\",\"guardian\":\"mother\",\"traveltime\":1,\"studytime\":3,\"failures\":0,\"schoolsup\":\"no\",\"famsup\":\"yes\",\"paid\":\"yes\",\"activities\":\"yes\",\"nursery\":\"yes\",\"higher\":\"yes\",\"internet\":\"yes\",\"romantic\":\"yes\",\"famrel\":4,\"freetime\":4,\"goout\":3,\"Dalc\":1,\"Walc\":3,\"health\":4,\"absences\":0,\"G3\":15},{\"school\":\"MS\",\"sex\":\"M\",\"age\":18,\"address\":\"R\",\"famsize\":\"GT3\",\"Pstatus\":\"T\",\"Medu\":3,\"Fedu\":2,\"Mjob\":\"other\",\"Fjob\":\"other\",\"reason\":\"course\",\"guardian\":\"mother\",\"traveltime\":2,\"studytime\":1,\"failures\":1,\"schoolsup\":\"no\",\"famsup\":\"yes\",\"paid\":\"no\",\"activities\":\"no\",\"nursery\":\"no\",\"higher\":\"yes\",\"internet\":\"yes\",\"romantic\":\"no\",\"famrel\":2,\"freetime\":5,\"goout\":5,\"Dalc\":5,\"Walc\":5,\"health\":5,\"absences\":10,\"G3\":13},{\"school\":\"MS\",\"sex\":\"M\",\"age\":19,\"address\":\"R\",\"famsize\":\"GT3\",\"Pstatus\":\"T\",\"Medu\":1,\"Fedu\":1,\"Mjob\":\"other\",\"Fjob\":\"services\",\"reason\":\"home\",\"guardian\":\"other\",\"traveltime\":3,\"studytime\":2,\"failures\":3,\"schoolsup\":\"no\",\"famsup\":\"no\",\"paid\":\"no\",\"activities\":\"no\",\"nursery\":\"yes\",\"higher\":\"yes\",\"internet\":\"yes\",\"romantic\":\"no\",\"famrel\":5,\"freetime\":4,\"goout\":4,\"Dalc\":3,\"Walc\":3,\"health\":2,\"absences\":8,\"G3\":8},{\"school\":\"MS\",\"sex\":\"M\",\"age\":17,\"address\":\"U\",\"famsize\":\"GT3\",\"Pstatus\":\"T\",\"Medu\":3,\"Fedu\":3,\"Mjob\":\"health\",\"Fjob\":\"other\",\"reason\":\"course\",\"guardian\":\"mother\",\"traveltime\":2,\"studytime\":2,\"failures\":0,\"schoolsup\":\"no\",\"famsup\":\"yes\",\"paid\":\"yes\",\"activities\":\"no\",\"nursery\":\"yes\",\"higher\":\"yes\",\"internet\":\"yes\",\"romantic\":\"no\",\"famrel\":4,\"freetime\":5,\"goout\":4,\"Dalc\":2,\"Walc\":3,\"health\":3,\"absences\":2,\"G3\":13},{\"school\":\"MS\",\"sex\":\"M\",\"age\":18,\"address\":\"U\",\"famsize\":\"LE3\",\"Pstatus\":\"T\",\"Medu\":1,\"Fedu\":3,\"Mjob\":\"at_home\",\"Fjob\":\"services\",\"reason\":\"course\",\"guardian\":\"mother\",\"traveltime\":1,\"studytime\":1,\"failures\":1,\"schoolsup\":\"no\",\"famsup\":\"no\",\"paid\":\"no\",\"activities\":\"no\",\"nursery\":\"yes\",\"higher\":\"no\",\"internet\":\"yes\",\"romantic\":\"yes\",\"famrel\":4,\"freetime\":3,\"goout\":3,\"Dalc\":2,\"Walc\":3,\"health\":3,\"absences\":7,\"G3\":8},{\"school\":\"MS\",\"sex\":\"M\",\"age\":19,\"address\":\"R\",\"famsize\":\"GT3\",\"Pstatus\":\"T\",\"Medu\":1,\"Fedu\":1,\"Mjob\":\"other\",\"Fjob\":\"other\",\"reason\":\"home\",\"guardian\":\"other\",\"traveltime\":3,\"studytime\":1,\"failures\":1,\"schoolsup\":\"no\",\"famsup\":\"yes\",\"paid\":\"no\",\"activities\":\"no\",\"nursery\":\"yes\",\"higher\":\"yes\",\"internet\":\"yes\",\"romantic\":\"no\",\"famrel\":4,\"freetime\":4,\"goout\":4,\"Dalc\":3,\"Walc\":3,\"health\":5,\"absences\":4,\"G3\":8},{\"school\":\"MS\",\"sex\":\"M\",\"age\":17,\"address\":\"R\",\"famsize\":\"GT3\",\"Pstatus\":\"T\",\"Medu\":4,\"Fedu\":3,\"Mjob\":\"services\",\"Fjob\":\"other\",\"reason\":\"home\",\"guardian\":\"mother\",\"traveltime\":2,\"studytime\":2,\"failures\":0,\"schoolsup\":\"no\",\"famsup\":\"yes\",\"paid\":\"yes\",\"activities\":\"yes\",\"nursery\":\"no\",\"higher\":\"yes\",\"internet\":\"yes\",\"romantic\":\"yes\",\"famrel\":4,\"freetime\":5,\"goout\":5,\"Dalc\":1,\"Walc\":3,\"health\":2,\"absences\":4,\"G3\":11},{\"school\":\"MS\",\"sex\":\"F\",\"age\":18,\"address\":\"U\",\"famsize\":\"GT3\",\"Pstatus\":\"T\",\"Medu\":3,\"Fedu\":3,\"Mjob\":\"services\",\"Fjob\":\"services\",\"reason\":\"course\",\"guardian\":\"father\",\"traveltime\":1,\"studytime\":2,\"failures\":0,\"schoolsup\":\"no\",\"famsup\":\"yes\",\"paid\":\"no\",\"activities\":\"no\",\"nursery\":\"yes\",\"higher\":\"yes\",\"internet\":\"no\",\"romantic\":\"yes\",\"famrel\":5,\"freetime\":3,\"goout\":4,\"Dalc\":1,\"Walc\":1,\"health\":5,\"absences\":0,\"G3\":9},{\"school\":\"MS\",\"sex\":\"F\",\"age\":17,\"address\":\"R\",\"famsize\":\"GT3\",\"Pstatus\":\"T\",\"Medu\":4,\"Fedu\":4,\"Mjob\":\"teacher\",\"Fjob\":\"services\",\"reason\":\"other\",\"guardian\":\"father\",\"traveltime\":2,\"studytime\":2,\"failures\":0,\"schoolsup\":\"no\",\"famsup\":\"yes\",\"paid\":\"yes\",\"activities\":\"yes\",\"nursery\":\"yes\",\"higher\":\"yes\",\"internet\":\"yes\",\"romantic\":\"no\",\"famrel\":4,\"freetime\":3,\"goout\":3,\"Dalc\":1,\"Walc\":2,\"health\":5,\"absences\":4,\"G3\":13},{\"school\":\"MS\",\"sex\":\"F\",\"age\":17,\"address\":\"U\",\"famsize\":\"LE3\",\"Pstatus\":\"A\",\"Medu\":3,\"Fedu\":2,\"Mjob\":\"services\",\"Fjob\":\"other\",\"reason\":\"reputation\",\"guardian\":\"mother\",\"traveltime\":2,\"studytime\":2,\"failures\":0,\"schoolsup\":\"no\",\"famsup\":\"no\",\"paid\":\"no\",\"activities\":\"no\",\"nursery\":\"yes\",\"higher\":\"yes\",\"internet\":\"no\",\"romantic\":\"yes\",\"famrel\":1,\"freetime\":2,\"goout\":3,\"Dalc\":1,\"Walc\":2,\"health\":5,\"absences\":2,\"G3\":11},{\"school\":\"MS\",\"sex\":\"M\",\"age\":18,\"address\":\"U\",\"famsize\":\"LE3\",\"Pstatus\":\"T\",\"Medu\":1,\"Fedu\":1,\"Mjob\":\"other\",\"Fjob\":\"services\",\"reason\":\"home\",\"guardian\":\"father\",\"traveltime\":2,\"studytime\":1,\"failures\":0,\"schoolsup\":\"no\",\"famsup\":\"no\",\"paid\":\"no\",\"activities\":\"no\",\"nursery\":\"no\",\"higher\":\"yes\",\"internet\":\"yes\",\"romantic\":\"yes\",\"famrel\":3,\"freetime\":3,\"goout\":2,\"Dalc\":1,\"Walc\":2,\"health\":3,\"absences\":4,\"G3\":10},{\"school\":\"MS\",\"sex\":\"F\",\"age\":18,\"address\":\"U\",\"famsize\":\"LE3\",\"Pstatus\":\"T\",\"Medu\":1,\"Fedu\":1,\"Mjob\":\"at_home\",\"Fjob\":\"services\",\"reason\":\"course\",\"guardian\":\"father\",\"traveltime\":2,\"studytime\":3,\"failures\":0,\"schoolsup\":\"no\",\"famsup\":\"no\",\"paid\":\"no\",\"activities\":\"no\",\"nursery\":\"yes\",\"higher\":\"yes\",\"internet\":\"yes\",\"romantic\":\"no\",\"famrel\":5,\"freetime\":3,\"goout\":2,\"Dalc\":1,\"Walc\":1,\"health\":4,\"absences\":0,\"G3\":16},{\"school\":\"MS\",\"sex\":\"F\",\"age\":18,\"address\":\"R\",\"famsize\":\"LE3\",\"Pstatus\":\"A\",\"Medu\":1,\"Fedu\":4,\"Mjob\":\"at_home\",\"Fjob\":\"other\",\"reason\":\"course\",\"guardian\":\"mother\",\"traveltime\":3,\"studytime\":2,\"failures\":0,\"schoolsup\":\"no\",\"famsup\":\"no\",\"paid\":\"no\",\"activities\":\"no\",\"nursery\":\"yes\",\"higher\":\"yes\",\"internet\":\"no\",\"romantic\":\"yes\",\"famrel\":4,\"freetime\":3,\"goout\":4,\"Dalc\":1,\"Walc\":4,\"health\":5,\"absences\":0,\"G3\":13},{\"school\":\"MS\",\"sex\":\"M\",\"age\":18,\"address\":\"R\",\"famsize\":\"LE3\",\"Pstatus\":\"T\",\"Medu\":1,\"Fedu\":1,\"Mjob\":\"at_home\",\"Fjob\":\"other\",\"reason\":\"other\",\"guardian\":\"mother\",\"traveltime\":2,\"studytime\":2,\"failures\":1,\"schoolsup\":\"no\",\"famsup\":\"no\",\"paid\":\"no\",\"activities\":\"yes\",\"nursery\":\"no\",\"higher\":\"no\",\"internet\":\"no\",\"romantic\":\"no\",\"famrel\":4,\"freetime\":4,\"goout\":3,\"Dalc\":2,\"Walc\":3,\"health\":5,\"absences\":2,\"G3\":12},{\"school\":\"MS\",\"sex\":\"F\",\"age\":18,\"address\":\"U\",\"famsize\":\"GT3\",\"Pstatus\":\"T\",\"Medu\":3,\"Fedu\":3,\"Mjob\":\"services\",\"Fjob\":\"services\",\"reason\":\"other\",\"guardian\":\"mother\",\"traveltime\":2,\"studytime\":2,\"failures\":0,\"schoolsup\":\"no\",\"famsup\":\"yes\",\"paid\":\"no\",\"activities\":\"no\",\"nursery\":\"yes\",\"higher\":\"yes\",\"internet\":\"yes\",\"romantic\":\"yes\",\"famrel\":4,\"freetime\":3,\"goout\":2,\"Dalc\":1,\"Walc\":3,\"health\":3,\"absences\":0,\"G3\":10},{\"school\":\"MS\",\"sex\":\"F\",\"age\":17,\"address\":\"U\",\"famsize\":\"LE3\",\"Pstatus\":\"T\",\"Medu\":4,\"Fedu\":4,\"Mjob\":\"at_home\",\"Fjob\":\"at_home\",\"reason\":\"course\",\"guardian\":\"mother\",\"traveltime\":1,\"studytime\":2,\"failures\":0,\"schoolsup\":\"no\",\"famsup\":\"yes\",\"paid\":\"yes\",\"activities\":\"yes\",\"nursery\":\"yes\",\"higher\":\"yes\",\"internet\":\"yes\",\"romantic\":\"yes\",\"famrel\":2,\"freetime\":3,\"goout\":4,\"Dalc\":1,\"Walc\":1,\"health\":1,\"absences\":0,\"G3\":15},{\"school\":\"MS\",\"sex\":\"F\",\"age\":17,\"address\":\"R\",\"famsize\":\"GT3\",\"Pstatus\":\"T\",\"Medu\":1,\"Fedu\":2,\"Mjob\":\"other\",\"Fjob\":\"services\",\"reason\":\"course\",\"guardian\":\"father\",\"traveltime\":2,\"studytime\":2,\"failures\":0,\"schoolsup\":\"no\",\"famsup\":\"no\",\"paid\":\"no\",\"activities\":\"no\",\"nursery\":\"no\",\"higher\":\"yes\",\"internet\":\"no\",\"romantic\":\"no\",\"famrel\":3,\"freetime\":2,\"goout\":2,\"Dalc\":1,\"Walc\":2,\"health\":3,\"absences\":0,\"G3\":12},{\"school\":\"MS\",\"sex\":\"M\",\"age\":18,\"address\":\"R\",\"famsize\":\"GT3\",\"Pstatus\":\"T\",\"Medu\":1,\"Fedu\":3,\"Mjob\":\"at_home\",\"Fjob\":\"other\",\"reason\":\"course\",\"guardian\":\"mother\",\"traveltime\":2,\"studytime\":2,\"failures\":0,\"schoolsup\":\"no\",\"famsup\":\"yes\",\"paid\":\"yes\",\"activities\":\"no\",\"nursery\":\"yes\",\"higher\":\"yes\",\"internet\":\"no\",\"romantic\":\"no\",\"famrel\":3,\"freetime\":3,\"goout\":4,\"Dalc\":2,\"Walc\":4,\"health\":3,\"absences\":4,\"G3\":10},{\"school\":\"MS\",\"sex\":\"M\",\"age\":18,\"address\":\"U\",\"famsize\":\"LE3\",\"Pstatus\":\"T\",\"Medu\":4,\"Fedu\":4,\"Mjob\":\"teacher\",\"Fjob\":\"services\",\"reason\":\"other\",\"guardian\":\"mother\",\"traveltime\":2,\"studytime\":3,\"failures\":0,\"schoolsup\":\"no\",\"famsup\":\"no\",\"paid\":\"yes\",\"activities\":\"no\",\"nursery\":\"yes\",\"higher\":\"yes\",\"internet\":\"yes\",\"romantic\":\"yes\",\"famrel\":4,\"freetime\":2,\"goout\":2,\"Dalc\":2,\"Walc\":2,\"health\":5,\"absences\":0,\"G3\":13},{\"school\":\"MS\",\"sex\":\"F\",\"age\":17,\"address\":\"R\",\"famsize\":\"GT3\",\"Pstatus\":\"T\",\"Medu\":1,\"Fedu\":1,\"Mjob\":\"other\",\"Fjob\":\"services\",\"reason\":\"reputation\",\"guardian\":\"mother\",\"traveltime\":3,\"studytime\":1,\"failures\":1,\"schoolsup\":\"no\",\"famsup\":\"yes\",\"paid\":\"yes\",\"activities\":\"no\",\"nursery\":\"yes\",\"higher\":\"yes\",\"internet\":\"yes\",\"romantic\":\"yes\",\"famrel\":5,\"freetime\":2,\"goout\":1,\"Dalc\":1,\"Walc\":2,\"health\":1,\"absences\":0,\"G3\":0},{\"school\":\"MS\",\"sex\":\"F\",\"age\":18,\"address\":\"U\",\"famsize\":\"GT3\",\"Pstatus\":\"T\",\"Medu\":2,\"Fedu\":3,\"Mjob\":\"at_home\",\"Fjob\":\"services\",\"reason\":\"course\",\"guardian\":\"father\",\"traveltime\":2,\"studytime\":1,\"failures\":0,\"schoolsup\":\"no\",\"famsup\":\"yes\",\"paid\":\"yes\",\"activities\":\"no\",\"nursery\":\"yes\",\"higher\":\"yes\",\"internet\":\"yes\",\"romantic\":\"yes\",\"famrel\":5,\"freetime\":2,\"goout\":3,\"Dalc\":1,\"Walc\":2,\"health\":4,\"absences\":0,\"G3\":10},{\"school\":\"MS\",\"sex\":\"F\",\"age\":18,\"address\":\"R\",\"famsize\":\"GT3\",\"Pstatus\":\"T\",\"Medu\":4,\"Fedu\":4,\"Mjob\":\"other\",\"Fjob\":\"teacher\",\"reason\":\"other\",\"guardian\":\"father\",\"traveltime\":3,\"studytime\":2,\"failures\":0,\"schoolsup\":\"no\",\"famsup\":\"yes\",\"paid\":\"yes\",\"activities\":\"no\",\"nursery\":\"no\",\"higher\":\"yes\",\"internet\":\"yes\",\"romantic\":\"yes\",\"famrel\":3,\"freetime\":2,\"goout\":2,\"Dalc\":4,\"Walc\":2,\"health\":5,\"absences\":10,\"G3\":11},{\"school\":\"MS\",\"sex\":\"F\",\"age\":19,\"address\":\"U\",\"famsize\":\"LE3\",\"Pstatus\":\"T\",\"Medu\":3,\"Fedu\":2,\"Mjob\":\"services\",\"Fjob\":\"services\",\"reason\":\"home\",\"guardian\":\"other\",\"traveltime\":2,\"studytime\":2,\"failures\":2,\"schoolsup\":\"no\",\"famsup\":\"no\",\"paid\":\"no\",\"activities\":\"yes\",\"nursery\":\"yes\",\"higher\":\"yes\",\"internet\":\"no\",\"romantic\":\"yes\",\"famrel\":3,\"freetime\":2,\"goout\":2,\"Dalc\":1,\"Walc\":1,\"health\":3,\"absences\":4,\"G3\":9},{\"school\":\"MS\",\"sex\":\"M\",\"age\":18,\"address\":\"R\",\"famsize\":\"LE3\",\"Pstatus\":\"T\",\"Medu\":1,\"Fedu\":2,\"Mjob\":\"at_home\",\"Fjob\":\"services\",\"reason\":\"other\",\"guardian\":\"father\",\"traveltime\":3,\"studytime\":1,\"failures\":0,\"schoolsup\":\"no\",\"famsup\":\"yes\",\"paid\":\"yes\",\"activities\":\"yes\",\"nursery\":\"yes\",\"higher\":\"no\",\"internet\":\"yes\",\"romantic\":\"yes\",\"famrel\":4,\"freetime\":3,\"goout\":3,\"Dalc\":2,\"Walc\":3,\"health\":3,\"absences\":3,\"G3\":12},{\"school\":\"MS\",\"sex\":\"F\",\"age\":17,\"address\":\"U\",\"famsize\":\"GT3\",\"Pstatus\":\"T\",\"Medu\":2,\"Fedu\":2,\"Mjob\":\"other\",\"Fjob\":\"at_home\",\"reason\":\"home\",\"guardian\":\"mother\",\"traveltime\":1,\"studytime\":3,\"failures\":0,\"schoolsup\":\"no\",\"famsup\":\"no\",\"paid\":\"no\",\"activities\":\"yes\",\"nursery\":\"yes\",\"higher\":\"yes\",\"internet\":\"no\",\"romantic\":\"yes\",\"famrel\":3,\"freetime\":4,\"goout\":3,\"Dalc\":1,\"Walc\":1,\"health\":3,\"absences\":8,\"G3\":11},{\"school\":\"MS\",\"sex\":\"F\",\"age\":17,\"address\":\"R\",\"famsize\":\"GT3\",\"Pstatus\":\"T\",\"Medu\":1,\"Fedu\":2,\"Mjob\":\"other\",\"Fjob\":\"other\",\"reason\":\"course\",\"guardian\":\"mother\",\"traveltime\":1,\"studytime\":1,\"failures\":0,\"schoolsup\":\"no\",\"famsup\":\"no\",\"paid\":\"no\",\"activities\":\"yes\",\"nursery\":\"yes\",\"higher\":\"yes\",\"internet\":\"yes\",\"romantic\":\"no\",\"famrel\":3,\"freetime\":5,\"goout\":5,\"Dalc\":1,\"Walc\":3,\"health\":1,\"absences\":14,\"G3\":5},{\"school\":\"MS\",\"sex\":\"F\",\"age\":18,\"address\":\"R\",\"famsize\":\"LE3\",\"Pstatus\":\"T\",\"Medu\":4,\"Fedu\":4,\"Mjob\":\"other\",\"Fjob\":\"other\",\"reason\":\"reputation\",\"guardian\":\"mother\",\"traveltime\":2,\"studytime\":3,\"failures\":0,\"schoolsup\":\"no\",\"famsup\":\"no\",\"paid\":\"no\",\"activities\":\"no\",\"nursery\":\"yes\",\"higher\":\"yes\",\"internet\":\"yes\",\"romantic\":\"no\",\"famrel\":5,\"freetime\":4,\"goout\":4,\"Dalc\":1,\"Walc\":1,\"health\":1,\"absences\":0,\"G3\":19},{\"school\":\"MS\",\"sex\":\"F\",\"age\":18,\"address\":\"R\",\"famsize\":\"GT3\",\"Pstatus\":\"T\",\"Medu\":1,\"Fedu\":1,\"Mjob\":\"other\",\"Fjob\":\"other\",\"reason\":\"home\",\"guardian\":\"mother\",\"traveltime\":4,\"studytime\":3,\"failures\":0,\"schoolsup\":\"no\",\"famsup\":\"no\",\"paid\":\"no\",\"activities\":\"no\",\"nursery\":\"yes\",\"higher\":\"yes\",\"internet\":\"yes\",\"romantic\":\"no\",\"famrel\":4,\"freetime\":3,\"goout\":2,\"Dalc\":1,\"Walc\":2,\"health\":4,\"absences\":2,\"G3\":10},{\"school\":\"MS\",\"sex\":\"F\",\"age\":20,\"address\":\"U\",\"famsize\":\"GT3\",\"Pstatus\":\"T\",\"Medu\":4,\"Fedu\":2,\"Mjob\":\"health\",\"Fjob\":\"other\",\"reason\":\"course\",\"guardian\":\"other\",\"traveltime\":2,\"studytime\":3,\"failures\":2,\"schoolsup\":\"no\",\"famsup\":\"yes\",\"paid\":\"yes\",\"activities\":\"no\",\"nursery\":\"no\",\"higher\":\"yes\",\"internet\":\"yes\",\"romantic\":\"yes\",\"famrel\":5,\"freetime\":4,\"goout\":3,\"Dalc\":1,\"Walc\":1,\"health\":3,\"absences\":4,\"G3\":15},{\"school\":\"MS\",\"sex\":\"F\",\"age\":18,\"address\":\"R\",\"famsize\":\"LE3\",\"Pstatus\":\"T\",\"Medu\":4,\"Fedu\":4,\"Mjob\":\"teacher\",\"Fjob\":\"services\",\"reason\":\"course\",\"guardian\":\"mother\",\"traveltime\":1,\"studytime\":2,\"failures\":0,\"schoolsup\":\"no\",\"famsup\":\"no\",\"paid\":\"yes\",\"activities\":\"yes\",\"nursery\":\"yes\",\"higher\":\"yes\",\"internet\":\"yes\",\"romantic\":\"no\",\"famrel\":5,\"freetime\":4,\"goout\":3,\"Dalc\":3,\"Walc\":4,\"health\":2,\"absences\":4,\"G3\":10},{\"school\":\"MS\",\"sex\":\"F\",\"age\":18,\"address\":\"U\",\"famsize\":\"GT3\",\"Pstatus\":\"T\",\"Medu\":3,\"Fedu\":3,\"Mjob\":\"other\",\"Fjob\":\"other\",\"reason\":\"home\",\"guardian\":\"mother\",\"traveltime\":1,\"studytime\":2,\"failures\":0,\"schoolsup\":\"no\",\"famsup\":\"no\",\"paid\":\"yes\",\"activities\":\"no\",\"nursery\":\"yes\",\"higher\":\"yes\",\"internet\":\"yes\",\"romantic\":\"yes\",\"famrel\":4,\"freetime\":1,\"goout\":3,\"Dalc\":1,\"Walc\":2,\"health\":1,\"absences\":0,\"G3\":15},{\"school\":\"MS\",\"sex\":\"F\",\"age\":17,\"address\":\"R\",\"famsize\":\"GT3\",\"Pstatus\":\"T\",\"Medu\":3,\"Fedu\":1,\"Mjob\":\"at_home\",\"Fjob\":\"other\",\"reason\":\"reputation\",\"guardian\":\"mother\",\"traveltime\":1,\"studytime\":2,\"failures\":0,\"schoolsup\":\"no\",\"famsup\":\"yes\",\"paid\":\"yes\",\"activities\":\"yes\",\"nursery\":\"no\",\"higher\":\"yes\",\"internet\":\"yes\",\"romantic\":\"no\",\"famrel\":4,\"freetime\":5,\"goout\":4,\"Dalc\":2,\"Walc\":3,\"health\":1,\"absences\":17,\"G3\":10},{\"school\":\"MS\",\"sex\":\"M\",\"age\":18,\"address\":\"U\",\"famsize\":\"GT3\",\"Pstatus\":\"T\",\"Medu\":4,\"Fedu\":4,\"Mjob\":\"teacher\",\"Fjob\":\"teacher\",\"reason\":\"home\",\"guardian\":\"father\",\"traveltime\":1,\"studytime\":2,\"failures\":0,\"schoolsup\":\"no\",\"famsup\":\"no\",\"paid\":\"yes\",\"activities\":\"yes\",\"nursery\":\"no\",\"higher\":\"yes\",\"internet\":\"yes\",\"romantic\":\"no\",\"famrel\":3,\"freetime\":2,\"goout\":4,\"Dalc\":1,\"Walc\":4,\"health\":2,\"absences\":4,\"G3\":14},{\"school\":\"MS\",\"sex\":\"M\",\"age\":18,\"address\":\"R\",\"famsize\":\"GT3\",\"Pstatus\":\"T\",\"Medu\":2,\"Fedu\":1,\"Mjob\":\"other\",\"Fjob\":\"other\",\"reason\":\"other\",\"guardian\":\"mother\",\"traveltime\":2,\"studytime\":1,\"failures\":0,\"schoolsup\":\"no\",\"famsup\":\"no\",\"paid\":\"no\",\"activities\":\"yes\",\"nursery\":\"no\",\"higher\":\"yes\",\"internet\":\"yes\",\"romantic\":\"yes\",\"famrel\":4,\"freetime\":4,\"goout\":3,\"Dalc\":1,\"Walc\":3,\"health\":5,\"absences\":5,\"G3\":7},{\"school\":\"MS\",\"sex\":\"M\",\"age\":17,\"address\":\"U\",\"famsize\":\"GT3\",\"Pstatus\":\"T\",\"Medu\":2,\"Fedu\":3,\"Mjob\":\"other\",\"Fjob\":\"services\",\"reason\":\"home\",\"guardian\":\"father\",\"traveltime\":2,\"studytime\":2,\"failures\":0,\"schoolsup\":\"no\",\"famsup\":\"no\",\"paid\":\"no\",\"activities\":\"yes\",\"nursery\":\"yes\",\"higher\":\"yes\",\"internet\":\"yes\",\"romantic\":\"no\",\"famrel\":4,\"freetime\":4,\"goout\":3,\"Dalc\":1,\"Walc\":1,\"health\":3,\"absences\":2,\"G3\":10},{\"school\":\"MS\",\"sex\":\"M\",\"age\":19,\"address\":\"R\",\"famsize\":\"GT3\",\"Pstatus\":\"T\",\"Medu\":1,\"Fedu\":1,\"Mjob\":\"other\",\"Fjob\":\"services\",\"reason\":\"other\",\"guardian\":\"mother\",\"traveltime\":2,\"studytime\":1,\"failures\":1,\"schoolsup\":\"no\",\"famsup\":\"no\",\"paid\":\"no\",\"activities\":\"no\",\"nursery\":\"yes\",\"higher\":\"yes\",\"internet\":\"no\",\"romantic\":\"no\",\"famrel\":4,\"freetime\":3,\"goout\":2,\"Dalc\":1,\"Walc\":3,\"health\":5,\"absences\":0,\"G3\":0},{\"school\":\"MS\",\"sex\":\"M\",\"age\":18,\"address\":\"R\",\"famsize\":\"GT3\",\"Pstatus\":\"T\",\"Medu\":4,\"Fedu\":2,\"Mjob\":\"other\",\"Fjob\":\"other\",\"reason\":\"home\",\"guardian\":\"father\",\"traveltime\":2,\"studytime\":1,\"failures\":1,\"schoolsup\":\"no\",\"famsup\":\"no\",\"paid\":\"yes\",\"activities\":\"no\",\"nursery\":\"yes\",\"higher\":\"yes\",\"internet\":\"no\",\"romantic\":\"no\",\"famrel\":5,\"freetime\":4,\"goout\":3,\"Dalc\":4,\"Walc\":3,\"health\":3,\"absences\":14,\"G3\":5},{\"school\":\"MS\",\"sex\":\"F\",\"age\":18,\"address\":\"R\",\"famsize\":\"GT3\",\"Pstatus\":\"T\",\"Medu\":2,\"Fedu\":2,\"Mjob\":\"at_home\",\"Fjob\":\"other\",\"reason\":\"other\",\"guardian\":\"mother\",\"traveltime\":2,\"studytime\":3,\"failures\":0,\"schoolsup\":\"no\",\"famsup\":\"no\",\"paid\":\"yes\",\"activities\":\"no\",\"nursery\":\"yes\",\"higher\":\"yes\",\"internet\":\"no\",\"romantic\":\"no\",\"famrel\":5,\"freetime\":3,\"goout\":3,\"Dalc\":1,\"Walc\":3,\"health\":4,\"absences\":2,\"G3\":10},{\"school\":\"MS\",\"sex\":\"F\",\"age\":18,\"address\":\"R\",\"famsize\":\"GT3\",\"Pstatus\":\"T\",\"Medu\":4,\"Fedu\":4,\"Mjob\":\"teacher\",\"Fjob\":\"at_home\",\"reason\":\"reputation\",\"guardian\":\"mother\",\"traveltime\":3,\"studytime\":1,\"failures\":0,\"schoolsup\":\"no\",\"famsup\":\"yes\",\"paid\":\"yes\",\"activities\":\"yes\",\"nursery\":\"yes\",\"higher\":\"yes\",\"internet\":\"yes\",\"romantic\":\"yes\",\"famrel\":4,\"freetime\":4,\"goout\":3,\"Dalc\":2,\"Walc\":2,\"health\":5,\"absences\":7,\"G3\":6},{\"school\":\"MS\",\"sex\":\"F\",\"age\":19,\"address\":\"R\",\"famsize\":\"GT3\",\"Pstatus\":\"T\",\"Medu\":2,\"Fedu\":3,\"Mjob\":\"services\",\"Fjob\":\"other\",\"reason\":\"course\",\"guardian\":\"mother\",\"traveltime\":1,\"studytime\":3,\"failures\":1,\"schoolsup\":\"no\",\"famsup\":\"no\",\"paid\":\"no\",\"activities\":\"yes\",\"nursery\":\"no\",\"higher\":\"yes\",\"internet\":\"yes\",\"romantic\":\"no\",\"famrel\":5,\"freetime\":4,\"goout\":2,\"Dalc\":1,\"Walc\":2,\"health\":5,\"absences\":0,\"G3\":0},{\"school\":\"MS\",\"sex\":\"F\",\"age\":18,\"address\":\"U\",\"famsize\":\"LE3\",\"Pstatus\":\"T\",\"Medu\":3,\"Fedu\":1,\"Mjob\":\"teacher\",\"Fjob\":\"services\",\"reason\":\"course\",\"guardian\":\"mother\",\"traveltime\":1,\"studytime\":2,\"failures\":0,\"schoolsup\":\"no\",\"famsup\":\"yes\",\"paid\":\"yes\",\"activities\":\"no\",\"nursery\":\"yes\",\"higher\":\"yes\",\"internet\":\"yes\",\"romantic\":\"no\",\"famrel\":4,\"freetime\":3,\"goout\":4,\"Dalc\":1,\"Walc\":1,\"health\":1,\"absences\":0,\"G3\":8},{\"school\":\"MS\",\"sex\":\"F\",\"age\":18,\"address\":\"U\",\"famsize\":\"GT3\",\"Pstatus\":\"T\",\"Medu\":1,\"Fedu\":1,\"Mjob\":\"other\",\"Fjob\":\"other\",\"reason\":\"course\",\"guardian\":\"mother\",\"traveltime\":2,\"studytime\":2,\"failures\":1,\"schoolsup\":\"no\",\"famsup\":\"no\",\"paid\":\"no\",\"activities\":\"yes\",\"nursery\":\"yes\",\"higher\":\"yes\",\"internet\":\"no\",\"romantic\":\"no\",\"famrel\":1,\"freetime\":1,\"goout\":1,\"Dalc\":1,\"Walc\":1,\"health\":5,\"absences\":0,\"G3\":0},{\"school\":\"MS\",\"sex\":\"M\",\"age\":20,\"address\":\"U\",\"famsize\":\"LE3\",\"Pstatus\":\"A\",\"Medu\":2,\"Fedu\":2,\"Mjob\":\"services\",\"Fjob\":\"services\",\"reason\":\"course\",\"guardian\":\"other\",\"traveltime\":1,\"studytime\":2,\"failures\":2,\"schoolsup\":\"no\",\"famsup\":\"yes\",\"paid\":\"yes\",\"activities\":\"no\",\"nursery\":\"yes\",\"higher\":\"yes\",\"internet\":\"no\",\"romantic\":\"no\",\"famrel\":5,\"freetime\":5,\"goout\":4,\"Dalc\":4,\"Walc\":5,\"health\":4,\"absences\":11,\"G3\":9},{\"school\":\"MS\",\"sex\":\"M\",\"age\":17,\"address\":\"U\",\"famsize\":\"LE3\",\"Pstatus\":\"T\",\"Medu\":3,\"Fedu\":1,\"Mjob\":\"services\",\"Fjob\":\"services\",\"reason\":\"course\",\"guardian\":\"mother\",\"traveltime\":2,\"studytime\":1,\"failures\":0,\"schoolsup\":\"no\",\"famsup\":\"no\",\"paid\":\"no\",\"activities\":\"no\",\"nursery\":\"no\",\"higher\":\"yes\",\"internet\":\"yes\",\"romantic\":\"no\",\"famrel\":2,\"freetime\":4,\"goout\":5,\"Dalc\":3,\"Walc\":4,\"health\":2,\"absences\":3,\"G3\":16},{\"school\":\"MS\",\"sex\":\"M\",\"age\":21,\"address\":\"R\",\"famsize\":\"GT3\",\"Pstatus\":\"T\",\"Medu\":1,\"Fedu\":1,\"Mjob\":\"other\",\"Fjob\":\"other\",\"reason\":\"course\",\"guardian\":\"other\",\"traveltime\":1,\"studytime\":1,\"failures\":3,\"schoolsup\":\"no\",\"famsup\":\"no\",\"paid\":\"no\",\"activities\":\"no\",\"nursery\":\"no\",\"higher\":\"yes\",\"internet\":\"no\",\"romantic\":\"no\",\"famrel\":5,\"freetime\":5,\"goout\":3,\"Dalc\":3,\"Walc\":3,\"health\":3,\"absences\":3,\"G3\":7},{\"school\":\"MS\",\"sex\":\"M\",\"age\":18,\"address\":\"R\",\"famsize\":\"LE3\",\"Pstatus\":\"T\",\"Medu\":3,\"Fedu\":2,\"Mjob\":\"services\",\"Fjob\":\"other\",\"reason\":\"course\",\"guardian\":\"mother\",\"traveltime\":3,\"studytime\":1,\"failures\":0,\"schoolsup\":\"no\",\"famsup\":\"no\",\"paid\":\"no\",\"activities\":\"no\",\"nursery\":\"no\",\"higher\":\"yes\",\"internet\":\"yes\",\"romantic\":\"no\",\"famrel\":4,\"freetime\":4,\"goout\":1,\"Dalc\":3,\"Walc\":4,\"health\":5,\"absences\":0,\"G3\":10},{\"school\":\"MS\",\"sex\":\"M\",\"age\":19,\"address\":\"U\",\"famsize\":\"LE3\",\"Pstatus\":\"T\",\"Medu\":1,\"Fedu\":1,\"Mjob\":\"other\",\"Fjob\":\"at_home\",\"reason\":\"course\",\"guardian\":\"father\",\"traveltime\":1,\"studytime\":1,\"failures\":0,\"schoolsup\":\"no\",\"famsup\":\"no\",\"paid\":\"no\",\"activities\":\"no\",\"nursery\":\"yes\",\"higher\":\"yes\",\"internet\":\"yes\",\"romantic\":\"no\",\"famrel\":3,\"freetime\":2,\"goout\":3,\"Dalc\":3,\"Walc\":3,\"health\":5,\"absences\":5,\"G3\":9}];\n",
              "          document.querySelector(\"#elem\").data = data;\n",
              "        </script>"
            ],
            "text/plain": [
              "<IPython.core.display.HTML object>"
            ]
          },
          "metadata": {
            "tags": []
          }
        }
      ]
    },
    {
      "cell_type": "markdown",
      "metadata": {
        "id": "kVgkSRUzbTtp",
        "colab_type": "text"
      },
      "source": [
        "### **Вопросы**\n",
        "+ Какие признаки на самом деле не категориальные?\n",
        "+ Какой % учеников ни разу не пропускал занятия?\n",
        "+ Какой % учеников проваливал экзамены хотя бы один раз?\n",
        "+ Есть ли сильно пьющие ученики (Dalc или Walc 3 и больше) с высокими оценками (G3 >= 18)?\n",
        "+ Есть ли состоящие в отношениях ученики с высокими оценками (G3 >= 18)? Какая самая высокая оценка среди сильно пьющих учеников?\n",
        "+ Правда ли, что большинство людей с высшим баллом (G3 >= 18) пьют мало/не пьют (Dalc и Walc = 1)?"
      ]
    },
    {
      "cell_type": "markdown",
      "metadata": {
        "id": "GIe1YkNpbFGc",
        "colab_type": "text"
      },
      "source": [
        "## Корреляции"
      ]
    },
    {
      "cell_type": "code",
      "metadata": {
        "id": "-lbqpgSVvwbi",
        "colab_type": "code",
        "outputId": "e6ac595b-6f72-45eb-f6a7-331a737f565f",
        "colab": {
          "base_uri": "https://localhost:8080/",
          "height": 483
        }
      },
      "source": [
        "# корреляция между признаками (только количественные)\n",
        "data.corr()\n",
        "# data.corr().abs() # абсолютные значения"
      ],
      "execution_count": 28,
      "outputs": [
        {
          "output_type": "execute_result",
          "data": {
            "text/html": [
              "<div>\n",
              "<style scoped>\n",
              "    .dataframe tbody tr th:only-of-type {\n",
              "        vertical-align: middle;\n",
              "    }\n",
              "\n",
              "    .dataframe tbody tr th {\n",
              "        vertical-align: top;\n",
              "    }\n",
              "\n",
              "    .dataframe thead th {\n",
              "        text-align: right;\n",
              "    }\n",
              "</style>\n",
              "<table border=\"1\" class=\"dataframe\">\n",
              "  <thead>\n",
              "    <tr style=\"text-align: right;\">\n",
              "      <th></th>\n",
              "      <th>age</th>\n",
              "      <th>Medu</th>\n",
              "      <th>Fedu</th>\n",
              "      <th>traveltime</th>\n",
              "      <th>studytime</th>\n",
              "      <th>failures</th>\n",
              "      <th>famrel</th>\n",
              "      <th>freetime</th>\n",
              "      <th>goout</th>\n",
              "      <th>Dalc</th>\n",
              "      <th>Walc</th>\n",
              "      <th>health</th>\n",
              "      <th>absences</th>\n",
              "      <th>G3</th>\n",
              "    </tr>\n",
              "  </thead>\n",
              "  <tbody>\n",
              "    <tr>\n",
              "      <th>age</th>\n",
              "      <td>1.000000</td>\n",
              "      <td>-0.163658</td>\n",
              "      <td>-0.163438</td>\n",
              "      <td>0.070641</td>\n",
              "      <td>-0.004140</td>\n",
              "      <td>0.243665</td>\n",
              "      <td>0.053940</td>\n",
              "      <td>0.016434</td>\n",
              "      <td>0.126964</td>\n",
              "      <td>0.131125</td>\n",
              "      <td>0.117276</td>\n",
              "      <td>-0.062187</td>\n",
              "      <td>0.175230</td>\n",
              "      <td>-0.161579</td>\n",
              "    </tr>\n",
              "    <tr>\n",
              "      <th>Medu</th>\n",
              "      <td>-0.163658</td>\n",
              "      <td>1.000000</td>\n",
              "      <td>0.623455</td>\n",
              "      <td>-0.171639</td>\n",
              "      <td>0.064944</td>\n",
              "      <td>-0.236680</td>\n",
              "      <td>-0.003914</td>\n",
              "      <td>0.030891</td>\n",
              "      <td>0.064094</td>\n",
              "      <td>0.019834</td>\n",
              "      <td>-0.047123</td>\n",
              "      <td>-0.046878</td>\n",
              "      <td>0.100285</td>\n",
              "      <td>0.217147</td>\n",
              "    </tr>\n",
              "    <tr>\n",
              "      <th>Fedu</th>\n",
              "      <td>-0.163438</td>\n",
              "      <td>0.623455</td>\n",
              "      <td>1.000000</td>\n",
              "      <td>-0.158194</td>\n",
              "      <td>-0.009175</td>\n",
              "      <td>-0.250408</td>\n",
              "      <td>-0.001370</td>\n",
              "      <td>-0.012846</td>\n",
              "      <td>0.043105</td>\n",
              "      <td>0.002386</td>\n",
              "      <td>-0.012631</td>\n",
              "      <td>0.014742</td>\n",
              "      <td>0.024473</td>\n",
              "      <td>0.152457</td>\n",
              "    </tr>\n",
              "    <tr>\n",
              "      <th>traveltime</th>\n",
              "      <td>0.070641</td>\n",
              "      <td>-0.171639</td>\n",
              "      <td>-0.158194</td>\n",
              "      <td>1.000000</td>\n",
              "      <td>-0.100909</td>\n",
              "      <td>0.092239</td>\n",
              "      <td>-0.016808</td>\n",
              "      <td>-0.017025</td>\n",
              "      <td>0.028540</td>\n",
              "      <td>0.138325</td>\n",
              "      <td>0.134116</td>\n",
              "      <td>0.007501</td>\n",
              "      <td>-0.012944</td>\n",
              "      <td>-0.117142</td>\n",
              "    </tr>\n",
              "    <tr>\n",
              "      <th>studytime</th>\n",
              "      <td>-0.004140</td>\n",
              "      <td>0.064944</td>\n",
              "      <td>-0.009175</td>\n",
              "      <td>-0.100909</td>\n",
              "      <td>1.000000</td>\n",
              "      <td>-0.173563</td>\n",
              "      <td>0.039731</td>\n",
              "      <td>-0.143198</td>\n",
              "      <td>-0.063904</td>\n",
              "      <td>-0.196019</td>\n",
              "      <td>-0.253785</td>\n",
              "      <td>-0.075616</td>\n",
              "      <td>-0.062700</td>\n",
              "      <td>0.097820</td>\n",
              "    </tr>\n",
              "    <tr>\n",
              "      <th>failures</th>\n",
              "      <td>0.243665</td>\n",
              "      <td>-0.236680</td>\n",
              "      <td>-0.250408</td>\n",
              "      <td>0.092239</td>\n",
              "      <td>-0.173563</td>\n",
              "      <td>1.000000</td>\n",
              "      <td>-0.044337</td>\n",
              "      <td>0.091987</td>\n",
              "      <td>0.124561</td>\n",
              "      <td>0.136047</td>\n",
              "      <td>0.141962</td>\n",
              "      <td>0.065827</td>\n",
              "      <td>0.063726</td>\n",
              "      <td>-0.360415</td>\n",
              "    </tr>\n",
              "    <tr>\n",
              "      <th>famrel</th>\n",
              "      <td>0.053940</td>\n",
              "      <td>-0.003914</td>\n",
              "      <td>-0.001370</td>\n",
              "      <td>-0.016808</td>\n",
              "      <td>0.039731</td>\n",
              "      <td>-0.044337</td>\n",
              "      <td>1.000000</td>\n",
              "      <td>0.150701</td>\n",
              "      <td>0.064568</td>\n",
              "      <td>-0.077594</td>\n",
              "      <td>-0.113397</td>\n",
              "      <td>0.094056</td>\n",
              "      <td>-0.044354</td>\n",
              "      <td>0.051363</td>\n",
              "    </tr>\n",
              "    <tr>\n",
              "      <th>freetime</th>\n",
              "      <td>0.016434</td>\n",
              "      <td>0.030891</td>\n",
              "      <td>-0.012846</td>\n",
              "      <td>-0.017025</td>\n",
              "      <td>-0.143198</td>\n",
              "      <td>0.091987</td>\n",
              "      <td>0.150701</td>\n",
              "      <td>1.000000</td>\n",
              "      <td>0.285019</td>\n",
              "      <td>0.209001</td>\n",
              "      <td>0.147822</td>\n",
              "      <td>0.075733</td>\n",
              "      <td>-0.058078</td>\n",
              "      <td>0.011307</td>\n",
              "    </tr>\n",
              "    <tr>\n",
              "      <th>goout</th>\n",
              "      <td>0.126964</td>\n",
              "      <td>0.064094</td>\n",
              "      <td>0.043105</td>\n",
              "      <td>0.028540</td>\n",
              "      <td>-0.063904</td>\n",
              "      <td>0.124561</td>\n",
              "      <td>0.064568</td>\n",
              "      <td>0.285019</td>\n",
              "      <td>1.000000</td>\n",
              "      <td>0.266994</td>\n",
              "      <td>0.420386</td>\n",
              "      <td>-0.009577</td>\n",
              "      <td>0.044302</td>\n",
              "      <td>-0.132791</td>\n",
              "    </tr>\n",
              "    <tr>\n",
              "      <th>Dalc</th>\n",
              "      <td>0.131125</td>\n",
              "      <td>0.019834</td>\n",
              "      <td>0.002386</td>\n",
              "      <td>0.138325</td>\n",
              "      <td>-0.196019</td>\n",
              "      <td>0.136047</td>\n",
              "      <td>-0.077594</td>\n",
              "      <td>0.209001</td>\n",
              "      <td>0.266994</td>\n",
              "      <td>1.000000</td>\n",
              "      <td>0.647544</td>\n",
              "      <td>0.077180</td>\n",
              "      <td>0.111908</td>\n",
              "      <td>-0.054660</td>\n",
              "    </tr>\n",
              "    <tr>\n",
              "      <th>Walc</th>\n",
              "      <td>0.117276</td>\n",
              "      <td>-0.047123</td>\n",
              "      <td>-0.012631</td>\n",
              "      <td>0.134116</td>\n",
              "      <td>-0.253785</td>\n",
              "      <td>0.141962</td>\n",
              "      <td>-0.113397</td>\n",
              "      <td>0.147822</td>\n",
              "      <td>0.420386</td>\n",
              "      <td>0.647544</td>\n",
              "      <td>1.000000</td>\n",
              "      <td>0.092476</td>\n",
              "      <td>0.136291</td>\n",
              "      <td>-0.051939</td>\n",
              "    </tr>\n",
              "    <tr>\n",
              "      <th>health</th>\n",
              "      <td>-0.062187</td>\n",
              "      <td>-0.046878</td>\n",
              "      <td>0.014742</td>\n",
              "      <td>0.007501</td>\n",
              "      <td>-0.075616</td>\n",
              "      <td>0.065827</td>\n",
              "      <td>0.094056</td>\n",
              "      <td>0.075733</td>\n",
              "      <td>-0.009577</td>\n",
              "      <td>0.077180</td>\n",
              "      <td>0.092476</td>\n",
              "      <td>1.000000</td>\n",
              "      <td>-0.029937</td>\n",
              "      <td>-0.061335</td>\n",
              "    </tr>\n",
              "    <tr>\n",
              "      <th>absences</th>\n",
              "      <td>0.175230</td>\n",
              "      <td>0.100285</td>\n",
              "      <td>0.024473</td>\n",
              "      <td>-0.012944</td>\n",
              "      <td>-0.062700</td>\n",
              "      <td>0.063726</td>\n",
              "      <td>-0.044354</td>\n",
              "      <td>-0.058078</td>\n",
              "      <td>0.044302</td>\n",
              "      <td>0.111908</td>\n",
              "      <td>0.136291</td>\n",
              "      <td>-0.029937</td>\n",
              "      <td>1.000000</td>\n",
              "      <td>0.034247</td>\n",
              "    </tr>\n",
              "    <tr>\n",
              "      <th>G3</th>\n",
              "      <td>-0.161579</td>\n",
              "      <td>0.217147</td>\n",
              "      <td>0.152457</td>\n",
              "      <td>-0.117142</td>\n",
              "      <td>0.097820</td>\n",
              "      <td>-0.360415</td>\n",
              "      <td>0.051363</td>\n",
              "      <td>0.011307</td>\n",
              "      <td>-0.132791</td>\n",
              "      <td>-0.054660</td>\n",
              "      <td>-0.051939</td>\n",
              "      <td>-0.061335</td>\n",
              "      <td>0.034247</td>\n",
              "      <td>1.000000</td>\n",
              "    </tr>\n",
              "  </tbody>\n",
              "</table>\n",
              "</div>"
            ],
            "text/plain": [
              "                 age      Medu      Fedu  ...    health  absences        G3\n",
              "age         1.000000 -0.163658 -0.163438  ... -0.062187  0.175230 -0.161579\n",
              "Medu       -0.163658  1.000000  0.623455  ... -0.046878  0.100285  0.217147\n",
              "Fedu       -0.163438  0.623455  1.000000  ...  0.014742  0.024473  0.152457\n",
              "traveltime  0.070641 -0.171639 -0.158194  ...  0.007501 -0.012944 -0.117142\n",
              "studytime  -0.004140  0.064944 -0.009175  ... -0.075616 -0.062700  0.097820\n",
              "failures    0.243665 -0.236680 -0.250408  ...  0.065827  0.063726 -0.360415\n",
              "famrel      0.053940 -0.003914 -0.001370  ...  0.094056 -0.044354  0.051363\n",
              "freetime    0.016434  0.030891 -0.012846  ...  0.075733 -0.058078  0.011307\n",
              "goout       0.126964  0.064094  0.043105  ... -0.009577  0.044302 -0.132791\n",
              "Dalc        0.131125  0.019834  0.002386  ...  0.077180  0.111908 -0.054660\n",
              "Walc        0.117276 -0.047123 -0.012631  ...  0.092476  0.136291 -0.051939\n",
              "health     -0.062187 -0.046878  0.014742  ...  1.000000 -0.029937 -0.061335\n",
              "absences    0.175230  0.100285  0.024473  ... -0.029937  1.000000  0.034247\n",
              "G3         -0.161579  0.217147  0.152457  ... -0.061335  0.034247  1.000000\n",
              "\n",
              "[14 rows x 14 columns]"
            ]
          },
          "metadata": {
            "tags": []
          },
          "execution_count": 28
        }
      ]
    },
    {
      "cell_type": "code",
      "metadata": {
        "id": "uy_Z67g-SeXR",
        "colab_type": "code",
        "outputId": "c6a95e9a-40f7-41fa-afc1-dc1dcab1d9d8",
        "colab": {
          "base_uri": "https://localhost:8080/",
          "height": 272
        }
      },
      "source": [
        "# признаки, больше всего коррелирующие с целевой переменной (G3)\n",
        "data.corr().abs()['G3'].sort_values(ascending=False)"
      ],
      "execution_count": 29,
      "outputs": [
        {
          "output_type": "execute_result",
          "data": {
            "text/plain": [
              "G3            1.000000\n",
              "failures      0.360415\n",
              "Medu          0.217147\n",
              "age           0.161579\n",
              "Fedu          0.152457\n",
              "goout         0.132791\n",
              "traveltime    0.117142\n",
              "studytime     0.097820\n",
              "health        0.061335\n",
              "Dalc          0.054660\n",
              "Walc          0.051939\n",
              "famrel        0.051363\n",
              "absences      0.034247\n",
              "freetime      0.011307\n",
              "Name: G3, dtype: float64"
            ]
          },
          "metadata": {
            "tags": []
          },
          "execution_count": 29
        }
      ]
    },
    {
      "cell_type": "markdown",
      "metadata": {
        "id": "YenCSjzRWuLy",
        "colab_type": "text"
      },
      "source": [
        "### Вопросы\n",
        "+ Те, кто много пьёт, учатся хуже?\n",
        "+ Учащиеся, которые живут дальше от школы чаще отстутствуют? "
      ]
    },
    {
      "cell_type": "markdown",
      "metadata": {
        "id": "8lFdlBBKdlcv",
        "colab_type": "text"
      },
      "source": [
        "### Задание\n",
        "Написать функцию, которая выведет топ n пар признаков с самым высоким абсолютным коэффициентом корреляции"
      ]
    },
    {
      "cell_type": "code",
      "metadata": {
        "id": "3cPUKWbVgHId",
        "colab_type": "code",
        "outputId": "cb4fa833-aef0-4fa3-c416-3f49eee504ef",
        "colab": {
          "base_uri": "https://localhost:8080/",
          "height": 0
        }
      },
      "source": [
        "data.corr().unstack()"
      ],
      "execution_count": 30,
      "outputs": [
        {
          "output_type": "execute_result",
          "data": {
            "text/plain": [
              "age  age           1.000000\n",
              "     Medu         -0.163658\n",
              "     Fedu         -0.163438\n",
              "     traveltime    0.070641\n",
              "     studytime    -0.004140\n",
              "                     ...   \n",
              "G3   Dalc         -0.054660\n",
              "     Walc         -0.051939\n",
              "     health       -0.061335\n",
              "     absences      0.034247\n",
              "     G3            1.000000\n",
              "Length: 196, dtype: float64"
            ]
          },
          "metadata": {
            "tags": []
          },
          "execution_count": 30
        }
      ]
    },
    {
      "cell_type": "code",
      "metadata": {
        "id": "XPFgX5c0eCXJ",
        "colab_type": "code",
        "colab": {}
      },
      "source": [
        "def get_top_n_abs_corr(data, n=5):\n",
        "    pass"
      ],
      "execution_count": 0,
      "outputs": []
    },
    {
      "cell_type": "markdown",
      "metadata": {
        "id": "bWaAM80DV5C2",
        "colab_type": "text"
      },
      "source": [
        "### Графики"
      ]
    },
    {
      "cell_type": "code",
      "metadata": {
        "id": "2JkByoUaWMcu",
        "colab_type": "code",
        "outputId": "9bddef05-11e5-43e4-af0d-18f2e1ec8368",
        "colab": {
          "base_uri": "https://localhost:8080/",
          "height": 445
        }
      },
      "source": [
        "# гистограмма\n",
        "data['G3'].plot(kind='hist', figsize=(7, 7))"
      ],
      "execution_count": 32,
      "outputs": [
        {
          "output_type": "execute_result",
          "data": {
            "text/plain": [
              "<matplotlib.axes._subplots.AxesSubplot at 0x7f0f08c7d780>"
            ]
          },
          "metadata": {
            "tags": []
          },
          "execution_count": 32
        },
        {
          "output_type": "display_data",
          "data": {
            "image/png": "[encoded data removed]",
            "text/plain": [
              "<Figure size 504x504 with 1 Axes>"
            ]
          },
          "metadata": {
            "tags": []
          }
        }
      ]
    },
    {
      "cell_type": "code",
      "metadata": {
        "id": "VCxhcbmzedhj",
        "colab_type": "code",
        "outputId": "f1425834-bc89-47cf-9b55-5186a78fa067",
        "colab": {
          "base_uri": "https://localhost:8080/",
          "height": 290
        }
      },
      "source": [
        "# для категориальных признаков\n",
        "data['romantic'].value_counts().plot(kind='bar')"
      ],
      "execution_count": 33,
      "outputs": [
        {
          "output_type": "execute_result",
          "data": {
            "text/plain": [
              "<matplotlib.axes._subplots.AxesSubplot at 0x7f0f06f836d8>"
            ]
          },
          "metadata": {
            "tags": []
          },
          "execution_count": 33
        },
        {
          "output_type": "display_data",
          "data": {
            "image/png": "[encoded data removed]",
            "text/plain": [
              "<Figure size 432x288 with 1 Axes>"
            ]
          },
          "metadata": {
            "tags": []
          }
        }
      ]
    },
    {
      "cell_type": "code",
      "metadata": {
        "id": "3geCTI46XIOV",
        "colab_type": "code",
        "outputId": "25854417-a258-45da-be38-db2ce50926e8",
        "colab": {
          "base_uri": "https://localhost:8080/",
          "height": 459
        }
      },
      "source": [
        "data.sort_values(['G3', 'failures']).plot(x='G3', y='failures', figsize=(7, 7), kind='line')"
      ],
      "execution_count": 34,
      "outputs": [
        {
          "output_type": "execute_result",
          "data": {
            "text/plain": [
              "<matplotlib.axes._subplots.AxesSubplot at 0x7f0f06f5bba8>"
            ]
          },
          "metadata": {
            "tags": []
          },
          "execution_count": 34
        },
        {
          "output_type": "display_data",
          "data": {
            "image/png": "[encoded data removed]",
            "text/plain": [
              "<Figure size 504x504 with 1 Axes>"
            ]
          },
          "metadata": {
            "tags": []
          }
        }
      ]
    },
    {
      "cell_type": "code",
      "metadata": {
        "id": "xSnQIjmFa3DU",
        "colab_type": "code",
        "outputId": "5121f47d-95dd-4821-bfab-96b1152ed999",
        "colab": {
          "base_uri": "https://localhost:8080/",
          "height": 459
        }
      },
      "source": [
        "# scatter plot\n",
        "data.plot(x='G3', y='absences', figsize=(7, 7), kind = 'scatter')"
      ],
      "execution_count": 35,
      "outputs": [
        {
          "output_type": "execute_result",
          "data": {
            "text/plain": [
              "<matplotlib.axes._subplots.AxesSubplot at 0x7f0f06e68860>"
            ]
          },
          "metadata": {
            "tags": []
          },
          "execution_count": 35
        },
        {
          "output_type": "display_data",
          "data": {
            "image/png": "[encoded data removed]",
            "text/plain": [
              "<Figure size 504x504 with 1 Axes>"
            ]
          },
          "metadata": {
            "tags": []
          }
        }
      ]
    },
    {
      "cell_type": "markdown",
      "metadata": {
        "id": "QKMOD0xBfICy",
        "colab_type": "text"
      },
      "source": [
        "### Дополнительные материалы"
      ]
    },
    {
      "cell_type": "markdown",
      "metadata": {
        "id": "tjK9NV6HfPtq",
        "colab_type": "text"
      },
      "source": [
        "+ [Первичный анализ данных с pandas от ODS](https://habr.com/ru/company/ods/blog/322626/) \n",
        "+ [Google facets tutorial](https://colab.research.google.com/github/PAIR-code/facets/blob/master/colab_facets.ipynb#scrollTo=b7zs2p2_goJa)"
      ]
    }
  ]
}