{
 "cells": [
  {
   "cell_type": "markdown",
   "metadata": {
    "colab_type": "text",
    "id": "3JD_zmuXKyQE"
   },
   "source": [
    "## Бонус - как включить проверку pep8 в ipynb"
   ]
  },
  {
   "cell_type": "code",
   "execution_count": 1,
   "metadata": {
    "colab": {
     "base_uri": "https://localhost:8080/",
     "height": 272
    },
    "colab_type": "code",
    "id": "rjXhbFDWGIU5",
    "outputId": "78871dff-1d24-46fb-afe4-762bec7bd6f8"
   },
   "outputs": [
    {
     "name": "stdout",
     "output_type": "stream",
     "text": [
      "Collecting ipython\n",
      "\u001b[?25l  Downloading https://files.pythonhosted.org/packages/61/6f/69f1eec859ce48a86660529b166b6ea466f0f4ab98e4fc0807b835aa22c6/ipython-7.13.0-py3-none-any.whl (780kB)\n",
      "\u001b[K     |████████████████████████████████| 788kB 805kB/s eta 0:00:01\n",
      "\u001b[?25hRequirement already satisfied, skipping upgrade: traitlets>=4.2 in /home/lena/anaconda3/lib/python3.7/site-packages (from ipython) (4.3.3)\n",
      "Requirement already satisfied, skipping upgrade: jedi>=0.10 in /home/lena/anaconda3/lib/python3.7/site-packages (from ipython) (0.15.1)\n",
      "Requirement already satisfied, skipping upgrade: backcall in /home/lena/anaconda3/lib/python3.7/site-packages (from ipython) (0.1.0)\n",
      "Requirement already satisfied, skipping upgrade: pygments in /home/lena/anaconda3/lib/python3.7/site-packages (from ipython) (2.4.2)\n",
      "Requirement already satisfied, skipping upgrade: pexpect; sys_platform != \"win32\" in /home/lena/anaconda3/lib/python3.7/site-packages (from ipython) (4.7.0)\n",
      "Requirement already satisfied, skipping upgrade: setuptools>=18.5 in /home/lena/anaconda3/lib/python3.7/site-packages (from ipython) (41.4.0)\n",
      "Requirement already satisfied, skipping upgrade: decorator in /home/lena/anaconda3/lib/python3.7/site-packages (from ipython) (4.4.0)\n",
      "Requirement already satisfied, skipping upgrade: prompt-toolkit!=3.0.0,!=3.0.1,<3.1.0,>=2.0.0 in /home/lena/anaconda3/lib/python3.7/site-packages (from ipython) (2.0.10)\n",
      "Requirement already satisfied, skipping upgrade: pickleshare in /home/lena/anaconda3/lib/python3.7/site-packages (from ipython) (0.7.5)\n",
      "Requirement already satisfied, skipping upgrade: ipython-genutils in /home/lena/anaconda3/lib/python3.7/site-packages (from traitlets>=4.2->ipython) (0.2.0)\n",
      "Requirement already satisfied, skipping upgrade: six in /home/lena/anaconda3/lib/python3.7/site-packages (from traitlets>=4.2->ipython) (1.12.0)\n",
      "Requirement already satisfied, skipping upgrade: parso>=0.5.0 in /home/lena/anaconda3/lib/python3.7/site-packages (from jedi>=0.10->ipython) (0.5.1)\n",
      "Requirement already satisfied, skipping upgrade: ptyprocess>=0.5 in /home/lena/anaconda3/lib/python3.7/site-packages (from pexpect; sys_platform != \"win32\"->ipython) (0.6.0)\n",
      "Requirement already satisfied, skipping upgrade: wcwidth in /home/lena/anaconda3/lib/python3.7/site-packages (from prompt-toolkit!=3.0.0,!=3.0.1,<3.1.0,>=2.0.0->ipython) (0.1.7)\n",
      "Installing collected packages: ipython\n",
      "  Found existing installation: ipython 7.8.0\n",
      "    Uninstalling ipython-7.8.0:\n",
      "      Successfully uninstalled ipython-7.8.0\n",
      "Successfully installed ipython-7.13.0\n"
     ]
    }
   ],
   "source": [
    "# обновить ipython до версии >= 6.3, если еще не\n",
    "!pip install --upgrade ipython"
   ]
  },
  {
   "cell_type": "code",
   "execution_count": 2,
   "metadata": {
    "colab": {
     "base_uri": "https://localhost:8080/",
     "height": 153
    },
    "colab_type": "code",
    "id": "mKGo42OCFm_O",
    "outputId": "20cef89f-8d25-4525-e019-c8208dd145ad"
   },
   "outputs": [
    {
     "name": "stdout",
     "output_type": "stream",
     "text": [
      "Collecting flake8\n",
      "\u001b[?25l  Downloading https://files.pythonhosted.org/packages/f8/1f/7ea40d1e4146ea55dbab41cda1376db092a75794914169aabd7e8d7a7def/flake8-3.7.9-py2.py3-none-any.whl (69kB)\n",
      "\u001b[K     |████████████████████████████████| 71kB 313kB/s eta 0:00:011\n",
      "\u001b[?25hCollecting pycodestyle_magic\n",
      "  Downloading https://files.pythonhosted.org/packages/ec/6f/f206894604a44b522bfa3b6264ca6c213bf89f119942dc3f35fc6589954c/pycodestyle_magic-0.5-py2.py3-none-any.whl\n",
      "Requirement already satisfied: pyflakes<2.2.0,>=2.1.0 in /home/lena/anaconda3/lib/python3.7/site-packages (from flake8) (2.1.1)\n",
      "Requirement already satisfied: pycodestyle<2.6.0,>=2.5.0 in /home/lena/anaconda3/lib/python3.7/site-packages (from flake8) (2.5.0)\n",
      "Requirement already satisfied: entrypoints<0.4.0,>=0.3.0 in /home/lena/anaconda3/lib/python3.7/site-packages (from flake8) (0.3)\n",
      "Requirement already satisfied: mccabe<0.7.0,>=0.6.0 in /home/lena/anaconda3/lib/python3.7/site-packages (from flake8) (0.6.1)\n",
      "Installing collected packages: flake8, pycodestyle-magic\n",
      "Successfully installed flake8-3.7.9 pycodestyle-magic-0.5\n"
     ]
    }
   ],
   "source": [
    "# установить нужные библиотеки\n",
    "!pip install flake8 pycodestyle_magic"
   ]
  },
  {
   "cell_type": "code",
   "execution_count": 3,
   "metadata": {
    "colab": {},
    "colab_type": "code",
    "id": "uilZc3qNFkPB"
   },
   "outputs": [],
   "source": [
    "# загрузить функцию проверки кода\n",
    "%load_ext pycodestyle_magic"
   ]
  },
  {
   "cell_type": "code",
   "execution_count": 4,
   "metadata": {
    "colab": {},
    "colab_type": "code",
    "id": "o7mSVzAGGhCv"
   },
   "outputs": [],
   "source": [
    "# включить проверку кода\n",
    "%pycodestyle_on \n",
    "# или\n",
    "# %flake8_on "
   ]
  },
  {
   "cell_type": "code",
   "execution_count": 5,
   "metadata": {
    "colab": {
     "base_uri": "https://localhost:8080/",
     "height": 34
    },
    "colab_type": "code",
    "id": "vemB-xZFiuYo",
    "outputId": "7c8b4bdc-5aaf-4a8a-fa64-53b813e4aa0e"
   },
   "outputs": [
    {
     "name": "stderr",
     "output_type": "stream",
     "text": [
      "3:2: E225 missing whitespace around operator\n"
     ]
    }
   ],
   "source": [
    "# на код не по пеп8 вылезут предупреждения\n",
    "\n",
    "a=1"
   ]
  },
  {
   "cell_type": "markdown",
   "metadata": {
    "colab_type": "text",
    "id": "86OXFkRenOW3"
   },
   "source": [
    "+ Нейминг оно не проверяет.\n",
    "+ Репозиторий pycodestyle_magic https://github.com/mattijn/pycodestyle_magic\n",
    "+ Подробнее про разницу между pycodstyle и flake8 и вобще про линтеры можно почитать тут http://books.agiliq.com/projects/essential-python-tools/en/latest/linters.html"
   ]
  },
  {
   "cell_type": "markdown",
   "metadata": {
    "colab_type": "text",
    "id": "WByZ2uW4yXni"
   },
   "source": [
    "# Mock"
   ]
  },
  {
   "cell_type": "markdown",
   "metadata": {
    "colab_type": "text",
    "id": "QZpWKiOx7eYc"
   },
   "source": [
    "Модуль mock позволяет нам подменить объекты в коде на моки (макеты с заранее определенным поведением) на время тестов. Это позволяет упростить написание тестов и добиться полного контроля над поведением программы. "
   ]
  },
  {
   "cell_type": "code",
   "execution_count": 6,
   "metadata": {
    "colab": {},
    "colab_type": "code",
    "id": "wVpx34IO7egY"
   },
   "outputs": [],
   "source": [
    "import unittest\n",
    "from unittest.mock import patch"
   ]
  },
  {
   "cell_type": "markdown",
   "metadata": {
    "colab_type": "text",
    "id": "Gb2jGyXI6lRY"
   },
   "source": [
    "## Patch"
   ]
  },
  {
   "cell_type": "markdown",
   "metadata": {
    "colab_type": "text",
    "id": "t0mosz7_8Xcd"
   },
   "source": [
    "+ заменить один объект дургим на время тестов можно с помощью функции ***patch***\n",
    "+ используется как-то так\n",
    "```\n",
    "patch('module.object.method', ...)\n",
    "```\n",
    "+ может быть так же в виде декоратора - аргументы будут те же\n",
    "```\n",
    "@patch('module.object.method', ...)\n",
    "def test_something(...):\n",
    "    ...\n",
    "```\n",
    "+ первый аргумент - путь до объекта/метода который надо заменить (через точки, так же как мы импортируем объекты)\n",
    "+ следующие аргументы определяют на что и как именно заменить\n",
    "+ подробнее про аргументы: https://docs.python.org/3/library/unittest.mock.html#patch   \n"
   ]
  },
  {
   "cell_type": "markdown",
   "metadata": {
    "colab_type": "text",
    "id": "31WVCENx8e9M"
   },
   "source": [
    "**ВАЖНО - где именно заменять объект**\n",
    "+ То есть какой именно путь писать в ***patch*** первым аргументом?\n",
    "+ Основное правило - заменять объект нужно **там где он используется**, а не там откуда его импортировали. \n",
    "+ То есть если в модуле (***my_beautiful_module.py***), который мы хотим протестировать импортируется какой-то объект который мы хотим заменить на мок (в данном случае функция ***some_fucntion***)\n",
    "```\n",
    "from some_module import some_function\n",
    "def my_function():\n",
    "    result = some_method() + 1\n",
    "    return result\n",
    "```\n",
    "+ То в тестах нужно делать вот так, (а не *'some_module.some_function'*)\n",
    "```\n",
    "@patch('my_beautiful_module.some_function', ...)\n",
    "def test_my_function(...):\n",
    "    ...\n",
    "```\n",
    "+ Довольно часто все работает, даже если делать неправильно, но далеко не всегда.\n",
    "+ Подробнее про это: https://docs.python.org/3/library/unittest.mock.html#id6\n"
   ]
  },
  {
   "cell_type": "markdown",
   "metadata": {
    "colab_type": "text",
    "id": "UNscWjzhI8vn"
   },
   "source": [
    "## Тестируем пользовательский ввод"
   ]
  },
  {
   "cell_type": "code",
   "execution_count": 7,
   "metadata": {
    "colab": {
     "base_uri": "https://localhost:8080/",
     "height": 102
    },
    "colab_type": "code",
    "id": "Gd3y0WL7wbUL",
    "outputId": "41483091-8254-46df-cfbd-5b61555cb5f6"
   },
   "outputs": [
    {
     "name": "stderr",
     "output_type": "stream",
     "text": [
      "..\n",
      "----------------------------------------------------------------------\n",
      "Ran 2 tests in 0.003s\n",
      "\n",
      "OK\n"
     ]
    }
   ],
   "source": [
    "def answer():\n",
    "    answer = input('Answer yes or no')\n",
    "    if answer == 'yes':\n",
    "        return 1\n",
    "    return 0\n",
    "\n",
    "\n",
    "# декоратор @patch\n",
    "# обращаем внимание на то, что в функцию test_answer\n",
    "# нужно добавить еще один параметр, тк декоратор patch\n",
    "# создает мок-объект и передает его в функцию в качестве аргумента\n",
    "class TestAnswer(unittest.TestCase):\n",
    "    # у нас и тестируемый код и тесты в одном файле,\n",
    "    # поэтому в качестве имени модуля __main__\n",
    "    @patch('__main__.input', return_value='yes')\n",
    "    def test_answer_yes(self, fake_input):\n",
    "        result = answer()\n",
    "        self.assertEqual(result, 1)\n",
    "\n",
    "    @patch('__main__.input', return_value='no')\n",
    "    def test_answer_no(self, fake_input):\n",
    "        result = answer()\n",
    "        self.assertEqual(result, 0)\n",
    "\n",
    "\n",
    "# # альтернативный вариант - контекстный менеджер и функция patch\n",
    "# # здесь параметр добавлять не надо\n",
    "# class TestAnswer(unittest.TestCase):\n",
    "#     def test_answer_yes(self):\n",
    "#         with patch('__main__.input', return_value='yes'):\n",
    "#             result = answer()\n",
    "#             self.assertEqual(result, 1)\n",
    "\n",
    "#     def test_answer_no(self):\n",
    "#         with patch('__main__.input', return_value='no'):\n",
    "#             result = answer()\n",
    "#             self.assertEqual(result, 0)\n",
    "\n",
    "\n",
    "# запустить все тесты\n",
    "if __name__ == '__main__':\n",
    "    unittest.main(argv=['first-arg-is-ignored'], exit=False)"
   ]
  },
  {
   "cell_type": "markdown",
   "metadata": {
    "colab_type": "text",
    "id": "s69GB48O8CNz"
   },
   "source": [
    "## side_effect"
   ]
  },
  {
   "cell_type": "markdown",
   "metadata": {
    "colab_type": "text",
    "id": "DcZnklFINhgI"
   },
   "source": [
    " Используем параметр side_effect. \n",
    " Туда можно передать много чего: \n",
    " + любой итерируемый объект\n",
    " + функцию, которая будет вызвана с переданными в исходную функцию парамерами вместо нее\n",
    " + или исключение (тогда оно будет поднято в процессе выполнения теста)       \n",
    " \n",
    "Подробнее в документации https://docs.python.org/3/library/unittest.mock.html#unittest.mock.Mock.side_effect\n",
    "\n",
    "\n",
    "В данном случае он пригодится нам, т.к. функция, которую мы хотим подменить вызывается в цикле и нужно передать не одно возвращаемое значение, а их последовательность."
   ]
  },
  {
   "cell_type": "code",
   "execution_count": 8,
   "metadata": {
    "colab": {
     "base_uri": "https://localhost:8080/",
     "height": 136
    },
    "colab_type": "code",
    "id": "GD0RrhFv7Aye",
    "outputId": "e747b72b-20f8-46b6-e3d4-b33748ad8ff2"
   },
   "outputs": [
    {
     "name": "stderr",
     "output_type": "stream",
     "text": [
      "."
     ]
    },
    {
     "name": "stdout",
     "output_type": "stream",
     "text": [
      "Please say yes\n",
      "Please say yes\n"
     ]
    },
    {
     "name": "stderr",
     "output_type": "stream",
     "text": [
      "\n",
      "----------------------------------------------------------------------\n",
      "Ran 1 test in 0.001s\n",
      "\n",
      "OK\n"
     ]
    }
   ],
   "source": [
    "def answer():\n",
    "    answer = 'no'\n",
    "    while answer == 'no':\n",
    "        answer = input('Answer yes or no')\n",
    "        if answer == 'yes':\n",
    "            return 1\n",
    "        print('Please say yes')\n",
    "\n",
    "\n",
    "class TestAnswer(unittest.TestCase):\n",
    "    # в качестве инпута вернется 2 раза 'no', затем 'yes'\n",
    "    @patch('__main__.input', side_effect=['no', 'no', 'yes'])\n",
    "    def test_answer(self, fake_input):\n",
    "        result = answer()\n",
    "        self.assertEqual(result, 1)\n",
    "\n",
    "# # альтернативный вариант - контекстный менеджер\n",
    "# class TestAnswer(unittest.TestCase):\n",
    "#     def test_answer(self):\n",
    "#         with patch('__main__.input', side_effect=['no', 'no', 'yes']):\n",
    "#             result = answer()\n",
    "#             self.assertEqual(result, 1)\n",
    "\n",
    "\n",
    "# запустить все тесты\n",
    "if __name__ == '__main__':\n",
    "    unittest.main(argv=['first-arg-is-ignored'], exit=False)"
   ]
  },
  {
   "cell_type": "markdown",
   "metadata": {
    "colab_type": "text",
    "id": "d_aQuH5f6WAD"
   },
   "source": [
    "## Если нужно заменить на моки несколько объектов"
   ]
  },
  {
   "cell_type": "markdown",
   "metadata": {
    "colab_type": "text",
    "id": "JVpg_Oi5QD4q"
   },
   "source": [
    "В идеале тут стоит еще протестировать вывод - что печатается то, что нужно и нужное количество раз. "
   ]
  },
  {
   "cell_type": "code",
   "execution_count": 9,
   "metadata": {
    "colab": {
     "base_uri": "https://localhost:8080/",
     "height": 102
    },
    "colab_type": "code",
    "id": "8sPGHHJcPAxO",
    "outputId": "3269e74e-1028-41ed-a429-84aa7aed8b55"
   },
   "outputs": [
    {
     "name": "stderr",
     "output_type": "stream",
     "text": [
      ".\n",
      "----------------------------------------------------------------------\n",
      "Ran 1 test in 0.001s\n",
      "\n",
      "OK\n"
     ]
    }
   ],
   "source": [
    "import io\n",
    "\n",
    "\n",
    "def answer():\n",
    "    answer = 'no'\n",
    "    while answer == 'no':\n",
    "        answer = input('Answer yes or no')\n",
    "        if answer == 'yes':\n",
    "            return 1\n",
    "        print('Please say yes')\n",
    "\n",
    "\n",
    "class TestAnswer(unittest.TestCase):\n",
    "    # подменяем стандартный вывод (sys.stdout) на мок, из котрого потом\n",
    "    # можно будет достать все, что напечаталось\n",
    "    # помним о порядке применения декораторов - начиная с ближнего к функции\n",
    "    # поэтому у нас fake_input первым аргументом, fake_output - вторым\n",
    "    @patch('sys.stdout', new_callable=io.StringIO)\n",
    "    @patch('__main__.input', side_effect=['no', 'no', 'yes'])\n",
    "    def test_answer(self, fake_input, fake_output):\n",
    "        result = answer()\n",
    "        outputs = fake_output.getvalue().strip().split('\\n')\n",
    "        self.assertEqual(result, 1)\n",
    "        self.assertEqual(len(outputs), 2)\n",
    "        self.assertEqual(['Please say yes', 'Please say yes'], outputs)\n",
    "\n",
    "\n",
    "# class TestAnswer(unittest.TestCase):\n",
    "#     def test_answer(self):\n",
    "#         # записываем мок заменяющий sys.stdout в переменную fake_output,\n",
    "#         # чтобы потом к нему обращаться\n",
    "#         with patch('__main__.input', side_effect=['no', 'no', 'yes']), \\\n",
    "#           patch('sys.stdout', new=io.StringIO()) as fake_output:\n",
    "#             result = answer()\n",
    "#             outputs = fake_output.getvalue().strip().split('\\n')\n",
    "#             self.assertEqual(result, 1)\n",
    "#             self.assertEqual(len(outputs), 2)\n",
    "#             self.assertEqual(['Please say yes', 'Please say yes'], outputs)\n",
    "\n",
    "\n",
    "# запустить все тесты\n",
    "if __name__ == '__main__':\n",
    "    unittest.main(argv=['first-arg-is-ignored'], exit=False)"
   ]
  },
  {
   "cell_type": "markdown",
   "metadata": {
    "colab_type": "text",
    "id": "5ae98xb57ZCG"
   },
   "source": [
    "## Read-only properties"
   ]
  },
  {
   "cell_type": "markdown",
   "metadata": {
    "colab_type": "text",
    "id": "fs_I3-QARdu4"
   },
   "source": [
    "+ Используем декоратор @property и защищенный/приватный атрибут, в зависимости от того, насколько мы не доверяем пользователю"
   ]
  },
  {
   "cell_type": "code",
   "execution_count": 10,
   "metadata": {
    "colab": {
     "base_uri": "https://localhost:8080/",
     "height": 214
    },
    "colab_type": "code",
    "id": "jP2_btnG7fIZ",
    "outputId": "580bd5f3-f689-422b-9910-5d41da596620"
   },
   "outputs": [
    {
     "name": "stdout",
     "output_type": "stream",
     "text": [
      "1\n"
     ]
    },
    {
     "ename": "AttributeError",
     "evalue": "can't set attribute",
     "output_type": "error",
     "traceback": [
      "\u001b[0;31m---------------------------------------------------------------------------\u001b[0m",
      "\u001b[0;31mAttributeError\u001b[0m                            Traceback (most recent call last)",
      "\u001b[0;32m<ipython-input-10-0abee0ac6bc1>\u001b[0m in \u001b[0;36m<module>\u001b[0;34m\u001b[0m\n\u001b[1;32m     10\u001b[0m \u001b[0mmy_obj\u001b[0m \u001b[0;34m=\u001b[0m \u001b[0mMyClass\u001b[0m\u001b[0;34m(\u001b[0m\u001b[0;36m1\u001b[0m\u001b[0;34m)\u001b[0m\u001b[0;34m\u001b[0m\u001b[0;34m\u001b[0m\u001b[0m\n\u001b[1;32m     11\u001b[0m \u001b[0mprint\u001b[0m\u001b[0;34m(\u001b[0m\u001b[0mmy_obj\u001b[0m\u001b[0;34m.\u001b[0m\u001b[0mmy_property\u001b[0m\u001b[0;34m)\u001b[0m\u001b[0;34m\u001b[0m\u001b[0;34m\u001b[0m\u001b[0m\n\u001b[0;32m---> 12\u001b[0;31m \u001b[0mmy_obj\u001b[0m\u001b[0;34m.\u001b[0m\u001b[0mmy_property\u001b[0m \u001b[0;34m=\u001b[0m \u001b[0;36m10\u001b[0m\u001b[0;34m\u001b[0m\u001b[0;34m\u001b[0m\u001b[0m\n\u001b[0m",
      "\u001b[0;31mAttributeError\u001b[0m: can't set attribute"
     ]
    }
   ],
   "source": [
    "class MyClass:\n",
    "    def __init__(self, num):\n",
    "        self._my_property = num\n",
    "\n",
    "    @property\n",
    "    def my_property(self):\n",
    "        return self._my_property\n",
    "\n",
    "\n",
    "my_obj = MyClass(1)\n",
    "print(my_obj.my_property)\n",
    "my_obj.my_property = 10"
   ]
  },
  {
   "cell_type": "markdown",
   "metadata": {
    "colab_type": "text",
    "id": "dapaEOJl7fO6"
   },
   "source": [
    "Если атрибут имеет изменяемый тип данных "
   ]
  },
  {
   "cell_type": "code",
   "execution_count": null,
   "metadata": {
    "colab": {},
    "colab_type": "code",
    "id": "JFUZFEyb7fVT"
   },
   "outputs": [],
   "source": [
    "class MyClass:\n",
    "    def __init__(self, num_list):\n",
    "        self._my_list_property = num_list\n",
    "\n",
    "    @property\n",
    "    def my_property(self):\n",
    "        return self._my_list_property\n",
    "\n",
    "\n",
    "my_obj = MyClass([1, 2, 3])"
   ]
  },
  {
   "cell_type": "markdown",
   "metadata": {
    "colab_type": "text",
    "id": "oOLmxK_IaJV4"
   },
   "source": [
    "Если сделать как в предыдущем варианте, список все еще можно будет изменить с помощью append или присваиванием по индексу элемента"
   ]
  },
  {
   "cell_type": "code",
   "execution_count": null,
   "metadata": {
    "colab": {
     "base_uri": "https://localhost:8080/",
     "height": 34
    },
    "colab_type": "code",
    "id": "BPe-x0_mZ4KZ",
    "outputId": "e36c5351-eaab-4915-8ed8-4758d8dbc52b"
   },
   "outputs": [],
   "source": [
    "my_obj.my_property.append(10)\n",
    "print(my_obj.my_property)"
   ]
  },
  {
   "cell_type": "code",
   "execution_count": null,
   "metadata": {
    "colab": {
     "base_uri": "https://localhost:8080/",
     "height": 34
    },
    "colab_type": "code",
    "id": "_UcZ8_biabUs",
    "outputId": "a2c1db53-33ac-40f5-cc4e-3d6480fb688a"
   },
   "outputs": [],
   "source": [
    "my_obj.my_property[0] = 10\n",
    "print(my_obj.my_property)"
   ]
  },
  {
   "cell_type": "markdown",
   "metadata": {
    "colab_type": "text",
    "id": "1BIBl8rhbi-k"
   },
   "source": [
    "Чтобы так не было нужно сделать так, чтобы доступный для чтения атрибут (***my_property***) не ссылылся на исходный изменяемый объект (***__my_list_property***).      \n",
    "Можно возвращать копию исходного объекта:"
   ]
  },
  {
   "cell_type": "code",
   "execution_count": null,
   "metadata": {
    "colab": {},
    "colab_type": "code",
    "id": "3QYGcONTaodq"
   },
   "outputs": [],
   "source": [
    "class MyClass:\n",
    "    def __init__(self, num_list):\n",
    "        self._my_list_property = num_list\n",
    "\n",
    "    @property\n",
    "    def my_property(self):\n",
    "        return self._my_list_property.copy()\n",
    "\n",
    "\n",
    "my_obj = MyClass([1, 2, 3])"
   ]
  },
  {
   "cell_type": "markdown",
   "metadata": {
    "colab_type": "text",
    "id": "ldF-V4uXcGDK"
   },
   "source": [
    "+ Append и изменение элемента происходят в копии (поэтому все работает, а не выбрасывает исключение).\n",
    "+ Исходный список (тот, на который ссылается ***__my_list_property*** остается неизменным.\n",
    "+ При обращении к атрибуту ***my_property*** возвращается исходный список, который остался неизменным."
   ]
  },
  {
   "cell_type": "code",
   "execution_count": null,
   "metadata": {
    "colab": {
     "base_uri": "https://localhost:8080/",
     "height": 34
    },
    "colab_type": "code",
    "id": "civxLEcvb47q",
    "outputId": "163600bf-59da-4232-8efa-79b18adfc1e6"
   },
   "outputs": [],
   "source": [
    "my_obj.my_property.append(10)\n",
    "print(my_obj.my_property)"
   ]
  },
  {
   "cell_type": "code",
   "execution_count": null,
   "metadata": {
    "colab": {
     "base_uri": "https://localhost:8080/",
     "height": 34
    },
    "colab_type": "code",
    "id": "NVq7hI_jb84i",
    "outputId": "86cbfd5e-a930-42df-a5fe-b46909768ee5"
   },
   "outputs": [],
   "source": [
    "my_obj.my_property[0] = 10\n",
    "print(my_obj.my_property)"
   ]
  },
  {
   "cell_type": "markdown",
   "metadata": {
    "colab_type": "text",
    "id": "PC-tmSCGhd73"
   },
   "source": [
    "Можно сделать исходный объект неизменяемым и возвращать список созданный из него: "
   ]
  },
  {
   "cell_type": "code",
   "execution_count": null,
   "metadata": {
    "colab": {},
    "colab_type": "code",
    "id": "QsG4fAHThQ3I"
   },
   "outputs": [],
   "source": [
    "class MyClass:\n",
    "    def __init__(self, num_list):\n",
    "        self._my_list_property = tuple(num_list)\n",
    "\n",
    "    @property\n",
    "    def my_property(self):\n",
    "        return list(self._my_list_property)\n",
    "\n",
    "\n",
    "my_obj = MyClass([1, 2, 3])"
   ]
  },
  {
   "cell_type": "code",
   "execution_count": null,
   "metadata": {
    "colab": {
     "base_uri": "https://localhost:8080/",
     "height": 34
    },
    "colab_type": "code",
    "id": "BKF--nbXhXTt",
    "outputId": "fab79d37-8415-47d9-b065-a7599fc1feb3"
   },
   "outputs": [],
   "source": [
    "my_obj.my_property.append(10)\n",
    "print(my_obj.my_property)"
   ]
  },
  {
   "cell_type": "code",
   "execution_count": null,
   "metadata": {
    "colab": {
     "base_uri": "https://localhost:8080/",
     "height": 34
    },
    "colab_type": "code",
    "id": "JMrYoO1Hha8-",
    "outputId": "88707fb3-cb4e-459b-9892-a4a2884abe04"
   },
   "outputs": [],
   "source": [
    "my_obj.my_property[0] = 10\n",
    "print(my_obj.my_property)"
   ]
  }
 ],
 "metadata": {
  "colab": {
   "name": "hw3_notes.ipynb",
   "provenance": []
  },
  "kernelspec": {
   "display_name": "Python 3",
   "language": "python",
   "name": "python3"
  },
  "language_info": {
   "codemirror_mode": {
    "name": "ipython",
    "version": 3
   },
   "file_extension": ".py",
   "mimetype": "text/x-python",
   "name": "python",
   "nbconvert_exporter": "python",
   "pygments_lexer": "ipython3",
   "version": "3.7.4"
  }
 },
 "nbformat": 4,
 "nbformat_minor": 1
}
